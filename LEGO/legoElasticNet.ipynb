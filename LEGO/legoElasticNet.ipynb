{
 "cells": [
  {
   "cell_type": "code",
   "execution_count": 2,
   "metadata": {},
   "outputs": [],
   "source": [
    "import pandas as pd\n",
    "import numpy as np\n",
    "import statsmodels.api as sm\n",
    "from sklearn import metrics\n",
    "from sklearn import linear_model\n",
    "from sklearn.model_selection import train_test_split\n",
    "from sklearn.linear_model import Lasso\n",
    "from sklearn.linear_model import ElasticNet\n",
    "from sklearn.model_selection import GridSearchCV"
   ]
  },
  {
   "cell_type": "code",
   "execution_count": 44,
   "metadata": {},
   "outputs": [],
   "source": [
    "df = pd.read_csv('lego_Sets.csv')"
   ]
  },
  {
   "cell_type": "code",
   "execution_count": 45,
   "metadata": {},
   "outputs": [],
   "source": [
    "df.list_price = df.list_price.astype(float)\n",
    "df['review_difficulty'] = df['review_difficulty'].astype(\"category\")\n",
    "df['review_difficulty'] = df['review_difficulty'].cat.reorder_categories(['Very Easy',\n",
    "                                                               'Easy',\n",
    "                                                               'Average',\n",
    "                                                               'Challenging',\n",
    "                                                               'Very Challenging'],\n",
    "                                                                        ordered = True)\n",
    "df['review_difficulty'] = df['review_difficulty'].cat.codes\n",
    "df.theme_name = df.theme_name.astype(\"category\")\n",
    "df.ages = df.ages.astype(\"category\")\n"
   ]
  },
  {
   "cell_type": "code",
   "execution_count": 46,
   "metadata": {},
   "outputs": [
    {
     "name": "stdout",
     "output_type": "stream",
     "text": [
      "(12261, 8)\n",
      "(10466, 38)\n"
     ]
    }
   ],
   "source": [
    "df1 = df.copy()\n",
    "df1 = df1.drop(['prod_desc', \n",
    "                'prod_id', \n",
    "                'prod_long_desc', \n",
    "                'set_name',\n",
    "                'theme_name',\n",
    "                'country'], \n",
    "                 axis=1)\n",
    "\n",
    "print(df1.shape)\n",
    "# df2 = df1.copy().dropna()\n",
    "df2 = pd.get_dummies(df1).dropna()\n",
    "print(df2.shape)"
   ]
  },
  {
   "cell_type": "code",
   "execution_count": 5,
   "metadata": {},
   "outputs": [],
   "source": [
    "X, Y = df2.drop(['list_price'], axis=1), df2['list_price']"
   ]
  },
  {
   "cell_type": "code",
   "execution_count": 6,
   "metadata": {},
   "outputs": [],
   "source": [
    "X_train, X_test, Y_train, Y_test = train_test_split(\n",
    "                                                    X, \n",
    "                                                    Y, \n",
    "                                                    test_size=0.3, \n",
    "                                                    random_state=361)"
   ]
  },
  {
   "cell_type": "code",
   "execution_count": 48,
   "metadata": {},
   "outputs": [
    {
     "ename": "NameError",
     "evalue": "name 'X_train' is not defined",
     "output_type": "error",
     "traceback": [
      "\u001b[1;31m---------------------------------------------------------------------------\u001b[0m",
      "\u001b[1;31mNameError\u001b[0m                                 Traceback (most recent call last)",
      "\u001b[1;32m<ipython-input-48-ceac946fd29d>\u001b[0m in \u001b[0;36m<module>\u001b[1;34m\u001b[0m\n\u001b[0;32m      9\u001b[0m \u001b[0meNet\u001b[0m \u001b[1;33m=\u001b[0m \u001b[0mElasticNet\u001b[0m\u001b[1;33m(\u001b[0m\u001b[1;33m)\u001b[0m\u001b[1;33m\u001b[0m\u001b[1;33m\u001b[0m\u001b[0m\n\u001b[0;32m     10\u001b[0m \u001b[0mgrid\u001b[0m \u001b[1;33m=\u001b[0m \u001b[0mGridSearchCV\u001b[0m\u001b[1;33m(\u001b[0m\u001b[0meNet\u001b[0m\u001b[1;33m,\u001b[0m \u001b[0mparametersGrid\u001b[0m\u001b[1;33m,\u001b[0m \u001b[0mscoring\u001b[0m\u001b[1;33m=\u001b[0m\u001b[1;34m'r2'\u001b[0m\u001b[1;33m,\u001b[0m \u001b[0mcv\u001b[0m\u001b[1;33m=\u001b[0m\u001b[1;36m2\u001b[0m\u001b[1;33m)\u001b[0m\u001b[1;33m\u001b[0m\u001b[1;33m\u001b[0m\u001b[0m\n\u001b[1;32m---> 11\u001b[1;33m \u001b[0mgrid\u001b[0m\u001b[1;33m.\u001b[0m\u001b[0mfit\u001b[0m\u001b[1;33m(\u001b[0m\u001b[0mX_train\u001b[0m\u001b[1;33m,\u001b[0m \u001b[0mY_train\u001b[0m\u001b[1;33m)\u001b[0m\u001b[1;33m\u001b[0m\u001b[1;33m\u001b[0m\u001b[0m\n\u001b[0m\u001b[0;32m     12\u001b[0m \u001b[0mY_pred\u001b[0m \u001b[1;33m=\u001b[0m \u001b[0mgrid\u001b[0m\u001b[1;33m.\u001b[0m\u001b[0mpredict\u001b[0m\u001b[1;33m(\u001b[0m\u001b[0mX_test\u001b[0m\u001b[1;33m)\u001b[0m\u001b[1;33m\u001b[0m\u001b[1;33m\u001b[0m\u001b[0m\n\u001b[0;32m     13\u001b[0m \u001b[1;33m\u001b[0m\u001b[0m\n",
      "\u001b[1;31mNameError\u001b[0m: name 'X_train' is not defined"
     ]
    }
   ],
   "source": [
    "\n",
    "\n",
    "\n",
    "\n",
    "parametersGrid = {\"max_iter\": [10e4],\n",
    "                  \"alpha\": [0.0001, 0.001, 0.01, 0.1, 1, 10, 100],\n",
    "                  \"l1_ratio\": np.arange(0.0, 1.0, 0.1)}\n",
    "\n",
    "eNet = ElasticNet()\n",
    "grid = GridSearchCV(eNet, parametersGrid, scoring='r2', cv=2)\n",
    "grid.fit(X_train, Y_train)\n",
    "Y_pred = grid.predict(X_test)\n",
    "\n",
    "\n",
    "\n",
    "\n",
    "\n",
    "\n",
    "\n",
    "\n",
    "# lasso001 = Lasso(alpha=0.01, max_iter=10e5)\n",
    "# lasso001.fit(X_train,Y_train)\n",
    "# train_score001=lasso001.score(X_train,Y_train)\n",
    "# test_score001=lasso001.score(X_test,Y_test)\n",
    "# coeff_used001 = np.sum(lasso001.coef_!=0)\n",
    "# print (\"training score for alpha=0.01:\", train_score001 )\n",
    "# print (\"test score for alpha =0.01: \", test_score001)\n",
    "# print (\"number of features used: for alpha =0.01:\", coeff_used001)\n",
    "\n",
    "# lasso_pred = lasso001.predict(X_test)"
   ]
  },
  {
   "cell_type": "code",
   "execution_count": 8,
   "metadata": {},
   "outputs": [
    {
     "name": "stdout",
     "output_type": "stream",
     "text": [
      "Mean Absolute Error: 16.689818748855455\n",
      "Mean Squared Error: 925.5272718302724\n",
      "Root Mean Squared Error: 30.422479712052933\n"
     ]
    }
   ],
   "source": [
    "print('Mean Absolute Error:', metrics.mean_absolute_error(Y_test, lasso_pred))  \n",
    "print('Mean Squared Error:', metrics.mean_squared_error(Y_test, lasso_pred))  \n",
    "print('Root Mean Squared Error:', np.sqrt(metrics.mean_squared_error(Y_test, lasso_pred)))"
   ]
  }
 ],
 "metadata": {
  "kernelspec": {
   "display_name": "Python 3",
   "language": "python",
   "name": "python3"
  },
  "language_info": {
   "codemirror_mode": {
    "name": "ipython",
    "version": 3
   },
   "file_extension": ".py",
   "mimetype": "text/x-python",
   "name": "python",
   "nbconvert_exporter": "python",
   "pygments_lexer": "ipython3",
   "version": "3.7.2"
  }
 },
 "nbformat": 4,
 "nbformat_minor": 2
}
