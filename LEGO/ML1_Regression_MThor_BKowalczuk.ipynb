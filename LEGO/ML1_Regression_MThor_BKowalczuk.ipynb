{
 "cells": [
  {
   "cell_type": "markdown",
   "metadata": {},
   "source": [
    "# <center> LEGO sets listing price prediction - regression model</center>"
   ]
  },
  {
   "cell_type": "markdown",
   "metadata": {},
   "source": [
    "Machine Learning 1 Regression Project  \n",
    "<b>Michał Thor, Bartłomiej Kowalczuk  </b>\n",
    "\n",
    "In this project we wanted to created digit classifier that would be trained on data published on https://github.com/kensanata/numbers.  \n",
    "Using that data we created a dataset that consits of 10.000 images (1000 images for each digit), all rescaled to 28x28 resolution, all in grayscale.\n",
    "\n",
    "So basically, we transformed all the images into 1x784 vectors that has information about each pixel in the images. Then we used it as \"one row\" inputs into our models. \n",
    "\n",
    "We used Support Vector Machines algorithm, which after tuning, scored <b>92% accuracy</b> on the test set.  \n",
    "Then we used Random Forest algorithm, which scored <b>91% accuracy</b> on the test set.  \n",
    "Finally we used Convolutional Neural Network, which we tuned to gave us almost <b>97% accuracy</b>."
   ]
  },
  {
   "cell_type": "markdown",
   "metadata": {},
   "source": [
    "Firstly, we import all the necessary packages"
   ]
  },
  {
   "cell_type": "code",
   "execution_count": 46,
   "metadata": {},
   "outputs": [],
   "source": [
    "import pandas as pd\n",
    "import numpy as np\n",
    "import statsmodels.api as sm\n",
    "import matplotlib.pyplot as plt\n",
    "\n",
    "import sklearn\n",
    "from sklearn import metrics\n",
    "from sklearn.model_selection import train_test_split\n",
    "from sklearn.model_selection import GridSearchCV\n",
    "from sklearn.linear_model import Lasso\n",
    "from sklearn.linear_model import ElasticNet\n",
    "from sklearn.linear_model import LinearRegression\n",
    "from sklearn.metrics import r2_score as r2_score\n",
    "\n",
    "import keras\n",
    "from keras import optimizers\n",
    "from keras import regularizers\n",
    "from keras.callbacks import ModelCheckpoint\n",
    "from keras.models import Sequential\n",
    "from keras.layers import Dense, Activation, Flatten, Dropout\n",
    "from keras.optimizers import SGD\n",
    "from keras.constraints import maxnorm\n",
    "from keras.models import load_model\n",
    "from keras.wrappers.scikit_learn import KerasRegressor\n",
    "\n"
   ]
  },
  {
   "cell_type": "markdown",
   "metadata": {},
   "source": [
    "Nextly, we define some utillity functions that will help us in estimating/evaluating models.\n",
    "\n",
    "We implement our own adjusted R-squared function, since sklearn package does not have one.\n",
    "\n",
    "We also implement stepwise selection function for OLS model, which is based on the solution from:\n",
    "https://datascience.stackexchange.com/questions/24405/how-to-do-stepwise-regression-using-sklearn/24447#24447"
   ]
  },
  {
   "cell_type": "code",
   "execution_count": 3,
   "metadata": {},
   "outputs": [],
   "source": [
    "def adj_r2(r_sqr, n, p):\n",
    "    r_2 = 1-(1-r_sqr)*(n-1)/(n-p-1)\n",
    "    return r_2\n",
    "\n",
    "\n",
    "def stepwise_selection(X, y, \n",
    "                       initial_list=[], \n",
    "                       threshold_in=0.01, \n",
    "                       threshold_out = 0.05, \n",
    "                       verbose=True):\n",
    "    \"\"\" Perform a forward-backward feature selection \n",
    "    based on p-value from statsmodels.api.OLS\n",
    "    Arguments:\n",
    "        X - pandas.DataFrame with candidate features\n",
    "        y - list-like with the target\n",
    "        initial_list - list of features to start with (column names of X)\n",
    "        threshold_in - include a feature if its p-value < threshold_in\n",
    "        threshold_out - exclude a feature if its p-value > threshold_out\n",
    "        verbose - whether to print the sequence of inclusions and exclusions\n",
    "    Returns: list of selected features \n",
    "    Always set threshold_in < threshold_out to avoid infinite looping.\n",
    "    See https://en.wikipedia.org/wiki/Stepwise_regression for the details\n",
    "    \"\"\"\n",
    "    included = list(initial_list)\n",
    "    while True:\n",
    "        changed=False\n",
    "        # forward step\n",
    "        excluded = list(set(X.columns)-set(included))\n",
    "        new_pval = pd.Series(index=excluded)\n",
    "        for new_column in excluded:\n",
    "            model = sm.OLS(y, sm.add_constant(pd.DataFrame(X[included+[new_column]]))).fit()\n",
    "            new_pval[new_column] = model.pvalues[new_column]\n",
    "        best_pval = new_pval.min()\n",
    "        if best_pval < threshold_in:\n",
    "            best_feature = new_pval.argmin()\n",
    "            included.append(best_feature)\n",
    "            changed=True\n",
    "            if verbose:\n",
    "                print('Add  {:30} with p-value {:.6}'.format(best_feature, best_pval))\n",
    "\n",
    "        # backward step\n",
    "        model = sm.OLS(y, sm.add_constant(pd.DataFrame(X[included]))).fit()\n",
    "        # use all coefs except intercept\n",
    "        pvalues = model.pvalues.iloc[1:]\n",
    "        worst_pval = pvalues.max() # null if pvalues is empty\n",
    "        if worst_pval > threshold_out:\n",
    "            changed=True\n",
    "            worst_feature = pvalues.argmax()\n",
    "            included.remove(worst_feature)\n",
    "            if verbose:\n",
    "                print('Drop {:30} with p-value {:.6}'.format(worst_feature, worst_pval))\n",
    "        if not changed:\n",
    "            break\n",
    "    return included"
   ]
  },
  {
   "cell_type": "markdown",
   "metadata": {},
   "source": [
    "# <center>1. Understanding the data</center>"
   ]
  },
  {
   "cell_type": "markdown",
   "metadata": {},
   "source": [
    "### Loading the dataset"
   ]
  },
  {
   "cell_type": "code",
   "execution_count": 4,
   "metadata": {},
   "outputs": [],
   "source": [
    "df = pd.read_csv('lego_Sets.csv')"
   ]
  },
  {
   "cell_type": "markdown",
   "metadata": {},
   "source": [
    "### Brief preview of the dataset structure"
   ]
  },
  {
   "cell_type": "code",
   "execution_count": 5,
   "metadata": {
    "scrolled": true
   },
   "outputs": [
    {
     "data": {
      "text/html": [
       "<div>\n",
       "<style scoped>\n",
       "    .dataframe tbody tr th:only-of-type {\n",
       "        vertical-align: middle;\n",
       "    }\n",
       "\n",
       "    .dataframe tbody tr th {\n",
       "        vertical-align: top;\n",
       "    }\n",
       "\n",
       "    .dataframe thead th {\n",
       "        text-align: right;\n",
       "    }\n",
       "</style>\n",
       "<table border=\"1\" class=\"dataframe\">\n",
       "  <thead>\n",
       "    <tr style=\"text-align: right;\">\n",
       "      <th></th>\n",
       "      <th>ages</th>\n",
       "      <th>list_price</th>\n",
       "      <th>num_reviews</th>\n",
       "      <th>piece_count</th>\n",
       "      <th>play_star_rating</th>\n",
       "      <th>prod_desc</th>\n",
       "      <th>prod_id</th>\n",
       "      <th>prod_long_desc</th>\n",
       "      <th>review_difficulty</th>\n",
       "      <th>set_name</th>\n",
       "      <th>star_rating</th>\n",
       "      <th>theme_name</th>\n",
       "      <th>val_star_rating</th>\n",
       "      <th>country</th>\n",
       "    </tr>\n",
       "  </thead>\n",
       "  <tbody>\n",
       "    <tr>\n",
       "      <th>0</th>\n",
       "      <td>6-12</td>\n",
       "      <td>29.99</td>\n",
       "      <td>2.0</td>\n",
       "      <td>277.0</td>\n",
       "      <td>4.0</td>\n",
       "      <td>Catapult into action and take back the eggs fr...</td>\n",
       "      <td>75823.0</td>\n",
       "      <td>Use the staircase catapult to launch Red into ...</td>\n",
       "      <td>Average</td>\n",
       "      <td>Bird Island Egg Heist</td>\n",
       "      <td>4.5</td>\n",
       "      <td>Angry Birds™</td>\n",
       "      <td>4.0</td>\n",
       "      <td>US</td>\n",
       "    </tr>\n",
       "    <tr>\n",
       "      <th>1</th>\n",
       "      <td>6-12</td>\n",
       "      <td>19.99</td>\n",
       "      <td>2.0</td>\n",
       "      <td>168.0</td>\n",
       "      <td>4.0</td>\n",
       "      <td>Launch a flying attack and rescue the eggs fro...</td>\n",
       "      <td>75822.0</td>\n",
       "      <td>Pilot Pig has taken off from Bird Island with ...</td>\n",
       "      <td>Easy</td>\n",
       "      <td>Piggy Plane Attack</td>\n",
       "      <td>5.0</td>\n",
       "      <td>Angry Birds™</td>\n",
       "      <td>4.0</td>\n",
       "      <td>US</td>\n",
       "    </tr>\n",
       "    <tr>\n",
       "      <th>2</th>\n",
       "      <td>6-12</td>\n",
       "      <td>12.99</td>\n",
       "      <td>11.0</td>\n",
       "      <td>74.0</td>\n",
       "      <td>4.3</td>\n",
       "      <td>Chase the piggy with lightning-fast Chuck and ...</td>\n",
       "      <td>75821.0</td>\n",
       "      <td>Pitch speedy bird Chuck against the Piggy Car....</td>\n",
       "      <td>Easy</td>\n",
       "      <td>Piggy Car Escape</td>\n",
       "      <td>4.3</td>\n",
       "      <td>Angry Birds™</td>\n",
       "      <td>4.1</td>\n",
       "      <td>US</td>\n",
       "    </tr>\n",
       "    <tr>\n",
       "      <th>3</th>\n",
       "      <td>12+</td>\n",
       "      <td>99.99</td>\n",
       "      <td>23.0</td>\n",
       "      <td>1032.0</td>\n",
       "      <td>3.6</td>\n",
       "      <td>Explore the architecture of the United States ...</td>\n",
       "      <td>21030.0</td>\n",
       "      <td>Discover the architectural secrets of the icon...</td>\n",
       "      <td>Average</td>\n",
       "      <td>United States Capitol Building</td>\n",
       "      <td>4.6</td>\n",
       "      <td>Architecture</td>\n",
       "      <td>4.3</td>\n",
       "      <td>US</td>\n",
       "    </tr>\n",
       "    <tr>\n",
       "      <th>4</th>\n",
       "      <td>12+</td>\n",
       "      <td>79.99</td>\n",
       "      <td>14.0</td>\n",
       "      <td>744.0</td>\n",
       "      <td>3.2</td>\n",
       "      <td>Recreate the Solomon R. Guggenheim Museum® wit...</td>\n",
       "      <td>21035.0</td>\n",
       "      <td>Discover the architectural secrets of Frank Ll...</td>\n",
       "      <td>Challenging</td>\n",
       "      <td>Solomon R. Guggenheim Museum®</td>\n",
       "      <td>4.6</td>\n",
       "      <td>Architecture</td>\n",
       "      <td>4.1</td>\n",
       "      <td>US</td>\n",
       "    </tr>\n",
       "  </tbody>\n",
       "</table>\n",
       "</div>"
      ],
      "text/plain": [
       "   ages  list_price  num_reviews  piece_count  play_star_rating  \\\n",
       "0  6-12       29.99          2.0        277.0               4.0   \n",
       "1  6-12       19.99          2.0        168.0               4.0   \n",
       "2  6-12       12.99         11.0         74.0               4.3   \n",
       "3   12+       99.99         23.0       1032.0               3.6   \n",
       "4   12+       79.99         14.0        744.0               3.2   \n",
       "\n",
       "                                           prod_desc  prod_id  \\\n",
       "0  Catapult into action and take back the eggs fr...  75823.0   \n",
       "1  Launch a flying attack and rescue the eggs fro...  75822.0   \n",
       "2  Chase the piggy with lightning-fast Chuck and ...  75821.0   \n",
       "3  Explore the architecture of the United States ...  21030.0   \n",
       "4  Recreate the Solomon R. Guggenheim Museum® wit...  21035.0   \n",
       "\n",
       "                                      prod_long_desc review_difficulty  \\\n",
       "0  Use the staircase catapult to launch Red into ...           Average   \n",
       "1  Pilot Pig has taken off from Bird Island with ...              Easy   \n",
       "2  Pitch speedy bird Chuck against the Piggy Car....              Easy   \n",
       "3  Discover the architectural secrets of the icon...           Average   \n",
       "4  Discover the architectural secrets of Frank Ll...       Challenging   \n",
       "\n",
       "                         set_name  star_rating    theme_name  val_star_rating  \\\n",
       "0           Bird Island Egg Heist          4.5  Angry Birds™              4.0   \n",
       "1              Piggy Plane Attack          5.0  Angry Birds™              4.0   \n",
       "2                Piggy Car Escape          4.3  Angry Birds™              4.1   \n",
       "3  United States Capitol Building          4.6  Architecture              4.3   \n",
       "4   Solomon R. Guggenheim Museum®          4.6  Architecture              4.1   \n",
       "\n",
       "  country  \n",
       "0      US  \n",
       "1      US  \n",
       "2      US  \n",
       "3      US  \n",
       "4      US  "
      ]
     },
     "metadata": {},
     "output_type": "display_data"
    }
   ],
   "source": [
    "display(df.head(5))"
   ]
  },
  {
   "cell_type": "markdown",
   "metadata": {},
   "source": [
    "Our goal is to predict value of the list_price variable - listing price of a certain toy in LEGO online store.\n",
    "\n",
    "<b>country</b> variable is indicating which online store (from which country) is listing that item."
   ]
  },
  {
   "cell_type": "markdown",
   "metadata": {},
   "source": [
    "# <center>2. Preparing the dataset</center>"
   ]
  },
  {
   "cell_type": "markdown",
   "metadata": {},
   "source": [
    "## 2.1 Removing useless data and fixing formats"
   ]
  },
  {
   "cell_type": "markdown",
   "metadata": {},
   "source": [
    "Removing variables that would give no predictive power (information variables such as ID's or descriptions)"
   ]
  },
  {
   "cell_type": "code",
   "execution_count": 6,
   "metadata": {},
   "outputs": [],
   "source": [
    "df = df.drop(['prod_desc', \n",
    "              'prod_id', \n",
    "              'prod_long_desc', \n",
    "              'set_name'],\n",
    "             axis=1)"
   ]
  },
  {
   "cell_type": "markdown",
   "metadata": {},
   "source": [
    "Changing categorical variables and list_price into right formats.\n",
    "\n",
    "Also we are ordering review_difficulty since it is ordered scale of difficulty."
   ]
  },
  {
   "cell_type": "code",
   "execution_count": 7,
   "metadata": {},
   "outputs": [],
   "source": [
    "df.list_price = df.list_price.astype(float)\n",
    "df['review_difficulty'] = df['review_difficulty'].astype(\"category\")\n",
    "df['review_difficulty'] = df['review_difficulty'].cat.reorder_categories(['Very Easy',\n",
    "                                                               'Easy',\n",
    "                                                               'Average',\n",
    "                                                               'Challenging',\n",
    "                                                               'Very Challenging'],\n",
    "                                                                        ordered = True)\n",
    "df['review_difficulty'] = df['review_difficulty'].cat.codes\n",
    "df.theme_name = df.theme_name.astype(object)\n",
    "df.ages = df.ages.astype(object)"
   ]
  },
  {
   "cell_type": "markdown",
   "metadata": {},
   "source": [
    "## 2.2 Cleaning dataset from NA's"
   ]
  },
  {
   "cell_type": "code",
   "execution_count": 8,
   "metadata": {
    "scrolled": true
   },
   "outputs": [
    {
     "data": {
      "text/html": [
       "<div>\n",
       "<style scoped>\n",
       "    .dataframe tbody tr th:only-of-type {\n",
       "        vertical-align: middle;\n",
       "    }\n",
       "\n",
       "    .dataframe tbody tr th {\n",
       "        vertical-align: top;\n",
       "    }\n",
       "\n",
       "    .dataframe thead th {\n",
       "        text-align: right;\n",
       "    }\n",
       "</style>\n",
       "<table border=\"1\" class=\"dataframe\">\n",
       "  <thead>\n",
       "    <tr style=\"text-align: right;\">\n",
       "      <th></th>\n",
       "      <th>Number of occurencies</th>\n",
       "      <th>Percentage</th>\n",
       "    </tr>\n",
       "  </thead>\n",
       "  <tbody>\n",
       "    <tr>\n",
       "      <th>num_reviews</th>\n",
       "      <td>1620</td>\n",
       "      <td>13.212625</td>\n",
       "    </tr>\n",
       "    <tr>\n",
       "      <th>play_star_rating</th>\n",
       "      <td>1775</td>\n",
       "      <td>14.476796</td>\n",
       "    </tr>\n",
       "    <tr>\n",
       "      <th>star_rating</th>\n",
       "      <td>1620</td>\n",
       "      <td>13.212625</td>\n",
       "    </tr>\n",
       "    <tr>\n",
       "      <th>theme_name</th>\n",
       "      <td>3</td>\n",
       "      <td>0.024468</td>\n",
       "    </tr>\n",
       "    <tr>\n",
       "      <th>val_star_rating</th>\n",
       "      <td>1795</td>\n",
       "      <td>14.639915</td>\n",
       "    </tr>\n",
       "  </tbody>\n",
       "</table>\n",
       "</div>"
      ],
      "text/plain": [
       "                  Number of occurencies  Percentage\n",
       "num_reviews                        1620   13.212625\n",
       "play_star_rating                   1775   14.476796\n",
       "star_rating                        1620   13.212625\n",
       "theme_name                            3    0.024468\n",
       "val_star_rating                    1795   14.639915"
      ]
     },
     "execution_count": 8,
     "metadata": {},
     "output_type": "execute_result"
    }
   ],
   "source": [
    "missing_data = pd.DataFrame({'Number of occurencies': df.isna().sum(),\n",
    "                             'Percentage': 100*df.isna().sum()/len(df)\n",
    "                            })\n",
    "missing_data[missing_data['Number of occurencies'] > 0]"
   ]
  },
  {
   "cell_type": "markdown",
   "metadata": {},
   "source": [
    "Since the missings in star_rating (all 3 columns concerning them) are common for certain observations, maybe we can somehow reduce the number of them by filling missing values with computed value.\n",
    "\n",
    "We mark the missings in review difficulty with a group code equal to -1."
   ]
  },
  {
   "cell_type": "markdown",
   "metadata": {},
   "source": [
    "We can see that star_rating has less NA's than play and val star_rating. We shall see if there is a correlation between those 3 variables. "
   ]
  },
  {
   "cell_type": "code",
   "execution_count": 9,
   "metadata": {},
   "outputs": [
    {
     "data": {
      "text/html": [
       "<style  type=\"text/css\" >\n",
       "    #T_bc639f24_8b09_11e9_a446_00215cdcfe0frow0_col0 {\n",
       "            background-color:  #b40426;\n",
       "        }    #T_bc639f24_8b09_11e9_a446_00215cdcfe0frow0_col1 {\n",
       "            background-color:  #8badfd;\n",
       "        }    #T_bc639f24_8b09_11e9_a446_00215cdcfe0frow0_col2 {\n",
       "            background-color:  #d6dce4;\n",
       "        }    #T_bc639f24_8b09_11e9_a446_00215cdcfe0frow1_col0 {\n",
       "            background-color:  #3b4cc0;\n",
       "        }    #T_bc639f24_8b09_11e9_a446_00215cdcfe0frow1_col1 {\n",
       "            background-color:  #b40426;\n",
       "        }    #T_bc639f24_8b09_11e9_a446_00215cdcfe0frow1_col2 {\n",
       "            background-color:  #3b4cc0;\n",
       "        }    #T_bc639f24_8b09_11e9_a446_00215cdcfe0frow2_col0 {\n",
       "            background-color:  #a1c0ff;\n",
       "        }    #T_bc639f24_8b09_11e9_a446_00215cdcfe0frow2_col1 {\n",
       "            background-color:  #3b4cc0;\n",
       "        }    #T_bc639f24_8b09_11e9_a446_00215cdcfe0frow2_col2 {\n",
       "            background-color:  #b40426;\n",
       "        }</style>  \n",
       "<table id=\"T_bc639f24_8b09_11e9_a446_00215cdcfe0f\" > \n",
       "<thead>    <tr> \n",
       "        <th class=\"blank level0\" ></th> \n",
       "        <th class=\"col_heading level0 col0\" >star_rating</th> \n",
       "        <th class=\"col_heading level0 col1\" >play_star_rating</th> \n",
       "        <th class=\"col_heading level0 col2\" >val_star_rating</th> \n",
       "    </tr></thead> \n",
       "<tbody>    <tr> \n",
       "        <th id=\"T_bc639f24_8b09_11e9_a446_00215cdcfe0flevel0_row0\" class=\"row_heading level0 row0\" >star_rating</th> \n",
       "        <td id=\"T_bc639f24_8b09_11e9_a446_00215cdcfe0frow0_col0\" class=\"data row0 col0\" >1</td> \n",
       "        <td id=\"T_bc639f24_8b09_11e9_a446_00215cdcfe0frow0_col1\" class=\"data row0 col1\" >0.608193</td> \n",
       "        <td id=\"T_bc639f24_8b09_11e9_a446_00215cdcfe0frow0_col2\" class=\"data row0 col2\" >0.72789</td> \n",
       "    </tr>    <tr> \n",
       "        <th id=\"T_bc639f24_8b09_11e9_a446_00215cdcfe0flevel0_row1\" class=\"row_heading level0 row1\" >play_star_rating</th> \n",
       "        <td id=\"T_bc639f24_8b09_11e9_a446_00215cdcfe0frow1_col0\" class=\"data row1 col0\" >0.608193</td> \n",
       "        <td id=\"T_bc639f24_8b09_11e9_a446_00215cdcfe0frow1_col1\" class=\"data row1 col1\" >1</td> \n",
       "        <td id=\"T_bc639f24_8b09_11e9_a446_00215cdcfe0frow1_col2\" class=\"data row1 col2\" >0.480938</td> \n",
       "    </tr>    <tr> \n",
       "        <th id=\"T_bc639f24_8b09_11e9_a446_00215cdcfe0flevel0_row2\" class=\"row_heading level0 row2\" >val_star_rating</th> \n",
       "        <td id=\"T_bc639f24_8b09_11e9_a446_00215cdcfe0frow2_col0\" class=\"data row2 col0\" >0.72789</td> \n",
       "        <td id=\"T_bc639f24_8b09_11e9_a446_00215cdcfe0frow2_col1\" class=\"data row2 col1\" >0.480938</td> \n",
       "        <td id=\"T_bc639f24_8b09_11e9_a446_00215cdcfe0frow2_col2\" class=\"data row2 col2\" >1</td> \n",
       "    </tr></tbody> \n",
       "</table> "
      ],
      "text/plain": [
       "<pandas.io.formats.style.Styler at 0x221da7fd9b0>"
      ]
     },
     "execution_count": 9,
     "metadata": {},
     "output_type": "execute_result"
    }
   ],
   "source": [
    "corr = df[['star_rating', 'play_star_rating', 'val_star_rating']].corr()\n",
    "corr.style.background_gradient(cmap='coolwarm')"
   ]
  },
  {
   "cell_type": "markdown",
   "metadata": {},
   "source": [
    "Let us compute means of ratios between star_rating for the whole dataset and use that ratio to create values to impute instead of NA's.\n",
    "\n",
    "Because of slightly high correlation we decide to omit star_rating and leave the two other ratings (and since they all have same number of NA's)"
   ]
  },
  {
   "cell_type": "code",
   "execution_count": 10,
   "metadata": {},
   "outputs": [],
   "source": [
    "df['star/play'] = df['star_rating']/df['play_star_rating']\n",
    "df['star/val'] = df['star_rating']/df['val_star_rating']\n",
    "\n",
    "star_p_mean = df['star/play'].mean()\n",
    "star_v_mean = df['star/val'].mean()\n",
    "\n",
    "df.loc[(df['play_star_rating'].isnull()) & (df['star_rating'].notna()), \"play_star_rating\"] = df[\"star_rating\"]*star_p_mean\n",
    "df.loc[(df['val_star_rating'].isnull()) & (df['star_rating'].notna()), \"val_star_rating\"] = df[\"star_rating\"]*star_v_mean\n",
    "\n",
    "df.drop(['star/play', 'star/val', 'star_rating'], axis=1, inplace=True)"
   ]
  },
  {
   "cell_type": "markdown",
   "metadata": {},
   "source": [
    "That way we manage to narrow our total rows with NA's to 1620. Unfortunately there is no way to safely replace values for these observations (which all have at least 3 NA's) so we will omit them in further analysis."
   ]
  },
  {
   "cell_type": "code",
   "execution_count": 11,
   "metadata": {},
   "outputs": [],
   "source": [
    "df.loc[df.isnull().sum(1)>=3].index\n",
    "\n",
    "df = df.dropna()"
   ]
  },
  {
   "cell_type": "markdown",
   "metadata": {},
   "source": [
    "## 2.3 Checking for correlations and encoding categorical variables - using One Hot Encoding"
   ]
  },
  {
   "cell_type": "markdown",
   "metadata": {},
   "source": [
    "Creating correlation matrix:"
   ]
  },
  {
   "cell_type": "code",
   "execution_count": 12,
   "metadata": {
    "scrolled": true
   },
   "outputs": [
    {
     "data": {
      "text/html": [
       "<style  type=\"text/css\" >\n",
       "    #T_bc719f92_8b09_11e9_b5e3_00215cdcfe0frow0_col0 {\n",
       "            background-color:  #b40426;\n",
       "        }    #T_bc719f92_8b09_11e9_b5e3_00215cdcfe0frow0_col1 {\n",
       "            background-color:  #e7d7ce;\n",
       "        }    #T_bc719f92_8b09_11e9_b5e3_00215cdcfe0frow0_col2 {\n",
       "            background-color:  #3b4cc0;\n",
       "        }    #T_bc719f92_8b09_11e9_b5e3_00215cdcfe0frow0_col3 {\n",
       "            background-color:  #a9c6fd;\n",
       "        }    #T_bc719f92_8b09_11e9_b5e3_00215cdcfe0frow0_col4 {\n",
       "            background-color:  #3f53c6;\n",
       "        }    #T_bc719f92_8b09_11e9_b5e3_00215cdcfe0frow1_col0 {\n",
       "            background-color:  #ecd3c5;\n",
       "        }    #T_bc719f92_8b09_11e9_b5e3_00215cdcfe0frow1_col1 {\n",
       "            background-color:  #b40426;\n",
       "        }    #T_bc719f92_8b09_11e9_b5e3_00215cdcfe0frow1_col2 {\n",
       "            background-color:  #4b64d5;\n",
       "        }    #T_bc719f92_8b09_11e9_b5e3_00215cdcfe0frow1_col3 {\n",
       "            background-color:  #dfdbd9;\n",
       "        }    #T_bc719f92_8b09_11e9_b5e3_00215cdcfe0frow1_col4 {\n",
       "            background-color:  #4f69d9;\n",
       "        }    #T_bc719f92_8b09_11e9_b5e3_00215cdcfe0frow2_col0 {\n",
       "            background-color:  #3b4cc0;\n",
       "        }    #T_bc719f92_8b09_11e9_b5e3_00215cdcfe0frow2_col1 {\n",
       "            background-color:  #3b4cc0;\n",
       "        }    #T_bc719f92_8b09_11e9_b5e3_00215cdcfe0frow2_col2 {\n",
       "            background-color:  #b40426;\n",
       "        }    #T_bc719f92_8b09_11e9_b5e3_00215cdcfe0frow2_col3 {\n",
       "            background-color:  #4055c8;\n",
       "        }    #T_bc719f92_8b09_11e9_b5e3_00215cdcfe0frow2_col4 {\n",
       "            background-color:  #dddcdc;\n",
       "        }    #T_bc719f92_8b09_11e9_b5e3_00215cdcfe0frow3_col0 {\n",
       "            background-color:  #b2ccfb;\n",
       "        }    #T_bc719f92_8b09_11e9_b5e3_00215cdcfe0frow3_col1 {\n",
       "            background-color:  #dddcdc;\n",
       "        }    #T_bc719f92_8b09_11e9_b5e3_00215cdcfe0frow3_col2 {\n",
       "            background-color:  #4c66d6;\n",
       "        }    #T_bc719f92_8b09_11e9_b5e3_00215cdcfe0frow3_col3 {\n",
       "            background-color:  #b40426;\n",
       "        }    #T_bc719f92_8b09_11e9_b5e3_00215cdcfe0frow3_col4 {\n",
       "            background-color:  #3b4cc0;\n",
       "        }    #T_bc719f92_8b09_11e9_b5e3_00215cdcfe0frow4_col0 {\n",
       "            background-color:  #4b64d5;\n",
       "        }    #T_bc719f92_8b09_11e9_b5e3_00215cdcfe0frow4_col1 {\n",
       "            background-color:  #4961d2;\n",
       "        }    #T_bc719f92_8b09_11e9_b5e3_00215cdcfe0frow4_col2 {\n",
       "            background-color:  #e2dad5;\n",
       "        }    #T_bc719f92_8b09_11e9_b5e3_00215cdcfe0frow4_col3 {\n",
       "            background-color:  #3b4cc0;\n",
       "        }    #T_bc719f92_8b09_11e9_b5e3_00215cdcfe0frow4_col4 {\n",
       "            background-color:  #b40426;\n",
       "        }</style>  \n",
       "<table id=\"T_bc719f92_8b09_11e9_b5e3_00215cdcfe0f\" > \n",
       "<thead>    <tr> \n",
       "        <th class=\"blank level0\" ></th> \n",
       "        <th class=\"col_heading level0 col0\" >num_reviews</th> \n",
       "        <th class=\"col_heading level0 col1\" >piece_count</th> \n",
       "        <th class=\"col_heading level0 col2\" >play_star_rating</th> \n",
       "        <th class=\"col_heading level0 col3\" >review_difficulty</th> \n",
       "        <th class=\"col_heading level0 col4\" >val_star_rating</th> \n",
       "    </tr></thead> \n",
       "<tbody>    <tr> \n",
       "        <th id=\"T_bc719f92_8b09_11e9_b5e3_00215cdcfe0flevel0_row0\" class=\"row_heading level0 row0\" >num_reviews</th> \n",
       "        <td id=\"T_bc719f92_8b09_11e9_b5e3_00215cdcfe0frow0_col0\" class=\"data row0 col0\" >1</td> \n",
       "        <td id=\"T_bc719f92_8b09_11e9_b5e3_00215cdcfe0frow0_col1\" class=\"data row0 col1\" >0.546616</td> \n",
       "        <td id=\"T_bc719f92_8b09_11e9_b5e3_00215cdcfe0frow0_col2\" class=\"data row0 col2\" >-0.0451145</td> \n",
       "        <td id=\"T_bc719f92_8b09_11e9_b5e3_00215cdcfe0frow0_col3\" class=\"data row0 col3\" >0.328073</td> \n",
       "        <td id=\"T_bc719f92_8b09_11e9_b5e3_00215cdcfe0frow0_col4\" class=\"data row0 col4\" >0.0148351</td> \n",
       "    </tr>    <tr> \n",
       "        <th id=\"T_bc719f92_8b09_11e9_b5e3_00215cdcfe0flevel0_row1\" class=\"row_heading level0 row1\" >piece_count</th> \n",
       "        <td id=\"T_bc719f92_8b09_11e9_b5e3_00215cdcfe0frow1_col0\" class=\"data row1 col0\" >0.546616</td> \n",
       "        <td id=\"T_bc719f92_8b09_11e9_b5e3_00215cdcfe0frow1_col1\" class=\"data row1 col1\" >1</td> \n",
       "        <td id=\"T_bc719f92_8b09_11e9_b5e3_00215cdcfe0frow1_col2\" class=\"data row1 col2\" >0.0147979</td> \n",
       "        <td id=\"T_bc719f92_8b09_11e9_b5e3_00215cdcfe0frow1_col3\" class=\"data row1 col3\" >0.509112</td> \n",
       "        <td id=\"T_bc719f92_8b09_11e9_b5e3_00215cdcfe0frow1_col4\" class=\"data row1 col4\" >0.0636759</td> \n",
       "    </tr>    <tr> \n",
       "        <th id=\"T_bc719f92_8b09_11e9_b5e3_00215cdcfe0flevel0_row2\" class=\"row_heading level0 row2\" >play_star_rating</th> \n",
       "        <td id=\"T_bc719f92_8b09_11e9_b5e3_00215cdcfe0frow2_col0\" class=\"data row2 col0\" >-0.0451145</td> \n",
       "        <td id=\"T_bc719f92_8b09_11e9_b5e3_00215cdcfe0frow2_col1\" class=\"data row2 col1\" >0.0147979</td> \n",
       "        <td id=\"T_bc719f92_8b09_11e9_b5e3_00215cdcfe0frow2_col2\" class=\"data row2 col2\" >1</td> \n",
       "        <td id=\"T_bc719f92_8b09_11e9_b5e3_00215cdcfe0frow2_col3\" class=\"data row2 col3\" >0.018671</td> \n",
       "        <td id=\"T_bc719f92_8b09_11e9_b5e3_00215cdcfe0frow2_col4\" class=\"data row2 col4\" >0.499167</td> \n",
       "    </tr>    <tr> \n",
       "        <th id=\"T_bc719f92_8b09_11e9_b5e3_00215cdcfe0flevel0_row3\" class=\"row_heading level0 row3\" >review_difficulty</th> \n",
       "        <td id=\"T_bc719f92_8b09_11e9_b5e3_00215cdcfe0frow3_col0\" class=\"data row3 col0\" >0.328073</td> \n",
       "        <td id=\"T_bc719f92_8b09_11e9_b5e3_00215cdcfe0frow3_col1\" class=\"data row3 col1\" >0.509112</td> \n",
       "        <td id=\"T_bc719f92_8b09_11e9_b5e3_00215cdcfe0frow3_col2\" class=\"data row3 col2\" >0.018671</td> \n",
       "        <td id=\"T_bc719f92_8b09_11e9_b5e3_00215cdcfe0frow3_col3\" class=\"data row3 col3\" >1</td> \n",
       "        <td id=\"T_bc719f92_8b09_11e9_b5e3_00215cdcfe0frow3_col4\" class=\"data row3 col4\" >-0.00300082</td> \n",
       "    </tr>    <tr> \n",
       "        <th id=\"T_bc719f92_8b09_11e9_b5e3_00215cdcfe0flevel0_row4\" class=\"row_heading level0 row4\" >val_star_rating</th> \n",
       "        <td id=\"T_bc719f92_8b09_11e9_b5e3_00215cdcfe0frow4_col0\" class=\"data row4 col0\" >0.0148351</td> \n",
       "        <td id=\"T_bc719f92_8b09_11e9_b5e3_00215cdcfe0frow4_col1\" class=\"data row4 col1\" >0.0636759</td> \n",
       "        <td id=\"T_bc719f92_8b09_11e9_b5e3_00215cdcfe0frow4_col2\" class=\"data row4 col2\" >0.499167</td> \n",
       "        <td id=\"T_bc719f92_8b09_11e9_b5e3_00215cdcfe0frow4_col3\" class=\"data row4 col3\" >-0.00300082</td> \n",
       "        <td id=\"T_bc719f92_8b09_11e9_b5e3_00215cdcfe0frow4_col4\" class=\"data row4 col4\" >1</td> \n",
       "    </tr></tbody> \n",
       "</table> "
      ],
      "text/plain": [
       "<pandas.io.formats.style.Styler at 0x221da9a8cf8>"
      ]
     },
     "execution_count": 12,
     "metadata": {},
     "output_type": "execute_result"
    }
   ],
   "source": [
    "corr = df.drop(['list_price'], axis=1).corr()\n",
    "corr.style.background_gradient(cmap='coolwarm')"
   ]
  },
  {
   "cell_type": "markdown",
   "metadata": {},
   "source": [
    "There are no visible very high correlations (some ~0.5, but we decide to leave them in further analysis, because these are not worrying values)."
   ]
  },
  {
   "cell_type": "code",
   "execution_count": 14,
   "metadata": {},
   "outputs": [
    {
     "name": "stdout",
     "output_type": "stream",
     "text": [
      "{'ages': 31, 'theme_name': 38, 'country': 21}\n"
     ]
    }
   ],
   "source": [
    "cat_vars = []\n",
    "cont_vars = []\n",
    "for variable in df.columns:\n",
    "    if df[variable].dtype==object:\n",
    "        cat_vars.append(variable)\n",
    "    else:\n",
    "        cont_vars.append(variable)\n",
    "        \n",
    "num_of_cats = {}\n",
    "for category in cat_vars:\n",
    "    num_of_cats[category] = len(list(df[category].unique()))\n",
    "    \n",
    "print(num_of_cats)"
   ]
  },
  {
   "cell_type": "markdown",
   "metadata": {},
   "source": [
    "We can see that all the variables have a lot of levels, let's see how different are the numbers of observations within each level on barplots below."
   ]
  },
  {
   "cell_type": "code",
   "execution_count": 15,
   "metadata": {
    "scrolled": true
   },
   "outputs": [
    {
     "data": {
      "image/png": "[encoded data removed]",
      "text/plain": [
       "<Figure size 1008x432 with 1 Axes>"
      ]
     },
     "metadata": {
      "needs_background": "light"
     },
     "output_type": "display_data"
    },
    {
     "data": {
      "image/png": "[encoded data removed]",
      "text/plain": [
       "<Figure size 1008x432 with 1 Axes>"
      ]
     },
     "metadata": {
      "needs_background": "light"
     },
     "output_type": "display_data"
    },
    {
     "data": {
      "image/png": "[encoded data removed]",
      "text/plain": [
       "<Figure size 1008x432 with 1 Axes>"
      ]
     },
     "metadata": {
      "needs_background": "light"
     },
     "output_type": "display_data"
    }
   ],
   "source": [
    "bar_width = 0.35\n",
    "opacity = 0.8\n",
    "colors = [\"b\",\"g\",\"grey\"]\n",
    "\n",
    "\n",
    "for idx, var in enumerate(cat_vars):\n",
    "    plt.figure(figsize=(14,6))\n",
    "    boo = list(dict(df[var].value_counts()).values())\n",
    "    leng = np.arange(len(list(dict(df[var].value_counts()).values())))\n",
    "    rects = plt.bar(leng, boo, bar_width,\n",
    "    alpha=opacity,\n",
    "    color=colors[idx])\n",
    "    plt.ylabel('Number of occurences')\n",
    "    plt.xlabel('Number of category')\n",
    "    plt.title('Occurences for variable: {}'.format(var))\n",
    "    plt.tight_layout()\n",
    "    plt.show()"
   ]
  },
  {
   "cell_type": "markdown",
   "metadata": {},
   "source": [
    "Since there are no categories that would be very differently populated than the rest (they gradually descent) we decided to keep all the variables for one hot encoding."
   ]
  },
  {
   "cell_type": "markdown",
   "metadata": {},
   "source": [
    "Next we are creating dummy variables through one hot encoding for each category in categorical variables (omitting review_difficulty in which we introduced ordered categories)."
   ]
  },
  {
   "cell_type": "code",
   "execution_count": 16,
   "metadata": {},
   "outputs": [],
   "source": [
    "df2 = pd.get_dummies(df, drop_first=True)"
   ]
  },
  {
   "cell_type": "markdown",
   "metadata": {},
   "source": [
    "## 2.4 Splitting dataset into training and testing dataset"
   ]
  },
  {
   "cell_type": "code",
   "execution_count": 17,
   "metadata": {},
   "outputs": [],
   "source": [
    "X, Y = df2.drop(['list_price'], axis=1), df2['list_price']\n",
    "\n",
    "X_train, X_test, Y_train, Y_test = train_test_split(\n",
    "                                                    X, \n",
    "                                                    Y, \n",
    "                                                    test_size=0.3, \n",
    "                                                    random_state=361)"
   ]
  },
  {
   "cell_type": "code",
   "execution_count": 18,
   "metadata": {},
   "outputs": [
    {
     "data": {
      "text/plain": [
       "(10638, 93)"
      ]
     },
     "execution_count": 18,
     "metadata": {},
     "output_type": "execute_result"
    }
   ],
   "source": [
    "df2.shape"
   ]
  },
  {
   "cell_type": "markdown",
   "metadata": {},
   "source": [
    "We are left with 10638 observations and 92 variables which we have split into 70/30 train/test datasets. \n",
    "\n",
    "That way we are ready to begin estimating predictive models using 3 different methods."
   ]
  },
  {
   "cell_type": "markdown",
   "metadata": {},
   "source": [
    "# <center>3. Predicting data </center>"
   ]
  },
  {
   "cell_type": "markdown",
   "metadata": {},
   "source": [
    "## 3.1 Linear Regression (OLS) model"
   ]
  },
  {
   "cell_type": "markdown",
   "metadata": {},
   "source": [
    "Firstly, we are trying to estimate OLS linear regression model using all possible variables."
   ]
  },
  {
   "cell_type": "code",
   "execution_count": 19,
   "metadata": {},
   "outputs": [
    {
     "name": "stdout",
     "output_type": "stream",
     "text": [
      "                            OLS Regression Results                            \n",
      "==============================================================================\n",
      "Dep. Variable:             list_price   R-squared:                       0.865\n",
      "Model:                            OLS   Adj. R-squared:                  0.863\n",
      "Method:                 Least Squares   F-statistic:                     533.6\n",
      "Date:                Mon, 10 Jun 2019   Prob (F-statistic):               0.00\n",
      "Time:                        00:57:30   Log-Likelihood:                -37322.\n",
      "No. Observations:                7446   AIC:                         7.482e+04\n",
      "Df Residuals:                    7357   BIC:                         7.544e+04\n",
      "Df Model:                          88                                         \n",
      "Covariance Type:            nonrobust                                         \n",
      "====================================================================================================================\n",
      "                                                       coef    std err          t      P>|t|      [0.025      0.975]\n",
      "--------------------------------------------------------------------------------------------------------------------\n",
      "const                                              167.9154     20.545      8.173      0.000     127.642     208.189\n",
      "num_reviews                                          0.2244      0.021     10.889      0.000       0.184       0.265\n",
      "piece_count                                          0.0891      0.001     79.120      0.000       0.087       0.091\n",
      "play_star_rating                                     7.5052      0.929      8.077      0.000       5.684       9.327\n",
      "review_difficulty                                    6.1702      0.642      9.611      0.000       4.912       7.429\n",
      "val_star_rating                                    -14.0829      0.859    -16.392      0.000     -15.767     -12.399\n",
      "ages_10-14                                        -133.5350     13.140    -10.162      0.000    -159.294    -107.776\n",
      "ages_10-16                                        -120.7052      9.180    -13.149      0.000    -138.701    -102.710\n",
      "ages_10-21                                         -31.0787      7.033     -4.419      0.000     -44.865     -17.292\n",
      "ages_11-16                                        -119.2834     10.354    -11.520      0.000    -139.581     -98.986\n",
      "ages_12+                                           -48.3475      7.955     -6.077      0.000     -63.942     -32.753\n",
      "ages_12-16                                        -164.1559     11.347    -14.467      0.000    -186.400    -141.912\n",
      "ages_14+                                           -94.1744      8.985    -10.481      0.000    -111.788     -76.561\n",
      "ages_16+                                          -102.6514     10.173    -10.090      0.000    -122.594     -82.709\n",
      "ages_1½-3                                          -35.0597      7.265     -4.826      0.000     -49.301     -20.818\n",
      "ages_1½-5                                          -42.0772      6.741     -6.242      0.000     -55.291     -28.863\n",
      "ages_2-5                                           -13.5341      5.728     -2.363      0.018     -24.763      -2.305\n",
      "ages_4+                                            -65.3418      9.575     -6.824      0.000     -84.112     -46.572\n",
      "ages_4-7                                           -49.1064      7.573     -6.485      0.000     -63.951     -34.261\n",
      "ages_4-99                                          -41.3736      7.598     -5.446      0.000     -56.267     -26.480\n",
      "ages_5+                                            -72.1553     10.461     -6.898      0.000     -92.661     -51.649\n",
      "ages_5-12                                         -154.0841      8.814    -17.482      0.000    -171.362    -136.806\n",
      "ages_5-8                                           -33.9638      9.270     -3.664      0.000     -52.136     -15.792\n",
      "ages_6+                                           -146.2515     10.245    -14.276      0.000    -166.334    -126.169\n",
      "ages_6-12                                         -135.8213      8.463    -16.048      0.000    -152.412    -119.231\n",
      "ages_6-14                                         -119.7124      8.949    -13.377      0.000    -137.256    -102.169\n",
      "ages_7+                                           -117.9034     27.291     -4.320      0.000    -171.402     -64.405\n",
      "ages_7-12                                         -134.7162      8.630    -15.609      0.000    -151.634    -117.798\n",
      "ages_7-14                                         -127.6520      8.327    -15.330      0.000    -143.975    -111.329\n",
      "ages_8+                                            -96.5826      7.940    -12.165      0.000    -112.146     -81.019\n",
      "ages_8-12                                         -131.2129      8.822    -14.873      0.000    -148.507    -113.919\n",
      "ages_8-14                                         -124.0768      8.364    -14.835      0.000    -140.472    -107.682\n",
      "ages_9+                                            -17.4218     11.403     -1.528      0.127     -39.775       4.931\n",
      "ages_9-12                                         -136.3745     10.860    -12.557      0.000    -157.664    -115.085\n",
      "ages_9-14                                         -118.5572      8.441    -14.046      0.000    -135.104    -102.011\n",
      "ages_9-16                                         -115.5893     10.063    -11.487      0.000    -135.315     -95.863\n",
      "theme_name_Architecture                            -94.1937     19.846     -4.746      0.000    -133.098     -55.289\n",
      "theme_name_BOOST                                    77.0708     20.819      3.702      0.000      36.260     117.882\n",
      "theme_name_BrickHeadz                             -136.2622     20.277     -6.720      0.000    -176.011     -96.514\n",
      "theme_name_Carnotaurus Gyrosphere Escape            33.4928     20.793      1.611      0.107      -7.267      74.253\n",
      "theme_name_City                                     15.4138     18.469      0.835      0.404     -20.792      51.619\n",
      "theme_name_Classic                                -106.7155     13.998     -7.624      0.000    -134.156     -79.275\n",
      "theme_name_Creator 3-in-1                          -12.4901     18.558     -0.673      0.501     -48.869      23.889\n",
      "theme_name_Creator Expert                         -111.5643     19.096     -5.842      0.000    -148.998     -74.130\n",
      "theme_name_DC Comics™ Super Heroes                  -2.2488     18.686     -0.120      0.904     -38.878      34.380\n",
      "theme_name_DC Super Hero Girls                       0.0419     21.050      0.002      0.998     -41.223      41.306\n",
      "theme_name_DIMENSIONS™                               0.6407     18.700      0.034      0.973     -36.016      37.297\n",
      "theme_name_DUPLO®                                  -90.6710     15.322     -5.918      0.000    -120.707     -60.635\n",
      "theme_name_Dilophosaurus Outpost Attack              9.2256     20.557      0.449      0.654     -31.072      49.523\n",
      "theme_name_Disney™                                   2.0809     18.588      0.112      0.911     -34.357      38.518\n",
      "theme_name_Elves                                    -7.4391     18.796     -0.396      0.692     -44.284      29.406\n",
      "theme_name_Friends                                  -8.2880     18.447     -0.449      0.653     -44.449      27.873\n",
      "theme_name_Ghostbusters™                           -55.1261     20.856     -2.643      0.008     -96.010     -14.242\n",
      "theme_name_Ideas                                  -133.5133     19.756     -6.758      0.000    -172.241     -94.786\n",
      "theme_name_Indoraptor Rampage at Lockwood Estate    50.5268     20.645      2.447      0.014      10.057      90.996\n",
      "theme_name_Juniors                                 -83.0702     13.847     -5.999      0.000    -110.215     -55.925\n",
      "theme_name_Jurassic Park Velociraptor Chase          7.6681     20.964      0.366      0.715     -33.427      48.763\n",
      "theme_name_LEGO® Creator 3-in-1                     -1.5888     21.775     -0.073      0.942     -44.275      41.097\n",
      "theme_name_MINDSTORMS®                             -28.3928     20.286     -1.400      0.162     -68.160      11.374\n",
      "theme_name_Marvel Super Heroes                      -3.0229     18.525     -0.163      0.870     -39.337      33.291\n",
      "theme_name_Minecraft™                              -32.5531     19.168     -1.698      0.089     -70.129       5.022\n",
      "theme_name_Minifigures                             -72.1553     10.461     -6.898      0.000     -92.661     -51.649\n",
      "theme_name_NEXO KNIGHTS™                           -19.3196     18.863     -1.024      0.306     -56.296      17.657\n",
      "theme_name_NINJAGO®                                -22.1184     18.738     -1.180      0.238     -58.851      14.614\n",
      "theme_name_Power Functions                          -8.7387     21.730     -0.402      0.688     -51.336      33.859\n",
      "theme_name_Pteranodon Chase                         -6.3187     20.373     -0.310      0.756     -46.256      33.619\n",
      "theme_name_SERIOUS PLAY®                           253.7776     19.994     12.693      0.000     214.583     292.972\n",
      "theme_name_Speed Champions                         -11.6941     18.692     -0.626      0.532     -48.336      24.948\n",
      "theme_name_Star Wars™                                2.4139     18.441      0.131      0.896     -33.736      38.564\n",
      "theme_name_Stygimoloch Breakout                     11.9205     21.160      0.563      0.573     -29.559      53.400\n",
      "theme_name_THE LEGO® BATMAN MOVIE                   -8.3123     18.540     -0.448      0.654     -44.655      28.030\n",
      "theme_name_THE LEGO® NINJAGO® MOVIE™               -27.4284     18.531     -1.480      0.139     -63.755       8.898\n",
      "theme_name_Technic                                 -11.7910     18.643     -0.632      0.527     -48.336      24.754\n",
      "country_AU                                          -0.4512      2.803     -0.161      0.872      -5.945       5.043\n",
      "country_BE                                           3.9959      2.865      1.395      0.163      -1.621       9.612\n",
      "country_CA                                         -11.1745      2.653     -4.212      0.000     -16.375      -5.974\n",
      "country_CH                                          -0.6715      2.798     -0.240      0.810      -6.157       4.814\n",
      "country_CZ                                           6.6798      2.836      2.355      0.019       1.120      12.240\n",
      "country_DE                                           4.2104      2.840      1.483      0.138      -1.357       9.777\n",
      "country_DN                                          -9.7731      2.795     -3.496      0.000     -15.252      -4.294\n",
      "country_ES                                           4.2880      2.885      1.486      0.137      -1.368       9.944\n",
      "country_FI                                          11.3613      2.870      3.959      0.000       5.736      16.987\n",
      "country_FR                                           2.3110      2.801      0.825      0.409      -3.180       7.802\n",
      "country_GB                                           2.1890      2.795      0.783      0.433      -3.289       7.667\n",
      "country_IE                                          -0.0693      2.879     -0.024      0.981      -5.713       5.575\n",
      "country_IT                                           2.4168      2.867      0.843      0.399      -3.203       8.037\n",
      "country_LU                                           5.3803      2.847      1.890      0.059      -0.200      10.961\n",
      "country_NL                                           5.3415      2.817      1.896      0.058      -0.181      10.864\n",
      "country_NO                                          11.2836      2.839      3.975      0.000       5.719      16.848\n",
      "country_NZ                                           5.9763      2.758      2.167      0.030       0.569      11.384\n",
      "country_PL                                           7.9176      2.864      2.765      0.006       2.304      13.531\n",
      "country_PT                                           2.1292      2.859      0.745      0.456      -3.476       7.734\n",
      "country_US                                         -10.1399      2.601     -3.898      0.000     -15.239      -5.041\n",
      "==============================================================================\n",
      "Omnibus:                     3815.264   Durbin-Watson:                   1.966\n",
      "Prob(Omnibus):                  0.000   Jarque-Bera (JB):           421060.664\n",
      "Skew:                           1.494   Prob(JB):                         0.00\n",
      "Kurtosis:                      39.718   Cond. No.                     9.51e+16\n",
      "==============================================================================\n",
      "\n",
      "Warnings:\n",
      "[1] Standard Errors assume that the covariance matrix of the errors is correctly specified.\n",
      "[2] The smallest eigenvalue is 8.74e-25. This might indicate that there are\n",
      "strong multicollinearity problems or that the design matrix is singular.\n"
     ]
    }
   ],
   "source": [
    "X_train_lin = sm.add_constant(X_train)\n",
    "X_test_lin = sm.add_constant(X_test)\n",
    " \n",
    "ols_model = sm.OLS(Y_train, X_train_lin).fit()\n",
    "linear_pred = ols_model.predict(X_test_lin) \n",
    "\n",
    "print(ols_model.summary())"
   ]
  },
  {
   "cell_type": "code",
   "execution_count": 20,
   "metadata": {},
   "outputs": [
    {
     "name": "stdout",
     "output_type": "stream",
     "text": [
      "Mean Absolute Error: 16.757313097654322\n",
      "Mean Squared Error: 1166.380221526104\n",
      "Root Mean Squared Error: 34.15230916828471\n",
      "Adjusted R-squared: 0.8653570978839871\n"
     ]
    }
   ],
   "source": [
    "print('Mean Absolute Error:', metrics.mean_absolute_error(Y_test, linear_pred))  \n",
    "print('Mean Squared Error:', metrics.mean_squared_error(Y_test, linear_pred))  \n",
    "print('Root Mean Squared Error:', np.sqrt(metrics.mean_squared_error(Y_test, linear_pred)))\n",
    "print('Adjusted R-squared:', adj_r2(r2_score(Y_test, linear_pred), X_train.shape[0], X_train.shape[1]))"
   ]
  },
  {
   "cell_type": "markdown",
   "metadata": {},
   "source": [
    "We are using our own implementation of R-squared because we want to see value of the coefficient of determination on test data (by accessing <i>OLS.model.rsquared_adj</i> we get the value for training data). \n",
    "\n",
    "We can see promising values (although RMSE is quite high). Let us see how will the model with stepwise selected variables perform:"
   ]
  },
  {
   "cell_type": "markdown",
   "metadata": {},
   "source": [
    "## 3.2 Linear Regression (OLS) model with stepwise selected features"
   ]
  },
  {
   "cell_type": "markdown",
   "metadata": {},
   "source": [
    "We choose only variables with p-value of t-test < 0.05."
   ]
  },
  {
   "cell_type": "code",
   "execution_count": 21,
   "metadata": {},
   "outputs": [
    {
     "name": "stderr",
     "output_type": "stream",
     "text": [
      "c:\\program files\\python37\\lib\\site-packages\\ipykernel_launcher.py:35: FutureWarning: 'argmin' is deprecated, use 'idxmin' instead. The behavior of 'argmin'\n",
      "will be corrected to return the positional minimum in the future.\n",
      "Use 'series.values.argmin' to get the position of the minimum now.\n",
      "c:\\program files\\python37\\lib\\site-packages\\ipykernel_launcher.py:48: FutureWarning: 'argmax' is deprecated, use 'idxmax' instead. The behavior of 'argmax'\n",
      "will be corrected to return the positional maximum in the future.\n",
      "Use 'series.values.argmax' to get the position of the maximum now.\n"
     ]
    }
   ],
   "source": [
    "selected_vars = stepwise_selection(X_train, Y_train, verbose=False)\n",
    "\n",
    "stepwise_X_train = X_train[selected_vars]\n",
    "stepwise_X_test = X_test[selected_vars]"
   ]
  },
  {
   "cell_type": "code",
   "execution_count": 22,
   "metadata": {},
   "outputs": [
    {
     "name": "stdout",
     "output_type": "stream",
     "text": [
      "                            OLS Regression Results                            \n",
      "==============================================================================\n",
      "Dep. Variable:             list_price   R-squared:                       0.858\n",
      "Model:                            OLS   Adj. R-squared:                  0.858\n",
      "Method:                 Least Squares   F-statistic:                     1284.\n",
      "Date:                Mon, 10 Jun 2019   Prob (F-statistic):               0.00\n",
      "Time:                        00:58:30   Log-Likelihood:                -37487.\n",
      "No. Observations:                7446   AIC:                         7.505e+04\n",
      "Df Residuals:                    7410   BIC:                         7.529e+04\n",
      "Df Model:                          35                                         \n",
      "Covariance Type:            nonrobust                                         \n",
      "====================================================================================================================\n",
      "                                                       coef    std err          t      P>|t|      [0.025      0.975]\n",
      "--------------------------------------------------------------------------------------------------------------------\n",
      "const                                               39.3066      3.477     11.306      0.000      32.491      46.122\n",
      "review_difficulty                                    7.5628      0.563     13.443      0.000       6.460       8.666\n",
      "theme_name_SERIOUS PLAY®                           233.0069      4.937     47.196      0.000     223.329     242.685\n",
      "piece_count                                          0.0923      0.001    121.295      0.000       0.091       0.094\n",
      "theme_name_MINDSTORMS®                              77.8321      3.458     22.510      0.000      71.054      84.610\n",
      "val_star_rating                                    -14.6227      0.785    -18.623      0.000     -16.162     -13.084\n",
      "ages_2-5                                            30.6665      2.260     13.569      0.000      26.236      35.097\n",
      "theme_name_Creator Expert                          -82.8161      3.429    -24.149      0.000     -89.539     -76.093\n",
      "theme_name_Star Wars™                               10.3467      1.507      6.867      0.000       7.393      13.300\n",
      "play_star_rating                                     7.1704      0.795      9.015      0.000       5.611       8.730\n",
      "num_reviews                                          0.1763      0.018      9.827      0.000       0.141       0.211\n",
      "theme_name_BOOST                                    80.3143      9.938      8.082      0.000      60.833      99.795\n",
      "theme_name_THE LEGO® NINJAGO® MOVIE™               -17.3413      1.745     -9.936      0.000     -20.762     -13.920\n",
      "theme_name_Ideas                                   -52.8604      5.290     -9.993      0.000     -63.230     -42.491\n",
      "country_CA                                         -14.0348      1.795     -7.818      0.000     -17.554     -10.516\n",
      "country_US                                         -13.2100      1.731     -7.632      0.000     -16.603      -9.817\n",
      "ages_12-16                                         -48.6750      7.532     -6.462      0.000     -63.441     -33.909\n",
      "country_DN                                         -12.9215      2.031     -6.361      0.000     -16.903      -8.940\n",
      "ages_14+                                            20.6960      3.646      5.677      0.000      13.549      27.843\n",
      "theme_name_Indoraptor Rampage at Lockwood Estate    50.4958      9.099      5.549      0.000      32.659      68.333\n",
      "theme_name_Friends                                  -7.4286      2.398     -3.097      0.002     -12.130      -2.727\n",
      "theme_name_Classic                                 -14.4509      2.630     -5.495      0.000     -19.606      -9.296\n",
      "theme_name_Creator 3-in-1                           -9.1890      2.563     -3.585      0.000     -14.213      -4.165\n",
      "theme_name_Ghostbusters™                           -36.2524      9.735     -3.724      0.000     -55.336     -17.169\n",
      "theme_name_NINJAGO®                                -12.8229      3.331     -3.849      0.000     -19.353      -6.293\n",
      "country_FI                                           8.0636      2.132      3.782      0.000       3.884      12.243\n",
      "country_NO                                           7.5220      2.087      3.604      0.000       3.431      11.613\n",
      "ages_5-12                                          -20.6368      2.671     -7.725      0.000     -25.873     -15.400\n",
      "theme_name_City                                     16.5207      2.393      6.904      0.000      11.830      21.212\n",
      "theme_name_Carnotaurus Gyrosphere Escape            37.2370      9.877      3.770      0.000      17.875      56.599\n",
      "theme_name_Architecture                            -35.5474      6.242     -5.695      0.000     -47.783     -23.311\n",
      "ages_12+                                            24.8114      5.446      4.556      0.000      14.136      35.487\n",
      "ages_9+                                             34.0688     11.002      3.097      0.002      12.503      55.635\n",
      "theme_name_NEXO KNIGHTS™                           -12.5690      4.176     -3.010      0.003     -20.755      -4.383\n",
      "ages_6-12                                           -5.2185      1.625     -3.212      0.001      -8.403      -2.034\n",
      "ages_7-12                                           -5.6307      2.161     -2.606      0.009      -9.866      -1.395\n",
      "==============================================================================\n",
      "Omnibus:                     3984.706   Durbin-Watson:                   1.967\n",
      "Prob(Omnibus):                  0.000   Jarque-Bera (JB):           394852.043\n",
      "Skew:                           1.640   Prob(JB):                         0.00\n",
      "Kurtosis:                      38.524   Cond. No.                     2.80e+04\n",
      "==============================================================================\n",
      "\n",
      "Warnings:\n",
      "[1] Standard Errors assume that the covariance matrix of the errors is correctly specified.\n",
      "[2] The condition number is large, 2.8e+04. This might indicate that there are\n",
      "strong multicollinearity or other numerical problems.\n"
     ]
    }
   ],
   "source": [
    "stepwise_X_train = sm.add_constant(stepwise_X_train)\n",
    "stepwise_X_test = sm.add_constant(stepwise_X_test)\n",
    " \n",
    "stepwise_model = sm.OLS(Y_train, stepwise_X_train).fit()\n",
    "stepwise_pred = stepwise_model.predict(stepwise_X_test) \n",
    "\n",
    "print(stepwise_model.summary())"
   ]
  },
  {
   "cell_type": "code",
   "execution_count": 23,
   "metadata": {},
   "outputs": [
    {
     "name": "stdout",
     "output_type": "stream",
     "text": [
      "Mean Absolute Error: 17.81808453192541\n",
      "Mean Squared Error: 1245.1609961725383\n",
      "Root Mean Squared Error: 35.28683885207824\n",
      "R-squared value: 0.8573493362649673\n"
     ]
    }
   ],
   "source": [
    "print('Mean Absolute Error:', metrics.mean_absolute_error(Y_test, stepwise_pred))  \n",
    "print('Mean Squared Error:', metrics.mean_squared_error(Y_test, stepwise_pred))  \n",
    "print('Root Mean Squared Error:', np.sqrt(metrics.mean_squared_error(Y_test, stepwise_pred)))\n",
    "print('R-squared value:', adj_r2(r2_score(Y_test, stepwise_pred), stepwise_X_train.shape[0], stepwise_X_train.shape[1]))"
   ]
  },
  {
   "cell_type": "markdown",
   "metadata": {},
   "source": [
    "We obtain worse results than with model build on the whole dataset. Let us try other method."
   ]
  },
  {
   "cell_type": "markdown",
   "metadata": {},
   "source": [
    "## 3.3 Elastic Net"
   ]
  },
  {
   "cell_type": "markdown",
   "metadata": {},
   "source": [
    "Firstly, we are tuning the hyperparameters to find the best fit:"
   ]
  },
  {
   "cell_type": "code",
   "execution_count": null,
   "metadata": {},
   "outputs": [],
   "source": [
    "eNet = ElasticNet(max_iter = 1000)\n",
    "\n",
    "parametersGrid = {\"alpha\": [0.0001, 0.001, 0.005, 0.01, 0.1, 1.0],\n",
    "                  \"l1_ratio\": np.arange(0.0, 1.0, 0.1),\n",
    "                 \"tol\": [ 0.00001, 0.0001, 0.01, 0.1],\n",
    "                 \"normalize\": [True, False]}\n",
    "\n",
    "grid = GridSearchCV(eNet, \n",
    "                    parametersGrid, \n",
    "                    scoring='r2', \n",
    "                    cv=5,\n",
    "                    refit = 'r2')\n",
    "grid.fit(X_train, Y_train)\n",
    "grid_pred = grid.predict(X_test)\n",
    "print(\"Best: %f using %s\" % (grid.best_score_, grid.best_params_))"
   ]
  },
  {
   "cell_type": "markdown",
   "metadata": {},
   "source": [
    "Now, we estimate data using best parameters for elastic net."
   ]
  },
  {
   "cell_type": "code",
   "execution_count": 72,
   "metadata": {},
   "outputs": [
    {
     "name": "stderr",
     "output_type": "stream",
     "text": [
      "c:\\program files\\python37\\lib\\site-packages\\sklearn\\linear_model\\coordinate_descent.py:492: ConvergenceWarning: Objective did not converge. You might want to increase the number of iterations. Fitting data with very small alpha may cause precision problems.\n",
      "  ConvergenceWarning)\n"
     ]
    }
   ],
   "source": [
    "eNet = ElasticNet(max_iter = 1000,\n",
    "                  alpha = 0.0001,\n",
    "                  l1_ratio = 0.9,\n",
    "                  tol = 0.00001)\n",
    "\n",
    "eNet.fit(X_train, Y_train)\n",
    "elastic_pred = eNet.predict(X_test)"
   ]
  },
  {
   "cell_type": "code",
   "execution_count": 73,
   "metadata": {},
   "outputs": [
    {
     "name": "stdout",
     "output_type": "stream",
     "text": [
      "Mean Absolute Error: 16.740875751994192\n",
      "Mean Squared Error: 1167.9068910568694\n",
      "Root Mean Squared Error: 34.17465275693185\n",
      "R-squared value: 0.8651808644290633\n"
     ]
    }
   ],
   "source": [
    "print('Mean Absolute Error:', metrics.mean_absolute_error(Y_test, elastic_pred))  \n",
    "print('Mean Squared Error:', metrics.mean_squared_error(Y_test, elastic_pred))  \n",
    "print('Root Mean Squared Error:', np.sqrt(metrics.mean_squared_error(Y_test, elastic_pred)))\n",
    "print('R-squared value:', adj_r2(r2_score(Y_test, elastic_pred), X_train.shape[0], X_train.shape[1]))"
   ]
  },
  {
   "cell_type": "markdown",
   "metadata": {},
   "source": [
    "We can see that results are still not as good as when using simple Linear Regression. "
   ]
  },
  {
   "cell_type": "markdown",
   "metadata": {},
   "source": [
    "## 3.4 Neural Network"
   ]
  },
  {
   "cell_type": "code",
   "execution_count": 78,
   "metadata": {},
   "outputs": [
    {
     "ename": "SyntaxError",
     "evalue": "invalid syntax (<ipython-input-78-f299decf73a6>, line 8)",
     "output_type": "error",
     "traceback": [
      "\u001b[1;36m  File \u001b[1;32m\"<ipython-input-78-f299decf73a6>\"\u001b[1;36m, line \u001b[1;32m8\u001b[0m\n\u001b[1;33m    optimizer = 'adagrad',\u001b[0m\n\u001b[1;37m            ^\u001b[0m\n\u001b[1;31mSyntaxError\u001b[0m\u001b[1;31m:\u001b[0m invalid syntax\n"
     ]
    }
   ],
   "source": [
    "def create_model(momentum = 0.2,\n",
    "                activation = 'softplus',\n",
    "                learn_rate = 0.001,\n",
    "                dropout_rate = 0.0,\n",
    "                weight_constraint = 3,\n",
    "                neurons = 100,\n",
    "                init = 'lecun_uniform'\n",
    "                optimizer = 'adagrad',\n",
    "                normalize = True): \n",
    "\n",
    "    # create model\n",
    "    NN_model = Sequential()\n",
    "    NN_model.add(Dense(128, \n",
    "                   kernel_initializer=init,\n",
    "                   input_dim = X_train.shape[1], \n",
    "                   activation=activation))\n",
    "\n",
    "    # The Hidden Layers :\n",
    "    NN_model.add(Dense(neurons, \n",
    "                       kernel_initializer=init,\n",
    "                       activation=activation,\n",
    "                      kernel_constraint=maxnorm(weight_constraint)))\n",
    "    NN_model.add(Dense(neurons, \n",
    "                       kernel_initializer=init,\n",
    "                       activation=activation,\n",
    "                      kernel_constraint=maxnorm(weight_constraint)))\n",
    "    NN_model.add(Dropout(dropout_rate)) \n",
    "    NN_model.add(Dense(neurons, \n",
    "                       kernel_initializer=init,\n",
    "                       activation=activation,\n",
    "                      kernel_constraint=maxnorm(weight_constraint)))\n",
    "\n",
    "    # The Output Layer :\n",
    "    NN_model.add(Dense(1, kernel_initializer=init,\n",
    "                       activation='linear'))\n",
    "\n",
    "    \n",
    "    NN_model.compile(loss='mean_squared_error', \n",
    "                  optimizer=optimizer, \n",
    "                  metrics=['mean_absolute_error',\n",
    "                           'mean_squared_error'])\n",
    "    \n",
    "    NN_model.fit(X_train, Y_train,\n",
    "          epochs=300,\n",
    "          batch_size=64)\n",
    "    \n",
    "    return NN_model\n",
    "\n",
    "\n",
    "model = KerasRegressor(build_fn=create_model, \n",
    "                        epochs = 300, \n",
    "                        batch_size = 64,\n",
    "                        verbose = 1)"
   ]
  },
  {
   "cell_type": "code",
   "execution_count": null,
   "metadata": {},
   "outputs": [
    {
     "name": "stdout",
     "output_type": "stream",
     "text": [
      "Epoch 1/300\n",
      "7446/7446 [==============================] - 1s 89us/step - loss: 4803.1360 - mean_absolute_error: 24.5207 - mean_squared_error: 4803.1360\n",
      "Epoch 2/300\n",
      "7446/7446 [==============================] - 0s 39us/step - loss: 2484.2677 - mean_absolute_error: 20.8516 - mean_squared_error: 2484.2677\n",
      "Epoch 3/300\n",
      "7446/7446 [==============================] - 0s 37us/step - loss: 2429.1905 - mean_absolute_error: 20.5044 - mean_squared_error: 2429.1905\n",
      "Epoch 4/300\n",
      "7446/7446 [==============================] - 0s 35us/step - loss: 2443.6631 - mean_absolute_error: 20.4465 - mean_squared_error: 2443.6631\n",
      "Epoch 5/300\n",
      "7446/7446 [==============================] - 0s 36us/step - loss: 2383.4635 - mean_absolute_error: 20.2562 - mean_squared_error: 2383.4635\n",
      "Epoch 6/300\n",
      "7446/7446 [==============================] - 0s 38us/step - loss: 2370.9157 - mean_absolute_error: 20.1983 - mean_squared_error: 2370.9157\n",
      "Epoch 7/300\n",
      "7446/7446 [==============================] - 0s 37us/step - loss: 2357.1166 - mean_absolute_error: 20.2764 - mean_squared_error: 2357.1166\n",
      "Epoch 8/300\n",
      "7446/7446 [==============================] - 0s 37us/step - loss: 2336.0338 - mean_absolute_error: 19.9317 - mean_squared_error: 2336.0338\n",
      "Epoch 9/300\n",
      "7446/7446 [==============================] - 0s 37us/step - loss: 2347.5827 - mean_absolute_error: 19.9140 - mean_squared_error: 2347.5827\n",
      "Epoch 10/300\n",
      "7446/7446 [==============================] - 0s 36us/step - loss: 2340.6443 - mean_absolute_error: 19.7977 - mean_squared_error: 2340.6443\n",
      "Epoch 11/300\n",
      "7446/7446 [==============================] - 0s 37us/step - loss: 2289.8481 - mean_absolute_error: 19.6975 - mean_squared_error: 2289.8481\n",
      "Epoch 12/300\n",
      "7446/7446 [==============================] - 0s 35us/step - loss: 2341.4245 - mean_absolute_error: 19.5929 - mean_squared_error: 2341.4245\n",
      "Epoch 13/300\n",
      "7446/7446 [==============================] - 0s 38us/step - loss: 2292.3824 - mean_absolute_error: 19.3580 - mean_squared_error: 2292.3824\n",
      "Epoch 14/300\n",
      "7446/7446 [==============================] - 0s 36us/step - loss: 2289.0682 - mean_absolute_error: 19.5446 - mean_squared_error: 2289.0682\n",
      "Epoch 15/300\n",
      "7446/7446 [==============================] - 0s 38us/step - loss: 2241.7672 - mean_absolute_error: 19.4723 - mean_squared_error: 2241.7672\n",
      "Epoch 16/300\n",
      "7446/7446 [==============================] - 0s 36us/step - loss: 2265.0695 - mean_absolute_error: 19.3420 - mean_squared_error: 2265.0695\n",
      "Epoch 17/300\n",
      "7446/7446 [==============================] - 0s 39us/step - loss: 2249.3613 - mean_absolute_error: 19.3087 - mean_squared_error: 2249.3613\n",
      "Epoch 18/300\n",
      "7446/7446 [==============================] - 0s 43us/step - loss: 2248.9400 - mean_absolute_error: 19.0723 - mean_squared_error: 2248.9400\n",
      "Epoch 19/300\n",
      "7446/7446 [==============================] - 0s 40us/step - loss: 2229.2875 - mean_absolute_error: 19.0641 - mean_squared_error: 2229.2875\n",
      "Epoch 20/300\n",
      "7446/7446 [==============================] - 0s 39us/step - loss: 2231.0312 - mean_absolute_error: 18.9684 - mean_squared_error: 2231.0312\n",
      "Epoch 21/300\n",
      "7446/7446 [==============================] - 0s 38us/step - loss: 2208.6228 - mean_absolute_error: 18.9694 - mean_squared_error: 2208.6228\n",
      "Epoch 22/300\n",
      "7446/7446 [==============================] - 0s 45us/step - loss: 2176.3141 - mean_absolute_error: 18.8179 - mean_squared_error: 2176.3141\n",
      "Epoch 23/300\n",
      "7446/7446 [==============================] - 0s 37us/step - loss: 2162.8268 - mean_absolute_error: 18.6432 - mean_squared_error: 2162.8268\n",
      "Epoch 24/300\n",
      "7446/7446 [==============================] - 0s 39us/step - loss: 2143.9073 - mean_absolute_error: 18.3958 - mean_squared_error: 2143.9073\n",
      "Epoch 25/300\n",
      "7446/7446 [==============================] - 0s 37us/step - loss: 2176.2161 - mean_absolute_error: 18.4742 - mean_squared_error: 2176.2161\n",
      "Epoch 26/300\n",
      "7446/7446 [==============================] - 0s 40us/step - loss: 2122.4246 - mean_absolute_error: 18.3784 - mean_squared_error: 2122.4246\n",
      "Epoch 27/300\n",
      "7446/7446 [==============================] - 0s 39us/step - loss: 2145.2939 - mean_absolute_error: 18.1367 - mean_squared_error: 2145.2939\n",
      "Epoch 28/300\n",
      "7446/7446 [==============================] - 0s 39us/step - loss: 2079.6928 - mean_absolute_error: 18.0037 - mean_squared_error: 2079.6928\n",
      "Epoch 29/300\n",
      "7446/7446 [==============================] - 0s 36us/step - loss: 2141.6339 - mean_absolute_error: 17.9025 - mean_squared_error: 2141.6339\n",
      "Epoch 30/300\n",
      "7446/7446 [==============================] - 0s 41us/step - loss: 2083.7857 - mean_absolute_error: 17.6149 - mean_squared_error: 2083.7857\n",
      "Epoch 31/300\n",
      "7446/7446 [==============================] - 0s 39us/step - loss: 2080.4652 - mean_absolute_error: 17.5426 - mean_squared_error: 2080.4652\n",
      "Epoch 32/300\n",
      "7446/7446 [==============================] - 0s 38us/step - loss: 2006.5763 - mean_absolute_error: 17.3727 - mean_squared_error: 2006.5763\n",
      "Epoch 33/300\n",
      "7446/7446 [==============================] - 0s 39us/step - loss: 1980.5501 - mean_absolute_error: 17.1380 - mean_squared_error: 1980.5501\n",
      "Epoch 34/300\n",
      "7446/7446 [==============================] - 0s 46us/step - loss: 2005.2068 - mean_absolute_error: 17.1353 - mean_squared_error: 2005.2068\n",
      "Epoch 35/300\n",
      "7446/7446 [==============================] - 0s 39us/step - loss: 2012.2690 - mean_absolute_error: 16.9932 - mean_squared_error: 2012.2690\n",
      "Epoch 36/300\n",
      "7446/7446 [==============================] - 0s 37us/step - loss: 1935.8776 - mean_absolute_error: 16.4963 - mean_squared_error: 1935.8776\n",
      "Epoch 37/300\n",
      "7446/7446 [==============================] - 0s 37us/step - loss: 1874.3923 - mean_absolute_error: 16.3508 - mean_squared_error: 1874.3923\n",
      "Epoch 38/300\n",
      "7446/7446 [==============================] - 0s 37us/step - loss: 1907.5169 - mean_absolute_error: 16.3002 - mean_squared_error: 1907.5169\n",
      "Epoch 39/300\n",
      "7446/7446 [==============================] - 0s 39us/step - loss: 1869.4849 - mean_absolute_error: 16.1299 - mean_squared_error: 1869.4849\n",
      "Epoch 40/300\n",
      "7446/7446 [==============================] - 0s 36us/step - loss: 1799.0818 - mean_absolute_error: 15.7297 - mean_squared_error: 1799.0818\n",
      "Epoch 41/300\n",
      "7446/7446 [==============================] - 0s 38us/step - loss: 2062.5437 - mean_absolute_error: 17.8059 - mean_squared_error: 2062.5437\n",
      "Epoch 42/300\n",
      "7446/7446 [==============================] - 0s 37us/step - loss: 1809.3220 - mean_absolute_error: 16.8842 - mean_squared_error: 1809.3220\n",
      "Epoch 43/300\n",
      "7446/7446 [==============================] - 0s 38us/step - loss: 1826.9312 - mean_absolute_error: 16.1958 - mean_squared_error: 1826.9312\n",
      "Epoch 44/300\n",
      "7446/7446 [==============================] - 0s 37us/step - loss: 1776.5591 - mean_absolute_error: 15.7677 - mean_squared_error: 1776.5591\n",
      "Epoch 45/300\n",
      "7446/7446 [==============================] - 0s 37us/step - loss: 1739.2259 - mean_absolute_error: 15.5714 - mean_squared_error: 1739.2259\n",
      "Epoch 46/300\n",
      "7446/7446 [==============================] - 0s 37us/step - loss: 1766.7786 - mean_absolute_error: 15.6306 - mean_squared_error: 1766.7786\n",
      "Epoch 47/300\n",
      "7446/7446 [==============================] - 0s 39us/step - loss: 1808.5196 - mean_absolute_error: 15.5626 - mean_squared_error: 1808.5196\n",
      "Epoch 48/300\n",
      "7446/7446 [==============================] - 0s 37us/step - loss: 1629.3462 - mean_absolute_error: 15.5295 - mean_squared_error: 1629.3462\n",
      "Epoch 49/300\n",
      "7446/7446 [==============================] - 0s 38us/step - loss: 1673.9573 - mean_absolute_error: 15.3592 - mean_squared_error: 1673.9573\n",
      "Epoch 50/300\n",
      "7446/7446 [==============================] - 0s 39us/step - loss: 1647.7802 - mean_absolute_error: 15.3068 - mean_squared_error: 1647.7802\n",
      "Epoch 51/300\n",
      "7446/7446 [==============================] - 0s 37us/step - loss: 1630.5931 - mean_absolute_error: 15.3388 - mean_squared_error: 1630.5931\n",
      "Epoch 52/300\n",
      "7446/7446 [==============================] - 0s 37us/step - loss: 1552.7250 - mean_absolute_error: 15.0919 - mean_squared_error: 1552.7250\n",
      "Epoch 53/300\n",
      "7446/7446 [==============================] - 0s 38us/step - loss: 1601.3767 - mean_absolute_error: 15.2182 - mean_squared_error: 1601.3767\n",
      "Epoch 54/300\n"
     ]
    },
    {
     "name": "stdout",
     "output_type": "stream",
     "text": [
      "7446/7446 [==============================] - 0s 38us/step - loss: 1555.8276 - mean_absolute_error: 14.7692 - mean_squared_error: 1555.8276\n",
      "Epoch 55/300\n",
      "7446/7446 [==============================] - 0s 34us/step - loss: 1543.6965 - mean_absolute_error: 14.6745 - mean_squared_error: 1543.6965\n",
      "Epoch 56/300\n",
      "7446/7446 [==============================] - 0s 35us/step - loss: 1557.3801 - mean_absolute_error: 14.8361 - mean_squared_error: 1557.3801\n",
      "Epoch 57/300\n",
      "7446/7446 [==============================] - 0s 34us/step - loss: 1549.8008 - mean_absolute_error: 14.6772 - mean_squared_error: 1549.8008\n",
      "Epoch 58/300\n",
      "7446/7446 [==============================] - 0s 35us/step - loss: 1528.9058 - mean_absolute_error: 14.7651 - mean_squared_error: 1528.9058\n",
      "Epoch 59/300\n",
      "7446/7446 [==============================] - 0s 34us/step - loss: 1455.0056 - mean_absolute_error: 14.4593 - mean_squared_error: 1455.0056\n",
      "Epoch 60/300\n",
      "7446/7446 [==============================] - 0s 34us/step - loss: 1411.6901 - mean_absolute_error: 14.5274 - mean_squared_error: 1411.6901\n",
      "Epoch 61/300\n",
      "7446/7446 [==============================] - 0s 35us/step - loss: 1426.6186 - mean_absolute_error: 14.2811 - mean_squared_error: 1426.6186\n",
      "Epoch 62/300\n",
      "7446/7446 [==============================] - 0s 36us/step - loss: 1378.6232 - mean_absolute_error: 14.3458 - mean_squared_error: 1378.6232\n",
      "Epoch 63/300\n",
      "7446/7446 [==============================] - 0s 35us/step - loss: 1359.2866 - mean_absolute_error: 14.1431 - mean_squared_error: 1359.2866\n",
      "Epoch 64/300\n",
      "7446/7446 [==============================] - 0s 34us/step - loss: 1397.4811 - mean_absolute_error: 14.3234 - mean_squared_error: 1397.4811\n",
      "Epoch 65/300\n",
      "7446/7446 [==============================] - 0s 36us/step - loss: 1321.0034 - mean_absolute_error: 13.9869 - mean_squared_error: 1321.0034\n",
      "Epoch 66/300\n",
      "7446/7446 [==============================] - 0s 36us/step - loss: 1314.2511 - mean_absolute_error: 14.0327 - mean_squared_error: 1314.2511\n",
      "Epoch 67/300\n",
      "7446/7446 [==============================] - 0s 36us/step - loss: 1301.7241 - mean_absolute_error: 13.9812 - mean_squared_error: 1301.7241\n",
      "Epoch 68/300\n",
      "7446/7446 [==============================] - 0s 35us/step - loss: 1203.6439 - mean_absolute_error: 13.6430 - mean_squared_error: 1203.6439\n",
      "Epoch 69/300\n",
      "7446/7446 [==============================] - 0s 35us/step - loss: 1147.8006 - mean_absolute_error: 13.3047 - mean_squared_error: 1147.8006\n",
      "Epoch 70/300\n",
      "7446/7446 [==============================] - 0s 35us/step - loss: 1385.3311 - mean_absolute_error: 14.5200 - mean_squared_error: 1385.3311\n",
      "Epoch 71/300\n",
      "7446/7446 [==============================] - 0s 36us/step - loss: 1060.7977 - mean_absolute_error: 13.3607 - mean_squared_error: 1060.7977\n",
      "Epoch 72/300\n",
      "7446/7446 [==============================] - 0s 35us/step - loss: 1092.5152 - mean_absolute_error: 13.3112 - mean_squared_error: 1092.5152\n",
      "Epoch 73/300\n",
      "7446/7446 [==============================] - 0s 35us/step - loss: 1073.0960 - mean_absolute_error: 13.0119 - mean_squared_error: 1073.0960\n",
      "Epoch 74/300\n",
      "7446/7446 [==============================] - 0s 35us/step - loss: 1122.7428 - mean_absolute_error: 13.2546 - mean_squared_error: 1122.7428\n",
      "Epoch 75/300\n",
      "7446/7446 [==============================] - 0s 37us/step - loss: 1252.1907 - mean_absolute_error: 13.8384 - mean_squared_error: 1252.1907\n",
      "Epoch 76/300\n",
      "7446/7446 [==============================] - 0s 36us/step - loss: 1279.9261 - mean_absolute_error: 13.9020 - mean_squared_error: 1279.9261\n",
      "Epoch 77/300\n",
      "7446/7446 [==============================] - 0s 35us/step - loss: 1218.6647 - mean_absolute_error: 13.6364 - mean_squared_error: 1218.6647\n",
      "Epoch 78/300\n",
      "7446/7446 [==============================] - 0s 37us/step - loss: 1036.1389 - mean_absolute_error: 12.8334 - mean_squared_error: 1036.1389\n",
      "Epoch 79/300\n",
      "7446/7446 [==============================] - 0s 38us/step - loss: 852.1589 - mean_absolute_error: 12.2061 - mean_squared_error: 852.1589\n",
      "Epoch 80/300\n",
      "7446/7446 [==============================] - 0s 36us/step - loss: 907.6528 - mean_absolute_error: 12.2088 - mean_squared_error: 907.6528\n",
      "Epoch 81/300\n",
      "7446/7446 [==============================] - 0s 36us/step - loss: 1095.0719 - mean_absolute_error: 13.0110 - mean_squared_error: 1095.0719\n",
      "Epoch 82/300\n",
      "7446/7446 [==============================] - 0s 39us/step - loss: 1103.1484 - mean_absolute_error: 12.9938 - mean_squared_error: 1103.1484\n",
      "Epoch 83/300\n",
      "7446/7446 [==============================] - 0s 60us/step - loss: 898.9723 - mean_absolute_error: 12.2678 - mean_squared_error: 898.9723\n",
      "Epoch 84/300\n",
      "7446/7446 [==============================] - 0s 41us/step - loss: 838.8223 - mean_absolute_error: 11.9196 - mean_squared_error: 838.8223\n",
      "Epoch 85/300\n",
      "7446/7446 [==============================] - 0s 40us/step - loss: 787.1677 - mean_absolute_error: 11.6978 - mean_squared_error: 787.1677\n",
      "Epoch 86/300\n",
      "7446/7446 [==============================] - 0s 46us/step - loss: 831.6851 - mean_absolute_error: 11.7347 - mean_squared_error: 831.6851\n",
      "Epoch 87/300\n",
      "7446/7446 [==============================] - 0s 41us/step - loss: 776.9649 - mean_absolute_error: 11.6689 - mean_squared_error: 776.9649\n",
      "Epoch 88/300\n",
      "7446/7446 [==============================] - 0s 38us/step - loss: 738.3095 - mean_absolute_error: 11.5769 - mean_squared_error: 738.3095\n",
      "Epoch 89/300\n",
      "7446/7446 [==============================] - 0s 39us/step - loss: 1142.3382 - mean_absolute_error: 13.1195 - mean_squared_error: 1142.3382\n",
      "Epoch 90/300\n",
      "7446/7446 [==============================] - 0s 44us/step - loss: 870.7552 - mean_absolute_error: 11.6600 - mean_squared_error: 870.7552\n",
      "Epoch 91/300\n",
      "7446/7446 [==============================] - 0s 38us/step - loss: 778.8435 - mean_absolute_error: 11.7551 - mean_squared_error: 778.8435\n",
      "Epoch 92/300\n",
      "7446/7446 [==============================] - 0s 39us/step - loss: 591.0073 - mean_absolute_error: 10.7845 - mean_squared_error: 591.0073\n",
      "Epoch 93/300\n",
      "7446/7446 [==============================] - 0s 36us/step - loss: 621.0943 - mean_absolute_error: 11.0016 - mean_squared_error: 621.0943\n",
      "Epoch 94/300\n",
      "7446/7446 [==============================] - 0s 35us/step - loss: 593.6192 - mean_absolute_error: 10.8806 - mean_squared_error: 593.6192\n",
      "Epoch 95/300\n",
      "7446/7446 [==============================] - 0s 36us/step - loss: 715.7119 - mean_absolute_error: 11.3402 - mean_squared_error: 715.7119\n",
      "Epoch 96/300\n",
      "7446/7446 [==============================] - 0s 53us/step - loss: 570.3820 - mean_absolute_error: 10.6840 - mean_squared_error: 570.3820\n",
      "Epoch 97/300\n",
      "7446/7446 [==============================] - 0s 50us/step - loss: 1020.9756 - mean_absolute_error: 12.4759 - mean_squared_error: 1020.9756\n",
      "Epoch 98/300\n",
      "7446/7446 [==============================] - 0s 41us/step - loss: 508.8081 - mean_absolute_error: 10.5019 - mean_squared_error: 508.8081\n",
      "Epoch 99/300\n",
      "7446/7446 [==============================] - 0s 38us/step - loss: 563.4770 - mean_absolute_error: 10.5608 - mean_squared_error: 563.4770\n",
      "Epoch 100/300\n",
      "7446/7446 [==============================] - 0s 38us/step - loss: 560.3596 - mean_absolute_error: 10.4035 - mean_squared_error: 560.3596\n",
      "Epoch 101/300\n",
      "7446/7446 [==============================] - 0s 49us/step - loss: 543.6851 - mean_absolute_error: 10.3869 - mean_squared_error: 543.6851\n",
      "Epoch 102/300\n",
      "7446/7446 [==============================] - 0s 46us/step - loss: 467.6303 - mean_absolute_error: 10.1113 - mean_squared_error: 467.6303\n",
      "Epoch 103/300\n",
      "7446/7446 [==============================] - 0s 42us/step - loss: 672.8147 - mean_absolute_error: 11.0024 - mean_squared_error: 672.8147\n",
      "Epoch 104/300\n",
      "7446/7446 [==============================] - 0s 37us/step - loss: 455.1201 - mean_absolute_error: 10.0583 - mean_squared_error: 455.1201\n",
      "Epoch 105/300\n",
      "7446/7446 [==============================] - 0s 37us/step - loss: 798.6307 - mean_absolute_error: 11.5611 - mean_squared_error: 798.6307\n",
      "Epoch 106/300\n",
      "7446/7446 [==============================] - 0s 40us/step - loss: 432.0915 - mean_absolute_error: 9.8607 - mean_squared_error: 432.0915\n",
      "Epoch 107/300\n",
      "7446/7446 [==============================] - 0s 42us/step - loss: 414.6346 - mean_absolute_error: 9.7980 - mean_squared_error: 414.6346\n",
      "Epoch 108/300\n"
     ]
    },
    {
     "name": "stdout",
     "output_type": "stream",
     "text": [
      "7446/7446 [==============================] - 0s 41us/step - loss: 566.6296 - mean_absolute_error: 10.3493 - mean_squared_error: 566.6296\n",
      "Epoch 109/300\n",
      "7446/7446 [==============================] - 0s 35us/step - loss: 472.1147 - mean_absolute_error: 9.9664 - mean_squared_error: 472.1147\n",
      "Epoch 110/300\n",
      "7446/7446 [==============================] - 0s 37us/step - loss: 484.8995 - mean_absolute_error: 9.9918 - mean_squared_error: 484.8995\n",
      "Epoch 111/300\n",
      "7446/7446 [==============================] - 0s 38us/step - loss: 413.8251 - mean_absolute_error: 9.5839 - mean_squared_error: 413.8251 0s - loss: 420.2760 - mean_absolute_error: 9.6010 - mean_squared_error: 420.27\n",
      "Epoch 112/300\n",
      "7446/7446 [==============================] - 0s 38us/step - loss: 527.1537 - mean_absolute_error: 10.1426 - mean_squared_error: 527.1537\n",
      "Epoch 113/300\n",
      "7446/7446 [==============================] - 0s 37us/step - loss: 452.4482 - mean_absolute_error: 9.8267 - mean_squared_error: 452.4482\n",
      "Epoch 114/300\n",
      "7446/7446 [==============================] - 0s 40us/step - loss: 417.5245 - mean_absolute_error: 9.7270 - mean_squared_error: 417.5245\n",
      "Epoch 115/300\n",
      "7446/7446 [==============================] - 0s 37us/step - loss: 598.4878 - mean_absolute_error: 10.3467 - mean_squared_error: 598.4878\n",
      "Epoch 116/300\n",
      "7446/7446 [==============================] - 0s 36us/step - loss: 526.8383 - mean_absolute_error: 10.1367 - mean_squared_error: 526.8383\n",
      "Epoch 117/300\n",
      "7446/7446 [==============================] - 0s 36us/step - loss: 399.7978 - mean_absolute_error: 9.5664 - mean_squared_error: 399.7978\n",
      "Epoch 118/300\n",
      "7446/7446 [==============================] - 0s 36us/step - loss: 387.5303 - mean_absolute_error: 9.4565 - mean_squared_error: 387.5303\n",
      "Epoch 119/300\n",
      "7446/7446 [==============================] - 0s 34us/step - loss: 350.5698 - mean_absolute_error: 9.2622 - mean_squared_error: 350.5698\n",
      "Epoch 120/300\n",
      "7446/7446 [==============================] - 0s 43us/step - loss: 406.9391 - mean_absolute_error: 9.6066 - mean_squared_error: 406.9391\n",
      "Epoch 121/300\n",
      "7446/7446 [==============================] - 0s 35us/step - loss: 351.2339 - mean_absolute_error: 9.2178 - mean_squared_error: 351.2339\n",
      "Epoch 122/300\n",
      "7446/7446 [==============================] - 0s 36us/step - loss: 389.5196 - mean_absolute_error: 9.4040 - mean_squared_error: 389.5196\n",
      "Epoch 123/300\n",
      "7446/7446 [==============================] - 0s 36us/step - loss: 366.7854 - mean_absolute_error: 9.4165 - mean_squared_error: 366.7854\n",
      "Epoch 124/300\n",
      "5696/7446 [=====================>........] - ETA: 0s - loss: 379.4880 - mean_absolute_error: 9.2830 - mean_squared_error: 379.4880"
     ]
    }
   ],
   "source": [
    "def grid_search(model = model):\n",
    "# Use scikit-learn to grid search \n",
    "    activation = ['softmax', 'softplus', 'softsign', 'relu', 'tanh', 'sigmoid', 'hard_sigmoid', 'linear']\n",
    "    momentum = [0.0, 0.2, 0.4, 0.6, 0.8, 0.9]\n",
    "    learn_rate = [0.0001, 0.0005, 0.001, 0.025, 0.005, 0.075, 0.01, 0.025, 0.05, 0.075, 0.1, 0.2]\n",
    "    dropout_rate = [0.0, 0.1, 0.2, 0.3, 0.4, 0.5, 0.6, 0.7, 0.8, 0.9]\n",
    "    weight_constraint=[1, 2, 3, 4, 5]\n",
    "    neurons = [30, 100, 128, 256]\n",
    "    init = ['uniform', 'lecun_uniform', 'normal', 'zero', 'glorot_normal', 'glorot_uniform', 'he_normal', 'he_uniform']\n",
    "    optimizer = ['sgd', 'rmsprop', 'adagrad', 'adadelta', 'adam', 'adamax', 'nadam']\n",
    "    normalize = [True, False]\n",
    "    ##############################################################\n",
    "    # grid search epochs, batch size\n",
    "    epochs = [50, 100] # add 50, 100, 150 etc\n",
    "    batch_size = [10, 32, 64, 100] # add 5, 10, 20, 40, 60, 80, 100 etc\n",
    "    param_grid = dict(# epochs=epochs,\n",
    "#                      batch_size=batch_size,\n",
    "#                      activation=activation,\n",
    "#                      momentum=momentum,\n",
    "#                      learn_rate=learn_rate,\n",
    "#                      dropout_rate=dropout_rate,\n",
    "#                      weight_constraint=weight_constraint,\n",
    "#                      neurons=neurons,\n",
    "                     init=init,\n",
    "#                      optimizer=optimizer,\n",
    "#                      normalize=normalize\n",
    "                     )\n",
    "    ##############################################################\n",
    "    grid = GridSearchCV(estimator=model, \n",
    "                        param_grid=param_grid, \n",
    "                        scoring=['r2'],\n",
    "                        refit = 'r2',\n",
    "                        n_jobs=1,\n",
    "                        cv = 5)\n",
    "    grid_result = grid.fit(X_train, Y_train) \n",
    "    ##############################################################\n",
    "    # summarize results\n",
    "    print(\"Best: %f using %s\" % (grid_result.best_score_, grid_result.best_params_))\n",
    "    means = grid_result.cv_results_['mean_test_r2']\n",
    "    stds = grid_result.cv_results_['std_test_r2']\n",
    "    params = grid_result.cv_results_['params']\n",
    "    for mean, stdev, param in zip(means, stds, params):\n",
    "        print(\"%f (%f) with: %r\" % (mean, stdev, param))\n",
    "        \n",
    "grid_search(model)"
   ]
  },
  {
   "cell_type": "code",
   "execution_count": null,
   "metadata": {},
   "outputs": [],
   "source": [
    "testing = create_model()\n",
    "neural_pred = list(testing.predict(X_test)[:,0])"
   ]
  },
  {
   "cell_type": "code",
   "execution_count": null,
   "metadata": {},
   "outputs": [],
   "source": [
    "testing = load_model(\"lego_neural.h5\")\n",
    "testing"
   ]
  },
  {
   "cell_type": "code",
   "execution_count": null,
   "metadata": {},
   "outputs": [],
   "source": [
    "print('Mean Absolute Error:', metrics.mean_absolute_error(Y_test, neural_pred))  \n",
    "print('Mean Squared Error:', metrics.mean_squared_error(Y_test, neural_pred))  \n",
    "print('Root Mean Squared Error:', np.sqrt(metrics.mean_squared_error(Y_test, neural_pred)))"
   ]
  }
 ],
 "metadata": {
  "kernelspec": {
   "display_name": "Python 3",
   "language": "python",
   "name": "python3"
  },
  "language_info": {
   "codemirror_mode": {
    "name": "ipython",
    "version": 3
   },
   "file_extension": ".py",
   "mimetype": "text/x-python",
   "name": "python",
   "nbconvert_exporter": "python",
   "pygments_lexer": "ipython3",
   "version": "3.7.2"
  }
 },
 "nbformat": 4,
 "nbformat_minor": 2
}
