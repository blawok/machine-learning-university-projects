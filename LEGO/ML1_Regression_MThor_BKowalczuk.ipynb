{
 "cells": [
  {
   "cell_type": "markdown",
   "metadata": {},
   "source": [
    "# <center> LEGO sets listing price prediction - regression model</center>"
   ]
  },
  {
   "cell_type": "markdown",
   "metadata": {},
   "source": [
    "Machine Learning 1 Regression Project  \n",
    "<b>Michał Thor, Bartłomiej Kowalczuk  </b>\n",
    "\n",
    "In this project we wanted to conduct a regression analysis that would predict listing prices of LEGO toys based on 92 independent variables from the following dataset: https://www.kaggle.com/mterzolo/lego-sets.  \n",
    "\n",
    "We used Linear Regression (using OLS), Linear Regression with selected features, Elastic Net regression and Multilayer Perceptron (Neural Network) and compared obtained results.\n"
   ]
  },
  {
   "cell_type": "markdown",
   "metadata": {},
   "source": [
    "Firstly, we import all the necessary packages"
   ]
  },
  {
   "cell_type": "code",
   "execution_count": 229,
   "metadata": {},
   "outputs": [],
   "source": [
    "import pandas as pd\n",
    "import numpy as np\n",
    "import statsmodels.api as sm\n",
    "import matplotlib.pyplot as plt\n",
    "\n",
    "import sklearn\n",
    "from sklearn import metrics\n",
    "from sklearn.model_selection import train_test_split\n",
    "from sklearn.model_selection import GridSearchCV\n",
    "from sklearn.linear_model import Lasso\n",
    "from sklearn.linear_model import ElasticNet\n",
    "from sklearn.linear_model import LinearRegression\n",
    "from sklearn.metrics import r2_score as r2_score\n",
    "\n",
    "import keras\n",
    "from keras import optimizers\n",
    "from keras import regularizers\n",
    "from keras import backend as K\n",
    "from keras.callbacks import CSVLogger\n",
    "from keras.callbacks import ModelCheckpoint\n",
    "from keras.models import Sequential\n",
    "from keras.layers import Dense, Activation, Flatten, Dropout\n",
    "from keras.optimizers import SGD\n",
    "from keras.constraints import maxnorm\n",
    "from keras.models import load_model\n",
    "from keras.wrappers.scikit_learn import KerasRegressor"
   ]
  },
  {
   "cell_type": "markdown",
   "metadata": {},
   "source": [
    "Nextly, we define some utillity functions that will help us in estimating/evaluating models.\n",
    "\n",
    "We implement our own adjusted R-squared function, since sklearn package does not have one.\n",
    "\n",
    "We also implement stepwise selection function for OLS model, which is based on the solution from:\n",
    "https://datascience.stackexchange.com/questions/24405/how-to-do-stepwise-regression-using-sklearn/24447#24447\n",
    "\n",
    "Lastly we implement R-squared function for neural network improvement plotting."
   ]
  },
  {
   "cell_type": "code",
   "execution_count": 230,
   "metadata": {},
   "outputs": [],
   "source": [
    "def adj_r2(r_sqr, n, p):\n",
    "    r_2 = 1-(1-r_sqr)*(n-1)/(n-p-1)\n",
    "    return r_2\n",
    "\n",
    "\n",
    "def stepwise_selection(X, y, \n",
    "                       initial_list=[], \n",
    "                       threshold_in=0.04, \n",
    "                       threshold_out = 0.05, \n",
    "                       verbose=True):\n",
    "    \"\"\" Perform a forward-backward feature selection \n",
    "    based on p-value from statsmodels.api.OLS\n",
    "    Arguments:\n",
    "        X - pandas.DataFrame with candidate features\n",
    "        y - list-like with the target\n",
    "        initial_list - list of features to start with (column names of X)\n",
    "        threshold_in - include a feature if its p-value < threshold_in\n",
    "        threshold_out - exclude a feature if its p-value > threshold_out\n",
    "        verbose - whether to print the sequence of inclusions and exclusions\n",
    "    Returns: list of selected features \n",
    "    Always set threshold_in < threshold_out to avoid infinite looping.\n",
    "    See https://en.wikipedia.org/wiki/Stepwise_regression for the details\n",
    "    \"\"\"\n",
    "    included = list(initial_list)\n",
    "    while True:\n",
    "        changed=False\n",
    "        # forward step\n",
    "        excluded = list(set(X.columns)-set(included))\n",
    "        new_pval = pd.Series(index=excluded)\n",
    "        for new_column in excluded:\n",
    "            model = sm.OLS(y, sm.add_constant(pd.DataFrame(X[included+[new_column]]))).fit()\n",
    "            new_pval[new_column] = model.pvalues[new_column]\n",
    "        best_pval = new_pval.min()\n",
    "        if best_pval < threshold_in:\n",
    "            best_feature = new_pval.argmin()\n",
    "            included.append(best_feature)\n",
    "            changed=True\n",
    "            if verbose:\n",
    "                print('Add  {:30} with p-value {:.6}'.format(best_feature, best_pval))\n",
    "\n",
    "        # backward step\n",
    "        model = sm.OLS(y, sm.add_constant(pd.DataFrame(X[included]))).fit()\n",
    "        # use all coefs except intercept\n",
    "        pvalues = model.pvalues.iloc[1:]\n",
    "        worst_pval = pvalues.max() # null if pvalues is empty\n",
    "        if worst_pval > threshold_out:\n",
    "            changed=True\n",
    "            worst_feature = pvalues.argmax()\n",
    "            included.remove(worst_feature)\n",
    "            if verbose:\n",
    "                print('Drop {:30} with p-value {:.6}'.format(worst_feature, worst_pval))\n",
    "        if not changed:\n",
    "            break\n",
    "    return included\n",
    "\n",
    "def r2_keras(y_true, y_pred):\n",
    "    SS_res =  K.sum(K.square(y_true - y_pred)) \n",
    "    SS_tot = K.sum(K.square(y_true - K.mean(y_true))) \n",
    "    return ( 1 - SS_res/(SS_tot + K.epsilon()) )"
   ]
  },
  {
   "cell_type": "markdown",
   "metadata": {},
   "source": [
    "# <center>1. Understanding the data</center>"
   ]
  },
  {
   "cell_type": "markdown",
   "metadata": {},
   "source": [
    "### Loading the dataset"
   ]
  },
  {
   "cell_type": "code",
   "execution_count": 231,
   "metadata": {},
   "outputs": [],
   "source": [
    "df = pd.read_csv('lego_Sets.csv')"
   ]
  },
  {
   "cell_type": "markdown",
   "metadata": {},
   "source": [
    "### Brief preview of the dataset structure"
   ]
  },
  {
   "cell_type": "code",
   "execution_count": 232,
   "metadata": {
    "scrolled": true
   },
   "outputs": [
    {
     "data": {
      "text/html": [
       "<div>\n",
       "<style scoped>\n",
       "    .dataframe tbody tr th:only-of-type {\n",
       "        vertical-align: middle;\n",
       "    }\n",
       "\n",
       "    .dataframe tbody tr th {\n",
       "        vertical-align: top;\n",
       "    }\n",
       "\n",
       "    .dataframe thead th {\n",
       "        text-align: right;\n",
       "    }\n",
       "</style>\n",
       "<table border=\"1\" class=\"dataframe\">\n",
       "  <thead>\n",
       "    <tr style=\"text-align: right;\">\n",
       "      <th></th>\n",
       "      <th>ages</th>\n",
       "      <th>list_price</th>\n",
       "      <th>num_reviews</th>\n",
       "      <th>piece_count</th>\n",
       "      <th>play_star_rating</th>\n",
       "      <th>prod_desc</th>\n",
       "      <th>prod_id</th>\n",
       "      <th>prod_long_desc</th>\n",
       "      <th>review_difficulty</th>\n",
       "      <th>set_name</th>\n",
       "      <th>star_rating</th>\n",
       "      <th>theme_name</th>\n",
       "      <th>val_star_rating</th>\n",
       "      <th>country</th>\n",
       "    </tr>\n",
       "  </thead>\n",
       "  <tbody>\n",
       "    <tr>\n",
       "      <th>0</th>\n",
       "      <td>6-12</td>\n",
       "      <td>29.99</td>\n",
       "      <td>2.0</td>\n",
       "      <td>277.0</td>\n",
       "      <td>4.0</td>\n",
       "      <td>Catapult into action and take back the eggs fr...</td>\n",
       "      <td>75823.0</td>\n",
       "      <td>Use the staircase catapult to launch Red into ...</td>\n",
       "      <td>Average</td>\n",
       "      <td>Bird Island Egg Heist</td>\n",
       "      <td>4.5</td>\n",
       "      <td>Angry Birds™</td>\n",
       "      <td>4.0</td>\n",
       "      <td>US</td>\n",
       "    </tr>\n",
       "    <tr>\n",
       "      <th>1</th>\n",
       "      <td>6-12</td>\n",
       "      <td>19.99</td>\n",
       "      <td>2.0</td>\n",
       "      <td>168.0</td>\n",
       "      <td>4.0</td>\n",
       "      <td>Launch a flying attack and rescue the eggs fro...</td>\n",
       "      <td>75822.0</td>\n",
       "      <td>Pilot Pig has taken off from Bird Island with ...</td>\n",
       "      <td>Easy</td>\n",
       "      <td>Piggy Plane Attack</td>\n",
       "      <td>5.0</td>\n",
       "      <td>Angry Birds™</td>\n",
       "      <td>4.0</td>\n",
       "      <td>US</td>\n",
       "    </tr>\n",
       "    <tr>\n",
       "      <th>2</th>\n",
       "      <td>6-12</td>\n",
       "      <td>12.99</td>\n",
       "      <td>11.0</td>\n",
       "      <td>74.0</td>\n",
       "      <td>4.3</td>\n",
       "      <td>Chase the piggy with lightning-fast Chuck and ...</td>\n",
       "      <td>75821.0</td>\n",
       "      <td>Pitch speedy bird Chuck against the Piggy Car....</td>\n",
       "      <td>Easy</td>\n",
       "      <td>Piggy Car Escape</td>\n",
       "      <td>4.3</td>\n",
       "      <td>Angry Birds™</td>\n",
       "      <td>4.1</td>\n",
       "      <td>US</td>\n",
       "    </tr>\n",
       "    <tr>\n",
       "      <th>3</th>\n",
       "      <td>12+</td>\n",
       "      <td>99.99</td>\n",
       "      <td>23.0</td>\n",
       "      <td>1032.0</td>\n",
       "      <td>3.6</td>\n",
       "      <td>Explore the architecture of the United States ...</td>\n",
       "      <td>21030.0</td>\n",
       "      <td>Discover the architectural secrets of the icon...</td>\n",
       "      <td>Average</td>\n",
       "      <td>United States Capitol Building</td>\n",
       "      <td>4.6</td>\n",
       "      <td>Architecture</td>\n",
       "      <td>4.3</td>\n",
       "      <td>US</td>\n",
       "    </tr>\n",
       "    <tr>\n",
       "      <th>4</th>\n",
       "      <td>12+</td>\n",
       "      <td>79.99</td>\n",
       "      <td>14.0</td>\n",
       "      <td>744.0</td>\n",
       "      <td>3.2</td>\n",
       "      <td>Recreate the Solomon R. Guggenheim Museum® wit...</td>\n",
       "      <td>21035.0</td>\n",
       "      <td>Discover the architectural secrets of Frank Ll...</td>\n",
       "      <td>Challenging</td>\n",
       "      <td>Solomon R. Guggenheim Museum®</td>\n",
       "      <td>4.6</td>\n",
       "      <td>Architecture</td>\n",
       "      <td>4.1</td>\n",
       "      <td>US</td>\n",
       "    </tr>\n",
       "  </tbody>\n",
       "</table>\n",
       "</div>"
      ],
      "text/plain": [
       "   ages  list_price  num_reviews  piece_count  play_star_rating  \\\n",
       "0  6-12       29.99          2.0        277.0               4.0   \n",
       "1  6-12       19.99          2.0        168.0               4.0   \n",
       "2  6-12       12.99         11.0         74.0               4.3   \n",
       "3   12+       99.99         23.0       1032.0               3.6   \n",
       "4   12+       79.99         14.0        744.0               3.2   \n",
       "\n",
       "                                           prod_desc  prod_id  \\\n",
       "0  Catapult into action and take back the eggs fr...  75823.0   \n",
       "1  Launch a flying attack and rescue the eggs fro...  75822.0   \n",
       "2  Chase the piggy with lightning-fast Chuck and ...  75821.0   \n",
       "3  Explore the architecture of the United States ...  21030.0   \n",
       "4  Recreate the Solomon R. Guggenheim Museum® wit...  21035.0   \n",
       "\n",
       "                                      prod_long_desc review_difficulty  \\\n",
       "0  Use the staircase catapult to launch Red into ...           Average   \n",
       "1  Pilot Pig has taken off from Bird Island with ...              Easy   \n",
       "2  Pitch speedy bird Chuck against the Piggy Car....              Easy   \n",
       "3  Discover the architectural secrets of the icon...           Average   \n",
       "4  Discover the architectural secrets of Frank Ll...       Challenging   \n",
       "\n",
       "                         set_name  star_rating    theme_name  val_star_rating  \\\n",
       "0           Bird Island Egg Heist          4.5  Angry Birds™              4.0   \n",
       "1              Piggy Plane Attack          5.0  Angry Birds™              4.0   \n",
       "2                Piggy Car Escape          4.3  Angry Birds™              4.1   \n",
       "3  United States Capitol Building          4.6  Architecture              4.3   \n",
       "4   Solomon R. Guggenheim Museum®          4.6  Architecture              4.1   \n",
       "\n",
       "  country  \n",
       "0      US  \n",
       "1      US  \n",
       "2      US  \n",
       "3      US  \n",
       "4      US  "
      ]
     },
     "metadata": {},
     "output_type": "display_data"
    }
   ],
   "source": [
    "display(df.head(5))"
   ]
  },
  {
   "cell_type": "markdown",
   "metadata": {},
   "source": [
    "Our goal is to predict value of the list_price variable - listing price of a certain toy in LEGO online store.\n",
    "\n",
    "<b>country</b> variable is indicating which online store (from which country) is listing that item."
   ]
  },
  {
   "cell_type": "markdown",
   "metadata": {},
   "source": [
    "# <center>2. Preparing the dataset</center>"
   ]
  },
  {
   "cell_type": "markdown",
   "metadata": {},
   "source": [
    "## 2.1 Removing useless data and fixing formats"
   ]
  },
  {
   "cell_type": "markdown",
   "metadata": {},
   "source": [
    "Removing variables that would give no predictive power (information variables such as ID's or descriptions)"
   ]
  },
  {
   "cell_type": "code",
   "execution_count": 233,
   "metadata": {},
   "outputs": [],
   "source": [
    "df = df.drop(['prod_desc', \n",
    "              'prod_id', \n",
    "              'prod_long_desc', \n",
    "              'set_name'],\n",
    "             axis=1)"
   ]
  },
  {
   "cell_type": "markdown",
   "metadata": {},
   "source": [
    "Changing categorical variables and list_price into right formats.\n",
    "\n",
    "Also we are ordering review_difficulty since it is ordered scale of difficulty."
   ]
  },
  {
   "cell_type": "code",
   "execution_count": 234,
   "metadata": {},
   "outputs": [],
   "source": [
    "df.list_price = df.list_price.astype(float)\n",
    "df['review_difficulty'] = df['review_difficulty'].astype(\"category\")\n",
    "df['review_difficulty'] = df['review_difficulty'].cat.reorder_categories(['Very Easy',\n",
    "                                                               'Easy',\n",
    "                                                               'Average',\n",
    "                                                               'Challenging',\n",
    "                                                               'Very Challenging'],\n",
    "                                                                        ordered = True)\n",
    "df['review_difficulty'] = df['review_difficulty'].cat.codes\n",
    "df.theme_name = df.theme_name.astype(object)\n",
    "df.ages = df.ages.astype(object)"
   ]
  },
  {
   "cell_type": "markdown",
   "metadata": {},
   "source": [
    "## 2.2 Cleaning dataset from NA's"
   ]
  },
  {
   "cell_type": "code",
   "execution_count": 235,
   "metadata": {
    "scrolled": true
   },
   "outputs": [
    {
     "data": {
      "text/html": [
       "<div>\n",
       "<style scoped>\n",
       "    .dataframe tbody tr th:only-of-type {\n",
       "        vertical-align: middle;\n",
       "    }\n",
       "\n",
       "    .dataframe tbody tr th {\n",
       "        vertical-align: top;\n",
       "    }\n",
       "\n",
       "    .dataframe thead th {\n",
       "        text-align: right;\n",
       "    }\n",
       "</style>\n",
       "<table border=\"1\" class=\"dataframe\">\n",
       "  <thead>\n",
       "    <tr style=\"text-align: right;\">\n",
       "      <th></th>\n",
       "      <th>Number of occurencies</th>\n",
       "      <th>Percentage</th>\n",
       "    </tr>\n",
       "  </thead>\n",
       "  <tbody>\n",
       "    <tr>\n",
       "      <th>num_reviews</th>\n",
       "      <td>1620</td>\n",
       "      <td>13.212625</td>\n",
       "    </tr>\n",
       "    <tr>\n",
       "      <th>play_star_rating</th>\n",
       "      <td>1775</td>\n",
       "      <td>14.476796</td>\n",
       "    </tr>\n",
       "    <tr>\n",
       "      <th>star_rating</th>\n",
       "      <td>1620</td>\n",
       "      <td>13.212625</td>\n",
       "    </tr>\n",
       "    <tr>\n",
       "      <th>theme_name</th>\n",
       "      <td>3</td>\n",
       "      <td>0.024468</td>\n",
       "    </tr>\n",
       "    <tr>\n",
       "      <th>val_star_rating</th>\n",
       "      <td>1795</td>\n",
       "      <td>14.639915</td>\n",
       "    </tr>\n",
       "  </tbody>\n",
       "</table>\n",
       "</div>"
      ],
      "text/plain": [
       "                  Number of occurencies  Percentage\n",
       "num_reviews                        1620   13.212625\n",
       "play_star_rating                   1775   14.476796\n",
       "star_rating                        1620   13.212625\n",
       "theme_name                            3    0.024468\n",
       "val_star_rating                    1795   14.639915"
      ]
     },
     "execution_count": 235,
     "metadata": {},
     "output_type": "execute_result"
    }
   ],
   "source": [
    "missing_data = pd.DataFrame({'Number of occurencies': df.isna().sum(),\n",
    "                             'Percentage': 100*df.isna().sum()/len(df)\n",
    "                            })\n",
    "missing_data[missing_data['Number of occurencies'] > 0]"
   ]
  },
  {
   "cell_type": "markdown",
   "metadata": {},
   "source": [
    "Since the missings in star_rating (all 3 columns concerning them) are common for certain observations, maybe we can somehow reduce the number of them by filling missing values with computed value.\n",
    "\n",
    "We mark the missings in review difficulty with a group code equal to -1."
   ]
  },
  {
   "cell_type": "markdown",
   "metadata": {},
   "source": [
    "We can see that star_rating has less NA's than play and val star_rating. We shall see if there is a correlation between those 3 variables. "
   ]
  },
  {
   "cell_type": "code",
   "execution_count": 236,
   "metadata": {},
   "outputs": [
    {
     "data": {
      "text/html": [
       "<style  type=\"text/css\" >\n",
       "    #T_ea5be45c_8b92_11e9_b185_00215cdcfe0frow0_col0 {\n",
       "            background-color:  #b40426;\n",
       "        }    #T_ea5be45c_8b92_11e9_b185_00215cdcfe0frow0_col1 {\n",
       "            background-color:  #8badfd;\n",
       "        }    #T_ea5be45c_8b92_11e9_b185_00215cdcfe0frow0_col2 {\n",
       "            background-color:  #d6dce4;\n",
       "        }    #T_ea5be45c_8b92_11e9_b185_00215cdcfe0frow1_col0 {\n",
       "            background-color:  #3b4cc0;\n",
       "        }    #T_ea5be45c_8b92_11e9_b185_00215cdcfe0frow1_col1 {\n",
       "            background-color:  #b40426;\n",
       "        }    #T_ea5be45c_8b92_11e9_b185_00215cdcfe0frow1_col2 {\n",
       "            background-color:  #3b4cc0;\n",
       "        }    #T_ea5be45c_8b92_11e9_b185_00215cdcfe0frow2_col0 {\n",
       "            background-color:  #a1c0ff;\n",
       "        }    #T_ea5be45c_8b92_11e9_b185_00215cdcfe0frow2_col1 {\n",
       "            background-color:  #3b4cc0;\n",
       "        }    #T_ea5be45c_8b92_11e9_b185_00215cdcfe0frow2_col2 {\n",
       "            background-color:  #b40426;\n",
       "        }</style>  \n",
       "<table id=\"T_ea5be45c_8b92_11e9_b185_00215cdcfe0f\" > \n",
       "<thead>    <tr> \n",
       "        <th class=\"blank level0\" ></th> \n",
       "        <th class=\"col_heading level0 col0\" >star_rating</th> \n",
       "        <th class=\"col_heading level0 col1\" >play_star_rating</th> \n",
       "        <th class=\"col_heading level0 col2\" >val_star_rating</th> \n",
       "    </tr></thead> \n",
       "<tbody>    <tr> \n",
       "        <th id=\"T_ea5be45c_8b92_11e9_b185_00215cdcfe0flevel0_row0\" class=\"row_heading level0 row0\" >star_rating</th> \n",
       "        <td id=\"T_ea5be45c_8b92_11e9_b185_00215cdcfe0frow0_col0\" class=\"data row0 col0\" >1</td> \n",
       "        <td id=\"T_ea5be45c_8b92_11e9_b185_00215cdcfe0frow0_col1\" class=\"data row0 col1\" >0.608193</td> \n",
       "        <td id=\"T_ea5be45c_8b92_11e9_b185_00215cdcfe0frow0_col2\" class=\"data row0 col2\" >0.72789</td> \n",
       "    </tr>    <tr> \n",
       "        <th id=\"T_ea5be45c_8b92_11e9_b185_00215cdcfe0flevel0_row1\" class=\"row_heading level0 row1\" >play_star_rating</th> \n",
       "        <td id=\"T_ea5be45c_8b92_11e9_b185_00215cdcfe0frow1_col0\" class=\"data row1 col0\" >0.608193</td> \n",
       "        <td id=\"T_ea5be45c_8b92_11e9_b185_00215cdcfe0frow1_col1\" class=\"data row1 col1\" >1</td> \n",
       "        <td id=\"T_ea5be45c_8b92_11e9_b185_00215cdcfe0frow1_col2\" class=\"data row1 col2\" >0.480938</td> \n",
       "    </tr>    <tr> \n",
       "        <th id=\"T_ea5be45c_8b92_11e9_b185_00215cdcfe0flevel0_row2\" class=\"row_heading level0 row2\" >val_star_rating</th> \n",
       "        <td id=\"T_ea5be45c_8b92_11e9_b185_00215cdcfe0frow2_col0\" class=\"data row2 col0\" >0.72789</td> \n",
       "        <td id=\"T_ea5be45c_8b92_11e9_b185_00215cdcfe0frow2_col1\" class=\"data row2 col1\" >0.480938</td> \n",
       "        <td id=\"T_ea5be45c_8b92_11e9_b185_00215cdcfe0frow2_col2\" class=\"data row2 col2\" >1</td> \n",
       "    </tr></tbody> \n",
       "</table> "
      ],
      "text/plain": [
       "<pandas.io.formats.style.Styler at 0x189876d7a90>"
      ]
     },
     "execution_count": 236,
     "metadata": {},
     "output_type": "execute_result"
    }
   ],
   "source": [
    "corr = df[['star_rating', 'play_star_rating', 'val_star_rating']].corr()\n",
    "corr.style.background_gradient(cmap='coolwarm')"
   ]
  },
  {
   "cell_type": "markdown",
   "metadata": {},
   "source": [
    "Let us compute means of ratios between star_rating for the whole dataset and use that ratio to create values to impute instead of NA's.\n",
    "\n",
    "Because of slightly high correlation we decide to omit star_rating and leave the two other ratings (and since they all have same number of NA's)"
   ]
  },
  {
   "cell_type": "code",
   "execution_count": 237,
   "metadata": {},
   "outputs": [],
   "source": [
    "df['star/play'] = df['star_rating']/df['play_star_rating']\n",
    "df['star/val'] = df['star_rating']/df['val_star_rating']\n",
    "\n",
    "star_p_mean = df['star/play'].mean()\n",
    "star_v_mean = df['star/val'].mean()\n",
    "\n",
    "df.loc[(df['play_star_rating'].isnull()) & (df['star_rating'].notna()), \"play_star_rating\"] = df[\"star_rating\"]*star_p_mean\n",
    "df.loc[(df['val_star_rating'].isnull()) & (df['star_rating'].notna()), \"val_star_rating\"] = df[\"star_rating\"]*star_v_mean\n",
    "\n",
    "df.drop(['star/play', 'star/val', 'star_rating'], axis=1, inplace=True)"
   ]
  },
  {
   "cell_type": "markdown",
   "metadata": {},
   "source": [
    "That way we manage to narrow our total rows with NA's to 1620. Unfortunately there is no way to safely replace values for these observations (which all have at least 3 NA's) so we will omit them in further analysis."
   ]
  },
  {
   "cell_type": "code",
   "execution_count": 238,
   "metadata": {},
   "outputs": [],
   "source": [
    "df.loc[df.isnull().sum(1)>=3].index\n",
    "\n",
    "df = df.dropna()"
   ]
  },
  {
   "cell_type": "markdown",
   "metadata": {},
   "source": [
    "## 2.3 Checking for correlations and encoding categorical variables - using One Hot Encoding"
   ]
  },
  {
   "cell_type": "markdown",
   "metadata": {},
   "source": [
    "Creating correlation matrix:"
   ]
  },
  {
   "cell_type": "code",
   "execution_count": 239,
   "metadata": {
    "scrolled": true
   },
   "outputs": [
    {
     "data": {
      "text/html": [
       "<style  type=\"text/css\" >\n",
       "    #T_ec4ea4fa_8b92_11e9_9a32_00215cdcfe0frow0_col0 {\n",
       "            background-color:  #b40426;\n",
       "        }    #T_ec4ea4fa_8b92_11e9_9a32_00215cdcfe0frow0_col1 {\n",
       "            background-color:  #e7d7ce;\n",
       "        }    #T_ec4ea4fa_8b92_11e9_9a32_00215cdcfe0frow0_col2 {\n",
       "            background-color:  #3b4cc0;\n",
       "        }    #T_ec4ea4fa_8b92_11e9_9a32_00215cdcfe0frow0_col3 {\n",
       "            background-color:  #a9c6fd;\n",
       "        }    #T_ec4ea4fa_8b92_11e9_9a32_00215cdcfe0frow0_col4 {\n",
       "            background-color:  #3f53c6;\n",
       "        }    #T_ec4ea4fa_8b92_11e9_9a32_00215cdcfe0frow1_col0 {\n",
       "            background-color:  #ecd3c5;\n",
       "        }    #T_ec4ea4fa_8b92_11e9_9a32_00215cdcfe0frow1_col1 {\n",
       "            background-color:  #b40426;\n",
       "        }    #T_ec4ea4fa_8b92_11e9_9a32_00215cdcfe0frow1_col2 {\n",
       "            background-color:  #4b64d5;\n",
       "        }    #T_ec4ea4fa_8b92_11e9_9a32_00215cdcfe0frow1_col3 {\n",
       "            background-color:  #dfdbd9;\n",
       "        }    #T_ec4ea4fa_8b92_11e9_9a32_00215cdcfe0frow1_col4 {\n",
       "            background-color:  #4f69d9;\n",
       "        }    #T_ec4ea4fa_8b92_11e9_9a32_00215cdcfe0frow2_col0 {\n",
       "            background-color:  #3b4cc0;\n",
       "        }    #T_ec4ea4fa_8b92_11e9_9a32_00215cdcfe0frow2_col1 {\n",
       "            background-color:  #3b4cc0;\n",
       "        }    #T_ec4ea4fa_8b92_11e9_9a32_00215cdcfe0frow2_col2 {\n",
       "            background-color:  #b40426;\n",
       "        }    #T_ec4ea4fa_8b92_11e9_9a32_00215cdcfe0frow2_col3 {\n",
       "            background-color:  #4055c8;\n",
       "        }    #T_ec4ea4fa_8b92_11e9_9a32_00215cdcfe0frow2_col4 {\n",
       "            background-color:  #dddcdc;\n",
       "        }    #T_ec4ea4fa_8b92_11e9_9a32_00215cdcfe0frow3_col0 {\n",
       "            background-color:  #b2ccfb;\n",
       "        }    #T_ec4ea4fa_8b92_11e9_9a32_00215cdcfe0frow3_col1 {\n",
       "            background-color:  #dddcdc;\n",
       "        }    #T_ec4ea4fa_8b92_11e9_9a32_00215cdcfe0frow3_col2 {\n",
       "            background-color:  #4c66d6;\n",
       "        }    #T_ec4ea4fa_8b92_11e9_9a32_00215cdcfe0frow3_col3 {\n",
       "            background-color:  #b40426;\n",
       "        }    #T_ec4ea4fa_8b92_11e9_9a32_00215cdcfe0frow3_col4 {\n",
       "            background-color:  #3b4cc0;\n",
       "        }    #T_ec4ea4fa_8b92_11e9_9a32_00215cdcfe0frow4_col0 {\n",
       "            background-color:  #4b64d5;\n",
       "        }    #T_ec4ea4fa_8b92_11e9_9a32_00215cdcfe0frow4_col1 {\n",
       "            background-color:  #4961d2;\n",
       "        }    #T_ec4ea4fa_8b92_11e9_9a32_00215cdcfe0frow4_col2 {\n",
       "            background-color:  #e2dad5;\n",
       "        }    #T_ec4ea4fa_8b92_11e9_9a32_00215cdcfe0frow4_col3 {\n",
       "            background-color:  #3b4cc0;\n",
       "        }    #T_ec4ea4fa_8b92_11e9_9a32_00215cdcfe0frow4_col4 {\n",
       "            background-color:  #b40426;\n",
       "        }</style>  \n",
       "<table id=\"T_ec4ea4fa_8b92_11e9_9a32_00215cdcfe0f\" > \n",
       "<thead>    <tr> \n",
       "        <th class=\"blank level0\" ></th> \n",
       "        <th class=\"col_heading level0 col0\" >num_reviews</th> \n",
       "        <th class=\"col_heading level0 col1\" >piece_count</th> \n",
       "        <th class=\"col_heading level0 col2\" >play_star_rating</th> \n",
       "        <th class=\"col_heading level0 col3\" >review_difficulty</th> \n",
       "        <th class=\"col_heading level0 col4\" >val_star_rating</th> \n",
       "    </tr></thead> \n",
       "<tbody>    <tr> \n",
       "        <th id=\"T_ec4ea4fa_8b92_11e9_9a32_00215cdcfe0flevel0_row0\" class=\"row_heading level0 row0\" >num_reviews</th> \n",
       "        <td id=\"T_ec4ea4fa_8b92_11e9_9a32_00215cdcfe0frow0_col0\" class=\"data row0 col0\" >1</td> \n",
       "        <td id=\"T_ec4ea4fa_8b92_11e9_9a32_00215cdcfe0frow0_col1\" class=\"data row0 col1\" >0.546616</td> \n",
       "        <td id=\"T_ec4ea4fa_8b92_11e9_9a32_00215cdcfe0frow0_col2\" class=\"data row0 col2\" >-0.0451145</td> \n",
       "        <td id=\"T_ec4ea4fa_8b92_11e9_9a32_00215cdcfe0frow0_col3\" class=\"data row0 col3\" >0.328073</td> \n",
       "        <td id=\"T_ec4ea4fa_8b92_11e9_9a32_00215cdcfe0frow0_col4\" class=\"data row0 col4\" >0.0148351</td> \n",
       "    </tr>    <tr> \n",
       "        <th id=\"T_ec4ea4fa_8b92_11e9_9a32_00215cdcfe0flevel0_row1\" class=\"row_heading level0 row1\" >piece_count</th> \n",
       "        <td id=\"T_ec4ea4fa_8b92_11e9_9a32_00215cdcfe0frow1_col0\" class=\"data row1 col0\" >0.546616</td> \n",
       "        <td id=\"T_ec4ea4fa_8b92_11e9_9a32_00215cdcfe0frow1_col1\" class=\"data row1 col1\" >1</td> \n",
       "        <td id=\"T_ec4ea4fa_8b92_11e9_9a32_00215cdcfe0frow1_col2\" class=\"data row1 col2\" >0.0147979</td> \n",
       "        <td id=\"T_ec4ea4fa_8b92_11e9_9a32_00215cdcfe0frow1_col3\" class=\"data row1 col3\" >0.509112</td> \n",
       "        <td id=\"T_ec4ea4fa_8b92_11e9_9a32_00215cdcfe0frow1_col4\" class=\"data row1 col4\" >0.0636759</td> \n",
       "    </tr>    <tr> \n",
       "        <th id=\"T_ec4ea4fa_8b92_11e9_9a32_00215cdcfe0flevel0_row2\" class=\"row_heading level0 row2\" >play_star_rating</th> \n",
       "        <td id=\"T_ec4ea4fa_8b92_11e9_9a32_00215cdcfe0frow2_col0\" class=\"data row2 col0\" >-0.0451145</td> \n",
       "        <td id=\"T_ec4ea4fa_8b92_11e9_9a32_00215cdcfe0frow2_col1\" class=\"data row2 col1\" >0.0147979</td> \n",
       "        <td id=\"T_ec4ea4fa_8b92_11e9_9a32_00215cdcfe0frow2_col2\" class=\"data row2 col2\" >1</td> \n",
       "        <td id=\"T_ec4ea4fa_8b92_11e9_9a32_00215cdcfe0frow2_col3\" class=\"data row2 col3\" >0.018671</td> \n",
       "        <td id=\"T_ec4ea4fa_8b92_11e9_9a32_00215cdcfe0frow2_col4\" class=\"data row2 col4\" >0.499167</td> \n",
       "    </tr>    <tr> \n",
       "        <th id=\"T_ec4ea4fa_8b92_11e9_9a32_00215cdcfe0flevel0_row3\" class=\"row_heading level0 row3\" >review_difficulty</th> \n",
       "        <td id=\"T_ec4ea4fa_8b92_11e9_9a32_00215cdcfe0frow3_col0\" class=\"data row3 col0\" >0.328073</td> \n",
       "        <td id=\"T_ec4ea4fa_8b92_11e9_9a32_00215cdcfe0frow3_col1\" class=\"data row3 col1\" >0.509112</td> \n",
       "        <td id=\"T_ec4ea4fa_8b92_11e9_9a32_00215cdcfe0frow3_col2\" class=\"data row3 col2\" >0.018671</td> \n",
       "        <td id=\"T_ec4ea4fa_8b92_11e9_9a32_00215cdcfe0frow3_col3\" class=\"data row3 col3\" >1</td> \n",
       "        <td id=\"T_ec4ea4fa_8b92_11e9_9a32_00215cdcfe0frow3_col4\" class=\"data row3 col4\" >-0.00300082</td> \n",
       "    </tr>    <tr> \n",
       "        <th id=\"T_ec4ea4fa_8b92_11e9_9a32_00215cdcfe0flevel0_row4\" class=\"row_heading level0 row4\" >val_star_rating</th> \n",
       "        <td id=\"T_ec4ea4fa_8b92_11e9_9a32_00215cdcfe0frow4_col0\" class=\"data row4 col0\" >0.0148351</td> \n",
       "        <td id=\"T_ec4ea4fa_8b92_11e9_9a32_00215cdcfe0frow4_col1\" class=\"data row4 col1\" >0.0636759</td> \n",
       "        <td id=\"T_ec4ea4fa_8b92_11e9_9a32_00215cdcfe0frow4_col2\" class=\"data row4 col2\" >0.499167</td> \n",
       "        <td id=\"T_ec4ea4fa_8b92_11e9_9a32_00215cdcfe0frow4_col3\" class=\"data row4 col3\" >-0.00300082</td> \n",
       "        <td id=\"T_ec4ea4fa_8b92_11e9_9a32_00215cdcfe0frow4_col4\" class=\"data row4 col4\" >1</td> \n",
       "    </tr></tbody> \n",
       "</table> "
      ],
      "text/plain": [
       "<pandas.io.formats.style.Styler at 0x189876f3438>"
      ]
     },
     "execution_count": 239,
     "metadata": {},
     "output_type": "execute_result"
    }
   ],
   "source": [
    "corr = df.drop(['list_price'], axis=1).corr()\n",
    "corr.style.background_gradient(cmap='coolwarm')"
   ]
  },
  {
   "cell_type": "markdown",
   "metadata": {},
   "source": [
    "There are no visible very high correlations (some ~0.5, but we decide to leave them in further analysis, because these are not worrying values)."
   ]
  },
  {
   "cell_type": "code",
   "execution_count": 240,
   "metadata": {},
   "outputs": [
    {
     "name": "stdout",
     "output_type": "stream",
     "text": [
      "{'ages': 31, 'theme_name': 38, 'country': 21}\n"
     ]
    }
   ],
   "source": [
    "cat_vars = []\n",
    "cont_vars = []\n",
    "for variable in df.columns:\n",
    "    if df[variable].dtype==object:\n",
    "        cat_vars.append(variable)\n",
    "    else:\n",
    "        cont_vars.append(variable)\n",
    "        \n",
    "num_of_cats = {}\n",
    "for category in cat_vars:\n",
    "    num_of_cats[category] = len(list(df[category].unique()))\n",
    "    \n",
    "print(num_of_cats)"
   ]
  },
  {
   "cell_type": "markdown",
   "metadata": {},
   "source": [
    "We can see that all the variables have a lot of levels, let's see how different are the numbers of observations within each level on barplots below."
   ]
  },
  {
   "cell_type": "code",
   "execution_count": 241,
   "metadata": {
    "scrolled": true
   },
   "outputs": [
    {
     "data": {
      "image/png": "[encoded data removed]",
      "text/plain": [
       "<Figure size 1008x432 with 1 Axes>"
      ]
     },
     "metadata": {},
     "output_type": "display_data"
    },
    {
     "data": {
      "image/png": "[encoded data removed]",
      "text/plain": [
       "<Figure size 1008x432 with 1 Axes>"
      ]
     },
     "metadata": {},
     "output_type": "display_data"
    },
    {
     "data": {
      "image/png": "[encoded data removed]",
      "text/plain": [
       "<Figure size 1008x432 with 1 Axes>"
      ]
     },
     "metadata": {},
     "output_type": "display_data"
    }
   ],
   "source": [
    "bar_width = 0.35\n",
    "opacity = 0.8\n",
    "colors = [\"b\",\"g\",\"grey\"]\n",
    "\n",
    "\n",
    "for idx, var in enumerate(cat_vars):\n",
    "    plt.figure(figsize=(14,6))\n",
    "    boo = list(dict(df[var].value_counts()).values())\n",
    "    leng = np.arange(len(list(dict(df[var].value_counts()).values())))\n",
    "    rects = plt.bar(leng, boo, bar_width,\n",
    "    alpha=opacity,\n",
    "    color=colors[idx])\n",
    "    plt.ylabel('Number of occurences')\n",
    "    plt.xlabel('Number of category')\n",
    "    plt.title('Occurences for variable: {}'.format(var))\n",
    "    plt.tight_layout()\n",
    "    plt.show()"
   ]
  },
  {
   "cell_type": "markdown",
   "metadata": {},
   "source": [
    "Since there are no categories that would be very differently populated than the rest (they gradually descent) we decided to keep all the variables for one hot encoding."
   ]
  },
  {
   "cell_type": "markdown",
   "metadata": {},
   "source": [
    "Next we are creating dummy variables through one hot encoding for each category in categorical variables (omitting review_difficulty in which we introduced ordered categories)."
   ]
  },
  {
   "cell_type": "code",
   "execution_count": 242,
   "metadata": {},
   "outputs": [],
   "source": [
    "df2 = pd.get_dummies(df, drop_first=True)"
   ]
  },
  {
   "cell_type": "markdown",
   "metadata": {},
   "source": [
    "## 2.4 Splitting dataset into training and testing dataset"
   ]
  },
  {
   "cell_type": "code",
   "execution_count": 243,
   "metadata": {},
   "outputs": [],
   "source": [
    "X, Y = df2.drop(['list_price'], axis=1), df2['list_price']\n",
    "\n",
    "X_train, X_test, Y_train, Y_test = train_test_split(\n",
    "                                                    X, \n",
    "                                                    Y, \n",
    "                                                    test_size=0.3, \n",
    "                                                    random_state=361)"
   ]
  },
  {
   "cell_type": "code",
   "execution_count": 244,
   "metadata": {},
   "outputs": [
    {
     "data": {
      "text/plain": [
       "(10638, 93)"
      ]
     },
     "execution_count": 244,
     "metadata": {},
     "output_type": "execute_result"
    }
   ],
   "source": [
    "df2.shape"
   ]
  },
  {
   "cell_type": "markdown",
   "metadata": {},
   "source": [
    "We are left with 10638 observations and 92 variables which we have split into 70/30 train/test datasets. \n",
    "\n",
    "That way we are ready to begin estimating predictive models using 3 different methods."
   ]
  },
  {
   "cell_type": "markdown",
   "metadata": {},
   "source": [
    "# <center>3. Predicting data </center>"
   ]
  },
  {
   "cell_type": "markdown",
   "metadata": {},
   "source": [
    "## 3.1 Linear Regression (OLS) model"
   ]
  },
  {
   "cell_type": "markdown",
   "metadata": {},
   "source": [
    "Firstly, we are trying to estimate OLS linear regression model using all possible variables. We also add <i>constant</i> to the models equation."
   ]
  },
  {
   "cell_type": "code",
   "execution_count": 245,
   "metadata": {},
   "outputs": [
    {
     "name": "stdout",
     "output_type": "stream",
     "text": [
      "                            OLS Regression Results                            \n",
      "==============================================================================\n",
      "Dep. Variable:             list_price   R-squared:                       0.865\n",
      "Model:                            OLS   Adj. R-squared:                  0.863\n",
      "Method:                 Least Squares   F-statistic:                     533.6\n",
      "Date:                Mon, 10 Jun 2019   Prob (F-statistic):               0.00\n",
      "Time:                        17:18:04   Log-Likelihood:                -37322.\n",
      "No. Observations:                7446   AIC:                         7.482e+04\n",
      "Df Residuals:                    7357   BIC:                         7.544e+04\n",
      "Df Model:                          88                                         \n",
      "Covariance Type:            nonrobust                                         \n",
      "====================================================================================================================\n",
      "                                                       coef    std err          t      P>|t|      [0.025      0.975]\n",
      "--------------------------------------------------------------------------------------------------------------------\n",
      "const                                              167.9154     20.545      8.173      0.000     127.642     208.189\n",
      "num_reviews                                          0.2244      0.021     10.889      0.000       0.184       0.265\n",
      "piece_count                                          0.0891      0.001     79.120      0.000       0.087       0.091\n",
      "play_star_rating                                     7.5052      0.929      8.077      0.000       5.684       9.327\n",
      "review_difficulty                                    6.1702      0.642      9.611      0.000       4.912       7.429\n",
      "val_star_rating                                    -14.0829      0.859    -16.392      0.000     -15.767     -12.399\n",
      "ages_10-14                                        -133.5350     13.140    -10.162      0.000    -159.294    -107.776\n",
      "ages_10-16                                        -120.7052      9.180    -13.149      0.000    -138.701    -102.710\n",
      "ages_10-21                                         -31.0787      7.033     -4.419      0.000     -44.865     -17.292\n",
      "ages_11-16                                        -119.2834     10.354    -11.520      0.000    -139.581     -98.986\n",
      "ages_12+                                           -48.3475      7.955     -6.077      0.000     -63.942     -32.753\n",
      "ages_12-16                                        -164.1559     11.347    -14.467      0.000    -186.400    -141.912\n",
      "ages_14+                                           -94.1744      8.985    -10.481      0.000    -111.788     -76.561\n",
      "ages_16+                                          -102.6514     10.173    -10.090      0.000    -122.594     -82.709\n",
      "ages_1½-3                                          -35.0597      7.265     -4.826      0.000     -49.301     -20.818\n",
      "ages_1½-5                                          -42.0772      6.741     -6.242      0.000     -55.291     -28.863\n",
      "ages_2-5                                           -13.5341      5.728     -2.363      0.018     -24.763      -2.305\n",
      "ages_4+                                            -65.3418      9.575     -6.824      0.000     -84.112     -46.572\n",
      "ages_4-7                                           -49.1064      7.573     -6.485      0.000     -63.951     -34.261\n",
      "ages_4-99                                          -41.3736      7.598     -5.446      0.000     -56.267     -26.480\n",
      "ages_5+                                            -72.1553     10.461     -6.898      0.000     -92.661     -51.649\n",
      "ages_5-12                                         -154.0841      8.814    -17.482      0.000    -171.362    -136.806\n",
      "ages_5-8                                           -33.9638      9.270     -3.664      0.000     -52.136     -15.792\n",
      "ages_6+                                           -146.2515     10.245    -14.276      0.000    -166.334    -126.169\n",
      "ages_6-12                                         -135.8213      8.463    -16.048      0.000    -152.412    -119.231\n",
      "ages_6-14                                         -119.7124      8.949    -13.377      0.000    -137.256    -102.169\n",
      "ages_7+                                           -117.9034     27.291     -4.320      0.000    -171.402     -64.405\n",
      "ages_7-12                                         -134.7162      8.630    -15.609      0.000    -151.634    -117.798\n",
      "ages_7-14                                         -127.6520      8.327    -15.330      0.000    -143.975    -111.329\n",
      "ages_8+                                            -96.5826      7.940    -12.165      0.000    -112.146     -81.019\n",
      "ages_8-12                                         -131.2129      8.822    -14.873      0.000    -148.507    -113.919\n",
      "ages_8-14                                         -124.0768      8.364    -14.835      0.000    -140.472    -107.682\n",
      "ages_9+                                            -17.4218     11.403     -1.528      0.127     -39.775       4.931\n",
      "ages_9-12                                         -136.3745     10.860    -12.557      0.000    -157.664    -115.085\n",
      "ages_9-14                                         -118.5572      8.441    -14.046      0.000    -135.104    -102.011\n",
      "ages_9-16                                         -115.5893     10.063    -11.487      0.000    -135.315     -95.863\n",
      "theme_name_Architecture                            -94.1937     19.846     -4.746      0.000    -133.098     -55.289\n",
      "theme_name_BOOST                                    77.0708     20.819      3.702      0.000      36.260     117.882\n",
      "theme_name_BrickHeadz                             -136.2622     20.277     -6.720      0.000    -176.011     -96.514\n",
      "theme_name_Carnotaurus Gyrosphere Escape            33.4928     20.793      1.611      0.107      -7.267      74.253\n",
      "theme_name_City                                     15.4138     18.469      0.835      0.404     -20.792      51.619\n",
      "theme_name_Classic                                -106.7155     13.998     -7.624      0.000    -134.156     -79.275\n",
      "theme_name_Creator 3-in-1                          -12.4901     18.558     -0.673      0.501     -48.869      23.889\n",
      "theme_name_Creator Expert                         -111.5643     19.096     -5.842      0.000    -148.998     -74.130\n",
      "theme_name_DC Comics™ Super Heroes                  -2.2488     18.686     -0.120      0.904     -38.878      34.380\n",
      "theme_name_DC Super Hero Girls                       0.0419     21.050      0.002      0.998     -41.223      41.306\n",
      "theme_name_DIMENSIONS™                               0.6407     18.700      0.034      0.973     -36.016      37.297\n",
      "theme_name_DUPLO®                                  -90.6710     15.322     -5.918      0.000    -120.707     -60.635\n",
      "theme_name_Dilophosaurus Outpost Attack              9.2256     20.557      0.449      0.654     -31.072      49.523\n",
      "theme_name_Disney™                                   2.0809     18.588      0.112      0.911     -34.357      38.518\n",
      "theme_name_Elves                                    -7.4391     18.796     -0.396      0.692     -44.284      29.406\n",
      "theme_name_Friends                                  -8.2880     18.447     -0.449      0.653     -44.449      27.873\n",
      "theme_name_Ghostbusters™                           -55.1261     20.856     -2.643      0.008     -96.010     -14.242\n",
      "theme_name_Ideas                                  -133.5133     19.756     -6.758      0.000    -172.241     -94.786\n",
      "theme_name_Indoraptor Rampage at Lockwood Estate    50.5268     20.645      2.447      0.014      10.057      90.996\n",
      "theme_name_Juniors                                 -83.0702     13.847     -5.999      0.000    -110.215     -55.925\n",
      "theme_name_Jurassic Park Velociraptor Chase          7.6681     20.964      0.366      0.715     -33.427      48.763\n",
      "theme_name_LEGO® Creator 3-in-1                     -1.5888     21.775     -0.073      0.942     -44.275      41.097\n",
      "theme_name_MINDSTORMS®                             -28.3928     20.286     -1.400      0.162     -68.160      11.374\n",
      "theme_name_Marvel Super Heroes                      -3.0229     18.525     -0.163      0.870     -39.337      33.291\n",
      "theme_name_Minecraft™                              -32.5531     19.168     -1.698      0.089     -70.129       5.022\n",
      "theme_name_Minifigures                             -72.1553     10.461     -6.898      0.000     -92.661     -51.649\n",
      "theme_name_NEXO KNIGHTS™                           -19.3196     18.863     -1.024      0.306     -56.296      17.657\n",
      "theme_name_NINJAGO®                                -22.1184     18.738     -1.180      0.238     -58.851      14.614\n",
      "theme_name_Power Functions                          -8.7387     21.730     -0.402      0.688     -51.336      33.859\n",
      "theme_name_Pteranodon Chase                         -6.3187     20.373     -0.310      0.756     -46.256      33.619\n",
      "theme_name_SERIOUS PLAY®                           253.7776     19.994     12.693      0.000     214.583     292.972\n",
      "theme_name_Speed Champions                         -11.6941     18.692     -0.626      0.532     -48.336      24.948\n",
      "theme_name_Star Wars™                                2.4139     18.441      0.131      0.896     -33.736      38.564\n",
      "theme_name_Stygimoloch Breakout                     11.9205     21.160      0.563      0.573     -29.559      53.400\n",
      "theme_name_THE LEGO® BATMAN MOVIE                   -8.3123     18.540     -0.448      0.654     -44.655      28.030\n",
      "theme_name_THE LEGO® NINJAGO® MOVIE™               -27.4284     18.531     -1.480      0.139     -63.755       8.898\n",
      "theme_name_Technic                                 -11.7910     18.643     -0.632      0.527     -48.336      24.754\n",
      "country_AU                                          -0.4512      2.803     -0.161      0.872      -5.945       5.043\n",
      "country_BE                                           3.9959      2.865      1.395      0.163      -1.621       9.612\n",
      "country_CA                                         -11.1745      2.653     -4.212      0.000     -16.375      -5.974\n",
      "country_CH                                          -0.6715      2.798     -0.240      0.810      -6.157       4.814\n",
      "country_CZ                                           6.6798      2.836      2.355      0.019       1.120      12.240\n",
      "country_DE                                           4.2104      2.840      1.483      0.138      -1.357       9.777\n",
      "country_DN                                          -9.7731      2.795     -3.496      0.000     -15.252      -4.294\n",
      "country_ES                                           4.2880      2.885      1.486      0.137      -1.368       9.944\n",
      "country_FI                                          11.3613      2.870      3.959      0.000       5.736      16.987\n",
      "country_FR                                           2.3110      2.801      0.825      0.409      -3.180       7.802\n",
      "country_GB                                           2.1890      2.795      0.783      0.433      -3.289       7.667\n",
      "country_IE                                          -0.0693      2.879     -0.024      0.981      -5.713       5.575\n",
      "country_IT                                           2.4168      2.867      0.843      0.399      -3.203       8.037\n",
      "country_LU                                           5.3803      2.847      1.890      0.059      -0.200      10.961\n",
      "country_NL                                           5.3415      2.817      1.896      0.058      -0.181      10.864\n",
      "country_NO                                          11.2836      2.839      3.975      0.000       5.719      16.848\n",
      "country_NZ                                           5.9763      2.758      2.167      0.030       0.569      11.384\n",
      "country_PL                                           7.9176      2.864      2.765      0.006       2.304      13.531\n",
      "country_PT                                           2.1292      2.859      0.745      0.456      -3.476       7.734\n",
      "country_US                                         -10.1399      2.601     -3.898      0.000     -15.239      -5.041\n",
      "==============================================================================\n",
      "Omnibus:                     3815.264   Durbin-Watson:                   1.966\n",
      "Prob(Omnibus):                  0.000   Jarque-Bera (JB):           421060.664\n",
      "Skew:                           1.494   Prob(JB):                         0.00\n",
      "Kurtosis:                      39.718   Cond. No.                     9.51e+16\n",
      "==============================================================================\n",
      "\n",
      "Warnings:\n",
      "[1] Standard Errors assume that the covariance matrix of the errors is correctly specified.\n",
      "[2] The smallest eigenvalue is 8.74e-25. This might indicate that there are\n",
      "strong multicollinearity problems or that the design matrix is singular.\n"
     ]
    }
   ],
   "source": [
    "X_train_lin = sm.add_constant(X_train)\n",
    "X_test_lin = sm.add_constant(X_test)\n",
    " \n",
    "ols_model = sm.OLS(Y_train, X_train_lin).fit()\n",
    "linear_pred = ols_model.predict(X_test_lin) \n",
    "\n",
    "print(ols_model.summary())"
   ]
  },
  {
   "cell_type": "code",
   "execution_count": 247,
   "metadata": {},
   "outputs": [
    {
     "name": "stdout",
     "output_type": "stream",
     "text": [
      "Mean Absolute Error: 16.757313097654322\n",
      "Mean Squared Error: 1166.380221526104\n",
      "Root Mean Squared Error: 34.15230916828471\n",
      "Adjusted R-squared: 0.8630289709517912\n"
     ]
    }
   ],
   "source": [
    "print('Mean Absolute Error:', metrics.mean_absolute_error(Y_test, linear_pred))  \n",
    "print('Mean Squared Error:', metrics.mean_squared_error(Y_test, linear_pred))  \n",
    "print('Root Mean Squared Error:', np.sqrt(metrics.mean_squared_error(Y_test, linear_pred)))\n",
    "print('Adjusted R-squared:', adj_r2(r2_score(Y_test, linear_pred), X_test_lin.shape[0], X_test_lin.shape[1]))"
   ]
  },
  {
   "cell_type": "markdown",
   "metadata": {},
   "source": [
    "We are using our own implementation of R-squared because we want to see value of the coefficient of determination on test data (by accessing <i>OLS.model.rsquared_adj</i> we get the value for training data). \n",
    "\n",
    "We can see promising values (although RMSE is quite high). There are some statistically insignificant variables, so we will now try to estimate model with only statistically significant features. Let us see how will the model with stepwise selected variables perform:"
   ]
  },
  {
   "cell_type": "markdown",
   "metadata": {},
   "source": [
    "## 3.2 Linear Regression (OLS) model with stepwise selected features"
   ]
  },
  {
   "cell_type": "markdown",
   "metadata": {},
   "source": [
    "During this stepwise selection, feature is included in the model if its p-value is lower than 0.05. Here we also add the <i>constant</i>."
   ]
  },
  {
   "cell_type": "code",
   "execution_count": 248,
   "metadata": {},
   "outputs": [
    {
     "name": "stderr",
     "output_type": "stream",
     "text": [
      "c:\\program files\\python37\\lib\\site-packages\\ipykernel_launcher.py:35: FutureWarning: 'argmin' is deprecated, use 'idxmin' instead. The behavior of 'argmin'\n",
      "will be corrected to return the positional minimum in the future.\n",
      "Use 'series.values.argmin' to get the position of the minimum now.\n",
      "c:\\program files\\python37\\lib\\site-packages\\ipykernel_launcher.py:48: FutureWarning: 'argmax' is deprecated, use 'idxmax' instead. The behavior of 'argmax'\n",
      "will be corrected to return the positional maximum in the future.\n",
      "Use 'series.values.argmax' to get the position of the maximum now.\n"
     ]
    }
   ],
   "source": [
    "selected_vars = stepwise_selection(X_train, Y_train, verbose=False)\n",
    "\n",
    "stepwise_X_train = X_train[selected_vars]\n",
    "stepwise_X_test = X_test[selected_vars]"
   ]
  },
  {
   "cell_type": "code",
   "execution_count": 249,
   "metadata": {},
   "outputs": [
    {
     "name": "stdout",
     "output_type": "stream",
     "text": [
      "                            OLS Regression Results                            \n",
      "==============================================================================\n",
      "Dep. Variable:             list_price   R-squared:                       0.860\n",
      "Model:                            OLS   Adj. R-squared:                  0.859\n",
      "Method:                 Least Squares   F-statistic:                     1007.\n",
      "Date:                Mon, 10 Jun 2019   Prob (F-statistic):               0.00\n",
      "Time:                        17:20:26   Log-Likelihood:                -37455.\n",
      "No. Observations:                7446   AIC:                         7.500e+04\n",
      "Df Residuals:                    7400   BIC:                         7.532e+04\n",
      "Df Model:                          45                                         \n",
      "Covariance Type:            nonrobust                                         \n",
      "====================================================================================================================\n",
      "                                                       coef    std err          t      P>|t|      [0.025      0.975]\n",
      "--------------------------------------------------------------------------------------------------------------------\n",
      "const                                               45.1651      3.810     11.854      0.000      37.696      52.634\n",
      "review_difficulty                                    6.9180      0.580     11.926      0.000       5.781       8.055\n",
      "theme_name_SERIOUS PLAY®                           257.6543      7.812     32.981      0.000     242.340     272.968\n",
      "piece_count                                          0.0913      0.001    116.454      0.000       0.090       0.093\n",
      "theme_name_MINDSTORMS®                              74.3301      3.547     20.956      0.000      67.377      81.283\n",
      "theme_name_Creator Expert                          -83.4875      3.453    -24.175      0.000     -90.257     -76.718\n",
      "val_star_rating                                    -14.1229      0.826    -17.099      0.000     -15.742     -12.504\n",
      "ages_2-5                                            25.6649      2.443     10.508      0.000      20.877      30.453\n",
      "theme_name_Star Wars™                               12.6343      1.562      8.086      0.000       9.571      15.697\n",
      "play_star_rating                                     6.5469      0.900      7.275      0.000       4.783       8.311\n",
      "num_reviews                                          0.1720      0.018      9.600      0.000       0.137       0.207\n",
      "theme_name_BOOST                                    86.7594      9.841      8.816      0.000      67.469     106.050\n",
      "theme_name_THE LEGO® NINJAGO® MOVIE™               -17.3948      1.829     -9.511      0.000     -20.980     -13.810\n",
      "theme_name_Ideas                                   -54.4910      5.306    -10.270      0.000     -64.892     -44.091\n",
      "country_CA                                         -13.4095      1.794     -7.474      0.000     -16.926      -9.893\n",
      "country_US                                         -12.8082      1.729     -7.406      0.000     -16.199      -9.418\n",
      "ages_12-16                                         -50.0783      7.532     -6.649      0.000     -64.842     -35.314\n",
      "country_DN                                         -12.7926      2.029     -6.305      0.000     -16.770      -8.815\n",
      "ages_14+                                            16.9077      3.682      4.593      0.000       9.691      24.125\n",
      "theme_name_Indoraptor Rampage at Lockwood Estate    59.5200      9.390      6.339      0.000      41.113      77.927\n",
      "theme_name_Classic                                 -19.5098      2.795     -6.981      0.000     -24.988     -14.031\n",
      "theme_name_Ghostbusters™                           -34.8055      9.711     -3.584      0.000     -53.841     -15.770\n",
      "theme_name_NINJAGO®                                -12.2045      3.355     -3.638      0.000     -18.781      -5.628\n",
      "country_FI                                           8.4365      2.130      3.960      0.000       4.261      12.612\n",
      "country_NO                                           7.9542      2.085      3.814      0.000       3.866      12.042\n",
      "ages_5-12                                          -32.6727      2.932    -11.143      0.000     -38.420     -26.925\n",
      "theme_name_City                                     23.5781      2.419      9.746      0.000      18.836      28.321\n",
      "theme_name_Carnotaurus Gyrosphere Escape            42.5210      9.787      4.345      0.000      23.335      61.707\n",
      "theme_name_Architecture                            -38.2816      6.257     -6.118      0.000     -50.547     -26.016\n",
      "ages_12+                                            23.5159      5.434      4.328      0.000      12.864      34.168\n",
      "ages_9+                                             31.8998     10.969      2.908      0.004      10.397      53.402\n",
      "theme_name_NEXO KNIGHTS™                           -10.6850      4.235     -2.523      0.012     -18.988      -2.382\n",
      "ages_6-12                                          -15.2625      1.766     -8.643      0.000     -18.724     -11.801\n",
      "ages_7-12                                          -15.0106      2.132     -7.042      0.000     -19.189     -10.832\n",
      "country_PL                                           4.8547      2.121      2.289      0.022       0.697       9.012\n",
      "theme_name_DIMENSIONS™                              10.3752      3.124      3.321      0.001       4.251      16.499\n",
      "ages_7-14                                           -9.1492      1.742     -5.251      0.000     -12.565      -5.734\n",
      "ages_6+                                            -26.4394      6.060     -4.363      0.000     -38.319     -14.560\n",
      "theme_name_Disney™                                  11.7553      3.254      3.612      0.000       5.376      18.135\n",
      "ages_8-12                                          -12.6090      2.724     -4.629      0.000     -17.949      -7.269\n",
      "theme_name_BrickHeadz                               -7.7583      2.300     -3.373      0.001     -12.267      -3.249\n",
      "theme_name_Marvel Super Heroes                       6.7480      2.508      2.691      0.007       1.832      11.664\n",
      "ages_8-14                                           -5.7122      1.778     -3.212      0.001      -9.198      -2.226\n",
      "ages_8+                                             -8.7051      3.425     -2.542      0.011     -15.419      -1.992\n",
      "ages_5+                                             -6.6394      2.718     -2.442      0.015     -11.968      -1.311\n",
      "theme_name_Minifigures                              -6.6394      2.718     -2.442      0.015     -11.968      -1.311\n",
      "ages_9-12                                          -17.3386      6.524     -2.658      0.008     -30.127      -4.550\n",
      "==============================================================================\n",
      "Omnibus:                     4062.652   Durbin-Watson:                   1.965\n",
      "Prob(Omnibus):                  0.000   Jarque-Bera (JB):           411464.392\n",
      "Skew:                           1.688   Prob(JB):                         0.00\n",
      "Kurtosis:                      39.261   Cond. No.                     1.18e+16\n",
      "==============================================================================\n",
      "\n",
      "Warnings:\n",
      "[1] Standard Errors assume that the covariance matrix of the errors is correctly specified.\n",
      "[2] The smallest eigenvalue is 5.65e-23. This might indicate that there are\n",
      "strong multicollinearity problems or that the design matrix is singular.\n"
     ]
    }
   ],
   "source": [
    "stepwise_X_train = sm.add_constant(stepwise_X_train)\n",
    "stepwise_X_test = sm.add_constant(stepwise_X_test)\n",
    " \n",
    "stepwise_model = sm.OLS(Y_train, stepwise_X_train).fit()\n",
    "stepwise_pred = stepwise_model.predict(stepwise_X_test) \n",
    "\n",
    "print(stepwise_model.summary())"
   ]
  },
  {
   "cell_type": "code",
   "execution_count": 250,
   "metadata": {},
   "outputs": [
    {
     "name": "stdout",
     "output_type": "stream",
     "text": [
      "Mean Absolute Error: 17.47262645758098\n",
      "Mean Squared Error: 1234.6376087891545\n",
      "Root Mean Squared Error: 35.137410388205254\n",
      "Adjusted R-squared: 0.8571346366590289\n"
     ]
    }
   ],
   "source": [
    "print('Mean Absolute Error:', metrics.mean_absolute_error(Y_test, stepwise_pred))  \n",
    "print('Mean Squared Error:', metrics.mean_squared_error(Y_test, stepwise_pred))  \n",
    "print('Root Mean Squared Error:', np.sqrt(metrics.mean_squared_error(Y_test, stepwise_pred)))\n",
    "print('Adjusted R-squared:', adj_r2(r2_score(Y_test, stepwise_pred), stepwise_X_test.shape[0], stepwise_X_test.shape[1]))"
   ]
  },
  {
   "cell_type": "markdown",
   "metadata": {},
   "source": [
    "As we can see, obtained prediction metrics are worse than with OLS model build on the whole dataset. Since adjusted R-squared is lower for the restricted model, we know that the additional variables, which deemed statistically insignificant increase the accuracy (adjusted R-squared penalizes additional variables that bring no predictive power). \n",
    "\n",
    "How abount penalized regression, which should lower the variance for a little bias and give better predictions?"
   ]
  },
  {
   "cell_type": "markdown",
   "metadata": {},
   "source": [
    "## 3.3 Elastic Net"
   ]
  },
  {
   "cell_type": "markdown",
   "metadata": {},
   "source": [
    "Firstly, we are tuning the hyperparameters to find the best fit using 5 fold cross-validation with provided set of alphas, L1 and L2 penalties, margin of improvement for each iteration and whether we should normalize data or not."
   ]
  },
  {
   "cell_type": "code",
   "execution_count": 251,
   "metadata": {},
   "outputs": [],
   "source": [
    "# eNet = ElasticNet(max_iter = 100)\n",
    "\n",
    "# parametersGrid = {\"alpha\": [0.0001, 0.001, 0.005, 0.01, 0.1, 1.0, 2.0, 10.0, 100.0, 300.0],\n",
    "#                   \"l1_ratio\": np.arange(0.0, 1.0, 0.05),\n",
    "#                  \"tol\": [0.000001, 0.00005, 0.00001, 0.0001, 0.01, 0.1],\n",
    "#                  \"normalize\": [True, False]}\n",
    "\n",
    "# grid = GridSearchCV(eNet, \n",
    "#                     parametersGrid, \n",
    "#                     scoring='neg_mean_squared_error', \n",
    "#                     cv=5,\n",
    "#                     refit = 'neg_mean_squared_error')\n",
    "# grid.fit(X_train, Y_train)\n",
    "# grid_pred = grid.predict(X_test)\n",
    "# print(\"Best: %f using %s\" % (grid.best_score_, grid.best_params_))"
   ]
  },
  {
   "cell_type": "markdown",
   "metadata": {},
   "source": [
    "Now, we estimate data using best parameters for elastic net."
   ]
  },
  {
   "cell_type": "code",
   "execution_count": 252,
   "metadata": {},
   "outputs": [],
   "source": [
    "eNet = ElasticNet(max_iter = 80000,\n",
    "                  alpha = 0.0001,\n",
    "                  l1_ratio = 0.95,\n",
    "                  tol = 0.0000001,\n",
    "                 normalize = False)\n",
    "\n",
    "eNet.fit(X_train, Y_train)\n",
    "elastic_pred = eNet.predict(X_test)"
   ]
  },
  {
   "cell_type": "code",
   "execution_count": 254,
   "metadata": {},
   "outputs": [
    {
     "name": "stdout",
     "output_type": "stream",
     "text": [
      "Mean Absolute Error: 16.746761117586374\n",
      "Mean Squared Error: 1167.1341440449467\n",
      "Root Mean Squared Error: 34.16334503594381\n",
      "Adjusted R-squared: 0.8629846629209051\n"
     ]
    }
   ],
   "source": [
    "print('Mean Absolute Error:', metrics.mean_absolute_error(Y_test, elastic_pred))  \n",
    "print('Mean Squared Error:', metrics.mean_squared_error(Y_test, elastic_pred))  \n",
    "print('Root Mean Squared Error:', np.sqrt(metrics.mean_squared_error(Y_test, elastic_pred)))\n",
    "print('Adjusted R-squared:', adj_r2(r2_score(Y_test, elastic_pred), X_test.shape[0], X_test.shape[1]))"
   ]
  },
  {
   "cell_type": "markdown",
   "metadata": {},
   "source": [
    "We can see that results are still not as good as when using simple Linear Regression. Penalized regression such as Elastic Net should lower the variance compared to OLS model in favor of a little bias to avoid overfitting and therefore to make more accurate predictions. However, the predictive ability on the test data proved to be worse than for OLS model - that is quite unexpected."
   ]
  },
  {
   "cell_type": "markdown",
   "metadata": {},
   "source": [
    "## 3.4 Neural Network"
   ]
  },
  {
   "cell_type": "markdown",
   "metadata": {},
   "source": [
    "Finally, we are trying to use sequential neural network with 3 hidden layers, for which we shall firstly tune the hyperparameters - we are using 5 fold cross-validation for that purpose with provided values of parameters to choose from. \n",
    "\n",
    "We strongly suggest <b>NOT RUNNING</b> this part of code which is commented, because it takes few hours on a decent machine (if it does not Memory bloat - run out of RAM memory)."
   ]
  },
  {
   "cell_type": "markdown",
   "metadata": {},
   "source": [
    "Here is a logger file, which will help us plot improvements over time of trained neural network."
   ]
  },
  {
   "cell_type": "code",
   "execution_count": 255,
   "metadata": {},
   "outputs": [],
   "source": [
    "csv_logger = CSVLogger('neural.log', separator=',', append=False)"
   ]
  },
  {
   "cell_type": "code",
   "execution_count": 256,
   "metadata": {},
   "outputs": [],
   "source": [
    "def create_model(momentum = 0.2,\n",
    "                activation = 'softplus',\n",
    "                learn_rate = 0.001,\n",
    "                dropout_rate = 0.0,\n",
    "                weight_constraint = 3,\n",
    "                neurons = 75,\n",
    "                init = 'glorot_uniform',\n",
    "                optimizer = 'adagrad',\n",
    "                normalize = True): \n",
    "\n",
    "    # create model\n",
    "    NN_model = Sequential()\n",
    "    NN_model.add(Dense(128, \n",
    "                   kernel_initializer=init,\n",
    "                   input_dim = X_train.shape[1], \n",
    "                   activation=activation))\n",
    "\n",
    "    # The Hidden Layers :\n",
    "    NN_model.add(Dense(neurons, \n",
    "                       kernel_initializer=init,\n",
    "                       activation=activation,\n",
    "                      kernel_constraint=maxnorm(weight_constraint)))\n",
    "    NN_model.add(Dense(neurons, \n",
    "                       kernel_initializer=init,\n",
    "                       activation=activation,\n",
    "                      kernel_constraint=maxnorm(weight_constraint)))\n",
    "    NN_model.add(Dropout(dropout_rate)) \n",
    "    NN_model.add(Dense(neurons, \n",
    "                       kernel_initializer=init,\n",
    "                       activation=activation,\n",
    "                      kernel_constraint=maxnorm(weight_constraint)))\n",
    "\n",
    "    # The Output Layer :\n",
    "    NN_model.add(Dense(1, kernel_initializer=init,\n",
    "                       activation='linear'))\n",
    "\n",
    "    \n",
    "    NN_model.compile(loss='mean_squared_error', \n",
    "                  optimizer=optimizer, \n",
    "                  metrics=['mean_absolute_error',\n",
    "                           'mean_squared_error',\n",
    "                          r2_keras])\n",
    "    \n",
    "    NN_model.fit(X_train, \n",
    "                 Y_train,\n",
    "                 epochs=350,\n",
    "                 batch_size=64,\n",
    "                 callbacks=[csv_logger])\n",
    "    \n",
    "    return NN_model\n",
    "\n",
    "\n",
    "model = KerasRegressor(build_fn=create_model, \n",
    "                        epochs = 50, \n",
    "                        batch_size = 64,\n",
    "                        verbose = 1)"
   ]
  },
  {
   "cell_type": "code",
   "execution_count": 257,
   "metadata": {},
   "outputs": [],
   "source": [
    "# def grid_search(model = model):\n",
    "# # Use scikit-learn to grid search \n",
    "#     activation = ['softmax', 'softplus', 'softsign', 'relu', 'tanh', 'sigmoid', 'hard_sigmoid', 'linear']\n",
    "#     momentum = [0.0, 0.2, 0.4, 0.6, 0.8, 0.9]\n",
    "#     learn_rate = [0.0001, 0.0005, 0.001, 0.025, 0.005, 0.075, 0.01, 0.025, 0.05, 0.075, 0.1, 0.2]\n",
    "#     dropout_rate = [0.0, 0.1, 0.2, 0.3, 0.4, 0.5, 0.6, 0.7, 0.8, 0.9]\n",
    "#     weight_constraint=[1, 2, 3, 4, 5]\n",
    "#     neurons = [30, 64, 75, 100, 128, 200, 256]\n",
    "#     init = ['uniform', 'lecun_uniform', 'normal', 'zero', 'glorot_normal', 'glorot_uniform', 'he_normal', 'he_uniform']\n",
    "#     optimizer = ['sgd', 'rmsprop', 'adagrad', 'adadelta', 'adam', 'adamax', 'nadam']\n",
    "#     normalize = [True, False]\n",
    "#     ##############################################################\n",
    "#     # grid search epochs, batch size\n",
    "#     epochs = [50, 100] # add 50, 100, 150 etc\n",
    "#     batch_size = [10, 32, 64, 100] # add 5, 10, 20, 40, 60, 80, 100 etc\n",
    "#     param_grid = dict(# epochs=epochs,\n",
    "# #                      batch_size=batch_size,\n",
    "# #                      activation=activation,\n",
    "# #                      momentum=momentum,\n",
    "# #                      learn_rate=learn_rate,\n",
    "# #                      dropout_rate=dropout_rate,\n",
    "# #                      weight_constraint=weight_constraint,\n",
    "# #                      neurons=neurons,\n",
    "# #                      init=init,\n",
    "# #                      optimizer=optimizer,\n",
    "# #                      normalize=normalize\n",
    "#                      )\n",
    "#     ##############################################################\n",
    "#     grid = GridSearchCV(estimator=model, \n",
    "#                         param_grid=param_grid, \n",
    "#                         scoring=['r2'],\n",
    "#                         refit = 'r2',\n",
    "#                         n_jobs=1,\n",
    "#                         cv = 2)\n",
    "#     grid_result = grid.fit(X_train, Y_train) \n",
    "#     ##############################################################\n",
    "#     # summarize results\n",
    "#     print(\"Best: %f using %s\" % (grid_result.best_score_, grid_result.best_params_))\n",
    "#     means = grid_result.cv_results_['mean_test_r2']\n",
    "#     stds = grid_result.cv_results_['std_test_r2']\n",
    "#     params = grid_result.cv_results_['params']\n",
    "#     for mean, stdev, param in zip(means, stds, params):\n",
    "#         print(\"%f (%f) with: %r\" % (mean, stdev, param))\n",
    "        \n",
    "# grid_search(model)"
   ]
  },
  {
   "cell_type": "markdown",
   "metadata": {},
   "source": [
    "After cross-validated tuning we choose those parameters:\n",
    "\n",
    "- <b>Number of epochs</b> = 350\n",
    "\n",
    "- <b>Batch sizes</b> = 64\n",
    "\n",
    "- <b>Activation function</b> = Softplus, which for <i>x</i> is <i>log(exp(x) + 1)</i>\n",
    "\n",
    "- <b>Learning rate</b> = 0.001 - it determines how quickly model is adapted to the prob- lem (using stochastic gradient descent)\n",
    "\n",
    "- <b>Dropout rate</b> = 0, because there was too much data lost when droping some inputs-\n",
    "\n",
    "- <b>Weight constraint</b> = 3, preventing model from using too big weights and therefore overfitting,\n",
    "\n",
    "- <b>Number of neurons per layer</b> = 75\n",
    "\n",
    "- <b>Initializer</b> = Glorot uniform initializer, also called Xavier uniform initializer\n",
    "\n",
    "- <b>Optimizer</b> = Adagrad, which is an optimizer with parameter-specific learning rates, which are adapted relative to how frequently a parameter gets updated during training\n",
    "\n",
    "- <b>Normalize the data</b> = True,\n",
    "\n",
    "for which cross-validation proved that model have value of R-Squared =~ 0.97. \n",
    "\n",
    "Here we are creating the model with chosen parameters and saving it into a file (the best model is already saved and will be loaded below)."
   ]
  },
  {
   "cell_type": "code",
   "execution_count": 258,
   "metadata": {},
   "outputs": [],
   "source": [
    "# neural_network = create_model()\n",
    "\n",
    "# neural_network.save(\"lego_neural.h5\")"
   ]
  },
  {
   "cell_type": "markdown",
   "metadata": {},
   "source": [
    "Here we load the model and logged history of training and predict the dependent variable."
   ]
  },
  {
   "cell_type": "code",
   "execution_count": 259,
   "metadata": {},
   "outputs": [],
   "source": [
    "neural_network = load_model(\"lego_neural.h5\", custom_objects={'r2_keras': r2_keras})\n",
    "log_data = pd.read_csv('neural.log', sep=',', engine='python')\n",
    "neural_pred = neural_network.predict(X_test)"
   ]
  },
  {
   "cell_type": "code",
   "execution_count": 260,
   "metadata": {},
   "outputs": [],
   "source": [
    "mae = log_data['mean_absolute_error']\n",
    "mse = log_data['mean_squared_error']\n",
    "r_2 = log_data['r2_keras']\n",
    "epochs = range(len(mae))"
   ]
  },
  {
   "cell_type": "code",
   "execution_count": 261,
   "metadata": {
    "scrolled": true
   },
   "outputs": [
    {
     "data": {
      "image/png": "[encoded data removed]",
      "text/plain": [
       "<Figure size 1440x720 with 1 Axes>"
      ]
     },
     "metadata": {},
     "output_type": "display_data"
    },
    {
     "data": {
      "image/png": "[encoded data removed]",
      "text/plain": [
       "<Figure size 1440x720 with 1 Axes>"
      ]
     },
     "metadata": {},
     "output_type": "display_data"
    },
    {
     "data": {
      "image/png": "[encoded data removed]",
      "text/plain": [
       "<Figure size 1440x720 with 1 Axes>"
      ]
     },
     "metadata": {},
     "output_type": "display_data"
    }
   ],
   "source": [
    "# accuracy\n",
    "plt.figure(figsize=(20,10))\n",
    "plt.style.use('ggplot')\n",
    "plt.plot(epochs, mae, 'bo')\n",
    "plt.title('Training MAE')\n",
    "plt.legend(loc='lower right')\n",
    "plt.show()\n",
    "\n",
    "# loss\n",
    "plt.figure(figsize=(20,10))\n",
    "plt.plot(epochs, mse, 'go')\n",
    "plt.title('Training MSE')\n",
    "plt.legend()\n",
    "plt.show()\n",
    "\n",
    "plt.figure(figsize=(20,10))\n",
    "plt.plot(epochs, r_2, 'yo')\n",
    "plt.title('Training R-Squared')\n",
    "plt.legend()\n",
    "plt.show()"
   ]
  },
  {
   "cell_type": "markdown",
   "metadata": {},
   "source": [
    "As we can see on the plots above, all the metrics were improving over the time, however very significant improvements stopped after around 200th epoch."
   ]
  },
  {
   "cell_type": "code",
   "execution_count": 262,
   "metadata": {},
   "outputs": [
    {
     "name": "stdout",
     "output_type": "stream",
     "text": [
      "Mean Absolute Error: 6.51161103141756\n",
      "Mean Squared Error: 136.86394224702045\n",
      "Root Mean Squared Error: 11.698886367813838\n",
      "Adjusted R-squared: 0.9839329015635181\n"
     ]
    }
   ],
   "source": [
    "print('Mean Absolute Error:', metrics.mean_absolute_error(Y_test, neural_pred))  \n",
    "print('Mean Squared Error:', metrics.mean_squared_error(Y_test, neural_pred))  \n",
    "print('Root Mean Squared Error:', np.sqrt(metrics.mean_squared_error(Y_test, neural_pred)))\n",
    "print('Adjusted R-squared:', adj_r2(r2_score(Y_test, neural_pred), X_test.shape[0], X_test.shape[1]))"
   ]
  },
  {
   "cell_type": "markdown",
   "metadata": {},
   "source": [
    "We can see that results for test data are far better for neural network - adjusted R-squared of ~0.98 gives us almost a perfect fit - with MAE of ~7$. And we can see that there is no overfitting - as we were expecting because of cross-validation which predicted similar forecasts."
   ]
  },
  {
   "cell_type": "markdown",
   "metadata": {},
   "source": [
    "# <center>4. Comparison</center>"
   ]
  },
  {
   "cell_type": "markdown",
   "metadata": {},
   "source": [
    "Since there are a lot of metrics to measure regression accuracy we focused on 3:\n",
    "MAE - Mean Absolute Error\n",
    "RMSE - Root Mean Squared Error\n",
    "AdjR - Adjusted R-Squared\n",
    "\n",
    "RMSE and MAE do not actually tell how good is the model - they allow us to compare models in their predictive ability. There is however, interpretation of MAE if our dependant variable is interpretable - such as listing price in our case. \n",
    "\n",
    "We add RMSE, because it penalizes higher differences between real data and predicted harder than MAE. \n",
    "\n",
    "We also use Adjusted R-Squared to get absolute (not relative) information about how good model actually is."
   ]
  },
  {
   "cell_type": "code",
   "execution_count": 273,
   "metadata": {},
   "outputs": [
    {
     "data": {
      "text/html": [
       "<style  type=\"text/css\" >\n",
       "    #T_6800343a_8b94_11e9_9a2d_00215cdcfe0frow3_col0 {\n",
       "            font-weight:  bold;\n",
       "        }    #T_6800343a_8b94_11e9_9a2d_00215cdcfe0frow3_col1 {\n",
       "            font-weight:  bold;\n",
       "        }    #T_6800343a_8b94_11e9_9a2d_00215cdcfe0frow3_col2 {\n",
       "            font-weight:  bold;\n",
       "        }</style>  \n",
       "<table id=\"T_6800343a_8b94_11e9_9a2d_00215cdcfe0f\" > \n",
       "<thead>    <tr> \n",
       "        <th class=\"blank level0\" ></th> \n",
       "        <th class=\"col_heading level0 col0\" >Mean Absolute Error</th> \n",
       "        <th class=\"col_heading level0 col1\" >Root Mean Squared Error</th> \n",
       "        <th class=\"col_heading level0 col2\" >Adjusted R-Squared</th> \n",
       "    </tr></thead> \n",
       "<tbody>    <tr> \n",
       "        <th id=\"T_6800343a_8b94_11e9_9a2d_00215cdcfe0flevel0_row0\" class=\"row_heading level0 row0\" >OLS</th> \n",
       "        <td id=\"T_6800343a_8b94_11e9_9a2d_00215cdcfe0frow0_col0\" class=\"data row0 col0\" >16.7573</td> \n",
       "        <td id=\"T_6800343a_8b94_11e9_9a2d_00215cdcfe0frow0_col1\" class=\"data row0 col1\" >34.1523</td> \n",
       "        <td id=\"T_6800343a_8b94_11e9_9a2d_00215cdcfe0frow0_col2\" class=\"data row0 col2\" >0.865</td> \n",
       "    </tr>    <tr> \n",
       "        <th id=\"T_6800343a_8b94_11e9_9a2d_00215cdcfe0flevel0_row1\" class=\"row_heading level0 row1\" >Restricted OLS</th> \n",
       "        <td id=\"T_6800343a_8b94_11e9_9a2d_00215cdcfe0frow1_col0\" class=\"data row1 col0\" >17.4726</td> \n",
       "        <td id=\"T_6800343a_8b94_11e9_9a2d_00215cdcfe0frow1_col1\" class=\"data row1 col1\" >35.1374</td> \n",
       "        <td id=\"T_6800343a_8b94_11e9_9a2d_00215cdcfe0frow1_col2\" class=\"data row1 col2\" >0.8571</td> \n",
       "    </tr>    <tr> \n",
       "        <th id=\"T_6800343a_8b94_11e9_9a2d_00215cdcfe0flevel0_row2\" class=\"row_heading level0 row2\" >Elastic Net</th> \n",
       "        <td id=\"T_6800343a_8b94_11e9_9a2d_00215cdcfe0frow2_col0\" class=\"data row2 col0\" >16.7468</td> \n",
       "        <td id=\"T_6800343a_8b94_11e9_9a2d_00215cdcfe0frow2_col1\" class=\"data row2 col1\" >34.1633</td> \n",
       "        <td id=\"T_6800343a_8b94_11e9_9a2d_00215cdcfe0frow2_col2\" class=\"data row2 col2\" >0.8649</td> \n",
       "    </tr>    <tr> \n",
       "        <th id=\"T_6800343a_8b94_11e9_9a2d_00215cdcfe0flevel0_row3\" class=\"row_heading level0 row3\" >Neural Network</th> \n",
       "        <td id=\"T_6800343a_8b94_11e9_9a2d_00215cdcfe0frow3_col0\" class=\"data row3 col0\" >6.5116</td> \n",
       "        <td id=\"T_6800343a_8b94_11e9_9a2d_00215cdcfe0frow3_col1\" class=\"data row3 col1\" >11.6989</td> \n",
       "        <td id=\"T_6800343a_8b94_11e9_9a2d_00215cdcfe0frow3_col2\" class=\"data row3 col2\" >0.9842</td> \n",
       "    </tr></tbody> \n",
       "</table> "
      ],
      "text/plain": [
       "<pandas.io.formats.style.Styler at 0x18989bf6ba8>"
      ]
     },
     "execution_count": 273,
     "metadata": {},
     "output_type": "execute_result"
    }
   ],
   "source": [
    "pred_list = [linear_pred, stepwise_pred, elastic_pred, neural_pred]\n",
    "\n",
    "stat_list = []\n",
    "\n",
    "for pred in pred_list:\n",
    "    mae = float(format(metrics.mean_absolute_error(Y_test, pred), '.4f'))\n",
    "    rmse = float(format(np.sqrt(metrics.mean_squared_error(Y_test, pred)), '.4f'))\n",
    "    if pred.all() == stepwise_pred.all():\n",
    "        adjr2 = float(format(adj_r2(r2_score(Y_test, pred), stepwise_X_test.shape[0], stepwise_X_test.shape[1]), '.4f'))\n",
    "    else:\n",
    "        adjr2 = float(format(adj_r2(r2_score(Y_test, pred), X_test.shape[0], X_test.shape[1]), '.4f'))\n",
    "    stat_list.append([mae,rmse,adjr2])\n",
    "    \n",
    "stat_df = pd.DataFrame(stat_list)\n",
    "stat_df.rename(columns={0 : \"Mean Absolute Error\", 1 : \"Root Mean Squared Error\", 2 : \"Adjusted R-Squared\"}, \n",
    "                 index={ 0 : \"OLS\", 1 : \"Restricted OLS\" , 2 : \"Elastic Net\" , 3 : \"Neural Network\" }, \n",
    "                 inplace=True)\n",
    "\n",
    "stat_df.style.apply(lambda x: ['font-weight: bold' if x.name == \"Neural Network\" else '' for i in x], axis=1)"
   ]
  },
  {
   "cell_type": "markdown",
   "metadata": {},
   "source": [
    "We can clearly see that prediction errors and overall accuracy of the model (Adjusted R-Squared) are far superior for the Neural Network model. It was expectable, as they are the most sophisticated of the methods used above."
   ]
  },
  {
   "cell_type": "markdown",
   "metadata": {},
   "source": [
    "# <center>5. Conclusion</center>"
   ]
  },
  {
   "cell_type": "markdown",
   "metadata": {},
   "source": [
    "In the analysis conducted above we compared 4 methods (3 actually, one with just changed features) to see which one will work the best in predicting continous variable. \n",
    "\n",
    "Obviously, first choice was Linear Regression, which proved to be second most accurate, even beating Elastic Net. However we suspect that on larger dataset its' performance would fall significantly.\n",
    "\n",
    "Linear Regression with restricted features, to our surprise, gave worst results. More thorough analysis of stepwise selection function and/or dataset would maybe improve the result but for now its' performance is not satisfying.\n",
    "\n",
    "Elastic Net, our third approach, gave lower MAE than OLS but it performed worse considering RMSE and Adjusted R-Squared. One of the reasons may be that Elastic Net, because it is designed to penalize high variance and therefore overfitting, estimates too general model, which in our case gives worse predictive values than OLS. Just as we suspect Linear Regression to fall with larger datasets, we would think that Elastic Net might retain similar predictive ability.\n",
    "\n",
    "Last method we used was Neural Network - it showed outstanding predictions with over 2x lower MAE and Adjusted R-Squared of almost 1.0 proving that it is a superior regression tool. Only one thing remain - interpretability of coefficients. In Neural Network there are none, therefore it is very hard to draw conclusions. In furhter analysis we could run random forest on predicted (by Neural Network) values and try to find what variables are the most impactful and in what way, but this is in no way as accurate as OLS interpretation. \n",
    "\n",
    "And our hope is that we proved to some point why no regression method is perfect."
   ]
  }
 ],
 "metadata": {
  "kernelspec": {
   "display_name": "Python 3",
   "language": "python",
   "name": "python3"
  },
  "language_info": {
   "codemirror_mode": {
    "name": "ipython",
    "version": 3
   },
   "file_extension": ".py",
   "mimetype": "text/x-python",
   "name": "python",
   "nbconvert_exporter": "python",
   "pygments_lexer": "ipython3",
   "version": "3.7.2"
  }
 },
 "nbformat": 4,
 "nbformat_minor": 2
}
