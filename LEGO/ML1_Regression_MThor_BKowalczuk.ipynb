{
 "cells": [
  {
   "cell_type": "markdown",
   "metadata": {},
   "source": [
    "### Firstly, we import all the necessary packages"
   ]
  },
  {
   "cell_type": "code",
   "execution_count": 1,
   "metadata": {},
   "outputs": [
    {
     "name": "stderr",
     "output_type": "stream",
     "text": [
      "Using TensorFlow backend.\n"
     ]
    }
   ],
   "source": [
    "import pandas as pd\n",
    "import numpy as np\n",
    "import statsmodels.api as sm\n",
    "import matplotlib.pyplot as plt\n",
    "\n",
    "import sklearn\n",
    "from sklearn import metrics\n",
    "from sklearn.model_selection import train_test_split\n",
    "from sklearn.model_selection import GridSearchCV\n",
    "from sklearn.linear_model import Lasso\n",
    "from sklearn.linear_model import ElasticNet\n",
    "from sklearn.linear_model import LinearRegression\n",
    "\n",
    "import keras\n",
    "from keras import optimizers\n",
    "from keras import regularizers\n",
    "from keras.callbacks import ModelCheckpoint\n",
    "from keras.models import Sequential\n",
    "from keras.layers import Dense, Activation, Flatten, Dropout\n",
    "from keras.optimizers import SGD\n",
    "from keras.constraints import maxnorm\n",
    "from keras.models import load_model\n",
    "from keras.wrappers.scikit_learn import KerasRegressor\n",
    "\n"
   ]
  },
  {
   "cell_type": "markdown",
   "metadata": {},
   "source": [
    "### Loading the dataset"
   ]
  },
  {
   "cell_type": "code",
   "execution_count": 196,
   "metadata": {},
   "outputs": [],
   "source": [
    "df = pd.read_csv('lego_Sets.csv')"
   ]
  },
  {
   "cell_type": "markdown",
   "metadata": {},
   "source": [
    "### Removing variables that would give no predictive power (information variables such as ID's or descriptions)"
   ]
  },
  {
   "cell_type": "code",
   "execution_count": 197,
   "metadata": {},
   "outputs": [],
   "source": [
    "df = df.drop(['prod_desc', \n",
    "              'prod_id', \n",
    "              'prod_long_desc', \n",
    "              'set_name'],\n",
    "             axis=1)"
   ]
  },
  {
   "cell_type": "markdown",
   "metadata": {},
   "source": [
    "### Changing variables into right format"
   ]
  },
  {
   "cell_type": "code",
   "execution_count": 198,
   "metadata": {},
   "outputs": [],
   "source": [
    "df.list_price = df.list_price.astype(float)\n",
    "df['review_difficulty'] = df['review_difficulty'].astype(\"category\")\n",
    "df['review_difficulty'] = df['review_difficulty'].cat.reorder_categories(['Very Easy',\n",
    "                                                               'Easy',\n",
    "                                                               'Average',\n",
    "                                                               'Challenging',\n",
    "                                                               'Very Challenging'],\n",
    "                                                                        ordered = True)\n",
    "df['review_difficulty'] = df['review_difficulty'].cat.codes\n",
    "df.theme_name = df.theme_name.astype(object)\n",
    "df.ages = df.ages.astype(object)"
   ]
  },
  {
   "cell_type": "markdown",
   "metadata": {},
   "source": [
    "### Next, we are checking for missing values within the dataset"
   ]
  },
  {
   "cell_type": "code",
   "execution_count": 199,
   "metadata": {
    "scrolled": true
   },
   "outputs": [
    {
     "data": {
      "text/html": [
       "<div>\n",
       "<style scoped>\n",
       "    .dataframe tbody tr th:only-of-type {\n",
       "        vertical-align: middle;\n",
       "    }\n",
       "\n",
       "    .dataframe tbody tr th {\n",
       "        vertical-align: top;\n",
       "    }\n",
       "\n",
       "    .dataframe thead th {\n",
       "        text-align: right;\n",
       "    }\n",
       "</style>\n",
       "<table border=\"1\" class=\"dataframe\">\n",
       "  <thead>\n",
       "    <tr style=\"text-align: right;\">\n",
       "      <th></th>\n",
       "      <th>Number of occurencies</th>\n",
       "      <th>Percentage</th>\n",
       "    </tr>\n",
       "  </thead>\n",
       "  <tbody>\n",
       "    <tr>\n",
       "      <th>num_reviews</th>\n",
       "      <td>1620</td>\n",
       "      <td>13.212625</td>\n",
       "    </tr>\n",
       "    <tr>\n",
       "      <th>play_star_rating</th>\n",
       "      <td>1775</td>\n",
       "      <td>14.476796</td>\n",
       "    </tr>\n",
       "    <tr>\n",
       "      <th>star_rating</th>\n",
       "      <td>1620</td>\n",
       "      <td>13.212625</td>\n",
       "    </tr>\n",
       "    <tr>\n",
       "      <th>theme_name</th>\n",
       "      <td>3</td>\n",
       "      <td>0.024468</td>\n",
       "    </tr>\n",
       "    <tr>\n",
       "      <th>val_star_rating</th>\n",
       "      <td>1795</td>\n",
       "      <td>14.639915</td>\n",
       "    </tr>\n",
       "  </tbody>\n",
       "</table>\n",
       "</div>"
      ],
      "text/plain": [
       "                  Number of occurencies  Percentage\n",
       "num_reviews                        1620   13.212625\n",
       "play_star_rating                   1775   14.476796\n",
       "star_rating                        1620   13.212625\n",
       "theme_name                            3    0.024468\n",
       "val_star_rating                    1795   14.639915"
      ]
     },
     "execution_count": 199,
     "metadata": {},
     "output_type": "execute_result"
    }
   ],
   "source": [
    "missing_data = pd.DataFrame({'Number of occurencies': df.isna().sum(),\n",
    "                             'Percentage': 100*df.isna().sum()/len(df)\n",
    "                            })\n",
    "missing_data[missing_data['Number of occurencies'] > 0]"
   ]
  },
  {
   "cell_type": "markdown",
   "metadata": {},
   "source": [
    "Since the missings in star_rating (all 3 columns concerning them) are common for certain observations, maybe we can somehow reduce the number of them by filling missing values with computed value.\n",
    "\n",
    "Missings in review difficulty are labeled with a group code equal to -1."
   ]
  },
  {
   "cell_type": "markdown",
   "metadata": {},
   "source": [
    "We can see that star_rating has less NA's than play and val star_rating. We shall see if there is a correlation between those 3 variables. "
   ]
  },
  {
   "cell_type": "code",
   "execution_count": 200,
   "metadata": {},
   "outputs": [
    {
     "data": {
      "text/html": [
       "<style  type=\"text/css\" >\n",
       "    #T_37f81206_8af3_11e9_ae6c_00215cdcfe0frow0_col0 {\n",
       "            background-color:  #b40426;\n",
       "        }    #T_37f81206_8af3_11e9_ae6c_00215cdcfe0frow0_col1 {\n",
       "            background-color:  #8badfd;\n",
       "        }    #T_37f81206_8af3_11e9_ae6c_00215cdcfe0frow0_col2 {\n",
       "            background-color:  #d6dce4;\n",
       "        }    #T_37f81206_8af3_11e9_ae6c_00215cdcfe0frow1_col0 {\n",
       "            background-color:  #3b4cc0;\n",
       "        }    #T_37f81206_8af3_11e9_ae6c_00215cdcfe0frow1_col1 {\n",
       "            background-color:  #b40426;\n",
       "        }    #T_37f81206_8af3_11e9_ae6c_00215cdcfe0frow1_col2 {\n",
       "            background-color:  #3b4cc0;\n",
       "        }    #T_37f81206_8af3_11e9_ae6c_00215cdcfe0frow2_col0 {\n",
       "            background-color:  #a1c0ff;\n",
       "        }    #T_37f81206_8af3_11e9_ae6c_00215cdcfe0frow2_col1 {\n",
       "            background-color:  #3b4cc0;\n",
       "        }    #T_37f81206_8af3_11e9_ae6c_00215cdcfe0frow2_col2 {\n",
       "            background-color:  #b40426;\n",
       "        }</style>  \n",
       "<table id=\"T_37f81206_8af3_11e9_ae6c_00215cdcfe0f\" > \n",
       "<thead>    <tr> \n",
       "        <th class=\"blank level0\" ></th> \n",
       "        <th class=\"col_heading level0 col0\" >star_rating</th> \n",
       "        <th class=\"col_heading level0 col1\" >play_star_rating</th> \n",
       "        <th class=\"col_heading level0 col2\" >val_star_rating</th> \n",
       "    </tr></thead> \n",
       "<tbody>    <tr> \n",
       "        <th id=\"T_37f81206_8af3_11e9_ae6c_00215cdcfe0flevel0_row0\" class=\"row_heading level0 row0\" >star_rating</th> \n",
       "        <td id=\"T_37f81206_8af3_11e9_ae6c_00215cdcfe0frow0_col0\" class=\"data row0 col0\" >1</td> \n",
       "        <td id=\"T_37f81206_8af3_11e9_ae6c_00215cdcfe0frow0_col1\" class=\"data row0 col1\" >0.608193</td> \n",
       "        <td id=\"T_37f81206_8af3_11e9_ae6c_00215cdcfe0frow0_col2\" class=\"data row0 col2\" >0.72789</td> \n",
       "    </tr>    <tr> \n",
       "        <th id=\"T_37f81206_8af3_11e9_ae6c_00215cdcfe0flevel0_row1\" class=\"row_heading level0 row1\" >play_star_rating</th> \n",
       "        <td id=\"T_37f81206_8af3_11e9_ae6c_00215cdcfe0frow1_col0\" class=\"data row1 col0\" >0.608193</td> \n",
       "        <td id=\"T_37f81206_8af3_11e9_ae6c_00215cdcfe0frow1_col1\" class=\"data row1 col1\" >1</td> \n",
       "        <td id=\"T_37f81206_8af3_11e9_ae6c_00215cdcfe0frow1_col2\" class=\"data row1 col2\" >0.480938</td> \n",
       "    </tr>    <tr> \n",
       "        <th id=\"T_37f81206_8af3_11e9_ae6c_00215cdcfe0flevel0_row2\" class=\"row_heading level0 row2\" >val_star_rating</th> \n",
       "        <td id=\"T_37f81206_8af3_11e9_ae6c_00215cdcfe0frow2_col0\" class=\"data row2 col0\" >0.72789</td> \n",
       "        <td id=\"T_37f81206_8af3_11e9_ae6c_00215cdcfe0frow2_col1\" class=\"data row2 col1\" >0.480938</td> \n",
       "        <td id=\"T_37f81206_8af3_11e9_ae6c_00215cdcfe0frow2_col2\" class=\"data row2 col2\" >1</td> \n",
       "    </tr></tbody> \n",
       "</table> "
      ],
      "text/plain": [
       "<pandas.io.formats.style.Styler at 0x1530981def0>"
      ]
     },
     "execution_count": 200,
     "metadata": {},
     "output_type": "execute_result"
    }
   ],
   "source": [
    "corr = df[['star_rating', 'play_star_rating', 'val_star_rating']].corr()\n",
    "corr.style.background_gradient(cmap='coolwarm')"
   ]
  },
  {
   "cell_type": "markdown",
   "metadata": {},
   "source": [
    "Let us compute means of ratios between star_rating for the whole dataset and use that ratio to create values to impute instead of NA's.\n",
    "\n",
    "Afterwards, because of slightly high correlation we decided to omit star_rating and leave the two other ratings (and since they all have same number of NA's)"
   ]
  },
  {
   "cell_type": "code",
   "execution_count": 201,
   "metadata": {},
   "outputs": [],
   "source": [
    "df['star/play'] = df['star_rating']/df['play_star_rating']\n",
    "df['star/val'] = df['star_rating']/df['val_star_rating']\n",
    "\n",
    "star_p_mean = df['star/play'].mean()\n",
    "star_v_mean = df['star/val'].mean()\n",
    "\n",
    "df.loc[(df['play_star_rating'].isnull()) & (df['star_rating'].notna()), \"play_star_rating\"] = df[\"star_rating\"]*star_p_mean\n",
    "df.loc[(df['val_star_rating'].isnull()) & (df['star_rating'].notna()), \"val_star_rating\"] = df[\"star_rating\"]*star_v_mean\n",
    "\n",
    "df.drop(['star/play', 'star/val', 'star_rating'], axis=1, inplace=True)"
   ]
  },
  {
   "cell_type": "markdown",
   "metadata": {},
   "source": [
    "That way we managed to narrow our total rows with NA's to 1620. Unfortunately there is no way to safely replace values for these observations (which all have at least 3 NA's) so we will omit them in further analysis."
   ]
  },
  {
   "cell_type": "code",
   "execution_count": 202,
   "metadata": {},
   "outputs": [],
   "source": [
    "df.loc[df.isnull().sum(1)>=3].index\n",
    "\n",
    "df = df.dropna()"
   ]
  },
  {
   "cell_type": "markdown",
   "metadata": {},
   "source": [
    "### Checking for categorical variables - whether we can use one hot encoding or will it produce too many new columns"
   ]
  },
  {
   "cell_type": "code",
   "execution_count": 213,
   "metadata": {},
   "outputs": [
    {
     "name": "stdout",
     "output_type": "stream",
     "text": [
      "{'ages': 31, 'review_difficulty': 6, 'theme_name': 38, 'country': 21}\n"
     ]
    }
   ],
   "source": [
    "cat_vars = []\n",
    "cont_vars = []\n",
    "for variable in df.columns:\n",
    "    if df[variable].dtype==object:\n",
    "        cat_vars.append(variable)\n",
    "    else:\n",
    "        cont_vars.append(variable)\n",
    "        \n",
    "num_of_cats = {}\n",
    "for category in cat_cols:\n",
    "    num_of_cats[category] = len(list(df[category].unique()))\n",
    "    \n",
    "print(num_of_cats)"
   ]
  },
  {
   "cell_type": "markdown",
   "metadata": {},
   "source": [
    "We can see that all the variables have a lot of levels, let's see how different are the numbers of observations within each level on barplots below."
   ]
  },
  {
   "cell_type": "code",
   "execution_count": 275,
   "metadata": {},
   "outputs": [
    {
     "data": {
      "image/png": "[encoded data removed]",
      "text/plain": [
       "<Figure size 1008x432 with 1 Axes>"
      ]
     },
     "metadata": {
      "needs_background": "light"
     },
     "output_type": "display_data"
    },
    {
     "data": {
      "image/png": "[encoded data removed]",
      "text/plain": [
       "<Figure size 1008x432 with 1 Axes>"
      ]
     },
     "metadata": {
      "needs_background": "light"
     },
     "output_type": "display_data"
    },
    {
     "data": {
      "image/png": "[encoded data removed]",
      "text/plain": [
       "<Figure size 1008x432 with 1 Axes>"
      ]
     },
     "metadata": {
      "needs_background": "light"
     },
     "output_type": "display_data"
    }
   ],
   "source": [
    "bar_width = 0.35\n",
    "opacity = 0.8\n",
    "colors = [\"b\",\"g\",\"r\"]\n",
    "\n",
    "\n",
    "for idx, var in enumerate(cat_vars):\n",
    "    plt.figure(figsize=(14,6))\n",
    "    boo = list(dict(df[var].value_counts()).values())\n",
    "    leng = np.arange(len(list(dict(df[var].value_counts()).values())))\n",
    "    rects = plt.bar(leng, boo, bar_width,\n",
    "    alpha=opacity,\n",
    "    color=colors[idx])\n",
    "    plt.ylabel('Number of occurences')\n",
    "    plt.xlabel('Number of category')\n",
    "    plt.title('Occurences for variable: {}'.format(var))\n",
    "    plt.tight_layout()\n",
    "    plt.show()"
   ]
  },
  {
   "cell_type": "markdown",
   "metadata": {},
   "source": [
    "### Creating correlation matrix "
   ]
  },
  {
   "cell_type": "code",
   "execution_count": 206,
   "metadata": {
    "scrolled": false
   },
   "outputs": [
    {
     "data": {
      "text/html": [
       "<style  type=\"text/css\" >\n",
       "    #T_5040ed4a_8af3_11e9_ad8d_00215cdcfe0frow0_col0 {\n",
       "            background-color:  #b40426;\n",
       "        }    #T_5040ed4a_8af3_11e9_ad8d_00215cdcfe0frow0_col1 {\n",
       "            background-color:  #e7d7ce;\n",
       "        }    #T_5040ed4a_8af3_11e9_ad8d_00215cdcfe0frow0_col2 {\n",
       "            background-color:  #3b4cc0;\n",
       "        }    #T_5040ed4a_8af3_11e9_ad8d_00215cdcfe0frow0_col3 {\n",
       "            background-color:  #a9c6fd;\n",
       "        }    #T_5040ed4a_8af3_11e9_ad8d_00215cdcfe0frow0_col4 {\n",
       "            background-color:  #3f53c6;\n",
       "        }    #T_5040ed4a_8af3_11e9_ad8d_00215cdcfe0frow1_col0 {\n",
       "            background-color:  #ecd3c5;\n",
       "        }    #T_5040ed4a_8af3_11e9_ad8d_00215cdcfe0frow1_col1 {\n",
       "            background-color:  #b40426;\n",
       "        }    #T_5040ed4a_8af3_11e9_ad8d_00215cdcfe0frow1_col2 {\n",
       "            background-color:  #4b64d5;\n",
       "        }    #T_5040ed4a_8af3_11e9_ad8d_00215cdcfe0frow1_col3 {\n",
       "            background-color:  #dfdbd9;\n",
       "        }    #T_5040ed4a_8af3_11e9_ad8d_00215cdcfe0frow1_col4 {\n",
       "            background-color:  #4f69d9;\n",
       "        }    #T_5040ed4a_8af3_11e9_ad8d_00215cdcfe0frow2_col0 {\n",
       "            background-color:  #3b4cc0;\n",
       "        }    #T_5040ed4a_8af3_11e9_ad8d_00215cdcfe0frow2_col1 {\n",
       "            background-color:  #3b4cc0;\n",
       "        }    #T_5040ed4a_8af3_11e9_ad8d_00215cdcfe0frow2_col2 {\n",
       "            background-color:  #b40426;\n",
       "        }    #T_5040ed4a_8af3_11e9_ad8d_00215cdcfe0frow2_col3 {\n",
       "            background-color:  #4055c8;\n",
       "        }    #T_5040ed4a_8af3_11e9_ad8d_00215cdcfe0frow2_col4 {\n",
       "            background-color:  #dddcdc;\n",
       "        }    #T_5040ed4a_8af3_11e9_ad8d_00215cdcfe0frow3_col0 {\n",
       "            background-color:  #b2ccfb;\n",
       "        }    #T_5040ed4a_8af3_11e9_ad8d_00215cdcfe0frow3_col1 {\n",
       "            background-color:  #dddcdc;\n",
       "        }    #T_5040ed4a_8af3_11e9_ad8d_00215cdcfe0frow3_col2 {\n",
       "            background-color:  #4c66d6;\n",
       "        }    #T_5040ed4a_8af3_11e9_ad8d_00215cdcfe0frow3_col3 {\n",
       "            background-color:  #b40426;\n",
       "        }    #T_5040ed4a_8af3_11e9_ad8d_00215cdcfe0frow3_col4 {\n",
       "            background-color:  #3b4cc0;\n",
       "        }    #T_5040ed4a_8af3_11e9_ad8d_00215cdcfe0frow4_col0 {\n",
       "            background-color:  #4b64d5;\n",
       "        }    #T_5040ed4a_8af3_11e9_ad8d_00215cdcfe0frow4_col1 {\n",
       "            background-color:  #4961d2;\n",
       "        }    #T_5040ed4a_8af3_11e9_ad8d_00215cdcfe0frow4_col2 {\n",
       "            background-color:  #e2dad5;\n",
       "        }    #T_5040ed4a_8af3_11e9_ad8d_00215cdcfe0frow4_col3 {\n",
       "            background-color:  #3b4cc0;\n",
       "        }    #T_5040ed4a_8af3_11e9_ad8d_00215cdcfe0frow4_col4 {\n",
       "            background-color:  #b40426;\n",
       "        }</style>  \n",
       "<table id=\"T_5040ed4a_8af3_11e9_ad8d_00215cdcfe0f\" > \n",
       "<thead>    <tr> \n",
       "        <th class=\"blank level0\" ></th> \n",
       "        <th class=\"col_heading level0 col0\" >num_reviews</th> \n",
       "        <th class=\"col_heading level0 col1\" >piece_count</th> \n",
       "        <th class=\"col_heading level0 col2\" >play_star_rating</th> \n",
       "        <th class=\"col_heading level0 col3\" >review_difficulty</th> \n",
       "        <th class=\"col_heading level0 col4\" >val_star_rating</th> \n",
       "    </tr></thead> \n",
       "<tbody>    <tr> \n",
       "        <th id=\"T_5040ed4a_8af3_11e9_ad8d_00215cdcfe0flevel0_row0\" class=\"row_heading level0 row0\" >num_reviews</th> \n",
       "        <td id=\"T_5040ed4a_8af3_11e9_ad8d_00215cdcfe0frow0_col0\" class=\"data row0 col0\" >1</td> \n",
       "        <td id=\"T_5040ed4a_8af3_11e9_ad8d_00215cdcfe0frow0_col1\" class=\"data row0 col1\" >0.546616</td> \n",
       "        <td id=\"T_5040ed4a_8af3_11e9_ad8d_00215cdcfe0frow0_col2\" class=\"data row0 col2\" >-0.0451145</td> \n",
       "        <td id=\"T_5040ed4a_8af3_11e9_ad8d_00215cdcfe0frow0_col3\" class=\"data row0 col3\" >0.328073</td> \n",
       "        <td id=\"T_5040ed4a_8af3_11e9_ad8d_00215cdcfe0frow0_col4\" class=\"data row0 col4\" >0.0148351</td> \n",
       "    </tr>    <tr> \n",
       "        <th id=\"T_5040ed4a_8af3_11e9_ad8d_00215cdcfe0flevel0_row1\" class=\"row_heading level0 row1\" >piece_count</th> \n",
       "        <td id=\"T_5040ed4a_8af3_11e9_ad8d_00215cdcfe0frow1_col0\" class=\"data row1 col0\" >0.546616</td> \n",
       "        <td id=\"T_5040ed4a_8af3_11e9_ad8d_00215cdcfe0frow1_col1\" class=\"data row1 col1\" >1</td> \n",
       "        <td id=\"T_5040ed4a_8af3_11e9_ad8d_00215cdcfe0frow1_col2\" class=\"data row1 col2\" >0.0147979</td> \n",
       "        <td id=\"T_5040ed4a_8af3_11e9_ad8d_00215cdcfe0frow1_col3\" class=\"data row1 col3\" >0.509112</td> \n",
       "        <td id=\"T_5040ed4a_8af3_11e9_ad8d_00215cdcfe0frow1_col4\" class=\"data row1 col4\" >0.0636759</td> \n",
       "    </tr>    <tr> \n",
       "        <th id=\"T_5040ed4a_8af3_11e9_ad8d_00215cdcfe0flevel0_row2\" class=\"row_heading level0 row2\" >play_star_rating</th> \n",
       "        <td id=\"T_5040ed4a_8af3_11e9_ad8d_00215cdcfe0frow2_col0\" class=\"data row2 col0\" >-0.0451145</td> \n",
       "        <td id=\"T_5040ed4a_8af3_11e9_ad8d_00215cdcfe0frow2_col1\" class=\"data row2 col1\" >0.0147979</td> \n",
       "        <td id=\"T_5040ed4a_8af3_11e9_ad8d_00215cdcfe0frow2_col2\" class=\"data row2 col2\" >1</td> \n",
       "        <td id=\"T_5040ed4a_8af3_11e9_ad8d_00215cdcfe0frow2_col3\" class=\"data row2 col3\" >0.018671</td> \n",
       "        <td id=\"T_5040ed4a_8af3_11e9_ad8d_00215cdcfe0frow2_col4\" class=\"data row2 col4\" >0.499167</td> \n",
       "    </tr>    <tr> \n",
       "        <th id=\"T_5040ed4a_8af3_11e9_ad8d_00215cdcfe0flevel0_row3\" class=\"row_heading level0 row3\" >review_difficulty</th> \n",
       "        <td id=\"T_5040ed4a_8af3_11e9_ad8d_00215cdcfe0frow3_col0\" class=\"data row3 col0\" >0.328073</td> \n",
       "        <td id=\"T_5040ed4a_8af3_11e9_ad8d_00215cdcfe0frow3_col1\" class=\"data row3 col1\" >0.509112</td> \n",
       "        <td id=\"T_5040ed4a_8af3_11e9_ad8d_00215cdcfe0frow3_col2\" class=\"data row3 col2\" >0.018671</td> \n",
       "        <td id=\"T_5040ed4a_8af3_11e9_ad8d_00215cdcfe0frow3_col3\" class=\"data row3 col3\" >1</td> \n",
       "        <td id=\"T_5040ed4a_8af3_11e9_ad8d_00215cdcfe0frow3_col4\" class=\"data row3 col4\" >-0.00300082</td> \n",
       "    </tr>    <tr> \n",
       "        <th id=\"T_5040ed4a_8af3_11e9_ad8d_00215cdcfe0flevel0_row4\" class=\"row_heading level0 row4\" >val_star_rating</th> \n",
       "        <td id=\"T_5040ed4a_8af3_11e9_ad8d_00215cdcfe0frow4_col0\" class=\"data row4 col0\" >0.0148351</td> \n",
       "        <td id=\"T_5040ed4a_8af3_11e9_ad8d_00215cdcfe0frow4_col1\" class=\"data row4 col1\" >0.0636759</td> \n",
       "        <td id=\"T_5040ed4a_8af3_11e9_ad8d_00215cdcfe0frow4_col2\" class=\"data row4 col2\" >0.499167</td> \n",
       "        <td id=\"T_5040ed4a_8af3_11e9_ad8d_00215cdcfe0frow4_col3\" class=\"data row4 col3\" >-0.00300082</td> \n",
       "        <td id=\"T_5040ed4a_8af3_11e9_ad8d_00215cdcfe0frow4_col4\" class=\"data row4 col4\" >1</td> \n",
       "    </tr></tbody> \n",
       "</table> "
      ],
      "text/plain": [
       "<pandas.io.formats.style.Styler at 0x1530981dfd0>"
      ]
     },
     "execution_count": 206,
     "metadata": {},
     "output_type": "execute_result"
    }
   ],
   "source": [
    "corr = df.drop(['list_price'], axis=1).corr()\n",
    "corr.style.background_gradient(cmap='coolwarm')"
   ]
  },
  {
   "cell_type": "markdown",
   "metadata": {},
   "source": [
    "There are no visible very high correlations (some ~0.5, but we decided to leave them in further analysis, because these are not worrying values)."
   ]
  },
  {
   "cell_type": "markdown",
   "metadata": {},
   "source": [
    "### Creating dummy variables through one hot encoding"
   ]
  },
  {
   "cell_type": "code",
   "execution_count": 211,
   "metadata": {},
   "outputs": [],
   "source": [
    "df2 = pd.get_dummies(df)"
   ]
  },
  {
   "cell_type": "markdown",
   "metadata": {},
   "source": [
    "### Splitting dataset into training and testing dataset"
   ]
  },
  {
   "cell_type": "code",
   "execution_count": 212,
   "metadata": {},
   "outputs": [],
   "source": [
    "X, Y = df2.drop(['list_price'], axis=1), df2['list_price']\n",
    "\n",
    "X_train, X_test, Y_train, Y_test = train_test_split(\n",
    "                                                    X, \n",
    "                                                    Y, \n",
    "                                                    test_size=0.3, \n",
    "                                                    random_state=361)"
   ]
  },
  {
   "cell_type": "code",
   "execution_count": null,
   "metadata": {},
   "outputs": [],
   "source": []
  }
 ],
 "metadata": {
  "kernelspec": {
   "display_name": "Python 3",
   "language": "python",
   "name": "python3"
  },
  "language_info": {
   "codemirror_mode": {
    "name": "ipython",
    "version": 3
   },
   "file_extension": ".py",
   "mimetype": "text/x-python",
   "name": "python",
   "nbconvert_exporter": "python",
   "pygments_lexer": "ipython3",
   "version": "3.7.2"
  }
 },
 "nbformat": 4,
 "nbformat_minor": 2
}
