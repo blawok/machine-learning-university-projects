{
 "cells": [
  {
   "cell_type": "markdown",
   "metadata": {},
   "source": [
    "# <center> LEGO sets listing price prediction - regression model</center>"
   ]
  },
  {
   "cell_type": "markdown",
   "metadata": {},
   "source": [
    "Machine Learning 1 Regression Project  \n",
    "<b>Michał Thor, Bartłomiej Kowalczuk  </b>\n",
    "\n",
    "In this project we wanted to conduct a regression analysis that would predict listing prices of LEGO toys based on 92 independent variables from the following dataset: https://www.kaggle.com/mterzolo/lego-sets.  \n",
    "\n",
    "We used Linear Regression (using OLS), Linear Regression with selected features, Elastic Net regression and Multilayer Perceptron (Neural Network) and compared obtained results.\n"
   ]
  },
  {
   "cell_type": "markdown",
   "metadata": {},
   "source": [
    "Firstly, we import all the necessary packages"
   ]
  },
  {
   "cell_type": "code",
   "execution_count": 86,
   "metadata": {},
   "outputs": [],
   "source": [
    "import pandas as pd\n",
    "import numpy as np\n",
    "import statsmodels.api as sm\n",
    "import matplotlib.pyplot as plt\n",
    "\n",
    "import sklearn\n",
    "from sklearn import metrics\n",
    "from sklearn.model_selection import train_test_split\n",
    "from sklearn.model_selection import GridSearchCV\n",
    "from sklearn.linear_model import Lasso\n",
    "from sklearn.linear_model import ElasticNet\n",
    "from sklearn.linear_model import LinearRegression\n",
    "from sklearn.metrics import r2_score as r2_score\n",
    "\n",
    "import keras\n",
    "from keras import optimizers\n",
    "from keras import regularizers\n",
    "from keras import backend as K\n",
    "from keras.callbacks import CSVLogger\n",
    "from keras.callbacks import ModelCheckpoint\n",
    "from keras.models import Sequential\n",
    "from keras.layers import Dense, Activation, Flatten, Dropout\n",
    "from keras.optimizers import SGD\n",
    "from keras.constraints import maxnorm\n",
    "from keras.models import load_model\n",
    "from keras.wrappers.scikit_learn import KerasRegressor"
   ]
  },
  {
   "cell_type": "markdown",
   "metadata": {},
   "source": [
    "Nextly, we define some utillity functions that will help us in estimating/evaluating models.\n",
    "\n",
    "We implement our own adjusted R-squared function, since sklearn package does not have one.\n",
    "\n",
    "We also implement stepwise selection function for OLS model, which is based on the solution from:\n",
    "https://datascience.stackexchange.com/questions/24405/how-to-do-stepwise-regression-using-sklearn/24447#24447\n",
    "\n",
    "Lastly we implement R-squared function for neural network improvement plotting."
   ]
  },
  {
   "cell_type": "code",
   "execution_count": 74,
   "metadata": {},
   "outputs": [],
   "source": [
    "def adj_r2(r_sqr, n, p):\n",
    "    r_2 = 1-(1-r_sqr)*(n-1)/(n-p-1)\n",
    "    return r_2\n",
    "\n",
    "\n",
    "def stepwise_selection(X, y, \n",
    "                       initial_list=[], \n",
    "                       threshold_in=0.04, \n",
    "                       threshold_out = 0.05, \n",
    "                       verbose=True):\n",
    "    \"\"\" Perform a forward-backward feature selection \n",
    "    based on p-value from statsmodels.api.OLS\n",
    "    Arguments:\n",
    "        X - pandas.DataFrame with candidate features\n",
    "        y - list-like with the target\n",
    "        initial_list - list of features to start with (column names of X)\n",
    "        threshold_in - include a feature if its p-value < threshold_in\n",
    "        threshold_out - exclude a feature if its p-value > threshold_out\n",
    "        verbose - whether to print the sequence of inclusions and exclusions\n",
    "    Returns: list of selected features \n",
    "    Always set threshold_in < threshold_out to avoid infinite looping.\n",
    "    See https://en.wikipedia.org/wiki/Stepwise_regression for the details\n",
    "    \"\"\"\n",
    "    included = list(initial_list)\n",
    "    while True:\n",
    "        changed=False\n",
    "        # forward step\n",
    "        excluded = list(set(X.columns)-set(included))\n",
    "        new_pval = pd.Series(index=excluded)\n",
    "        for new_column in excluded:\n",
    "            model = sm.OLS(y, sm.add_constant(pd.DataFrame(X[included+[new_column]]))).fit()\n",
    "            new_pval[new_column] = model.pvalues[new_column]\n",
    "        best_pval = new_pval.min()\n",
    "        if best_pval < threshold_in:\n",
    "            best_feature = new_pval.argmin()\n",
    "            included.append(best_feature)\n",
    "            changed=True\n",
    "            if verbose:\n",
    "                print('Add  {:30} with p-value {:.6}'.format(best_feature, best_pval))\n",
    "\n",
    "        # backward step\n",
    "        model = sm.OLS(y, sm.add_constant(pd.DataFrame(X[included]))).fit()\n",
    "        # use all coefs except intercept\n",
    "        pvalues = model.pvalues.iloc[1:]\n",
    "        worst_pval = pvalues.max() # null if pvalues is empty\n",
    "        if worst_pval > threshold_out:\n",
    "            changed=True\n",
    "            worst_feature = pvalues.argmax()\n",
    "            included.remove(worst_feature)\n",
    "            if verbose:\n",
    "                print('Drop {:30} with p-value {:.6}'.format(worst_feature, worst_pval))\n",
    "        if not changed:\n",
    "            break\n",
    "    return included\n",
    "\n",
    "def r2_keras(y_true, y_pred):\n",
    "    SS_res =  K.sum(K.square(y_true - y_pred)) \n",
    "    SS_tot = K.sum(K.square(y_true - K.mean(y_true))) \n",
    "    return ( 1 - SS_res/(SS_tot + K.epsilon()) )"
   ]
  },
  {
   "cell_type": "markdown",
   "metadata": {},
   "source": [
    "# <center>1. Understanding the data</center>"
   ]
  },
  {
   "cell_type": "markdown",
   "metadata": {},
   "source": [
    "### Loading the dataset"
   ]
  },
  {
   "cell_type": "code",
   "execution_count": 3,
   "metadata": {},
   "outputs": [],
   "source": [
    "df = pd.read_csv('lego_Sets.csv')"
   ]
  },
  {
   "cell_type": "markdown",
   "metadata": {},
   "source": [
    "### Brief preview of the dataset structure"
   ]
  },
  {
   "cell_type": "code",
   "execution_count": 4,
   "metadata": {
    "scrolled": true
   },
   "outputs": [
    {
     "data": {
      "text/html": [
       "<div>\n",
       "<style scoped>\n",
       "    .dataframe tbody tr th:only-of-type {\n",
       "        vertical-align: middle;\n",
       "    }\n",
       "\n",
       "    .dataframe tbody tr th {\n",
       "        vertical-align: top;\n",
       "    }\n",
       "\n",
       "    .dataframe thead th {\n",
       "        text-align: right;\n",
       "    }\n",
       "</style>\n",
       "<table border=\"1\" class=\"dataframe\">\n",
       "  <thead>\n",
       "    <tr style=\"text-align: right;\">\n",
       "      <th></th>\n",
       "      <th>ages</th>\n",
       "      <th>list_price</th>\n",
       "      <th>num_reviews</th>\n",
       "      <th>piece_count</th>\n",
       "      <th>play_star_rating</th>\n",
       "      <th>prod_desc</th>\n",
       "      <th>prod_id</th>\n",
       "      <th>prod_long_desc</th>\n",
       "      <th>review_difficulty</th>\n",
       "      <th>set_name</th>\n",
       "      <th>star_rating</th>\n",
       "      <th>theme_name</th>\n",
       "      <th>val_star_rating</th>\n",
       "      <th>country</th>\n",
       "    </tr>\n",
       "  </thead>\n",
       "  <tbody>\n",
       "    <tr>\n",
       "      <th>0</th>\n",
       "      <td>6-12</td>\n",
       "      <td>29.99</td>\n",
       "      <td>2.0</td>\n",
       "      <td>277.0</td>\n",
       "      <td>4.0</td>\n",
       "      <td>Catapult into action and take back the eggs fr...</td>\n",
       "      <td>75823.0</td>\n",
       "      <td>Use the staircase catapult to launch Red into ...</td>\n",
       "      <td>Average</td>\n",
       "      <td>Bird Island Egg Heist</td>\n",
       "      <td>4.5</td>\n",
       "      <td>Angry Birds™</td>\n",
       "      <td>4.0</td>\n",
       "      <td>US</td>\n",
       "    </tr>\n",
       "    <tr>\n",
       "      <th>1</th>\n",
       "      <td>6-12</td>\n",
       "      <td>19.99</td>\n",
       "      <td>2.0</td>\n",
       "      <td>168.0</td>\n",
       "      <td>4.0</td>\n",
       "      <td>Launch a flying attack and rescue the eggs fro...</td>\n",
       "      <td>75822.0</td>\n",
       "      <td>Pilot Pig has taken off from Bird Island with ...</td>\n",
       "      <td>Easy</td>\n",
       "      <td>Piggy Plane Attack</td>\n",
       "      <td>5.0</td>\n",
       "      <td>Angry Birds™</td>\n",
       "      <td>4.0</td>\n",
       "      <td>US</td>\n",
       "    </tr>\n",
       "    <tr>\n",
       "      <th>2</th>\n",
       "      <td>6-12</td>\n",
       "      <td>12.99</td>\n",
       "      <td>11.0</td>\n",
       "      <td>74.0</td>\n",
       "      <td>4.3</td>\n",
       "      <td>Chase the piggy with lightning-fast Chuck and ...</td>\n",
       "      <td>75821.0</td>\n",
       "      <td>Pitch speedy bird Chuck against the Piggy Car....</td>\n",
       "      <td>Easy</td>\n",
       "      <td>Piggy Car Escape</td>\n",
       "      <td>4.3</td>\n",
       "      <td>Angry Birds™</td>\n",
       "      <td>4.1</td>\n",
       "      <td>US</td>\n",
       "    </tr>\n",
       "    <tr>\n",
       "      <th>3</th>\n",
       "      <td>12+</td>\n",
       "      <td>99.99</td>\n",
       "      <td>23.0</td>\n",
       "      <td>1032.0</td>\n",
       "      <td>3.6</td>\n",
       "      <td>Explore the architecture of the United States ...</td>\n",
       "      <td>21030.0</td>\n",
       "      <td>Discover the architectural secrets of the icon...</td>\n",
       "      <td>Average</td>\n",
       "      <td>United States Capitol Building</td>\n",
       "      <td>4.6</td>\n",
       "      <td>Architecture</td>\n",
       "      <td>4.3</td>\n",
       "      <td>US</td>\n",
       "    </tr>\n",
       "    <tr>\n",
       "      <th>4</th>\n",
       "      <td>12+</td>\n",
       "      <td>79.99</td>\n",
       "      <td>14.0</td>\n",
       "      <td>744.0</td>\n",
       "      <td>3.2</td>\n",
       "      <td>Recreate the Solomon R. Guggenheim Museum® wit...</td>\n",
       "      <td>21035.0</td>\n",
       "      <td>Discover the architectural secrets of Frank Ll...</td>\n",
       "      <td>Challenging</td>\n",
       "      <td>Solomon R. Guggenheim Museum®</td>\n",
       "      <td>4.6</td>\n",
       "      <td>Architecture</td>\n",
       "      <td>4.1</td>\n",
       "      <td>US</td>\n",
       "    </tr>\n",
       "  </tbody>\n",
       "</table>\n",
       "</div>"
      ],
      "text/plain": [
       "   ages  list_price  num_reviews  piece_count  play_star_rating  \\\n",
       "0  6-12       29.99          2.0        277.0               4.0   \n",
       "1  6-12       19.99          2.0        168.0               4.0   \n",
       "2  6-12       12.99         11.0         74.0               4.3   \n",
       "3   12+       99.99         23.0       1032.0               3.6   \n",
       "4   12+       79.99         14.0        744.0               3.2   \n",
       "\n",
       "                                           prod_desc  prod_id  \\\n",
       "0  Catapult into action and take back the eggs fr...  75823.0   \n",
       "1  Launch a flying attack and rescue the eggs fro...  75822.0   \n",
       "2  Chase the piggy with lightning-fast Chuck and ...  75821.0   \n",
       "3  Explore the architecture of the United States ...  21030.0   \n",
       "4  Recreate the Solomon R. Guggenheim Museum® wit...  21035.0   \n",
       "\n",
       "                                      prod_long_desc review_difficulty  \\\n",
       "0  Use the staircase catapult to launch Red into ...           Average   \n",
       "1  Pilot Pig has taken off from Bird Island with ...              Easy   \n",
       "2  Pitch speedy bird Chuck against the Piggy Car....              Easy   \n",
       "3  Discover the architectural secrets of the icon...           Average   \n",
       "4  Discover the architectural secrets of Frank Ll...       Challenging   \n",
       "\n",
       "                         set_name  star_rating    theme_name  val_star_rating  \\\n",
       "0           Bird Island Egg Heist          4.5  Angry Birds™              4.0   \n",
       "1              Piggy Plane Attack          5.0  Angry Birds™              4.0   \n",
       "2                Piggy Car Escape          4.3  Angry Birds™              4.1   \n",
       "3  United States Capitol Building          4.6  Architecture              4.3   \n",
       "4   Solomon R. Guggenheim Museum®          4.6  Architecture              4.1   \n",
       "\n",
       "  country  \n",
       "0      US  \n",
       "1      US  \n",
       "2      US  \n",
       "3      US  \n",
       "4      US  "
      ]
     },
     "metadata": {},
     "output_type": "display_data"
    }
   ],
   "source": [
    "display(df.head(5))"
   ]
  },
  {
   "cell_type": "markdown",
   "metadata": {},
   "source": [
    "Our goal is to predict value of the list_price variable - listing price of a certain toy in LEGO online store.\n",
    "\n",
    "<b>country</b> variable is indicating which online store (from which country) is listing that item."
   ]
  },
  {
   "cell_type": "markdown",
   "metadata": {},
   "source": [
    "# <center>2. Preparing the dataset</center>"
   ]
  },
  {
   "cell_type": "markdown",
   "metadata": {},
   "source": [
    "## 2.1 Removing useless data and fixing formats"
   ]
  },
  {
   "cell_type": "markdown",
   "metadata": {},
   "source": [
    "Removing variables that would give no predictive power (information variables such as ID's or descriptions)"
   ]
  },
  {
   "cell_type": "code",
   "execution_count": 5,
   "metadata": {},
   "outputs": [],
   "source": [
    "df = df.drop(['prod_desc', \n",
    "              'prod_id', \n",
    "              'prod_long_desc', \n",
    "              'set_name'],\n",
    "             axis=1)"
   ]
  },
  {
   "cell_type": "markdown",
   "metadata": {},
   "source": [
    "Changing categorical variables and list_price into right formats.\n",
    "\n",
    "Also we are ordering review_difficulty since it is ordered scale of difficulty."
   ]
  },
  {
   "cell_type": "code",
   "execution_count": 6,
   "metadata": {},
   "outputs": [],
   "source": [
    "df.list_price = df.list_price.astype(float)\n",
    "df['review_difficulty'] = df['review_difficulty'].astype(\"category\")\n",
    "df['review_difficulty'] = df['review_difficulty'].cat.reorder_categories(['Very Easy',\n",
    "                                                               'Easy',\n",
    "                                                               'Average',\n",
    "                                                               'Challenging',\n",
    "                                                               'Very Challenging'],\n",
    "                                                                        ordered = True)\n",
    "df['review_difficulty'] = df['review_difficulty'].cat.codes\n",
    "df.theme_name = df.theme_name.astype(object)\n",
    "df.ages = df.ages.astype(object)"
   ]
  },
  {
   "cell_type": "markdown",
   "metadata": {},
   "source": [
    "## 2.2 Cleaning dataset from NA's"
   ]
  },
  {
   "cell_type": "code",
   "execution_count": 7,
   "metadata": {
    "scrolled": true
   },
   "outputs": [
    {
     "data": {
      "text/html": [
       "<div>\n",
       "<style scoped>\n",
       "    .dataframe tbody tr th:only-of-type {\n",
       "        vertical-align: middle;\n",
       "    }\n",
       "\n",
       "    .dataframe tbody tr th {\n",
       "        vertical-align: top;\n",
       "    }\n",
       "\n",
       "    .dataframe thead th {\n",
       "        text-align: right;\n",
       "    }\n",
       "</style>\n",
       "<table border=\"1\" class=\"dataframe\">\n",
       "  <thead>\n",
       "    <tr style=\"text-align: right;\">\n",
       "      <th></th>\n",
       "      <th>Number of occurencies</th>\n",
       "      <th>Percentage</th>\n",
       "    </tr>\n",
       "  </thead>\n",
       "  <tbody>\n",
       "    <tr>\n",
       "      <th>num_reviews</th>\n",
       "      <td>1620</td>\n",
       "      <td>13.212625</td>\n",
       "    </tr>\n",
       "    <tr>\n",
       "      <th>play_star_rating</th>\n",
       "      <td>1775</td>\n",
       "      <td>14.476796</td>\n",
       "    </tr>\n",
       "    <tr>\n",
       "      <th>star_rating</th>\n",
       "      <td>1620</td>\n",
       "      <td>13.212625</td>\n",
       "    </tr>\n",
       "    <tr>\n",
       "      <th>theme_name</th>\n",
       "      <td>3</td>\n",
       "      <td>0.024468</td>\n",
       "    </tr>\n",
       "    <tr>\n",
       "      <th>val_star_rating</th>\n",
       "      <td>1795</td>\n",
       "      <td>14.639915</td>\n",
       "    </tr>\n",
       "  </tbody>\n",
       "</table>\n",
       "</div>"
      ],
      "text/plain": [
       "                  Number of occurencies  Percentage\n",
       "num_reviews                        1620   13.212625\n",
       "play_star_rating                   1775   14.476796\n",
       "star_rating                        1620   13.212625\n",
       "theme_name                            3    0.024468\n",
       "val_star_rating                    1795   14.639915"
      ]
     },
     "execution_count": 7,
     "metadata": {},
     "output_type": "execute_result"
    }
   ],
   "source": [
    "missing_data = pd.DataFrame({'Number of occurencies': df.isna().sum(),\n",
    "                             'Percentage': 100*df.isna().sum()/len(df)\n",
    "                            })\n",
    "missing_data[missing_data['Number of occurencies'] > 0]"
   ]
  },
  {
   "cell_type": "markdown",
   "metadata": {},
   "source": [
    "Since the missings in star_rating (all 3 columns concerning them) are common for certain observations, maybe we can somehow reduce the number of them by filling missing values with computed value.\n",
    "\n",
    "We mark the missings in review difficulty with a group code equal to -1."
   ]
  },
  {
   "cell_type": "markdown",
   "metadata": {},
   "source": [
    "We can see that star_rating has less NA's than play and val star_rating. We shall see if there is a correlation between those 3 variables. "
   ]
  },
  {
   "cell_type": "code",
   "execution_count": 8,
   "metadata": {},
   "outputs": [
    {
     "data": {
      "text/html": [
       "<style  type=\"text/css\" >\n",
       "    #T_78bfa380_8b70_11e9_986c_00215cdcfe0frow0_col0 {\n",
       "            background-color:  #b40426;\n",
       "        }    #T_78bfa380_8b70_11e9_986c_00215cdcfe0frow0_col1 {\n",
       "            background-color:  #8badfd;\n",
       "        }    #T_78bfa380_8b70_11e9_986c_00215cdcfe0frow0_col2 {\n",
       "            background-color:  #d6dce4;\n",
       "        }    #T_78bfa380_8b70_11e9_986c_00215cdcfe0frow1_col0 {\n",
       "            background-color:  #3b4cc0;\n",
       "        }    #T_78bfa380_8b70_11e9_986c_00215cdcfe0frow1_col1 {\n",
       "            background-color:  #b40426;\n",
       "        }    #T_78bfa380_8b70_11e9_986c_00215cdcfe0frow1_col2 {\n",
       "            background-color:  #3b4cc0;\n",
       "        }    #T_78bfa380_8b70_11e9_986c_00215cdcfe0frow2_col0 {\n",
       "            background-color:  #a1c0ff;\n",
       "        }    #T_78bfa380_8b70_11e9_986c_00215cdcfe0frow2_col1 {\n",
       "            background-color:  #3b4cc0;\n",
       "        }    #T_78bfa380_8b70_11e9_986c_00215cdcfe0frow2_col2 {\n",
       "            background-color:  #b40426;\n",
       "        }</style>  \n",
       "<table id=\"T_78bfa380_8b70_11e9_986c_00215cdcfe0f\" > \n",
       "<thead>    <tr> \n",
       "        <th class=\"blank level0\" ></th> \n",
       "        <th class=\"col_heading level0 col0\" >star_rating</th> \n",
       "        <th class=\"col_heading level0 col1\" >play_star_rating</th> \n",
       "        <th class=\"col_heading level0 col2\" >val_star_rating</th> \n",
       "    </tr></thead> \n",
       "<tbody>    <tr> \n",
       "        <th id=\"T_78bfa380_8b70_11e9_986c_00215cdcfe0flevel0_row0\" class=\"row_heading level0 row0\" >star_rating</th> \n",
       "        <td id=\"T_78bfa380_8b70_11e9_986c_00215cdcfe0frow0_col0\" class=\"data row0 col0\" >1</td> \n",
       "        <td id=\"T_78bfa380_8b70_11e9_986c_00215cdcfe0frow0_col1\" class=\"data row0 col1\" >0.608193</td> \n",
       "        <td id=\"T_78bfa380_8b70_11e9_986c_00215cdcfe0frow0_col2\" class=\"data row0 col2\" >0.72789</td> \n",
       "    </tr>    <tr> \n",
       "        <th id=\"T_78bfa380_8b70_11e9_986c_00215cdcfe0flevel0_row1\" class=\"row_heading level0 row1\" >play_star_rating</th> \n",
       "        <td id=\"T_78bfa380_8b70_11e9_986c_00215cdcfe0frow1_col0\" class=\"data row1 col0\" >0.608193</td> \n",
       "        <td id=\"T_78bfa380_8b70_11e9_986c_00215cdcfe0frow1_col1\" class=\"data row1 col1\" >1</td> \n",
       "        <td id=\"T_78bfa380_8b70_11e9_986c_00215cdcfe0frow1_col2\" class=\"data row1 col2\" >0.480938</td> \n",
       "    </tr>    <tr> \n",
       "        <th id=\"T_78bfa380_8b70_11e9_986c_00215cdcfe0flevel0_row2\" class=\"row_heading level0 row2\" >val_star_rating</th> \n",
       "        <td id=\"T_78bfa380_8b70_11e9_986c_00215cdcfe0frow2_col0\" class=\"data row2 col0\" >0.72789</td> \n",
       "        <td id=\"T_78bfa380_8b70_11e9_986c_00215cdcfe0frow2_col1\" class=\"data row2 col1\" >0.480938</td> \n",
       "        <td id=\"T_78bfa380_8b70_11e9_986c_00215cdcfe0frow2_col2\" class=\"data row2 col2\" >1</td> \n",
       "    </tr></tbody> \n",
       "</table> "
      ],
      "text/plain": [
       "<pandas.io.formats.style.Styler at 0x189e7fbc978>"
      ]
     },
     "execution_count": 8,
     "metadata": {},
     "output_type": "execute_result"
    }
   ],
   "source": [
    "corr = df[['star_rating', 'play_star_rating', 'val_star_rating']].corr()\n",
    "corr.style.background_gradient(cmap='coolwarm')"
   ]
  },
  {
   "cell_type": "markdown",
   "metadata": {},
   "source": [
    "Let us compute means of ratios between star_rating for the whole dataset and use that ratio to create values to impute instead of NA's.\n",
    "\n",
    "Because of slightly high correlation we decide to omit star_rating and leave the two other ratings (and since they all have same number of NA's)"
   ]
  },
  {
   "cell_type": "code",
   "execution_count": 9,
   "metadata": {},
   "outputs": [],
   "source": [
    "df['star/play'] = df['star_rating']/df['play_star_rating']\n",
    "df['star/val'] = df['star_rating']/df['val_star_rating']\n",
    "\n",
    "star_p_mean = df['star/play'].mean()\n",
    "star_v_mean = df['star/val'].mean()\n",
    "\n",
    "df.loc[(df['play_star_rating'].isnull()) & (df['star_rating'].notna()), \"play_star_rating\"] = df[\"star_rating\"]*star_p_mean\n",
    "df.loc[(df['val_star_rating'].isnull()) & (df['star_rating'].notna()), \"val_star_rating\"] = df[\"star_rating\"]*star_v_mean\n",
    "\n",
    "df.drop(['star/play', 'star/val', 'star_rating'], axis=1, inplace=True)"
   ]
  },
  {
   "cell_type": "markdown",
   "metadata": {},
   "source": [
    "That way we manage to narrow our total rows with NA's to 1620. Unfortunately there is no way to safely replace values for these observations (which all have at least 3 NA's) so we will omit them in further analysis."
   ]
  },
  {
   "cell_type": "code",
   "execution_count": 10,
   "metadata": {},
   "outputs": [],
   "source": [
    "df.loc[df.isnull().sum(1)>=3].index\n",
    "\n",
    "df = df.dropna()"
   ]
  },
  {
   "cell_type": "markdown",
   "metadata": {},
   "source": [
    "## 2.3 Checking for correlations and encoding categorical variables - using One Hot Encoding"
   ]
  },
  {
   "cell_type": "markdown",
   "metadata": {},
   "source": [
    "Creating correlation matrix:"
   ]
  },
  {
   "cell_type": "code",
   "execution_count": 11,
   "metadata": {
    "scrolled": true
   },
   "outputs": [
    {
     "data": {
      "text/html": [
       "<style  type=\"text/css\" >\n",
       "    #T_79d1ed28_8b70_11e9_ae85_00215cdcfe0frow0_col0 {\n",
       "            background-color:  #b40426;\n",
       "        }    #T_79d1ed28_8b70_11e9_ae85_00215cdcfe0frow0_col1 {\n",
       "            background-color:  #e7d7ce;\n",
       "        }    #T_79d1ed28_8b70_11e9_ae85_00215cdcfe0frow0_col2 {\n",
       "            background-color:  #3b4cc0;\n",
       "        }    #T_79d1ed28_8b70_11e9_ae85_00215cdcfe0frow0_col3 {\n",
       "            background-color:  #a9c6fd;\n",
       "        }    #T_79d1ed28_8b70_11e9_ae85_00215cdcfe0frow0_col4 {\n",
       "            background-color:  #3f53c6;\n",
       "        }    #T_79d1ed28_8b70_11e9_ae85_00215cdcfe0frow1_col0 {\n",
       "            background-color:  #ecd3c5;\n",
       "        }    #T_79d1ed28_8b70_11e9_ae85_00215cdcfe0frow1_col1 {\n",
       "            background-color:  #b40426;\n",
       "        }    #T_79d1ed28_8b70_11e9_ae85_00215cdcfe0frow1_col2 {\n",
       "            background-color:  #4b64d5;\n",
       "        }    #T_79d1ed28_8b70_11e9_ae85_00215cdcfe0frow1_col3 {\n",
       "            background-color:  #dfdbd9;\n",
       "        }    #T_79d1ed28_8b70_11e9_ae85_00215cdcfe0frow1_col4 {\n",
       "            background-color:  #4f69d9;\n",
       "        }    #T_79d1ed28_8b70_11e9_ae85_00215cdcfe0frow2_col0 {\n",
       "            background-color:  #3b4cc0;\n",
       "        }    #T_79d1ed28_8b70_11e9_ae85_00215cdcfe0frow2_col1 {\n",
       "            background-color:  #3b4cc0;\n",
       "        }    #T_79d1ed28_8b70_11e9_ae85_00215cdcfe0frow2_col2 {\n",
       "            background-color:  #b40426;\n",
       "        }    #T_79d1ed28_8b70_11e9_ae85_00215cdcfe0frow2_col3 {\n",
       "            background-color:  #4055c8;\n",
       "        }    #T_79d1ed28_8b70_11e9_ae85_00215cdcfe0frow2_col4 {\n",
       "            background-color:  #dddcdc;\n",
       "        }    #T_79d1ed28_8b70_11e9_ae85_00215cdcfe0frow3_col0 {\n",
       "            background-color:  #b2ccfb;\n",
       "        }    #T_79d1ed28_8b70_11e9_ae85_00215cdcfe0frow3_col1 {\n",
       "            background-color:  #dddcdc;\n",
       "        }    #T_79d1ed28_8b70_11e9_ae85_00215cdcfe0frow3_col2 {\n",
       "            background-color:  #4c66d6;\n",
       "        }    #T_79d1ed28_8b70_11e9_ae85_00215cdcfe0frow3_col3 {\n",
       "            background-color:  #b40426;\n",
       "        }    #T_79d1ed28_8b70_11e9_ae85_00215cdcfe0frow3_col4 {\n",
       "            background-color:  #3b4cc0;\n",
       "        }    #T_79d1ed28_8b70_11e9_ae85_00215cdcfe0frow4_col0 {\n",
       "            background-color:  #4b64d5;\n",
       "        }    #T_79d1ed28_8b70_11e9_ae85_00215cdcfe0frow4_col1 {\n",
       "            background-color:  #4961d2;\n",
       "        }    #T_79d1ed28_8b70_11e9_ae85_00215cdcfe0frow4_col2 {\n",
       "            background-color:  #e2dad5;\n",
       "        }    #T_79d1ed28_8b70_11e9_ae85_00215cdcfe0frow4_col3 {\n",
       "            background-color:  #3b4cc0;\n",
       "        }    #T_79d1ed28_8b70_11e9_ae85_00215cdcfe0frow4_col4 {\n",
       "            background-color:  #b40426;\n",
       "        }</style>  \n",
       "<table id=\"T_79d1ed28_8b70_11e9_ae85_00215cdcfe0f\" > \n",
       "<thead>    <tr> \n",
       "        <th class=\"blank level0\" ></th> \n",
       "        <th class=\"col_heading level0 col0\" >num_reviews</th> \n",
       "        <th class=\"col_heading level0 col1\" >piece_count</th> \n",
       "        <th class=\"col_heading level0 col2\" >play_star_rating</th> \n",
       "        <th class=\"col_heading level0 col3\" >review_difficulty</th> \n",
       "        <th class=\"col_heading level0 col4\" >val_star_rating</th> \n",
       "    </tr></thead> \n",
       "<tbody>    <tr> \n",
       "        <th id=\"T_79d1ed28_8b70_11e9_ae85_00215cdcfe0flevel0_row0\" class=\"row_heading level0 row0\" >num_reviews</th> \n",
       "        <td id=\"T_79d1ed28_8b70_11e9_ae85_00215cdcfe0frow0_col0\" class=\"data row0 col0\" >1</td> \n",
       "        <td id=\"T_79d1ed28_8b70_11e9_ae85_00215cdcfe0frow0_col1\" class=\"data row0 col1\" >0.546616</td> \n",
       "        <td id=\"T_79d1ed28_8b70_11e9_ae85_00215cdcfe0frow0_col2\" class=\"data row0 col2\" >-0.0451145</td> \n",
       "        <td id=\"T_79d1ed28_8b70_11e9_ae85_00215cdcfe0frow0_col3\" class=\"data row0 col3\" >0.328073</td> \n",
       "        <td id=\"T_79d1ed28_8b70_11e9_ae85_00215cdcfe0frow0_col4\" class=\"data row0 col4\" >0.0148351</td> \n",
       "    </tr>    <tr> \n",
       "        <th id=\"T_79d1ed28_8b70_11e9_ae85_00215cdcfe0flevel0_row1\" class=\"row_heading level0 row1\" >piece_count</th> \n",
       "        <td id=\"T_79d1ed28_8b70_11e9_ae85_00215cdcfe0frow1_col0\" class=\"data row1 col0\" >0.546616</td> \n",
       "        <td id=\"T_79d1ed28_8b70_11e9_ae85_00215cdcfe0frow1_col1\" class=\"data row1 col1\" >1</td> \n",
       "        <td id=\"T_79d1ed28_8b70_11e9_ae85_00215cdcfe0frow1_col2\" class=\"data row1 col2\" >0.0147979</td> \n",
       "        <td id=\"T_79d1ed28_8b70_11e9_ae85_00215cdcfe0frow1_col3\" class=\"data row1 col3\" >0.509112</td> \n",
       "        <td id=\"T_79d1ed28_8b70_11e9_ae85_00215cdcfe0frow1_col4\" class=\"data row1 col4\" >0.0636759</td> \n",
       "    </tr>    <tr> \n",
       "        <th id=\"T_79d1ed28_8b70_11e9_ae85_00215cdcfe0flevel0_row2\" class=\"row_heading level0 row2\" >play_star_rating</th> \n",
       "        <td id=\"T_79d1ed28_8b70_11e9_ae85_00215cdcfe0frow2_col0\" class=\"data row2 col0\" >-0.0451145</td> \n",
       "        <td id=\"T_79d1ed28_8b70_11e9_ae85_00215cdcfe0frow2_col1\" class=\"data row2 col1\" >0.0147979</td> \n",
       "        <td id=\"T_79d1ed28_8b70_11e9_ae85_00215cdcfe0frow2_col2\" class=\"data row2 col2\" >1</td> \n",
       "        <td id=\"T_79d1ed28_8b70_11e9_ae85_00215cdcfe0frow2_col3\" class=\"data row2 col3\" >0.018671</td> \n",
       "        <td id=\"T_79d1ed28_8b70_11e9_ae85_00215cdcfe0frow2_col4\" class=\"data row2 col4\" >0.499167</td> \n",
       "    </tr>    <tr> \n",
       "        <th id=\"T_79d1ed28_8b70_11e9_ae85_00215cdcfe0flevel0_row3\" class=\"row_heading level0 row3\" >review_difficulty</th> \n",
       "        <td id=\"T_79d1ed28_8b70_11e9_ae85_00215cdcfe0frow3_col0\" class=\"data row3 col0\" >0.328073</td> \n",
       "        <td id=\"T_79d1ed28_8b70_11e9_ae85_00215cdcfe0frow3_col1\" class=\"data row3 col1\" >0.509112</td> \n",
       "        <td id=\"T_79d1ed28_8b70_11e9_ae85_00215cdcfe0frow3_col2\" class=\"data row3 col2\" >0.018671</td> \n",
       "        <td id=\"T_79d1ed28_8b70_11e9_ae85_00215cdcfe0frow3_col3\" class=\"data row3 col3\" >1</td> \n",
       "        <td id=\"T_79d1ed28_8b70_11e9_ae85_00215cdcfe0frow3_col4\" class=\"data row3 col4\" >-0.00300082</td> \n",
       "    </tr>    <tr> \n",
       "        <th id=\"T_79d1ed28_8b70_11e9_ae85_00215cdcfe0flevel0_row4\" class=\"row_heading level0 row4\" >val_star_rating</th> \n",
       "        <td id=\"T_79d1ed28_8b70_11e9_ae85_00215cdcfe0frow4_col0\" class=\"data row4 col0\" >0.0148351</td> \n",
       "        <td id=\"T_79d1ed28_8b70_11e9_ae85_00215cdcfe0frow4_col1\" class=\"data row4 col1\" >0.0636759</td> \n",
       "        <td id=\"T_79d1ed28_8b70_11e9_ae85_00215cdcfe0frow4_col2\" class=\"data row4 col2\" >0.499167</td> \n",
       "        <td id=\"T_79d1ed28_8b70_11e9_ae85_00215cdcfe0frow4_col3\" class=\"data row4 col3\" >-0.00300082</td> \n",
       "        <td id=\"T_79d1ed28_8b70_11e9_ae85_00215cdcfe0frow4_col4\" class=\"data row4 col4\" >1</td> \n",
       "    </tr></tbody> \n",
       "</table> "
      ],
      "text/plain": [
       "<pandas.io.formats.style.Styler at 0x189e80c0cc0>"
      ]
     },
     "execution_count": 11,
     "metadata": {},
     "output_type": "execute_result"
    }
   ],
   "source": [
    "corr = df.drop(['list_price'], axis=1).corr()\n",
    "corr.style.background_gradient(cmap='coolwarm')"
   ]
  },
  {
   "cell_type": "markdown",
   "metadata": {},
   "source": [
    "There are no visible very high correlations (some ~0.5, but we decide to leave them in further analysis, because these are not worrying values)."
   ]
  },
  {
   "cell_type": "code",
   "execution_count": 12,
   "metadata": {},
   "outputs": [
    {
     "name": "stdout",
     "output_type": "stream",
     "text": [
      "{'ages': 31, 'theme_name': 38, 'country': 21}\n"
     ]
    }
   ],
   "source": [
    "cat_vars = []\n",
    "cont_vars = []\n",
    "for variable in df.columns:\n",
    "    if df[variable].dtype==object:\n",
    "        cat_vars.append(variable)\n",
    "    else:\n",
    "        cont_vars.append(variable)\n",
    "        \n",
    "num_of_cats = {}\n",
    "for category in cat_vars:\n",
    "    num_of_cats[category] = len(list(df[category].unique()))\n",
    "    \n",
    "print(num_of_cats)"
   ]
  },
  {
   "cell_type": "markdown",
   "metadata": {},
   "source": [
    "We can see that all the variables have a lot of levels, let's see how different are the numbers of observations within each level on barplots below."
   ]
  },
  {
   "cell_type": "code",
   "execution_count": 13,
   "metadata": {
    "scrolled": true
   },
   "outputs": [
    {
     "data": {
      "image/png": "[encoded data removed]",
      "text/plain": [
       "<Figure size 1008x432 with 1 Axes>"
      ]
     },
     "metadata": {
      "needs_background": "light"
     },
     "output_type": "display_data"
    },
    {
     "data": {
      "image/png": "[encoded data removed]",
      "text/plain": [
       "<Figure size 1008x432 with 1 Axes>"
      ]
     },
     "metadata": {
      "needs_background": "light"
     },
     "output_type": "display_data"
    },
    {
     "data": {
      "image/png": "[encoded data removed]",
      "text/plain": [
       "<Figure size 1008x432 with 1 Axes>"
      ]
     },
     "metadata": {
      "needs_background": "light"
     },
     "output_type": "display_data"
    }
   ],
   "source": [
    "bar_width = 0.35\n",
    "opacity = 0.8\n",
    "colors = [\"b\",\"g\",\"grey\"]\n",
    "\n",
    "\n",
    "for idx, var in enumerate(cat_vars):\n",
    "    plt.figure(figsize=(14,6))\n",
    "    boo = list(dict(df[var].value_counts()).values())\n",
    "    leng = np.arange(len(list(dict(df[var].value_counts()).values())))\n",
    "    rects = plt.bar(leng, boo, bar_width,\n",
    "    alpha=opacity,\n",
    "    color=colors[idx])\n",
    "    plt.ylabel('Number of occurences')\n",
    "    plt.xlabel('Number of category')\n",
    "    plt.title('Occurences for variable: {}'.format(var))\n",
    "    plt.tight_layout()\n",
    "    plt.show()"
   ]
  },
  {
   "cell_type": "markdown",
   "metadata": {},
   "source": [
    "Since there are no categories that would be very differently populated than the rest (they gradually descent) we decided to keep all the variables for one hot encoding."
   ]
  },
  {
   "cell_type": "markdown",
   "metadata": {},
   "source": [
    "Next we are creating dummy variables through one hot encoding for each category in categorical variables (omitting review_difficulty in which we introduced ordered categories)."
   ]
  },
  {
   "cell_type": "code",
   "execution_count": 14,
   "metadata": {},
   "outputs": [],
   "source": [
    "df2 = pd.get_dummies(df, drop_first=True)"
   ]
  },
  {
   "cell_type": "markdown",
   "metadata": {},
   "source": [
    "## 2.4 Splitting dataset into training and testing dataset"
   ]
  },
  {
   "cell_type": "code",
   "execution_count": 15,
   "metadata": {},
   "outputs": [],
   "source": [
    "X, Y = df2.drop(['list_price'], axis=1), df2['list_price']\n",
    "\n",
    "X_train, X_test, Y_train, Y_test = train_test_split(\n",
    "                                                    X, \n",
    "                                                    Y, \n",
    "                                                    test_size=0.3, \n",
    "                                                    random_state=361)"
   ]
  },
  {
   "cell_type": "code",
   "execution_count": 16,
   "metadata": {},
   "outputs": [
    {
     "data": {
      "text/plain": [
       "(10638, 93)"
      ]
     },
     "execution_count": 16,
     "metadata": {},
     "output_type": "execute_result"
    }
   ],
   "source": [
    "df2.shape"
   ]
  },
  {
   "cell_type": "markdown",
   "metadata": {},
   "source": [
    "We are left with 10638 observations and 92 variables which we have split into 70/30 train/test datasets. \n",
    "\n",
    "That way we are ready to begin estimating predictive models using 3 different methods."
   ]
  },
  {
   "cell_type": "markdown",
   "metadata": {},
   "source": [
    "# <center>3. Predicting data </center>"
   ]
  },
  {
   "cell_type": "markdown",
   "metadata": {},
   "source": [
    "## 3.1 Linear Regression (OLS) model"
   ]
  },
  {
   "cell_type": "markdown",
   "metadata": {},
   "source": [
    "Firstly, we are trying to estimate OLS linear regression model using all possible variables. We also add <i>constant</i> to the models equation."
   ]
  },
  {
   "cell_type": "code",
   "execution_count": 17,
   "metadata": {},
   "outputs": [
    {
     "name": "stdout",
     "output_type": "stream",
     "text": [
      "                            OLS Regression Results                            \n",
      "==============================================================================\n",
      "Dep. Variable:             list_price   R-squared:                       0.865\n",
      "Model:                            OLS   Adj. R-squared:                  0.863\n",
      "Method:                 Least Squares   F-statistic:                     533.6\n",
      "Date:                Mon, 10 Jun 2019   Prob (F-statistic):               0.00\n",
      "Time:                        13:11:27   Log-Likelihood:                -37322.\n",
      "No. Observations:                7446   AIC:                         7.482e+04\n",
      "Df Residuals:                    7357   BIC:                         7.544e+04\n",
      "Df Model:                          88                                         \n",
      "Covariance Type:            nonrobust                                         \n",
      "====================================================================================================================\n",
      "                                                       coef    std err          t      P>|t|      [0.025      0.975]\n",
      "--------------------------------------------------------------------------------------------------------------------\n",
      "const                                              167.9154     20.545      8.173      0.000     127.642     208.189\n",
      "num_reviews                                          0.2244      0.021     10.889      0.000       0.184       0.265\n",
      "piece_count                                          0.0891      0.001     79.120      0.000       0.087       0.091\n",
      "play_star_rating                                     7.5052      0.929      8.077      0.000       5.684       9.327\n",
      "review_difficulty                                    6.1702      0.642      9.611      0.000       4.912       7.429\n",
      "val_star_rating                                    -14.0829      0.859    -16.392      0.000     -15.767     -12.399\n",
      "ages_10-14                                        -133.5350     13.140    -10.162      0.000    -159.294    -107.776\n",
      "ages_10-16                                        -120.7052      9.180    -13.149      0.000    -138.701    -102.710\n",
      "ages_10-21                                         -31.0787      7.033     -4.419      0.000     -44.865     -17.292\n",
      "ages_11-16                                        -119.2834     10.354    -11.520      0.000    -139.581     -98.986\n",
      "ages_12+                                           -48.3475      7.955     -6.077      0.000     -63.942     -32.753\n",
      "ages_12-16                                        -164.1559     11.347    -14.467      0.000    -186.400    -141.912\n",
      "ages_14+                                           -94.1744      8.985    -10.481      0.000    -111.788     -76.561\n",
      "ages_16+                                          -102.6514     10.173    -10.090      0.000    -122.594     -82.709\n",
      "ages_1½-3                                          -35.0597      7.265     -4.826      0.000     -49.301     -20.818\n",
      "ages_1½-5                                          -42.0772      6.741     -6.242      0.000     -55.291     -28.863\n",
      "ages_2-5                                           -13.5341      5.728     -2.363      0.018     -24.763      -2.305\n",
      "ages_4+                                            -65.3418      9.575     -6.824      0.000     -84.112     -46.572\n",
      "ages_4-7                                           -49.1064      7.573     -6.485      0.000     -63.951     -34.261\n",
      "ages_4-99                                          -41.3736      7.598     -5.446      0.000     -56.267     -26.480\n",
      "ages_5+                                            -72.1553     10.461     -6.898      0.000     -92.661     -51.649\n",
      "ages_5-12                                         -154.0841      8.814    -17.482      0.000    -171.362    -136.806\n",
      "ages_5-8                                           -33.9638      9.270     -3.664      0.000     -52.136     -15.792\n",
      "ages_6+                                           -146.2515     10.245    -14.276      0.000    -166.334    -126.169\n",
      "ages_6-12                                         -135.8213      8.463    -16.048      0.000    -152.412    -119.231\n",
      "ages_6-14                                         -119.7124      8.949    -13.377      0.000    -137.256    -102.169\n",
      "ages_7+                                           -117.9034     27.291     -4.320      0.000    -171.402     -64.405\n",
      "ages_7-12                                         -134.7162      8.630    -15.609      0.000    -151.634    -117.798\n",
      "ages_7-14                                         -127.6520      8.327    -15.330      0.000    -143.975    -111.329\n",
      "ages_8+                                            -96.5826      7.940    -12.165      0.000    -112.146     -81.019\n",
      "ages_8-12                                         -131.2129      8.822    -14.873      0.000    -148.507    -113.919\n",
      "ages_8-14                                         -124.0768      8.364    -14.835      0.000    -140.472    -107.682\n",
      "ages_9+                                            -17.4218     11.403     -1.528      0.127     -39.775       4.931\n",
      "ages_9-12                                         -136.3745     10.860    -12.557      0.000    -157.664    -115.085\n",
      "ages_9-14                                         -118.5572      8.441    -14.046      0.000    -135.104    -102.011\n",
      "ages_9-16                                         -115.5893     10.063    -11.487      0.000    -135.315     -95.863\n",
      "theme_name_Architecture                            -94.1937     19.846     -4.746      0.000    -133.098     -55.289\n",
      "theme_name_BOOST                                    77.0708     20.819      3.702      0.000      36.260     117.882\n",
      "theme_name_BrickHeadz                             -136.2622     20.277     -6.720      0.000    -176.011     -96.514\n",
      "theme_name_Carnotaurus Gyrosphere Escape            33.4928     20.793      1.611      0.107      -7.267      74.253\n",
      "theme_name_City                                     15.4138     18.469      0.835      0.404     -20.792      51.619\n",
      "theme_name_Classic                                -106.7155     13.998     -7.624      0.000    -134.156     -79.275\n",
      "theme_name_Creator 3-in-1                          -12.4901     18.558     -0.673      0.501     -48.869      23.889\n",
      "theme_name_Creator Expert                         -111.5643     19.096     -5.842      0.000    -148.998     -74.130\n",
      "theme_name_DC Comics™ Super Heroes                  -2.2488     18.686     -0.120      0.904     -38.878      34.380\n",
      "theme_name_DC Super Hero Girls                       0.0419     21.050      0.002      0.998     -41.223      41.306\n",
      "theme_name_DIMENSIONS™                               0.6407     18.700      0.034      0.973     -36.016      37.297\n",
      "theme_name_DUPLO®                                  -90.6710     15.322     -5.918      0.000    -120.707     -60.635\n",
      "theme_name_Dilophosaurus Outpost Attack              9.2256     20.557      0.449      0.654     -31.072      49.523\n",
      "theme_name_Disney™                                   2.0809     18.588      0.112      0.911     -34.357      38.518\n",
      "theme_name_Elves                                    -7.4391     18.796     -0.396      0.692     -44.284      29.406\n",
      "theme_name_Friends                                  -8.2880     18.447     -0.449      0.653     -44.449      27.873\n",
      "theme_name_Ghostbusters™                           -55.1261     20.856     -2.643      0.008     -96.010     -14.242\n",
      "theme_name_Ideas                                  -133.5133     19.756     -6.758      0.000    -172.241     -94.786\n",
      "theme_name_Indoraptor Rampage at Lockwood Estate    50.5268     20.645      2.447      0.014      10.057      90.996\n",
      "theme_name_Juniors                                 -83.0702     13.847     -5.999      0.000    -110.215     -55.925\n",
      "theme_name_Jurassic Park Velociraptor Chase          7.6681     20.964      0.366      0.715     -33.427      48.763\n",
      "theme_name_LEGO® Creator 3-in-1                     -1.5888     21.775     -0.073      0.942     -44.275      41.097\n",
      "theme_name_MINDSTORMS®                             -28.3928     20.286     -1.400      0.162     -68.160      11.374\n",
      "theme_name_Marvel Super Heroes                      -3.0229     18.525     -0.163      0.870     -39.337      33.291\n",
      "theme_name_Minecraft™                              -32.5531     19.168     -1.698      0.089     -70.129       5.022\n",
      "theme_name_Minifigures                             -72.1553     10.461     -6.898      0.000     -92.661     -51.649\n",
      "theme_name_NEXO KNIGHTS™                           -19.3196     18.863     -1.024      0.306     -56.296      17.657\n",
      "theme_name_NINJAGO®                                -22.1184     18.738     -1.180      0.238     -58.851      14.614\n",
      "theme_name_Power Functions                          -8.7387     21.730     -0.402      0.688     -51.336      33.859\n",
      "theme_name_Pteranodon Chase                         -6.3187     20.373     -0.310      0.756     -46.256      33.619\n",
      "theme_name_SERIOUS PLAY®                           253.7776     19.994     12.693      0.000     214.583     292.972\n",
      "theme_name_Speed Champions                         -11.6941     18.692     -0.626      0.532     -48.336      24.948\n",
      "theme_name_Star Wars™                                2.4139     18.441      0.131      0.896     -33.736      38.564\n",
      "theme_name_Stygimoloch Breakout                     11.9205     21.160      0.563      0.573     -29.559      53.400\n",
      "theme_name_THE LEGO® BATMAN MOVIE                   -8.3123     18.540     -0.448      0.654     -44.655      28.030\n",
      "theme_name_THE LEGO® NINJAGO® MOVIE™               -27.4284     18.531     -1.480      0.139     -63.755       8.898\n",
      "theme_name_Technic                                 -11.7910     18.643     -0.632      0.527     -48.336      24.754\n",
      "country_AU                                          -0.4512      2.803     -0.161      0.872      -5.945       5.043\n",
      "country_BE                                           3.9959      2.865      1.395      0.163      -1.621       9.612\n",
      "country_CA                                         -11.1745      2.653     -4.212      0.000     -16.375      -5.974\n",
      "country_CH                                          -0.6715      2.798     -0.240      0.810      -6.157       4.814\n",
      "country_CZ                                           6.6798      2.836      2.355      0.019       1.120      12.240\n",
      "country_DE                                           4.2104      2.840      1.483      0.138      -1.357       9.777\n",
      "country_DN                                          -9.7731      2.795     -3.496      0.000     -15.252      -4.294\n",
      "country_ES                                           4.2880      2.885      1.486      0.137      -1.368       9.944\n",
      "country_FI                                          11.3613      2.870      3.959      0.000       5.736      16.987\n",
      "country_FR                                           2.3110      2.801      0.825      0.409      -3.180       7.802\n",
      "country_GB                                           2.1890      2.795      0.783      0.433      -3.289       7.667\n",
      "country_IE                                          -0.0693      2.879     -0.024      0.981      -5.713       5.575\n",
      "country_IT                                           2.4168      2.867      0.843      0.399      -3.203       8.037\n",
      "country_LU                                           5.3803      2.847      1.890      0.059      -0.200      10.961\n",
      "country_NL                                           5.3415      2.817      1.896      0.058      -0.181      10.864\n",
      "country_NO                                          11.2836      2.839      3.975      0.000       5.719      16.848\n",
      "country_NZ                                           5.9763      2.758      2.167      0.030       0.569      11.384\n",
      "country_PL                                           7.9176      2.864      2.765      0.006       2.304      13.531\n",
      "country_PT                                           2.1292      2.859      0.745      0.456      -3.476       7.734\n",
      "country_US                                         -10.1399      2.601     -3.898      0.000     -15.239      -5.041\n",
      "==============================================================================\n",
      "Omnibus:                     3815.264   Durbin-Watson:                   1.966\n",
      "Prob(Omnibus):                  0.000   Jarque-Bera (JB):           421060.664\n",
      "Skew:                           1.494   Prob(JB):                         0.00\n",
      "Kurtosis:                      39.718   Cond. No.                     9.51e+16\n",
      "==============================================================================\n",
      "\n",
      "Warnings:\n",
      "[1] Standard Errors assume that the covariance matrix of the errors is correctly specified.\n",
      "[2] The smallest eigenvalue is 8.74e-25. This might indicate that there are\n",
      "strong multicollinearity problems or that the design matrix is singular.\n"
     ]
    }
   ],
   "source": [
    "X_train_lin = sm.add_constant(X_train)\n",
    "X_test_lin = sm.add_constant(X_test)\n",
    " \n",
    "ols_model = sm.OLS(Y_train, X_train_lin).fit()\n",
    "linear_pred = ols_model.predict(X_test_lin) \n",
    "\n",
    "print(ols_model.summary())"
   ]
  },
  {
   "cell_type": "code",
   "execution_count": 47,
   "metadata": {},
   "outputs": [
    {
     "name": "stdout",
     "output_type": "stream",
     "text": [
      "Mean Absolute Error: 16.757313097654322\n",
      "Mean Squared Error: 1166.380221526104\n",
      "Root Mean Squared Error: 34.15230916828471\n",
      "Adjusted R-squared: 0.8653570978839871\n"
     ]
    }
   ],
   "source": [
    "print('Mean Absolute Error:', metrics.mean_absolute_error(Y_test, linear_pred))  \n",
    "print('Mean Squared Error:', metrics.mean_squared_error(Y_test, linear_pred))  \n",
    "print('Root Mean Squared Error:', np.sqrt(metrics.mean_squared_error(Y_test, linear_pred)))\n",
    "print('Adjusted R-squared:', adj_r2(r2_score(Y_test, linear_pred), X_train.shape[0], X_train.shape[1]))"
   ]
  },
  {
   "cell_type": "markdown",
   "metadata": {},
   "source": [
    "We are using our own implementation of R-squared because we want to see value of the coefficient of determination on test data (by accessing <i>OLS.model.rsquared_adj</i> we get the value for training data). \n",
    "\n",
    "We can see promising values (although RMSE is quite high). There are some statistically insignificant variables, so we will now try to estimate model with only statistically significant features. Let us see how will the model with stepwise selected variables perform:"
   ]
  },
  {
   "cell_type": "markdown",
   "metadata": {},
   "source": [
    "## 3.2 Linear Regression (OLS) model with stepwise selected features"
   ]
  },
  {
   "cell_type": "markdown",
   "metadata": {},
   "source": [
    "During this stepwise selection, feature is included in the model if its p-value is lower than 0.05. Here we also add the <i>constant</i>."
   ]
  },
  {
   "cell_type": "code",
   "execution_count": 19,
   "metadata": {},
   "outputs": [
    {
     "name": "stderr",
     "output_type": "stream",
     "text": [
      "c:\\program files\\python37\\lib\\site-packages\\ipykernel_launcher.py:35: FutureWarning: 'argmin' is deprecated, use 'idxmin' instead. The behavior of 'argmin'\n",
      "will be corrected to return the positional minimum in the future.\n",
      "Use 'series.values.argmin' to get the position of the minimum now.\n",
      "c:\\program files\\python37\\lib\\site-packages\\ipykernel_launcher.py:48: FutureWarning: 'argmax' is deprecated, use 'idxmax' instead. The behavior of 'argmax'\n",
      "will be corrected to return the positional maximum in the future.\n",
      "Use 'series.values.argmax' to get the position of the maximum now.\n"
     ]
    }
   ],
   "source": [
    "selected_vars = stepwise_selection(X_train, Y_train, verbose=False)\n",
    "\n",
    "stepwise_X_train = X_train[selected_vars]\n",
    "stepwise_X_test = X_test[selected_vars]"
   ]
  },
  {
   "cell_type": "code",
   "execution_count": 20,
   "metadata": {},
   "outputs": [
    {
     "name": "stdout",
     "output_type": "stream",
     "text": [
      "                            OLS Regression Results                            \n",
      "==============================================================================\n",
      "Dep. Variable:             list_price   R-squared:                       0.860\n",
      "Model:                            OLS   Adj. R-squared:                  0.859\n",
      "Method:                 Least Squares   F-statistic:                     1007.\n",
      "Date:                Mon, 10 Jun 2019   Prob (F-statistic):               0.00\n",
      "Time:                        13:12:58   Log-Likelihood:                -37455.\n",
      "No. Observations:                7446   AIC:                         7.500e+04\n",
      "Df Residuals:                    7400   BIC:                         7.532e+04\n",
      "Df Model:                          45                                         \n",
      "Covariance Type:            nonrobust                                         \n",
      "====================================================================================================================\n",
      "                                                       coef    std err          t      P>|t|      [0.025      0.975]\n",
      "--------------------------------------------------------------------------------------------------------------------\n",
      "const                                               45.1651      3.810     11.854      0.000      37.696      52.634\n",
      "review_difficulty                                    6.9180      0.580     11.926      0.000       5.781       8.055\n",
      "theme_name_SERIOUS PLAY®                           257.6543      7.812     32.981      0.000     242.340     272.968\n",
      "piece_count                                          0.0913      0.001    116.454      0.000       0.090       0.093\n",
      "theme_name_MINDSTORMS®                              74.3301      3.547     20.956      0.000      67.377      81.283\n",
      "theme_name_Creator Expert                          -83.4875      3.453    -24.175      0.000     -90.257     -76.718\n",
      "val_star_rating                                    -14.1229      0.826    -17.099      0.000     -15.742     -12.504\n",
      "ages_2-5                                            25.6649      2.443     10.508      0.000      20.877      30.453\n",
      "theme_name_Star Wars™                               12.6343      1.562      8.086      0.000       9.571      15.697\n",
      "play_star_rating                                     6.5469      0.900      7.275      0.000       4.783       8.311\n",
      "num_reviews                                          0.1720      0.018      9.600      0.000       0.137       0.207\n",
      "theme_name_BOOST                                    86.7594      9.841      8.816      0.000      67.469     106.050\n",
      "theme_name_THE LEGO® NINJAGO® MOVIE™               -17.3948      1.829     -9.511      0.000     -20.980     -13.810\n",
      "theme_name_Ideas                                   -54.4910      5.306    -10.270      0.000     -64.892     -44.091\n",
      "country_CA                                         -13.4095      1.794     -7.474      0.000     -16.926      -9.893\n",
      "country_US                                         -12.8082      1.729     -7.406      0.000     -16.199      -9.418\n",
      "ages_12-16                                         -50.0783      7.532     -6.649      0.000     -64.842     -35.314\n",
      "country_DN                                         -12.7926      2.029     -6.305      0.000     -16.770      -8.815\n",
      "ages_14+                                            16.9077      3.682      4.593      0.000       9.691      24.125\n",
      "theme_name_Indoraptor Rampage at Lockwood Estate    59.5200      9.390      6.339      0.000      41.113      77.927\n",
      "theme_name_Classic                                 -19.5098      2.795     -6.981      0.000     -24.988     -14.031\n",
      "theme_name_Ghostbusters™                           -34.8055      9.711     -3.584      0.000     -53.841     -15.770\n",
      "theme_name_NINJAGO®                                -12.2045      3.355     -3.638      0.000     -18.781      -5.628\n",
      "country_FI                                           8.4365      2.130      3.960      0.000       4.261      12.612\n",
      "country_NO                                           7.9542      2.085      3.814      0.000       3.866      12.042\n",
      "ages_5-12                                          -32.6727      2.932    -11.143      0.000     -38.420     -26.925\n",
      "theme_name_City                                     23.5781      2.419      9.746      0.000      18.836      28.321\n",
      "theme_name_Carnotaurus Gyrosphere Escape            42.5210      9.787      4.345      0.000      23.335      61.707\n",
      "theme_name_Architecture                            -38.2816      6.257     -6.118      0.000     -50.547     -26.016\n",
      "ages_12+                                            23.5159      5.434      4.328      0.000      12.864      34.168\n",
      "ages_9+                                             31.8998     10.969      2.908      0.004      10.397      53.402\n",
      "theme_name_NEXO KNIGHTS™                           -10.6850      4.235     -2.523      0.012     -18.988      -2.382\n",
      "ages_6-12                                          -15.2625      1.766     -8.643      0.000     -18.724     -11.801\n",
      "ages_7-12                                          -15.0106      2.132     -7.042      0.000     -19.189     -10.832\n",
      "country_PL                                           4.8547      2.121      2.289      0.022       0.697       9.012\n",
      "theme_name_DIMENSIONS™                              10.3752      3.124      3.321      0.001       4.251      16.499\n",
      "ages_7-14                                           -9.1492      1.742     -5.251      0.000     -12.565      -5.734\n",
      "ages_6+                                            -26.4394      6.060     -4.363      0.000     -38.319     -14.560\n",
      "theme_name_Disney™                                  11.7553      3.254      3.612      0.000       5.376      18.135\n",
      "ages_8-12                                          -12.6090      2.724     -4.629      0.000     -17.949      -7.269\n",
      "theme_name_BrickHeadz                               -7.7583      2.300     -3.373      0.001     -12.267      -3.249\n",
      "theme_name_Marvel Super Heroes                       6.7480      2.508      2.691      0.007       1.832      11.664\n",
      "ages_8-14                                           -5.7122      1.778     -3.212      0.001      -9.198      -2.226\n",
      "ages_8+                                             -8.7051      3.425     -2.542      0.011     -15.419      -1.992\n",
      "ages_5+                                             -6.6394      2.718     -2.442      0.015     -11.968      -1.311\n",
      "theme_name_Minifigures                              -6.6394      2.718     -2.442      0.015     -11.968      -1.311\n",
      "ages_9-12                                          -17.3386      6.524     -2.658      0.008     -30.127      -4.550\n",
      "==============================================================================\n",
      "Omnibus:                     4062.652   Durbin-Watson:                   1.965\n",
      "Prob(Omnibus):                  0.000   Jarque-Bera (JB):           411464.392\n",
      "Skew:                           1.688   Prob(JB):                         0.00\n",
      "Kurtosis:                      39.261   Cond. No.                     1.18e+16\n",
      "==============================================================================\n",
      "\n",
      "Warnings:\n",
      "[1] Standard Errors assume that the covariance matrix of the errors is correctly specified.\n",
      "[2] The smallest eigenvalue is 5.65e-23. This might indicate that there are\n",
      "strong multicollinearity problems or that the design matrix is singular.\n"
     ]
    }
   ],
   "source": [
    "stepwise_X_train = sm.add_constant(stepwise_X_train)\n",
    "stepwise_X_test = sm.add_constant(stepwise_X_test)\n",
    " \n",
    "stepwise_model = sm.OLS(Y_train, stepwise_X_train).fit()\n",
    "stepwise_pred = stepwise_model.predict(stepwise_X_test) \n",
    "\n",
    "print(stepwise_model.summary())"
   ]
  },
  {
   "cell_type": "code",
   "execution_count": 48,
   "metadata": {},
   "outputs": [
    {
     "name": "stdout",
     "output_type": "stream",
     "text": [
      "Mean Absolute Error: 17.47262645758098\n",
      "Mean Squared Error: 1234.6376087891545\n",
      "Root Mean Squared Error: 35.137410388205254\n",
      "Adjusted R-squared: 0.858344624935213\n"
     ]
    }
   ],
   "source": [
    "print('Mean Absolute Error:', metrics.mean_absolute_error(Y_test, stepwise_pred))  \n",
    "print('Mean Squared Error:', metrics.mean_squared_error(Y_test, stepwise_pred))  \n",
    "print('Root Mean Squared Error:', np.sqrt(metrics.mean_squared_error(Y_test, stepwise_pred)))\n",
    "print('Adjusted R-squared:', adj_r2(r2_score(Y_test, stepwise_pred), stepwise_X_train.shape[0], stepwise_X_train.shape[1]))"
   ]
  },
  {
   "cell_type": "markdown",
   "metadata": {},
   "source": [
    "As we can see, obtained prediction metrics are worse than with OLS model build on the whole dataset. Since adjusted R-squared is lower for the restricted model, we know that the additional variables, which deemed statistically insignificant increase the accuracy (adjusted R-squared penalizes additional variables that bring no predictive power). \n",
    "\n",
    "How abount penalized regression, which should lower the variance for a little bias and give better predictions?"
   ]
  },
  {
   "cell_type": "markdown",
   "metadata": {},
   "source": [
    "## 3.3 Elastic Net"
   ]
  },
  {
   "cell_type": "markdown",
   "metadata": {},
   "source": [
    "Firstly, we are tuning the hyperparameters to find the best fit using 5 fold cross-validation with provided set of alphas, L1 and L2 penalties, margin of improvement for each iteration and whether we should normalize data or not."
   ]
  },
  {
   "cell_type": "code",
   "execution_count": null,
   "metadata": {},
   "outputs": [],
   "source": [
    "# eNet = ElasticNet(max_iter = 100)\n",
    "\n",
    "# parametersGrid = {\"alpha\": [0.0001, 0.001, 0.005, 0.01, 0.1, 1.0, 2.0, 10.0, 100.0, 300.0],\n",
    "#                   \"l1_ratio\": np.arange(0.0, 1.0, 0.05),\n",
    "#                  \"tol\": [0.000001, 0.00005, 0.00001, 0.0001, 0.01, 0.1],\n",
    "#                  \"normalize\": [True, False]}\n",
    "\n",
    "# grid = GridSearchCV(eNet, \n",
    "#                     parametersGrid, \n",
    "#                     scoring='neg_mean_squared_error', \n",
    "#                     cv=5,\n",
    "#                     refit = 'neg_mean_squared_error')\n",
    "# grid.fit(X_train, Y_train)\n",
    "# grid_pred = grid.predict(X_test)\n",
    "# print(\"Best: %f using %s\" % (grid.best_score_, grid.best_params_))"
   ]
  },
  {
   "cell_type": "markdown",
   "metadata": {},
   "source": [
    "Now, we estimate data using best parameters for elastic net."
   ]
  },
  {
   "cell_type": "code",
   "execution_count": 37,
   "metadata": {},
   "outputs": [],
   "source": [
    "eNet = ElasticNet(max_iter = 80000,\n",
    "                  alpha = 0.0001,\n",
    "                  l1_ratio = 0.95,\n",
    "                  tol = 0.0000001,\n",
    "                 normalize = False)\n",
    "\n",
    "eNet.fit(X_train, Y_train)\n",
    "elastic_pred = eNet.predict(X_test)"
   ]
  },
  {
   "cell_type": "code",
   "execution_count": 50,
   "metadata": {},
   "outputs": [
    {
     "name": "stdout",
     "output_type": "stream",
     "text": [
      "Mean Absolute Error: 16.746761117586374\n",
      "Mean Squared Error: 1167.1341440449467\n",
      "Root Mean Squared Error: 34.16334503594381\n",
      "Adjusted R-squared: 0.8652700676737399\n"
     ]
    }
   ],
   "source": [
    "print('Mean Absolute Error:', metrics.mean_absolute_error(Y_test, elastic_pred))  \n",
    "print('Mean Squared Error:', metrics.mean_squared_error(Y_test, elastic_pred))  \n",
    "print('Root Mean Squared Error:', np.sqrt(metrics.mean_squared_error(Y_test, elastic_pred)))\n",
    "print('Adjusted R-squared:', adj_r2(r2_score(Y_test, elastic_pred), X_train.shape[0], X_train.shape[1]))"
   ]
  },
  {
   "cell_type": "markdown",
   "metadata": {},
   "source": [
    "We can see that results are still not as good as when using simple Linear Regression. Penalized regression such as Elastic Net should lower the variance compared to OLS model in favor of a little bias to avoid overfitting and therefore to make more accurate predictions. However, the predictive ability on the test data proved to be worse than for OLS model - that is quite unexpected."
   ]
  },
  {
   "cell_type": "markdown",
   "metadata": {},
   "source": [
    "## 3.4 Neural Network"
   ]
  },
  {
   "cell_type": "markdown",
   "metadata": {},
   "source": [
    "Finally, we are trying to use sequential neural network with 3 hidden layers, for which we shall firstly tune the hyperparameters - we are using 5 fold cross-validation for that purpose with provided values of parameters to choose from. \n",
    "\n",
    "We strongly suggest <b>NOT RUNNING</b> this part of code which is commented, because it takes few hours on a decent machine (if it does not Memory bloat - run out of RAM memory)."
   ]
  },
  {
   "cell_type": "markdown",
   "metadata": {},
   "source": [
    "Here is a logger file, which will help us plot improvements over time of trained neural network."
   ]
  },
  {
   "cell_type": "code",
   "execution_count": 167,
   "metadata": {},
   "outputs": [],
   "source": [
    "csv_logger = CSVLogger('neural.log', separator=',', append=False)"
   ]
  },
  {
   "cell_type": "code",
   "execution_count": 168,
   "metadata": {},
   "outputs": [],
   "source": [
    "def create_model(momentum = 0.2,\n",
    "                activation = 'softplus',\n",
    "                learn_rate = 0.001,\n",
    "                dropout_rate = 0.0,\n",
    "                weight_constraint = 3,\n",
    "                neurons = 75,\n",
    "                init = 'glorot_uniform',\n",
    "                optimizer = 'adagrad',\n",
    "                normalize = True): \n",
    "\n",
    "    # create model\n",
    "    NN_model = Sequential()\n",
    "    NN_model.add(Dense(128, \n",
    "                   kernel_initializer=init,\n",
    "                   input_dim = X_train.shape[1], \n",
    "                   activation=activation))\n",
    "\n",
    "    # The Hidden Layers :\n",
    "    NN_model.add(Dense(neurons, \n",
    "                       kernel_initializer=init,\n",
    "                       activation=activation,\n",
    "                      kernel_constraint=maxnorm(weight_constraint)))\n",
    "    NN_model.add(Dense(neurons, \n",
    "                       kernel_initializer=init,\n",
    "                       activation=activation,\n",
    "                      kernel_constraint=maxnorm(weight_constraint)))\n",
    "    NN_model.add(Dropout(dropout_rate)) \n",
    "    NN_model.add(Dense(neurons, \n",
    "                       kernel_initializer=init,\n",
    "                       activation=activation,\n",
    "                      kernel_constraint=maxnorm(weight_constraint)))\n",
    "\n",
    "    # The Output Layer :\n",
    "    NN_model.add(Dense(1, kernel_initializer=init,\n",
    "                       activation='linear'))\n",
    "\n",
    "    \n",
    "    NN_model.compile(loss='mean_squared_error', \n",
    "                  optimizer=optimizer, \n",
    "                  metrics=['mean_absolute_error',\n",
    "                           'mean_squared_error',\n",
    "                          r2_keras])\n",
    "    \n",
    "    NN_model.fit(X_train, \n",
    "                 Y_train,\n",
    "                 epochs=350,\n",
    "                 batch_size=64,\n",
    "                 callbacks=[csv_logger])\n",
    "    \n",
    "    return NN_model\n",
    "\n",
    "\n",
    "model = KerasRegressor(build_fn=create_model, \n",
    "                        epochs = 50, \n",
    "                        batch_size = 64,\n",
    "                        verbose = 1)"
   ]
  },
  {
   "cell_type": "code",
   "execution_count": null,
   "metadata": {},
   "outputs": [],
   "source": [
    "# def grid_search(model = model):\n",
    "# # Use scikit-learn to grid search \n",
    "#     activation = ['softmax', 'softplus', 'softsign', 'relu', 'tanh', 'sigmoid', 'hard_sigmoid', 'linear']\n",
    "#     momentum = [0.0, 0.2, 0.4, 0.6, 0.8, 0.9]\n",
    "#     learn_rate = [0.0001, 0.0005, 0.001, 0.025, 0.005, 0.075, 0.01, 0.025, 0.05, 0.075, 0.1, 0.2]\n",
    "#     dropout_rate = [0.0, 0.1, 0.2, 0.3, 0.4, 0.5, 0.6, 0.7, 0.8, 0.9]\n",
    "#     weight_constraint=[1, 2, 3, 4, 5]\n",
    "#     neurons = [30, 64, 75, 100, 128, 200, 256]\n",
    "#     init = ['uniform', 'lecun_uniform', 'normal', 'zero', 'glorot_normal', 'glorot_uniform', 'he_normal', 'he_uniform']\n",
    "#     optimizer = ['sgd', 'rmsprop', 'adagrad', 'adadelta', 'adam', 'adamax', 'nadam']\n",
    "#     normalize = [True, False]\n",
    "#     ##############################################################\n",
    "#     # grid search epochs, batch size\n",
    "#     epochs = [50, 100] # add 50, 100, 150 etc\n",
    "#     batch_size = [10, 32, 64, 100] # add 5, 10, 20, 40, 60, 80, 100 etc\n",
    "#     param_grid = dict(# epochs=epochs,\n",
    "# #                      batch_size=batch_size,\n",
    "# #                      activation=activation,\n",
    "# #                      momentum=momentum,\n",
    "# #                      learn_rate=learn_rate,\n",
    "# #                      dropout_rate=dropout_rate,\n",
    "# #                      weight_constraint=weight_constraint,\n",
    "# #                      neurons=neurons,\n",
    "# #                      init=init,\n",
    "# #                      optimizer=optimizer,\n",
    "# #                      normalize=normalize\n",
    "#                      )\n",
    "#     ##############################################################\n",
    "#     grid = GridSearchCV(estimator=model, \n",
    "#                         param_grid=param_grid, \n",
    "#                         scoring=['r2'],\n",
    "#                         refit = 'r2',\n",
    "#                         n_jobs=1,\n",
    "#                         cv = 2)\n",
    "#     grid_result = grid.fit(X_train, Y_train) \n",
    "#     ##############################################################\n",
    "#     # summarize results\n",
    "#     print(\"Best: %f using %s\" % (grid_result.best_score_, grid_result.best_params_))\n",
    "#     means = grid_result.cv_results_['mean_test_r2']\n",
    "#     stds = grid_result.cv_results_['std_test_r2']\n",
    "#     params = grid_result.cv_results_['params']\n",
    "#     for mean, stdev, param in zip(means, stds, params):\n",
    "#         print(\"%f (%f) with: %r\" % (mean, stdev, param))\n",
    "        \n",
    "# grid_search(model)"
   ]
  },
  {
   "cell_type": "markdown",
   "metadata": {},
   "source": [
    "After cross-validated tuning we choose those parameters:\n",
    "\n",
    "- <b>Number of epochs</b> = 350\n",
    "\n",
    "- <b>Batch sizes</b> = 64\n",
    "\n",
    "- <b>Activation function</b> = Softplus, which for <i>x</i> is <i>log(exp(x) + 1)</i>\n",
    "\n",
    "- <b>Learning rate</b> = 0.001 - it determines how quickly model is adapted to the prob- lem (using stochastic gradient descent)\n",
    "\n",
    "- <b>Dropout rate</b> = 0, because there was too much data lost when droping some inputs-\n",
    "\n",
    "- <b>Weight constraint</b> = 3, preventing model from using too big weights and therefore overfitting,\n",
    "\n",
    "- <b>Number of neurons per layer</b> = 75\n",
    "\n",
    "- <b>Initializer</b> = Glorot uniform initializer, also called Xavier uniform initializer\n",
    "\n",
    "- <b>Optimizer</b> = Adagrad, which is an optimizer with parameter-specific learning rates, which are adapted relative to how frequently a parameter gets updated during training\n",
    "\n",
    "- <b>Normalize the data</b> = True,\n",
    "\n",
    "for which cross-validation proved that model have value of R-Squared =~ 0.97. \n",
    "\n",
    "Here we are creating the model with chosen parameters and saving it into a file (the best model is already saved and will be loaded below)."
   ]
  },
  {
   "cell_type": "code",
   "execution_count": 169,
   "metadata": {
    "collapsed": true
   },
   "outputs": [
    {
     "name": "stdout",
     "output_type": "stream",
     "text": [
      "Epoch 1/350\n",
      "7446/7446 [==============================] - 2s 253us/step - loss: 3378.1909 - mean_absolute_error: 23.3639 - mean_squared_error: 3378.1909 - r2_keras: 0.6343\n",
      "Epoch 2/350\n",
      "7446/7446 [==============================] - 0s 44us/step - loss: 2559.6548 - mean_absolute_error: 21.1801 - mean_squared_error: 2559.6548 - r2_keras: 0.7421\n",
      "Epoch 3/350\n",
      "7446/7446 [==============================] - 0s 47us/step - loss: 2512.0791 - mean_absolute_error: 20.8226 - mean_squared_error: 2512.0791 - r2_keras: 0.7431\n",
      "Epoch 4/350\n",
      "7446/7446 [==============================] - 0s 47us/step - loss: 2523.1430 - mean_absolute_error: 20.6461 - mean_squared_error: 2523.1430 - r2_keras: 0.7409\n",
      "Epoch 5/350\n",
      "7446/7446 [==============================] - 0s 46us/step - loss: 2458.8549 - mean_absolute_error: 20.3414 - mean_squared_error: 2458.8549 - r2_keras: 0.7451\n",
      "Epoch 6/350\n",
      "7446/7446 [==============================] - 0s 48us/step - loss: 2414.2997 - mean_absolute_error: 20.1276 - mean_squared_error: 2414.2997 - r2_keras: 0.7566\n",
      "Epoch 7/350\n",
      "7446/7446 [==============================] - 0s 43us/step - loss: 2460.5328 - mean_absolute_error: 20.1707 - mean_squared_error: 2460.5328 - r2_keras: 0.7617\n",
      "Epoch 8/350\n",
      "7446/7446 [==============================] - 0s 45us/step - loss: 2376.2412 - mean_absolute_error: 19.8929 - mean_squared_error: 2376.2412 - r2_keras: 0.7554\n",
      "Epoch 9/350\n",
      "7446/7446 [==============================] - 0s 46us/step - loss: 2356.6250 - mean_absolute_error: 19.5495 - mean_squared_error: 2356.6250 - r2_keras: 0.7692\n",
      "Epoch 10/350\n",
      "7446/7446 [==============================] - 0s 43us/step - loss: 2365.0799 - mean_absolute_error: 19.2452 - mean_squared_error: 2365.0799 - r2_keras: 0.7614 0s - loss: 3206.7694 - mean_absolute_error: 21.7771 - mean_squared_error: 3206.7694 - r2_k\n",
      "Epoch 11/350\n",
      "7446/7446 [==============================] - 0s 44us/step - loss: 2288.8646 - mean_absolute_error: 18.9284 - mean_squared_error: 2288.8646 - r2_keras: 0.7753\n",
      "Epoch 12/350\n",
      "7446/7446 [==============================] - 0s 47us/step - loss: 2315.8699 - mean_absolute_error: 18.6575 - mean_squared_error: 2315.8699 - r2_keras: 0.7699\n",
      "Epoch 13/350\n",
      "7446/7446 [==============================] - 0s 44us/step - loss: 2303.3199 - mean_absolute_error: 18.4330 - mean_squared_error: 2303.3199 - r2_keras: 0.7753\n",
      "Epoch 14/350\n",
      "7446/7446 [==============================] - 0s 44us/step - loss: 2224.8458 - mean_absolute_error: 18.0786 - mean_squared_error: 2224.8458 - r2_keras: 0.7782\n",
      "Epoch 15/350\n",
      "7446/7446 [==============================] - 0s 45us/step - loss: 2193.6743 - mean_absolute_error: 17.7294 - mean_squared_error: 2193.6743 - r2_keras: 0.7899\n",
      "Epoch 16/350\n",
      "7446/7446 [==============================] - 0s 45us/step - loss: 2236.7831 - mean_absolute_error: 17.7494 - mean_squared_error: 2236.7831 - r2_keras: 0.7936\n",
      "Epoch 17/350\n",
      "7446/7446 [==============================] - 0s 44us/step - loss: 2182.6797 - mean_absolute_error: 17.3086 - mean_squared_error: 2182.6797 - r2_keras: 0.7850\n",
      "Epoch 18/350\n",
      "7446/7446 [==============================] - 0s 44us/step - loss: 2152.1751 - mean_absolute_error: 17.1196 - mean_squared_error: 2152.1751 - r2_keras: 0.8003\n",
      "Epoch 19/350\n",
      "7446/7446 [==============================] - 0s 45us/step - loss: 2135.7034 - mean_absolute_error: 16.9757 - mean_squared_error: 2135.7034 - r2_keras: 0.8032\n",
      "Epoch 20/350\n",
      "7446/7446 [==============================] - 0s 43us/step - loss: 2090.8773 - mean_absolute_error: 16.8920 - mean_squared_error: 2090.8773 - r2_keras: 0.8039\n",
      "Epoch 21/350\n",
      "7446/7446 [==============================] - 0s 44us/step - loss: 2067.2102 - mean_absolute_error: 16.8686 - mean_squared_error: 2067.2102 - r2_keras: 0.8078\n",
      "Epoch 22/350\n",
      "7446/7446 [==============================] - 0s 46us/step - loss: 2107.1357 - mean_absolute_error: 16.5389 - mean_squared_error: 2107.1357 - r2_keras: 0.8056\n",
      "Epoch 23/350\n",
      "7446/7446 [==============================] - 0s 44us/step - loss: 2167.2147 - mean_absolute_error: 17.2608 - mean_squared_error: 2167.2147 - r2_keras: 0.7930\n",
      "Epoch 24/350\n",
      "7446/7446 [==============================] - 0s 44us/step - loss: 2077.4617 - mean_absolute_error: 16.7380 - mean_squared_error: 2077.4617 - r2_keras: 0.7998\n",
      "Epoch 25/350\n",
      "7446/7446 [==============================] - 0s 44us/step - loss: 2091.4308 - mean_absolute_error: 16.5163 - mean_squared_error: 2091.4308 - r2_keras: 0.7971\n",
      "Epoch 26/350\n",
      "7446/7446 [==============================] - 0s 45us/step - loss: 1993.4093 - mean_absolute_error: 15.9088 - mean_squared_error: 1993.4093 - r2_keras: 0.8195\n",
      "Epoch 27/350\n",
      "7446/7446 [==============================] - 0s 44us/step - loss: 1987.5187 - mean_absolute_error: 15.7064 - mean_squared_error: 1987.5187 - r2_keras: 0.8161\n",
      "Epoch 28/350\n",
      "7446/7446 [==============================] - 0s 46us/step - loss: 2005.8541 - mean_absolute_error: 16.0329 - mean_squared_error: 2005.8541 - r2_keras: 0.8105\n",
      "Epoch 29/350\n",
      "7446/7446 [==============================] - 0s 43us/step - loss: 1896.5282 - mean_absolute_error: 15.6738 - mean_squared_error: 1896.5282 - r2_keras: 0.8183\n",
      "Epoch 30/350\n",
      "7446/7446 [==============================] - 0s 44us/step - loss: 1856.6780 - mean_absolute_error: 15.4585 - mean_squared_error: 1856.6780 - r2_keras: 0.8273\n",
      "Epoch 31/350\n",
      "7446/7446 [==============================] - 0s 44us/step - loss: 1903.0584 - mean_absolute_error: 15.4278 - mean_squared_error: 1903.0584 - r2_keras: 0.8213\n",
      "Epoch 32/350\n",
      "7446/7446 [==============================] - 0s 47us/step - loss: 1966.5792 - mean_absolute_error: 16.0119 - mean_squared_error: 1966.5792 - r2_keras: 0.8120\n",
      "Epoch 33/350\n",
      "7446/7446 [==============================] - 0s 46us/step - loss: 1871.7038 - mean_absolute_error: 15.5295 - mean_squared_error: 1871.7038 - r2_keras: 0.8179\n",
      "Epoch 34/350\n",
      "7446/7446 [==============================] - 0s 45us/step - loss: 1821.2781 - mean_absolute_error: 15.4565 - mean_squared_error: 1821.2781 - r2_keras: 0.8242\n",
      "Epoch 35/350\n",
      "7446/7446 [==============================] - 0s 47us/step - loss: 1723.0772 - mean_absolute_error: 15.1925 - mean_squared_error: 1723.0772 - r2_keras: 0.8442\n",
      "Epoch 36/350\n",
      "7446/7446 [==============================] - 0s 47us/step - loss: 1959.7595 - mean_absolute_error: 16.0911 - mean_squared_error: 1959.7595 - r2_keras: 0.8161\n",
      "Epoch 37/350\n",
      "7446/7446 [==============================] - 0s 44us/step - loss: 1726.8436 - mean_absolute_error: 14.8358 - mean_squared_error: 1726.8436 - r2_keras: 0.8356\n",
      "Epoch 38/350\n",
      "7446/7446 [==============================] - 0s 46us/step - loss: 1692.9927 - mean_absolute_error: 14.7345 - mean_squared_error: 1692.9927 - r2_keras: 0.8424\n",
      "Epoch 39/350\n",
      "7446/7446 [==============================] - 0s 45us/step - loss: 1648.5138 - mean_absolute_error: 14.6540 - mean_squared_error: 1648.5138 - r2_keras: 0.8400\n",
      "Epoch 40/350\n",
      "7446/7446 [==============================] - 0s 46us/step - loss: 1665.2027 - mean_absolute_error: 14.7032 - mean_squared_error: 1665.2027 - r2_keras: 0.8460\n",
      "Epoch 41/350\n",
      "7446/7446 [==============================] - 0s 46us/step - loss: 1619.2590 - mean_absolute_error: 14.4454 - mean_squared_error: 1619.2590 - r2_keras: 0.8473\n",
      "Epoch 42/350\n",
      "7446/7446 [==============================] - 0s 46us/step - loss: 1597.2943 - mean_absolute_error: 14.4941 - mean_squared_error: 1597.2943 - r2_keras: 0.8538\n",
      "Epoch 43/350\n",
      "7446/7446 [==============================] - 0s 45us/step - loss: 1572.5018 - mean_absolute_error: 14.2737 - mean_squared_error: 1572.5018 - r2_keras: 0.8550\n",
      "Epoch 44/350\n",
      "7446/7446 [==============================] - 0s 48us/step - loss: 1819.8641 - mean_absolute_error: 15.8161 - mean_squared_error: 1819.8641 - r2_keras: 0.8329\n",
      "Epoch 45/350\n",
      "7446/7446 [==============================] - 0s 44us/step - loss: 1874.2531 - mean_absolute_error: 15.8691 - mean_squared_error: 1874.2531 - r2_keras: 0.8295\n",
      "Epoch 46/350\n",
      "7446/7446 [==============================] - 0s 46us/step - loss: 1657.9407 - mean_absolute_error: 15.3809 - mean_squared_error: 1657.9407 - r2_keras: 0.8393\n",
      "Epoch 47/350\n",
      "7446/7446 [==============================] - 0s 48us/step - loss: 1558.3627 - mean_absolute_error: 14.7478 - mean_squared_error: 1558.3627 - r2_keras: 0.8520\n",
      "Epoch 48/350\n"
     ]
    },
    {
     "name": "stdout",
     "output_type": "stream",
     "text": [
      "7446/7446 [==============================] - 0s 41us/step - loss: 1647.8106 - mean_absolute_error: 14.3988 - mean_squared_error: 1647.8106 - r2_keras: 0.8445\n",
      "Epoch 49/350\n",
      "7446/7446 [==============================] - 0s 43us/step - loss: 1494.9450 - mean_absolute_error: 14.0524 - mean_squared_error: 1494.9450 - r2_keras: 0.8645\n",
      "Epoch 50/350\n",
      "7446/7446 [==============================] - 0s 43us/step - loss: 1550.1233 - mean_absolute_error: 14.1909 - mean_squared_error: 1550.1233 - r2_keras: 0.8528\n",
      "Epoch 51/350\n",
      "7446/7446 [==============================] - 0s 43us/step - loss: 1410.4435 - mean_absolute_error: 13.8257 - mean_squared_error: 1410.4435 - r2_keras: 0.8647\n",
      "Epoch 52/350\n",
      "7446/7446 [==============================] - 0s 41us/step - loss: 1363.2985 - mean_absolute_error: 13.5760 - mean_squared_error: 1363.2985 - r2_keras: 0.8757\n",
      "Epoch 53/350\n",
      "7446/7446 [==============================] - 0s 42us/step - loss: 1388.6284 - mean_absolute_error: 13.6082 - mean_squared_error: 1388.6284 - r2_keras: 0.8719\n",
      "Epoch 54/350\n",
      "7446/7446 [==============================] - 0s 45us/step - loss: 1388.2554 - mean_absolute_error: 13.9097 - mean_squared_error: 1388.2554 - r2_keras: 0.8597\n",
      "Epoch 55/350\n",
      "7446/7446 [==============================] - 0s 42us/step - loss: 1366.7481 - mean_absolute_error: 13.5177 - mean_squared_error: 1366.7481 - r2_keras: 0.8709\n",
      "Epoch 56/350\n",
      "7446/7446 [==============================] - 0s 43us/step - loss: 1381.8902 - mean_absolute_error: 13.5172 - mean_squared_error: 1381.8902 - r2_keras: 0.8680\n",
      "Epoch 57/350\n",
      "7446/7446 [==============================] - 0s 45us/step - loss: 1386.4643 - mean_absolute_error: 13.5731 - mean_squared_error: 1386.4643 - r2_keras: 0.8697\n",
      "Epoch 58/350\n",
      "7446/7446 [==============================] - 0s 42us/step - loss: 1276.1541 - mean_absolute_error: 13.2790 - mean_squared_error: 1276.1541 - r2_keras: 0.8747\n",
      "Epoch 59/350\n",
      "7446/7446 [==============================] - 0s 42us/step - loss: 1346.5877 - mean_absolute_error: 13.4611 - mean_squared_error: 1346.5877 - r2_keras: 0.8700\n",
      "Epoch 60/350\n",
      "7446/7446 [==============================] - 0s 48us/step - loss: 1519.6450 - mean_absolute_error: 14.0051 - mean_squared_error: 1519.6450 - r2_keras: 0.8571\n",
      "Epoch 61/350\n",
      "7446/7446 [==============================] - 0s 41us/step - loss: 1223.3912 - mean_absolute_error: 12.9266 - mean_squared_error: 1223.3912 - r2_keras: 0.8739\n",
      "Epoch 62/350\n",
      "7446/7446 [==============================] - 0s 42us/step - loss: 1303.5264 - mean_absolute_error: 13.1513 - mean_squared_error: 1303.5264 - r2_keras: 0.8734\n",
      "Epoch 63/350\n",
      "7446/7446 [==============================] - 0s 48us/step - loss: 1192.6956 - mean_absolute_error: 12.7347 - mean_squared_error: 1192.6956 - r2_keras: 0.8856\n",
      "Epoch 64/350\n",
      "7446/7446 [==============================] - 0s 55us/step - loss: 1212.2788 - mean_absolute_error: 12.7002 - mean_squared_error: 1212.2788 - r2_keras: 0.8814\n",
      "Epoch 65/350\n",
      "7446/7446 [==============================] - 0s 55us/step - loss: 1202.2781 - mean_absolute_error: 12.7526 - mean_squared_error: 1202.2781 - r2_keras: 0.8840\n",
      "Epoch 66/350\n",
      "7446/7446 [==============================] - 0s 53us/step - loss: 1121.7399 - mean_absolute_error: 12.4856 - mean_squared_error: 1121.7399 - r2_keras: 0.8904\n",
      "Epoch 67/350\n",
      "7446/7446 [==============================] - 0s 47us/step - loss: 1288.9392 - mean_absolute_error: 13.0710 - mean_squared_error: 1288.9392 - r2_keras: 0.8800\n",
      "Epoch 68/350\n",
      "7446/7446 [==============================] - 0s 58us/step - loss: 1120.7405 - mean_absolute_error: 12.6264 - mean_squared_error: 1120.7405 - r2_keras: 0.8917\n",
      "Epoch 69/350\n",
      "7446/7446 [==============================] - 0s 47us/step - loss: 1554.5163 - mean_absolute_error: 13.6236 - mean_squared_error: 1554.5163 - r2_keras: 0.8596\n",
      "Epoch 70/350\n",
      "7446/7446 [==============================] - 0s 43us/step - loss: 1227.1974 - mean_absolute_error: 12.8071 - mean_squared_error: 1227.1974 - r2_keras: 0.8896\n",
      "Epoch 71/350\n",
      "7446/7446 [==============================] - 0s 44us/step - loss: 1072.5823 - mean_absolute_error: 12.4886 - mean_squared_error: 1072.5823 - r2_keras: 0.9031\n",
      "Epoch 72/350\n",
      "7446/7446 [==============================] - 0s 45us/step - loss: 1273.6687 - mean_absolute_error: 12.6385 - mean_squared_error: 1273.6687 - r2_keras: 0.8767\n",
      "Epoch 73/350\n",
      "7446/7446 [==============================] - 0s 44us/step - loss: 1106.3840 - mean_absolute_error: 12.7959 - mean_squared_error: 1106.3840 - r2_keras: 0.8930\n",
      "Epoch 74/350\n",
      "7446/7446 [==============================] - 0s 45us/step - loss: 1036.3770 - mean_absolute_error: 12.3365 - mean_squared_error: 1036.3770 - r2_keras: 0.8978\n",
      "Epoch 75/350\n",
      "7446/7446 [==============================] - 0s 46us/step - loss: 1149.0784 - mean_absolute_error: 12.3477 - mean_squared_error: 1149.0784 - r2_keras: 0.8925\n",
      "Epoch 76/350\n",
      "7446/7446 [==============================] - 0s 42us/step - loss: 1214.4898 - mean_absolute_error: 12.4945 - mean_squared_error: 1214.4898 - r2_keras: 0.8860\n",
      "Epoch 77/350\n",
      "7446/7446 [==============================] - 0s 43us/step - loss: 1202.1719 - mean_absolute_error: 12.6879 - mean_squared_error: 1202.1719 - r2_keras: 0.8825\n",
      "Epoch 78/350\n",
      "7446/7446 [==============================] - 0s 43us/step - loss: 1072.1077 - mean_absolute_error: 12.3216 - mean_squared_error: 1072.1077 - r2_keras: 0.8948\n",
      "Epoch 79/350\n",
      "7446/7446 [==============================] - 0s 45us/step - loss: 1084.2071 - mean_absolute_error: 12.1400 - mean_squared_error: 1084.2071 - r2_keras: 0.8994\n",
      "Epoch 80/350\n",
      "7446/7446 [==============================] - 0s 45us/step - loss: 862.7080 - mean_absolute_error: 11.6563 - mean_squared_error: 862.7080 - r2_keras: 0.9112\n",
      "Epoch 81/350\n",
      "7446/7446 [==============================] - 0s 45us/step - loss: 924.6513 - mean_absolute_error: 11.7023 - mean_squared_error: 924.6513 - r2_keras: 0.9113\n",
      "Epoch 82/350\n",
      "7446/7446 [==============================] - 0s 44us/step - loss: 928.9034 - mean_absolute_error: 11.6186 - mean_squared_error: 928.9034 - r2_keras: 0.9045\n",
      "Epoch 83/350\n",
      "7446/7446 [==============================] - 0s 45us/step - loss: 914.6843 - mean_absolute_error: 11.9129 - mean_squared_error: 914.6843 - r2_keras: 0.9081\n",
      "Epoch 84/350\n",
      "7446/7446 [==============================] - 0s 44us/step - loss: 850.2426 - mean_absolute_error: 11.3831 - mean_squared_error: 850.2426 - r2_keras: 0.9177\n",
      "Epoch 85/350\n",
      "7446/7446 [==============================] - 0s 46us/step - loss: 864.8882 - mean_absolute_error: 11.4918 - mean_squared_error: 864.8882 - r2_keras: 0.9090\n",
      "Epoch 86/350\n",
      "7446/7446 [==============================] - 0s 45us/step - loss: 983.2989 - mean_absolute_error: 11.9693 - mean_squared_error: 983.2989 - r2_keras: 0.9054\n",
      "Epoch 87/350\n",
      "7446/7446 [==============================] - 0s 45us/step - loss: 795.2308 - mean_absolute_error: 11.1743 - mean_squared_error: 795.2308 - r2_keras: 0.9215\n",
      "Epoch 88/350\n",
      "7446/7446 [==============================] - 0s 46us/step - loss: 835.4740 - mean_absolute_error: 11.1289 - mean_squared_error: 835.4740 - r2_keras: 0.9096\n",
      "Epoch 89/350\n",
      "7446/7446 [==============================] - 0s 46us/step - loss: 723.5385 - mean_absolute_error: 10.9571 - mean_squared_error: 723.5385 - r2_keras: 0.9256\n",
      "Epoch 90/350\n",
      "7446/7446 [==============================] - 0s 45us/step - loss: 804.5816 - mean_absolute_error: 11.1202 - mean_squared_error: 804.5816 - r2_keras: 0.9268\n",
      "Epoch 91/350\n",
      "7446/7446 [==============================] - 0s 47us/step - loss: 758.6483 - mean_absolute_error: 11.1308 - mean_squared_error: 758.6483 - r2_keras: 0.9231\n",
      "Epoch 92/350\n",
      "7446/7446 [==============================] - 0s 47us/step - loss: 673.5190 - mean_absolute_error: 10.8212 - mean_squared_error: 673.5190 - r2_keras: 0.9316\n",
      "Epoch 93/350\n",
      "7446/7446 [==============================] - 0s 45us/step - loss: 762.2162 - mean_absolute_error: 10.7244 - mean_squared_error: 762.2162 - r2_keras: 0.9242\n",
      "Epoch 94/350\n",
      "7446/7446 [==============================] - 0s 46us/step - loss: 1478.9235 - mean_absolute_error: 13.6709 - mean_squared_error: 1478.9235 - r2_keras: 0.8646\n",
      "Epoch 95/350\n",
      "7446/7446 [==============================] - 0s 46us/step - loss: 1454.9338 - mean_absolute_error: 13.1069 - mean_squared_error: 1454.9338 - r2_keras: 0.8701\n",
      "Epoch 96/350\n"
     ]
    },
    {
     "name": "stdout",
     "output_type": "stream",
     "text": [
      "7446/7446 [==============================] - 0s 42us/step - loss: 960.8866 - mean_absolute_error: 11.9922 - mean_squared_error: 960.8866 - r2_keras: 0.9023\n",
      "Epoch 97/350\n",
      "7446/7446 [==============================] - 0s 42us/step - loss: 702.0017 - mean_absolute_error: 11.0450 - mean_squared_error: 702.0017 - r2_keras: 0.9255\n",
      "Epoch 98/350\n",
      "7446/7446 [==============================] - 0s 50us/step - loss: 843.6468 - mean_absolute_error: 11.0716 - mean_squared_error: 843.6468 - r2_keras: 0.9194\n",
      "Epoch 99/350\n",
      "7446/7446 [==============================] - 0s 52us/step - loss: 806.0542 - mean_absolute_error: 11.0797 - mean_squared_error: 806.0542 - r2_keras: 0.9204\n",
      "Epoch 100/350\n",
      "7446/7446 [==============================] - 0s 42us/step - loss: 754.1654 - mean_absolute_error: 10.7082 - mean_squared_error: 754.1654 - r2_keras: 0.9256\n",
      "Epoch 101/350\n",
      "7446/7446 [==============================] - 0s 43us/step - loss: 689.7685 - mean_absolute_error: 10.3980 - mean_squared_error: 689.7685 - r2_keras: 0.9291\n",
      "Epoch 102/350\n",
      "7446/7446 [==============================] - 0s 42us/step - loss: 620.2473 - mean_absolute_error: 10.3076 - mean_squared_error: 620.2473 - r2_keras: 0.9273\n",
      "Epoch 103/350\n",
      "7446/7446 [==============================] - 0s 42us/step - loss: 735.9049 - mean_absolute_error: 10.6675 - mean_squared_error: 735.9049 - r2_keras: 0.9280\n",
      "Epoch 104/350\n",
      "7446/7446 [==============================] - 0s 45us/step - loss: 683.1098 - mean_absolute_error: 10.3726 - mean_squared_error: 683.1098 - r2_keras: 0.9334\n",
      "Epoch 105/350\n",
      "7446/7446 [==============================] - 0s 42us/step - loss: 510.6761 - mean_absolute_error: 9.9030 - mean_squared_error: 510.6761 - r2_keras: 0.9444\n",
      "Epoch 106/350\n",
      "7446/7446 [==============================] - 0s 41us/step - loss: 525.6168 - mean_absolute_error: 9.8603 - mean_squared_error: 525.6168 - r2_keras: 0.9452\n",
      "Epoch 107/350\n",
      "7446/7446 [==============================] - 0s 44us/step - loss: 1450.1428 - mean_absolute_error: 13.3725 - mean_squared_error: 1450.1428 - r2_keras: 0.8780\n",
      "Epoch 108/350\n",
      "7446/7446 [==============================] - 0s 43us/step - loss: 800.5371 - mean_absolute_error: 10.9873 - mean_squared_error: 800.5371 - r2_keras: 0.9220\n",
      "Epoch 109/350\n",
      "7446/7446 [==============================] - 0s 42us/step - loss: 629.6218 - mean_absolute_error: 10.4127 - mean_squared_error: 629.6218 - r2_keras: 0.9326\n",
      "Epoch 110/350\n",
      "7446/7446 [==============================] - 0s 43us/step - loss: 678.9295 - mean_absolute_error: 10.5539 - mean_squared_error: 678.9295 - r2_keras: 0.9322\n",
      "Epoch 111/350\n",
      "7446/7446 [==============================] - 0s 45us/step - loss: 630.2656 - mean_absolute_error: 10.2010 - mean_squared_error: 630.2656 - r2_keras: 0.9359\n",
      "Epoch 112/350\n",
      "7446/7446 [==============================] - 0s 42us/step - loss: 495.3544 - mean_absolute_error: 9.6217 - mean_squared_error: 495.3544 - r2_keras: 0.9457\n",
      "Epoch 113/350\n",
      "7446/7446 [==============================] - 0s 42us/step - loss: 610.0659 - mean_absolute_error: 10.3192 - mean_squared_error: 610.0659 - r2_keras: 0.9328\n",
      "Epoch 114/350\n",
      "7446/7446 [==============================] - 0s 44us/step - loss: 483.0876 - mean_absolute_error: 9.6336 - mean_squared_error: 483.0876 - r2_keras: 0.9456\n",
      "Epoch 115/350\n",
      "7446/7446 [==============================] - 0s 42us/step - loss: 431.8651 - mean_absolute_error: 9.4805 - mean_squared_error: 431.8651 - r2_keras: 0.9506\n",
      "Epoch 116/350\n",
      "7446/7446 [==============================] - 0s 43us/step - loss: 506.5518 - mean_absolute_error: 9.5885 - mean_squared_error: 506.5518 - r2_keras: 0.9492\n",
      "Epoch 117/350\n",
      "7446/7446 [==============================] - 0s 43us/step - loss: 440.0679 - mean_absolute_error: 9.4384 - mean_squared_error: 440.0679 - r2_keras: 0.9512\n",
      "Epoch 118/350\n",
      "7446/7446 [==============================] - 0s 43us/step - loss: 410.5753 - mean_absolute_error: 9.4221 - mean_squared_error: 410.5753 - r2_keras: 0.9557\n",
      "Epoch 119/350\n",
      "7446/7446 [==============================] - 0s 42us/step - loss: 543.7692 - mean_absolute_error: 9.7729 - mean_squared_error: 543.7692 - r2_keras: 0.9426\n",
      "Epoch 120/350\n",
      "7446/7446 [==============================] - 0s 43us/step - loss: 612.9624 - mean_absolute_error: 10.4426 - mean_squared_error: 612.9624 - r2_keras: 0.9352\n",
      "Epoch 121/350\n",
      "7446/7446 [==============================] - 0s 43us/step - loss: 432.0941 - mean_absolute_error: 9.3579 - mean_squared_error: 432.0941 - r2_keras: 0.9494\n",
      "Epoch 122/350\n",
      "7446/7446 [==============================] - 0s 43us/step - loss: 460.4727 - mean_absolute_error: 9.3775 - mean_squared_error: 460.4727 - r2_keras: 0.9515\n",
      "Epoch 123/350\n",
      "7446/7446 [==============================] - 0s 43us/step - loss: 457.7999 - mean_absolute_error: 9.3117 - mean_squared_error: 457.7999 - r2_keras: 0.9497\n",
      "Epoch 124/350\n",
      "7446/7446 [==============================] - 0s 44us/step - loss: 404.3952 - mean_absolute_error: 9.2336 - mean_squared_error: 404.3952 - r2_keras: 0.9569\n",
      "Epoch 125/350\n",
      "7446/7446 [==============================] - 0s 43us/step - loss: 394.0537 - mean_absolute_error: 9.1210 - mean_squared_error: 394.0537 - r2_keras: 0.9548\n",
      "Epoch 126/350\n",
      "7446/7446 [==============================] - 0s 42us/step - loss: 387.6972 - mean_absolute_error: 8.9693 - mean_squared_error: 387.6972 - r2_keras: 0.9559\n",
      "Epoch 127/350\n",
      "7446/7446 [==============================] - 0s 52us/step - loss: 445.2827 - mean_absolute_error: 9.4782 - mean_squared_error: 445.2827 - r2_keras: 0.9523\n",
      "Epoch 128/350\n",
      "7446/7446 [==============================] - 0s 42us/step - loss: 387.8662 - mean_absolute_error: 8.9857 - mean_squared_error: 387.8662 - r2_keras: 0.9552\n",
      "Epoch 129/350\n",
      "7446/7446 [==============================] - 0s 43us/step - loss: 367.9732 - mean_absolute_error: 8.9570 - mean_squared_error: 367.9732 - r2_keras: 0.9594\n",
      "Epoch 130/350\n",
      "7446/7446 [==============================] - 0s 44us/step - loss: 339.5235 - mean_absolute_error: 8.7454 - mean_squared_error: 339.5235 - r2_keras: 0.9603\n",
      "Epoch 131/350\n",
      "7446/7446 [==============================] - 0s 44us/step - loss: 403.2968 - mean_absolute_error: 9.1552 - mean_squared_error: 403.2968 - r2_keras: 0.9519\n",
      "Epoch 132/350\n",
      "7446/7446 [==============================] - 0s 46us/step - loss: 308.4327 - mean_absolute_error: 8.6000 - mean_squared_error: 308.4327 - r2_keras: 0.9637\n",
      "Epoch 133/350\n",
      "7446/7446 [==============================] - 0s 51us/step - loss: 447.5392 - mean_absolute_error: 9.3780 - mean_squared_error: 447.5392 - r2_keras: 0.9480\n",
      "Epoch 134/350\n",
      "7446/7446 [==============================] - 0s 61us/step - loss: 374.5942 - mean_absolute_error: 9.0677 - mean_squared_error: 374.5942 - r2_keras: 0.9584\n",
      "Epoch 135/350\n",
      "7446/7446 [==============================] - 0s 44us/step - loss: 508.4263 - mean_absolute_error: 9.3496 - mean_squared_error: 508.4263 - r2_keras: 0.9455\n",
      "Epoch 136/350\n",
      "7446/7446 [==============================] - 0s 49us/step - loss: 330.0176 - mean_absolute_error: 8.8584 - mean_squared_error: 330.0176 - r2_keras: 0.9619\n",
      "Epoch 137/350\n",
      "7446/7446 [==============================] - 0s 46us/step - loss: 393.3361 - mean_absolute_error: 9.0710 - mean_squared_error: 393.3361 - r2_keras: 0.9558\n",
      "Epoch 138/350\n",
      "7446/7446 [==============================] - 0s 45us/step - loss: 328.0198 - mean_absolute_error: 8.6395 - mean_squared_error: 328.0198 - r2_keras: 0.9597\n",
      "Epoch 139/350\n",
      "7446/7446 [==============================] - 0s 47us/step - loss: 391.0200 - mean_absolute_error: 8.9083 - mean_squared_error: 391.0200 - r2_keras: 0.9552\n",
      "Epoch 140/350\n",
      "7446/7446 [==============================] - 0s 46us/step - loss: 316.7464 - mean_absolute_error: 8.6013 - mean_squared_error: 316.7464 - r2_keras: 0.9636\n",
      "Epoch 141/350\n",
      "7446/7446 [==============================] - 0s 43us/step - loss: 278.6540 - mean_absolute_error: 8.4426 - mean_squared_error: 278.6540 - r2_keras: 0.9653\n",
      "Epoch 142/350\n",
      "7446/7446 [==============================] - 0s 49us/step - loss: 311.0487 - mean_absolute_error: 8.6170 - mean_squared_error: 311.0487 - r2_keras: 0.9628\n",
      "Epoch 143/350\n",
      "7446/7446 [==============================] - 0s 51us/step - loss: 350.2554 - mean_absolute_error: 8.6734 - mean_squared_error: 350.2554 - r2_keras: 0.9601\n",
      "Epoch 144/350\n"
     ]
    },
    {
     "name": "stdout",
     "output_type": "stream",
     "text": [
      "7446/7446 [==============================] - 0s 43us/step - loss: 305.0321 - mean_absolute_error: 8.5170 - mean_squared_error: 305.0321 - r2_keras: 0.9635\n",
      "Epoch 145/350\n",
      "7446/7446 [==============================] - 0s 44us/step - loss: 284.2077 - mean_absolute_error: 8.3830 - mean_squared_error: 284.2077 - r2_keras: 0.9664\n",
      "Epoch 146/350\n",
      "7446/7446 [==============================] - 0s 43us/step - loss: 306.9561 - mean_absolute_error: 8.5727 - mean_squared_error: 306.9561 - r2_keras: 0.9655\n",
      "Epoch 147/350\n",
      "7446/7446 [==============================] - 0s 42us/step - loss: 326.1664 - mean_absolute_error: 8.6638 - mean_squared_error: 326.1664 - r2_keras: 0.9592\n",
      "Epoch 148/350\n",
      "7446/7446 [==============================] - 0s 42us/step - loss: 295.5475 - mean_absolute_error: 8.4657 - mean_squared_error: 295.5475 - r2_keras: 0.9652\n",
      "Epoch 149/350\n",
      "7446/7446 [==============================] - 0s 44us/step - loss: 285.8549 - mean_absolute_error: 8.3918 - mean_squared_error: 285.8549 - r2_keras: 0.9674\n",
      "Epoch 150/350\n",
      "7446/7446 [==============================] - 0s 42us/step - loss: 293.5981 - mean_absolute_error: 8.3555 - mean_squared_error: 293.5981 - r2_keras: 0.9669\n",
      "Epoch 151/350\n",
      "7446/7446 [==============================] - 0s 49us/step - loss: 268.9848 - mean_absolute_error: 8.1997 - mean_squared_error: 268.9848 - r2_keras: 0.9691\n",
      "Epoch 152/350\n",
      "7446/7446 [==============================] - 0s 45us/step - loss: 273.2225 - mean_absolute_error: 8.2921 - mean_squared_error: 273.2225 - r2_keras: 0.9666\n",
      "Epoch 153/350\n",
      "7446/7446 [==============================] - 0s 48us/step - loss: 283.3655 - mean_absolute_error: 8.1933 - mean_squared_error: 283.3655 - r2_keras: 0.9686\n",
      "Epoch 154/350\n",
      "7446/7446 [==============================] - 0s 41us/step - loss: 287.1605 - mean_absolute_error: 8.2958 - mean_squared_error: 287.1605 - r2_keras: 0.9667\n",
      "Epoch 155/350\n",
      "7446/7446 [==============================] - 0s 44us/step - loss: 284.4516 - mean_absolute_error: 8.2540 - mean_squared_error: 284.4516 - r2_keras: 0.9684\n",
      "Epoch 156/350\n",
      "7446/7446 [==============================] - 0s 42us/step - loss: 263.2853 - mean_absolute_error: 8.1819 - mean_squared_error: 263.2853 - r2_keras: 0.9701\n",
      "Epoch 157/350\n",
      "7446/7446 [==============================] - 0s 42us/step - loss: 280.2637 - mean_absolute_error: 8.2725 - mean_squared_error: 280.2637 - r2_keras: 0.9667\n",
      "Epoch 158/350\n",
      "7446/7446 [==============================] - 0s 46us/step - loss: 273.7424 - mean_absolute_error: 8.1878 - mean_squared_error: 273.7424 - r2_keras: 0.9682\n",
      "Epoch 159/350\n",
      "7446/7446 [==============================] - 0s 43us/step - loss: 322.8426 - mean_absolute_error: 8.5113 - mean_squared_error: 322.8426 - r2_keras: 0.9650\n",
      "Epoch 160/350\n",
      "7446/7446 [==============================] - 0s 41us/step - loss: 276.0674 - mean_absolute_error: 8.1855 - mean_squared_error: 276.0674 - r2_keras: 0.9686\n",
      "Epoch 161/350\n",
      "7446/7446 [==============================] - 0s 43us/step - loss: 294.7462 - mean_absolute_error: 8.3115 - mean_squared_error: 294.7462 - r2_keras: 0.9674\n",
      "Epoch 162/350\n",
      "7446/7446 [==============================] - 0s 44us/step - loss: 247.8015 - mean_absolute_error: 8.0468 - mean_squared_error: 247.8015 - r2_keras: 0.9711\n",
      "Epoch 163/350\n",
      "7446/7446 [==============================] - 0s 43us/step - loss: 260.0708 - mean_absolute_error: 8.0518 - mean_squared_error: 260.0708 - r2_keras: 0.9684\n",
      "Epoch 164/350\n",
      "7446/7446 [==============================] - 0s 45us/step - loss: 278.8099 - mean_absolute_error: 8.1135 - mean_squared_error: 278.8099 - r2_keras: 0.9691\n",
      "Epoch 165/350\n",
      "7446/7446 [==============================] - 0s 44us/step - loss: 303.6398 - mean_absolute_error: 8.3365 - mean_squared_error: 303.6398 - r2_keras: 0.9671\n",
      "Epoch 166/350\n",
      "7446/7446 [==============================] - 0s 42us/step - loss: 251.8513 - mean_absolute_error: 8.0057 - mean_squared_error: 251.8513 - r2_keras: 0.9705\n",
      "Epoch 167/350\n",
      "7446/7446 [==============================] - 0s 44us/step - loss: 257.4543 - mean_absolute_error: 8.1073 - mean_squared_error: 257.4543 - r2_keras: 0.9689\n",
      "Epoch 168/350\n",
      "7446/7446 [==============================] - 0s 45us/step - loss: 259.4733 - mean_absolute_error: 8.0225 - mean_squared_error: 259.4733 - r2_keras: 0.9689\n",
      "Epoch 169/350\n",
      "7446/7446 [==============================] - 0s 41us/step - loss: 252.4140 - mean_absolute_error: 7.9912 - mean_squared_error: 252.4140 - r2_keras: 0.9711\n",
      "Epoch 170/350\n",
      "7446/7446 [==============================] - 0s 45us/step - loss: 267.3153 - mean_absolute_error: 8.0587 - mean_squared_error: 267.3153 - r2_keras: 0.9702\n",
      "Epoch 171/350\n",
      "7446/7446 [==============================] - 0s 45us/step - loss: 277.0493 - mean_absolute_error: 8.2197 - mean_squared_error: 277.0493 - r2_keras: 0.9673\n",
      "Epoch 172/350\n",
      "7446/7446 [==============================] - 0s 43us/step - loss: 286.1487 - mean_absolute_error: 8.2413 - mean_squared_error: 286.1487 - r2_keras: 0.9676\n",
      "Epoch 173/350\n",
      "7446/7446 [==============================] - 0s 44us/step - loss: 246.7000 - mean_absolute_error: 7.9371 - mean_squared_error: 246.7000 - r2_keras: 0.9710\n",
      "Epoch 174/350\n",
      "7446/7446 [==============================] - 0s 44us/step - loss: 279.5074 - mean_absolute_error: 8.1220 - mean_squared_error: 279.5074 - r2_keras: 0.9679\n",
      "Epoch 175/350\n",
      "7446/7446 [==============================] - 0s 45us/step - loss: 252.5339 - mean_absolute_error: 7.9868 - mean_squared_error: 252.5339 - r2_keras: 0.9705\n",
      "Epoch 176/350\n",
      "7446/7446 [==============================] - 0s 44us/step - loss: 246.8339 - mean_absolute_error: 7.9567 - mean_squared_error: 246.8339 - r2_keras: 0.9709\n",
      "Epoch 177/350\n",
      "7446/7446 [==============================] - 0s 43us/step - loss: 231.7999 - mean_absolute_error: 7.8247 - mean_squared_error: 231.7999 - r2_keras: 0.9719\n",
      "Epoch 178/350\n",
      "7446/7446 [==============================] - 0s 44us/step - loss: 362.0288 - mean_absolute_error: 8.6461 - mean_squared_error: 362.0288 - r2_keras: 0.9609\n",
      "Epoch 179/350\n",
      "7446/7446 [==============================] - 0s 46us/step - loss: 258.7824 - mean_absolute_error: 7.9222 - mean_squared_error: 258.7824 - r2_keras: 0.9664\n",
      "Epoch 180/350\n",
      "7446/7446 [==============================] - 0s 43us/step - loss: 225.2383 - mean_absolute_error: 7.7421 - mean_squared_error: 225.2383 - r2_keras: 0.9728\n",
      "Epoch 181/350\n",
      "7446/7446 [==============================] - 0s 46us/step - loss: 271.2558 - mean_absolute_error: 7.9818 - mean_squared_error: 271.2558 - r2_keras: 0.9688\n",
      "Epoch 182/350\n",
      "7446/7446 [==============================] - 0s 44us/step - loss: 233.0513 - mean_absolute_error: 7.7766 - mean_squared_error: 233.0513 - r2_keras: 0.9736\n",
      "Epoch 183/350\n",
      "7446/7446 [==============================] - 0s 44us/step - loss: 328.3013 - mean_absolute_error: 7.9904 - mean_squared_error: 328.3013 - r2_keras: 0.9628\n",
      "Epoch 184/350\n",
      "7446/7446 [==============================] - 0s 45us/step - loss: 243.2093 - mean_absolute_error: 7.8182 - mean_squared_error: 243.2093 - r2_keras: 0.9702\n",
      "Epoch 185/350\n",
      "7446/7446 [==============================] - 0s 44us/step - loss: 229.9783 - mean_absolute_error: 7.7496 - mean_squared_error: 229.9783 - r2_keras: 0.9733\n",
      "Epoch 186/350\n",
      "7446/7446 [==============================] - 0s 43us/step - loss: 222.8295 - mean_absolute_error: 7.7050 - mean_squared_error: 222.8295 - r2_keras: 0.9737\n",
      "Epoch 187/350\n",
      "7446/7446 [==============================] - 0s 46us/step - loss: 250.5758 - mean_absolute_error: 7.8487 - mean_squared_error: 250.5758 - r2_keras: 0.9716\n",
      "Epoch 188/350\n",
      "7446/7446 [==============================] - 0s 45us/step - loss: 244.6396 - mean_absolute_error: 7.9227 - mean_squared_error: 244.6396 - r2_keras: 0.9708\n",
      "Epoch 189/350\n",
      "7446/7446 [==============================] - 0s 45us/step - loss: 267.1533 - mean_absolute_error: 7.8303 - mean_squared_error: 267.1533 - r2_keras: 0.9711\n",
      "Epoch 190/350\n",
      "7446/7446 [==============================] - 0s 45us/step - loss: 224.6490 - mean_absolute_error: 7.6833 - mean_squared_error: 224.6490 - r2_keras: 0.9733\n",
      "Epoch 191/350\n",
      "7446/7446 [==============================] - 0s 46us/step - loss: 242.3397 - mean_absolute_error: 7.7672 - mean_squared_error: 242.3397 - r2_keras: 0.9723\n",
      "Epoch 192/350\n"
     ]
    },
    {
     "name": "stdout",
     "output_type": "stream",
     "text": [
      "7446/7446 [==============================] - 0s 41us/step - loss: 240.8386 - mean_absolute_error: 7.7985 - mean_squared_error: 240.8386 - r2_keras: 0.9714\n",
      "Epoch 193/350\n",
      "7446/7446 [==============================] - 0s 41us/step - loss: 243.2267 - mean_absolute_error: 7.7849 - mean_squared_error: 243.2267 - r2_keras: 0.9704\n",
      "Epoch 194/350\n",
      "7446/7446 [==============================] - 0s 44us/step - loss: 317.7944 - mean_absolute_error: 8.0035 - mean_squared_error: 317.7944 - r2_keras: 0.9654\n",
      "Epoch 195/350\n",
      "7446/7446 [==============================] - 0s 42us/step - loss: 266.7315 - mean_absolute_error: 7.8959 - mean_squared_error: 266.7315 - r2_keras: 0.9710\n",
      "Epoch 196/350\n",
      "7446/7446 [==============================] - 0s 42us/step - loss: 217.4488 - mean_absolute_error: 7.5751 - mean_squared_error: 217.4488 - r2_keras: 0.9742\n",
      "Epoch 197/350\n",
      "7446/7446 [==============================] - 0s 43us/step - loss: 216.7790 - mean_absolute_error: 7.5672 - mean_squared_error: 216.7790 - r2_keras: 0.9749\n",
      "Epoch 198/350\n",
      "7446/7446 [==============================] - 0s 41us/step - loss: 222.8732 - mean_absolute_error: 7.5765 - mean_squared_error: 222.8732 - r2_keras: 0.9740\n",
      "Epoch 199/350\n",
      "7446/7446 [==============================] - 0s 41us/step - loss: 219.9061 - mean_absolute_error: 7.5351 - mean_squared_error: 219.9061 - r2_keras: 0.9735\n",
      "Epoch 200/350\n",
      "7446/7446 [==============================] - 0s 42us/step - loss: 214.9362 - mean_absolute_error: 7.5772 - mean_squared_error: 214.9362 - r2_keras: 0.9736\n",
      "Epoch 201/350\n",
      "7446/7446 [==============================] - 0s 43us/step - loss: 208.5453 - mean_absolute_error: 7.5548 - mean_squared_error: 208.5453 - r2_keras: 0.9753\n",
      "Epoch 202/350\n",
      "7446/7446 [==============================] - 0s 43us/step - loss: 235.8952 - mean_absolute_error: 7.6872 - mean_squared_error: 235.8952 - r2_keras: 0.9730\n",
      "Epoch 203/350\n",
      "7446/7446 [==============================] - 0s 42us/step - loss: 242.0621 - mean_absolute_error: 7.7069 - mean_squared_error: 242.0621 - r2_keras: 0.9728\n",
      "Epoch 204/350\n",
      "7446/7446 [==============================] - 0s 45us/step - loss: 215.4517 - mean_absolute_error: 7.5511 - mean_squared_error: 215.4517 - r2_keras: 0.9749\n",
      "Epoch 205/350\n",
      "7446/7446 [==============================] - 0s 42us/step - loss: 222.9730 - mean_absolute_error: 7.6128 - mean_squared_error: 222.9730 - r2_keras: 0.9728\n",
      "Epoch 206/350\n",
      "7446/7446 [==============================] - 0s 44us/step - loss: 230.9313 - mean_absolute_error: 7.6848 - mean_squared_error: 230.9313 - r2_keras: 0.9739\n",
      "Epoch 207/350\n",
      "7446/7446 [==============================] - 0s 45us/step - loss: 213.3901 - mean_absolute_error: 7.4713 - mean_squared_error: 213.3901 - r2_keras: 0.9748\n",
      "Epoch 208/350\n",
      "7446/7446 [==============================] - 0s 42us/step - loss: 235.5628 - mean_absolute_error: 7.6800 - mean_squared_error: 235.5628 - r2_keras: 0.9726\n",
      "Epoch 209/350\n",
      "7446/7446 [==============================] - 0s 43us/step - loss: 219.1883 - mean_absolute_error: 7.5042 - mean_squared_error: 219.1883 - r2_keras: 0.9753\n",
      "Epoch 210/350\n",
      "7446/7446 [==============================] - 0s 45us/step - loss: 223.2576 - mean_absolute_error: 7.5909 - mean_squared_error: 223.2576 - r2_keras: 0.9738\n",
      "Epoch 211/350\n",
      "7446/7446 [==============================] - 0s 48us/step - loss: 233.9011 - mean_absolute_error: 7.6061 - mean_squared_error: 233.9011 - r2_keras: 0.9724\n",
      "Epoch 212/350\n",
      "7446/7446 [==============================] - 0s 42us/step - loss: 238.8551 - mean_absolute_error: 7.7330 - mean_squared_error: 238.8551 - r2_keras: 0.9716\n",
      "Epoch 213/350\n",
      "7446/7446 [==============================] - 0s 42us/step - loss: 236.8878 - mean_absolute_error: 7.6602 - mean_squared_error: 236.8878 - r2_keras: 0.9726\n",
      "Epoch 214/350\n",
      "7446/7446 [==============================] - 0s 45us/step - loss: 212.4685 - mean_absolute_error: 7.5228 - mean_squared_error: 212.4685 - r2_keras: 0.9743\n",
      "Epoch 215/350\n",
      "7446/7446 [==============================] - 0s 43us/step - loss: 261.4752 - mean_absolute_error: 7.6790 - mean_squared_error: 261.4752 - r2_keras: 0.9717\n",
      "Epoch 216/350\n",
      "7446/7446 [==============================] - 0s 44us/step - loss: 201.7718 - mean_absolute_error: 7.4466 - mean_squared_error: 201.7718 - r2_keras: 0.9750\n",
      "Epoch 217/350\n",
      "7446/7446 [==============================] - 0s 44us/step - loss: 217.0831 - mean_absolute_error: 7.4437 - mean_squared_error: 217.0831 - r2_keras: 0.9757\n",
      "Epoch 218/350\n",
      "7446/7446 [==============================] - 0s 43us/step - loss: 213.2167 - mean_absolute_error: 7.4314 - mean_squared_error: 213.2167 - r2_keras: 0.9746\n",
      "Epoch 219/350\n",
      "7446/7446 [==============================] - 0s 45us/step - loss: 225.7871 - mean_absolute_error: 7.5971 - mean_squared_error: 225.7871 - r2_keras: 0.9741\n",
      "Epoch 220/350\n",
      "7446/7446 [==============================] - 0s 44us/step - loss: 196.2994 - mean_absolute_error: 7.3421 - mean_squared_error: 196.2994 - r2_keras: 0.9759\n",
      "Epoch 221/350\n",
      "7446/7446 [==============================] - 0s 44us/step - loss: 208.6643 - mean_absolute_error: 7.4048 - mean_squared_error: 208.6643 - r2_keras: 0.9743\n",
      "Epoch 222/350\n",
      "7446/7446 [==============================] - 0s 45us/step - loss: 189.0764 - mean_absolute_error: 7.3023 - mean_squared_error: 189.0764 - r2_keras: 0.9770\n",
      "Epoch 223/350\n",
      "7446/7446 [==============================] - 0s 45us/step - loss: 226.6148 - mean_absolute_error: 7.4951 - mean_squared_error: 226.6148 - r2_keras: 0.9752\n",
      "Epoch 224/350\n",
      "7446/7446 [==============================] - 0s 44us/step - loss: 190.4430 - mean_absolute_error: 7.2991 - mean_squared_error: 190.4430 - r2_keras: 0.9767\n",
      "Epoch 225/350\n",
      "7446/7446 [==============================] - 0s 44us/step - loss: 195.7622 - mean_absolute_error: 7.3338 - mean_squared_error: 195.7622 - r2_keras: 0.9762\n",
      "Epoch 226/350\n",
      "7446/7446 [==============================] - 0s 43us/step - loss: 193.1475 - mean_absolute_error: 7.2538 - mean_squared_error: 193.1475 - r2_keras: 0.9761\n",
      "Epoch 227/350\n",
      "7446/7446 [==============================] - 0s 46us/step - loss: 218.5992 - mean_absolute_error: 7.4486 - mean_squared_error: 218.5992 - r2_keras: 0.9751\n",
      "Epoch 228/350\n",
      "7446/7446 [==============================] - 0s 45us/step - loss: 211.2882 - mean_absolute_error: 7.3659 - mean_squared_error: 211.2882 - r2_keras: 0.9734\n",
      "Epoch 229/350\n",
      "7446/7446 [==============================] - 0s 44us/step - loss: 216.0600 - mean_absolute_error: 7.4047 - mean_squared_error: 216.0600 - r2_keras: 0.9751\n",
      "Epoch 230/350\n",
      "7446/7446 [==============================] - 0s 44us/step - loss: 210.7699 - mean_absolute_error: 7.4440 - mean_squared_error: 210.7699 - r2_keras: 0.9745\n",
      "Epoch 231/350\n",
      "7446/7446 [==============================] - 0s 45us/step - loss: 247.3063 - mean_absolute_error: 7.4728 - mean_squared_error: 247.3063 - r2_keras: 0.9711\n",
      "Epoch 232/350\n",
      "7446/7446 [==============================] - 0s 43us/step - loss: 270.7400 - mean_absolute_error: 7.6859 - mean_squared_error: 270.7400 - r2_keras: 0.9701\n",
      "Epoch 233/350\n",
      "7446/7446 [==============================] - 0s 45us/step - loss: 232.6161 - mean_absolute_error: 7.5630 - mean_squared_error: 232.6161 - r2_keras: 0.9733\n",
      "Epoch 234/350\n",
      "7446/7446 [==============================] - 0s 45us/step - loss: 202.4557 - mean_absolute_error: 7.2837 - mean_squared_error: 202.4557 - r2_keras: 0.9764\n",
      "Epoch 235/350\n",
      "7446/7446 [==============================] - 0s 44us/step - loss: 200.6590 - mean_absolute_error: 7.3678 - mean_squared_error: 200.6590 - r2_keras: 0.9753\n",
      "Epoch 236/350\n",
      "7446/7446 [==============================] - 0s 46us/step - loss: 206.6288 - mean_absolute_error: 7.3341 - mean_squared_error: 206.6288 - r2_keras: 0.9762\n",
      "Epoch 237/350\n",
      "7446/7446 [==============================] - 0s 44us/step - loss: 190.2008 - mean_absolute_error: 7.2235 - mean_squared_error: 190.2008 - r2_keras: 0.9771\n",
      "Epoch 238/350\n",
      "7446/7446 [==============================] - 0s 45us/step - loss: 219.9242 - mean_absolute_error: 7.3844 - mean_squared_error: 219.9242 - r2_keras: 0.9738\n",
      "Epoch 239/350\n",
      "7446/7446 [==============================] - 0s 46us/step - loss: 177.1079 - mean_absolute_error: 7.1056 - mean_squared_error: 177.1079 - r2_keras: 0.9791\n",
      "Epoch 240/350\n"
     ]
    },
    {
     "name": "stdout",
     "output_type": "stream",
     "text": [
      "7446/7446 [==============================] - 0s 42us/step - loss: 220.3989 - mean_absolute_error: 7.3482 - mean_squared_error: 220.3989 - r2_keras: 0.9760\n",
      "Epoch 241/350\n",
      "7446/7446 [==============================] - 0s 42us/step - loss: 190.5535 - mean_absolute_error: 7.1682 - mean_squared_error: 190.5535 - r2_keras: 0.9759\n",
      "Epoch 242/350\n",
      "7446/7446 [==============================] - 0s 42us/step - loss: 179.7610 - mean_absolute_error: 7.0712 - mean_squared_error: 179.7610 - r2_keras: 0.9782\n",
      "Epoch 243/350\n",
      "7446/7446 [==============================] - 0s 42us/step - loss: 198.3503 - mean_absolute_error: 7.2457 - mean_squared_error: 198.3503 - r2_keras: 0.9763\n",
      "Epoch 244/350\n",
      "7446/7446 [==============================] - 0s 42us/step - loss: 193.6960 - mean_absolute_error: 7.1950 - mean_squared_error: 193.6960 - r2_keras: 0.9774\n",
      "Epoch 245/350\n",
      "7446/7446 [==============================] - 0s 42us/step - loss: 192.3430 - mean_absolute_error: 7.1649 - mean_squared_error: 192.3430 - r2_keras: 0.9771\n",
      "Epoch 246/350\n",
      "7446/7446 [==============================] - 0s 45us/step - loss: 177.4247 - mean_absolute_error: 7.0968 - mean_squared_error: 177.4247 - r2_keras: 0.9780\n",
      "Epoch 247/350\n",
      "7446/7446 [==============================] - 0s 45us/step - loss: 199.2327 - mean_absolute_error: 7.3059 - mean_squared_error: 199.2327 - r2_keras: 0.9760\n",
      "Epoch 248/350\n",
      "7446/7446 [==============================] - 0s 42us/step - loss: 194.0737 - mean_absolute_error: 7.2266 - mean_squared_error: 194.0737 - r2_keras: 0.9762\n",
      "Epoch 249/350\n",
      "7446/7446 [==============================] - 0s 46us/step - loss: 192.5007 - mean_absolute_error: 7.1518 - mean_squared_error: 192.5007 - r2_keras: 0.9784\n",
      "Epoch 250/350\n",
      "7446/7446 [==============================] - 0s 46us/step - loss: 200.1558 - mean_absolute_error: 7.1966 - mean_squared_error: 200.1558 - r2_keras: 0.9739\n",
      "Epoch 251/350\n",
      "7446/7446 [==============================] - 0s 44us/step - loss: 191.0127 - mean_absolute_error: 7.1758 - mean_squared_error: 191.0127 - r2_keras: 0.9769\n",
      "Epoch 252/350\n",
      "7446/7446 [==============================] - 0s 55us/step - loss: 191.4974 - mean_absolute_error: 7.1733 - mean_squared_error: 191.4974 - r2_keras: 0.9773\n",
      "Epoch 253/350\n",
      "7446/7446 [==============================] - 0s 48us/step - loss: 175.8030 - mean_absolute_error: 6.9958 - mean_squared_error: 175.8030 - r2_keras: 0.9779\n",
      "Epoch 254/350\n",
      "7446/7446 [==============================] - 0s 45us/step - loss: 197.2016 - mean_absolute_error: 7.2204 - mean_squared_error: 197.2016 - r2_keras: 0.9762\n",
      "Epoch 255/350\n",
      "7446/7446 [==============================] - 0s 46us/step - loss: 174.0718 - mean_absolute_error: 7.0062 - mean_squared_error: 174.0718 - r2_keras: 0.9796\n",
      "Epoch 256/350\n",
      "7446/7446 [==============================] - 0s 46us/step - loss: 196.6937 - mean_absolute_error: 7.2218 - mean_squared_error: 196.6937 - r2_keras: 0.9763\n",
      "Epoch 257/350\n",
      "7446/7446 [==============================] - 0s 43us/step - loss: 210.6161 - mean_absolute_error: 7.1656 - mean_squared_error: 210.6161 - r2_keras: 0.9766\n",
      "Epoch 258/350\n",
      "7446/7446 [==============================] - 0s 43us/step - loss: 190.5770 - mean_absolute_error: 7.1248 - mean_squared_error: 190.5770 - r2_keras: 0.9780\n",
      "Epoch 259/350\n",
      "7446/7446 [==============================] - 0s 46us/step - loss: 180.7219 - mean_absolute_error: 7.0262 - mean_squared_error: 180.7219 - r2_keras: 0.9790\n",
      "Epoch 260/350\n",
      "7446/7446 [==============================] - 0s 43us/step - loss: 188.9743 - mean_absolute_error: 7.1559 - mean_squared_error: 188.9743 - r2_keras: 0.9785\n",
      "Epoch 261/350\n",
      "7446/7446 [==============================] - 0s 45us/step - loss: 191.6487 - mean_absolute_error: 7.1458 - mean_squared_error: 191.6487 - r2_keras: 0.9774\n",
      "Epoch 262/350\n",
      "7446/7446 [==============================] - 0s 48us/step - loss: 189.3252 - mean_absolute_error: 7.0949 - mean_squared_error: 189.3252 - r2_keras: 0.9792\n",
      "Epoch 263/350\n",
      "7446/7446 [==============================] - 0s 48us/step - loss: 217.6498 - mean_absolute_error: 7.2101 - mean_squared_error: 217.6498 - r2_keras: 0.9763\n",
      "Epoch 264/350\n",
      "7446/7446 [==============================] - 0s 43us/step - loss: 190.3240 - mean_absolute_error: 7.0317 - mean_squared_error: 190.3240 - r2_keras: 0.9776\n",
      "Epoch 265/350\n",
      "7446/7446 [==============================] - 0s 50us/step - loss: 183.2325 - mean_absolute_error: 7.0400 - mean_squared_error: 183.2325 - r2_keras: 0.9774\n",
      "Epoch 266/350\n",
      "7446/7446 [==============================] - 0s 46us/step - loss: 188.4421 - mean_absolute_error: 7.1184 - mean_squared_error: 188.4421 - r2_keras: 0.9784\n",
      "Epoch 267/350\n",
      "7446/7446 [==============================] - 0s 43us/step - loss: 172.2738 - mean_absolute_error: 7.0129 - mean_squared_error: 172.2738 - r2_keras: 0.9787\n",
      "Epoch 268/350\n",
      "7446/7446 [==============================] - 0s 50us/step - loss: 167.0561 - mean_absolute_error: 6.9204 - mean_squared_error: 167.0561 - r2_keras: 0.9797\n",
      "Epoch 269/350\n",
      "7446/7446 [==============================] - 0s 47us/step - loss: 186.4314 - mean_absolute_error: 7.0581 - mean_squared_error: 186.4314 - r2_keras: 0.9772\n",
      "Epoch 270/350\n",
      "7446/7446 [==============================] - 0s 50us/step - loss: 189.3192 - mean_absolute_error: 7.0900 - mean_squared_error: 189.3192 - r2_keras: 0.9770\n",
      "Epoch 271/350\n",
      "7446/7446 [==============================] - 0s 47us/step - loss: 198.8072 - mean_absolute_error: 7.1862 - mean_squared_error: 198.8072 - r2_keras: 0.9762\n",
      "Epoch 272/350\n",
      "7446/7446 [==============================] - 0s 49us/step - loss: 188.8423 - mean_absolute_error: 7.0441 - mean_squared_error: 188.8423 - r2_keras: 0.9783\n",
      "Epoch 273/350\n",
      "7446/7446 [==============================] - 0s 47us/step - loss: 192.8592 - mean_absolute_error: 7.0172 - mean_squared_error: 192.8592 - r2_keras: 0.9765\n",
      "Epoch 274/350\n",
      "7446/7446 [==============================] - 0s 50us/step - loss: 171.2751 - mean_absolute_error: 6.9207 - mean_squared_error: 171.2751 - r2_keras: 0.9791\n",
      "Epoch 275/350\n",
      "7446/7446 [==============================] - 0s 48us/step - loss: 200.2131 - mean_absolute_error: 7.0817 - mean_squared_error: 200.2131 - r2_keras: 0.9768\n",
      "Epoch 276/350\n",
      "7446/7446 [==============================] - 0s 45us/step - loss: 173.0648 - mean_absolute_error: 6.8904 - mean_squared_error: 173.0648 - r2_keras: 0.9789\n",
      "Epoch 277/350\n",
      "7446/7446 [==============================] - 0s 50us/step - loss: 170.6917 - mean_absolute_error: 6.9592 - mean_squared_error: 170.6917 - r2_keras: 0.9789\n",
      "Epoch 278/350\n",
      "7446/7446 [==============================] - 0s 51us/step - loss: 195.9435 - mean_absolute_error: 7.1351 - mean_squared_error: 195.9435 - r2_keras: 0.9770\n",
      "Epoch 279/350\n",
      "7446/7446 [==============================] - 0s 45us/step - loss: 186.1225 - mean_absolute_error: 6.9565 - mean_squared_error: 186.1225 - r2_keras: 0.9785\n",
      "Epoch 280/350\n",
      "7446/7446 [==============================] - 0s 52us/step - loss: 195.5548 - mean_absolute_error: 7.0077 - mean_squared_error: 195.5548 - r2_keras: 0.9783\n",
      "Epoch 281/350\n",
      "7446/7446 [==============================] - 0s 51us/step - loss: 188.3748 - mean_absolute_error: 6.9924 - mean_squared_error: 188.3748 - r2_keras: 0.9765\n",
      "Epoch 282/350\n",
      "7446/7446 [==============================] - 0s 56us/step - loss: 191.8261 - mean_absolute_error: 7.0455 - mean_squared_error: 191.8261 - r2_keras: 0.9779\n",
      "Epoch 283/350\n",
      "7446/7446 [==============================] - 0s 55us/step - loss: 168.8957 - mean_absolute_error: 6.9440 - mean_squared_error: 168.8957 - r2_keras: 0.9781\n",
      "Epoch 284/350\n",
      "7446/7446 [==============================] - 0s 52us/step - loss: 183.2668 - mean_absolute_error: 7.0209 - mean_squared_error: 183.2668 - r2_keras: 0.9775\n",
      "Epoch 285/350\n",
      "7446/7446 [==============================] - 0s 54us/step - loss: 180.0722 - mean_absolute_error: 6.9043 - mean_squared_error: 180.0722 - r2_keras: 0.9799\n",
      "Epoch 286/350\n",
      "7446/7446 [==============================] - 0s 52us/step - loss: 169.8810 - mean_absolute_error: 6.9062 - mean_squared_error: 169.8810 - r2_keras: 0.9800\n",
      "Epoch 287/350\n",
      "7446/7446 [==============================] - 0s 49us/step - loss: 166.3658 - mean_absolute_error: 6.9031 - mean_squared_error: 166.3658 - r2_keras: 0.9789\n",
      "Epoch 288/350\n"
     ]
    },
    {
     "name": "stdout",
     "output_type": "stream",
     "text": [
      "7446/7446 [==============================] - 0s 53us/step - loss: 175.9592 - mean_absolute_error: 6.9270 - mean_squared_error: 175.9592 - r2_keras: 0.9777\n",
      "Epoch 289/350\n",
      "7446/7446 [==============================] - 0s 51us/step - loss: 177.0722 - mean_absolute_error: 6.8656 - mean_squared_error: 177.0722 - r2_keras: 0.9798\n",
      "Epoch 290/350\n",
      "7446/7446 [==============================] - 0s 49us/step - loss: 216.7073 - mean_absolute_error: 7.0896 - mean_squared_error: 216.7073 - r2_keras: 0.9751\n",
      "Epoch 291/350\n",
      "7446/7446 [==============================] - 0s 46us/step - loss: 176.2929 - mean_absolute_error: 6.8888 - mean_squared_error: 176.2929 - r2_keras: 0.9793\n",
      "Epoch 292/350\n",
      "7446/7446 [==============================] - 0s 47us/step - loss: 176.8469 - mean_absolute_error: 6.9351 - mean_squared_error: 176.8469 - r2_keras: 0.9790\n",
      "Epoch 293/350\n",
      "7446/7446 [==============================] - 0s 45us/step - loss: 180.3704 - mean_absolute_error: 6.9258 - mean_squared_error: 180.3704 - r2_keras: 0.9794\n",
      "Epoch 294/350\n",
      "7446/7446 [==============================] - 0s 45us/step - loss: 195.4639 - mean_absolute_error: 7.0052 - mean_squared_error: 195.4639 - r2_keras: 0.9775\n",
      "Epoch 295/350\n",
      "7446/7446 [==============================] - 0s 42us/step - loss: 188.2696 - mean_absolute_error: 6.9780 - mean_squared_error: 188.2696 - r2_keras: 0.9763\n",
      "Epoch 296/350\n",
      "7446/7446 [==============================] - 0s 42us/step - loss: 194.1250 - mean_absolute_error: 7.0481 - mean_squared_error: 194.1250 - r2_keras: 0.9784\n",
      "Epoch 297/350\n",
      "7446/7446 [==============================] - 0s 47us/step - loss: 164.9281 - mean_absolute_error: 6.8483 - mean_squared_error: 164.9281 - r2_keras: 0.9804\n",
      "Epoch 298/350\n",
      "7446/7446 [==============================] - 0s 42us/step - loss: 187.2971 - mean_absolute_error: 6.9933 - mean_squared_error: 187.2971 - r2_keras: 0.9784: 0s - loss: 160.8840 - mean_absolute_error: 6.7210 - mean_squared_error: 160.8840 - r2_keras: \n",
      "Epoch 299/350\n",
      "7446/7446 [==============================] - 0s 44us/step - loss: 201.7125 - mean_absolute_error: 6.9819 - mean_squared_error: 201.7125 - r2_keras: 0.9777\n",
      "Epoch 300/350\n",
      "7446/7446 [==============================] - 0s 45us/step - loss: 173.4738 - mean_absolute_error: 6.8564 - mean_squared_error: 173.4738 - r2_keras: 0.9785\n",
      "Epoch 301/350\n",
      "7446/7446 [==============================] - 0s 44us/step - loss: 177.6841 - mean_absolute_error: 6.8685 - mean_squared_error: 177.6841 - r2_keras: 0.9793\n",
      "Epoch 302/350\n",
      "7446/7446 [==============================] - 0s 43us/step - loss: 170.1431 - mean_absolute_error: 6.8370 - mean_squared_error: 170.1431 - r2_keras: 0.9794\n",
      "Epoch 303/350\n",
      "7446/7446 [==============================] - 0s 45us/step - loss: 177.5612 - mean_absolute_error: 6.8090 - mean_squared_error: 177.5612 - r2_keras: 0.9790\n",
      "Epoch 304/350\n",
      "7446/7446 [==============================] - 0s 55us/step - loss: 177.4646 - mean_absolute_error: 6.8771 - mean_squared_error: 177.4646 - r2_keras: 0.9789\n",
      "Epoch 305/350\n",
      "7446/7446 [==============================] - 0s 54us/step - loss: 167.4762 - mean_absolute_error: 6.7511 - mean_squared_error: 167.4762 - r2_keras: 0.9799\n",
      "Epoch 306/350\n",
      "7446/7446 [==============================] - 0s 56us/step - loss: 192.4871 - mean_absolute_error: 6.9738 - mean_squared_error: 192.4871 - r2_keras: 0.9785\n",
      "Epoch 307/350\n",
      "7446/7446 [==============================] - 0s 50us/step - loss: 179.4133 - mean_absolute_error: 6.8338 - mean_squared_error: 179.4133 - r2_keras: 0.9790\n",
      "Epoch 308/350\n",
      "7446/7446 [==============================] - 0s 52us/step - loss: 174.6558 - mean_absolute_error: 6.7891 - mean_squared_error: 174.6558 - r2_keras: 0.9786\n",
      "Epoch 309/350\n",
      "7446/7446 [==============================] - 0s 50us/step - loss: 190.2127 - mean_absolute_error: 6.9291 - mean_squared_error: 190.2127 - r2_keras: 0.9785\n",
      "Epoch 310/350\n",
      "7446/7446 [==============================] - 0s 48us/step - loss: 180.3440 - mean_absolute_error: 6.8777 - mean_squared_error: 180.3440 - r2_keras: 0.9787\n",
      "Epoch 311/350\n",
      "7446/7446 [==============================] - 0s 49us/step - loss: 174.7763 - mean_absolute_error: 6.8339 - mean_squared_error: 174.7763 - r2_keras: 0.9801\n",
      "Epoch 312/350\n",
      "7446/7446 [==============================] - 0s 51us/step - loss: 176.1634 - mean_absolute_error: 6.9055 - mean_squared_error: 176.1634 - r2_keras: 0.9789\n",
      "Epoch 313/350\n",
      "7446/7446 [==============================] - 0s 50us/step - loss: 178.8846 - mean_absolute_error: 6.8365 - mean_squared_error: 178.8846 - r2_keras: 0.9792\n",
      "Epoch 314/350\n",
      "7446/7446 [==============================] - 0s 48us/step - loss: 235.6899 - mean_absolute_error: 7.1287 - mean_squared_error: 235.6899 - r2_keras: 0.9748\n",
      "Epoch 315/350\n",
      "7446/7446 [==============================] - 0s 49us/step - loss: 164.9644 - mean_absolute_error: 6.8230 - mean_squared_error: 164.9644 - r2_keras: 0.9799\n",
      "Epoch 316/350\n",
      "7446/7446 [==============================] - 0s 51us/step - loss: 175.1822 - mean_absolute_error: 6.7755 - mean_squared_error: 175.1822 - r2_keras: 0.9800\n",
      "Epoch 317/350\n",
      "7446/7446 [==============================] - 0s 48us/step - loss: 165.4740 - mean_absolute_error: 6.7558 - mean_squared_error: 165.4740 - r2_keras: 0.9800\n",
      "Epoch 318/350\n",
      "7446/7446 [==============================] - 0s 53us/step - loss: 161.7864 - mean_absolute_error: 6.7270 - mean_squared_error: 161.7864 - r2_keras: 0.9812\n",
      "Epoch 319/350\n",
      "7446/7446 [==============================] - 0s 50us/step - loss: 170.9831 - mean_absolute_error: 6.8092 - mean_squared_error: 170.9831 - r2_keras: 0.9803\n",
      "Epoch 320/350\n",
      "7446/7446 [==============================] - 0s 49us/step - loss: 159.1022 - mean_absolute_error: 6.7246 - mean_squared_error: 159.1022 - r2_keras: 0.9811\n",
      "Epoch 321/350\n",
      "7446/7446 [==============================] - 0s 51us/step - loss: 178.3167 - mean_absolute_error: 6.7678 - mean_squared_error: 178.3167 - r2_keras: 0.9789\n",
      "Epoch 322/350\n",
      "7446/7446 [==============================] - 0s 47us/step - loss: 200.6073 - mean_absolute_error: 6.9615 - mean_squared_error: 200.6073 - r2_keras: 0.9765\n",
      "Epoch 323/350\n",
      "7446/7446 [==============================] - 0s 52us/step - loss: 171.0552 - mean_absolute_error: 6.8262 - mean_squared_error: 171.0552 - r2_keras: 0.9803\n",
      "Epoch 324/350\n",
      "7446/7446 [==============================] - 0s 44us/step - loss: 185.2180 - mean_absolute_error: 6.8672 - mean_squared_error: 185.2180 - r2_keras: 0.9787\n",
      "Epoch 325/350\n",
      "7446/7446 [==============================] - 0s 48us/step - loss: 172.2158 - mean_absolute_error: 6.7935 - mean_squared_error: 172.2158 - r2_keras: 0.9785\n",
      "Epoch 326/350\n",
      "7446/7446 [==============================] - 0s 45us/step - loss: 164.6435 - mean_absolute_error: 6.7153 - mean_squared_error: 164.6435 - r2_keras: 0.9799\n",
      "Epoch 327/350\n",
      "7446/7446 [==============================] - 0s 52us/step - loss: 152.4549 - mean_absolute_error: 6.5897 - mean_squared_error: 152.4549 - r2_keras: 0.9816\n",
      "Epoch 328/350\n",
      "7446/7446 [==============================] - 0s 51us/step - loss: 158.0298 - mean_absolute_error: 6.6402 - mean_squared_error: 158.0298 - r2_keras: 0.9813\n",
      "Epoch 329/350\n",
      "7446/7446 [==============================] - 0s 54us/step - loss: 161.5297 - mean_absolute_error: 6.6843 - mean_squared_error: 161.5297 - r2_keras: 0.9806\n",
      "Epoch 330/350\n",
      "7446/7446 [==============================] - 0s 52us/step - loss: 166.5864 - mean_absolute_error: 6.7099 - mean_squared_error: 166.5864 - r2_keras: 0.9810\n",
      "Epoch 331/350\n",
      "7446/7446 [==============================] - 0s 52us/step - loss: 159.1026 - mean_absolute_error: 6.6402 - mean_squared_error: 159.1026 - r2_keras: 0.9806\n",
      "Epoch 332/350\n",
      "7446/7446 [==============================] - 0s 50us/step - loss: 177.3898 - mean_absolute_error: 6.8025 - mean_squared_error: 177.3898 - r2_keras: 0.9779\n",
      "Epoch 333/350\n",
      "7446/7446 [==============================] - 0s 47us/step - loss: 172.8432 - mean_absolute_error: 6.7459 - mean_squared_error: 172.8432 - r2_keras: 0.9795\n",
      "Epoch 334/350\n",
      "7446/7446 [==============================] - 0s 49us/step - loss: 180.1493 - mean_absolute_error: 6.8428 - mean_squared_error: 180.1493 - r2_keras: 0.9790\n",
      "Epoch 335/350\n",
      "7446/7446 [==============================] - 0s 46us/step - loss: 166.1522 - mean_absolute_error: 6.6604 - mean_squared_error: 166.1522 - r2_keras: 0.9801\n"
     ]
    },
    {
     "name": "stdout",
     "output_type": "stream",
     "text": [
      "Epoch 336/350\n",
      "7446/7446 [==============================] - 0s 47us/step - loss: 167.1383 - mean_absolute_error: 6.6655 - mean_squared_error: 167.1383 - r2_keras: 0.9800\n",
      "Epoch 337/350\n",
      "7446/7446 [==============================] - 0s 47us/step - loss: 171.1379 - mean_absolute_error: 6.6531 - mean_squared_error: 171.1379 - r2_keras: 0.9792\n",
      "Epoch 338/350\n",
      "7446/7446 [==============================] - 0s 44us/step - loss: 174.9898 - mean_absolute_error: 6.7017 - mean_squared_error: 174.9898 - r2_keras: 0.9794\n",
      "Epoch 339/350\n",
      "7446/7446 [==============================] - 0s 48us/step - loss: 153.1916 - mean_absolute_error: 6.5976 - mean_squared_error: 153.1916 - r2_keras: 0.9813\n",
      "Epoch 340/350\n",
      "7446/7446 [==============================] - 0s 41us/step - loss: 159.3756 - mean_absolute_error: 6.6358 - mean_squared_error: 159.3756 - r2_keras: 0.9817\n",
      "Epoch 341/350\n",
      "7446/7446 [==============================] - 0s 49us/step - loss: 167.4438 - mean_absolute_error: 6.6400 - mean_squared_error: 167.4438 - r2_keras: 0.9802\n",
      "Epoch 342/350\n",
      "7446/7446 [==============================] - 0s 47us/step - loss: 190.9780 - mean_absolute_error: 6.8028 - mean_squared_error: 190.9780 - r2_keras: 0.9781\n",
      "Epoch 343/350\n",
      "7446/7446 [==============================] - 0s 42us/step - loss: 169.1105 - mean_absolute_error: 6.7607 - mean_squared_error: 169.1105 - r2_keras: 0.9799\n",
      "Epoch 344/350\n",
      "7446/7446 [==============================] - 0s 50us/step - loss: 187.6268 - mean_absolute_error: 6.7328 - mean_squared_error: 187.6268 - r2_keras: 0.9786\n",
      "Epoch 345/350\n",
      "7446/7446 [==============================] - 0s 46us/step - loss: 164.8704 - mean_absolute_error: 6.6407 - mean_squared_error: 164.8704 - r2_keras: 0.9808\n",
      "Epoch 346/350\n",
      "7446/7446 [==============================] - 0s 45us/step - loss: 152.8036 - mean_absolute_error: 6.5678 - mean_squared_error: 152.8036 - r2_keras: 0.9818\n",
      "Epoch 347/350\n",
      "7446/7446 [==============================] - 0s 49us/step - loss: 160.2122 - mean_absolute_error: 6.6105 - mean_squared_error: 160.2122 - r2_keras: 0.9810\n",
      "Epoch 348/350\n",
      "7446/7446 [==============================] - 0s 43us/step - loss: 169.1249 - mean_absolute_error: 6.7141 - mean_squared_error: 169.1249 - r2_keras: 0.9788\n",
      "Epoch 349/350\n",
      "7446/7446 [==============================] - 0s 43us/step - loss: 155.4124 - mean_absolute_error: 6.5489 - mean_squared_error: 155.4124 - r2_keras: 0.9812\n",
      "Epoch 350/350\n",
      "7446/7446 [==============================] - 0s 43us/step - loss: 157.3272 - mean_absolute_error: 6.5381 - mean_squared_error: 157.3272 - r2_keras: 0.9811\n"
     ]
    }
   ],
   "source": [
    "# neural_network = create_model()\n",
    "\n",
    "# neural_network.save(\"lego_neural.h5\")"
   ]
  },
  {
   "cell_type": "markdown",
   "metadata": {},
   "source": [
    "Here we load the model and logged history of training and predict the dependent variable."
   ]
  },
  {
   "cell_type": "code",
   "execution_count": 170,
   "metadata": {},
   "outputs": [],
   "source": [
    "neural_network = load_model(\"lego_neural.h5\", custom_objects={'r2_keras': r2_keras})\n",
    "log_data = pd.read_csv('neural.log', sep=',', engine='python')\n",
    "neural_pred = neural_network.predict(X_test)"
   ]
  },
  {
   "cell_type": "code",
   "execution_count": 171,
   "metadata": {},
   "outputs": [],
   "source": [
    "mae = log_data['mean_absolute_error']\n",
    "mse = log_data['mean_squared_error']\n",
    "r_2 = log_data['r2_keras']\n",
    "epochs = range(len(mae))"
   ]
  },
  {
   "cell_type": "code",
   "execution_count": 172,
   "metadata": {
    "scrolled": true
   },
   "outputs": [
    {
     "data": {
      "image/png": "[encoded data removed]",
      "text/plain": [
       "<Figure size 1440x720 with 1 Axes>"
      ]
     },
     "metadata": {},
     "output_type": "display_data"
    },
    {
     "data": {
      "image/png": "[encoded data removed]",
      "text/plain": [
       "<Figure size 1440x720 with 1 Axes>"
      ]
     },
     "metadata": {},
     "output_type": "display_data"
    },
    {
     "data": {
      "image/png": "[encoded data removed]",
      "text/plain": [
       "<Figure size 1440x720 with 1 Axes>"
      ]
     },
     "metadata": {},
     "output_type": "display_data"
    }
   ],
   "source": [
    "# accuracy\n",
    "plt.figure(figsize=(20,10))\n",
    "plt.style.use('ggplot')\n",
    "plt.plot(epochs, mae, 'bo')\n",
    "plt.title('Training MAE')\n",
    "plt.legend(loc='lower right')\n",
    "plt.show()\n",
    "\n",
    "# loss\n",
    "plt.figure(figsize=(20,10))\n",
    "plt.plot(epochs, mse, 'go')\n",
    "plt.title('Training MSE')\n",
    "plt.legend()\n",
    "plt.show()\n",
    "\n",
    "plt.figure(figsize=(20,10))\n",
    "plt.plot(epochs, r_2, 'yo')\n",
    "plt.title('Training R-Squared')\n",
    "plt.legend()\n",
    "plt.show()"
   ]
  },
  {
   "cell_type": "markdown",
   "metadata": {},
   "source": [
    "As we can see on the plots above, all the metrics were improving over the time, however very significant improvements stopped after around 200th epoch."
   ]
  },
  {
   "cell_type": "code",
   "execution_count": 173,
   "metadata": {},
   "outputs": [
    {
     "name": "stdout",
     "output_type": "stream",
     "text": [
      "Mean Absolute Error: 6.51161103141756\n",
      "Mean Squared Error: 136.86394224702045\n",
      "Root Mean Squared Error: 11.698886367813838\n",
      "Adjusted R-squared: 0.9842008994673571\n"
     ]
    }
   ],
   "source": [
    "print('Mean Absolute Error:', metrics.mean_absolute_error(Y_test, neural_pred))  \n",
    "print('Mean Squared Error:', metrics.mean_squared_error(Y_test, neural_pred))  \n",
    "print('Root Mean Squared Error:', np.sqrt(metrics.mean_squared_error(Y_test, neural_pred)))\n",
    "print('Adjusted R-squared:', adj_r2(r2_score(Y_test, neural_pred), X_train.shape[0], X_train.shape[1]))"
   ]
  },
  {
   "cell_type": "markdown",
   "metadata": {},
   "source": [
    "We can see that results for test data are far better for neural network - adjusted R-squared of ~0.98 gives us almost a perfect fit - with MAE of ~7$. And we can see that there is no overfitting - as we were expecting because of cross-validation which predicted similar forecasts."
   ]
  },
  {
   "cell_type": "markdown",
   "metadata": {},
   "source": [
    "# <center>4. Comparison</center>"
   ]
  },
  {
   "cell_type": "markdown",
   "metadata": {},
   "source": [
    "Since there are a lot of metrics to measure regression accuracy we focused on 3:\n",
    "MAE - Mean Absolute Error\n",
    "RMSE - Root Mean Squared Error\n",
    "AdjR - Adjusted R-Squared\n",
    "\n",
    "RMSE and MAE do not actually tell how good is the model - they allow us to compare models in their predictive ability. There is however, interpretation of MAE if our dependant variable is interpretable - such as listing price in our case. \n",
    "\n",
    "We add RMSE, because it penalizes higher differences between real data and predicted harder than MAE. \n",
    "\n",
    "We also use Adjusted R-Squared to get absolute (not relative) information about how good model actually is."
   ]
  },
  {
   "cell_type": "code",
   "execution_count": 228,
   "metadata": {},
   "outputs": [
    {
     "data": {
      "text/html": [
       "<style  type=\"text/css\" >\n",
       "    #T_79961530_8b8d_11e9_8775_00215cdcfe0frow3_col0 {\n",
       "            font-weight:  bold;\n",
       "        }    #T_79961530_8b8d_11e9_8775_00215cdcfe0frow3_col1 {\n",
       "            font-weight:  bold;\n",
       "        }    #T_79961530_8b8d_11e9_8775_00215cdcfe0frow3_col2 {\n",
       "            font-weight:  bold;\n",
       "        }</style>  \n",
       "<table id=\"T_79961530_8b8d_11e9_8775_00215cdcfe0f\" > \n",
       "<thead>    <tr> \n",
       "        <th class=\"blank level0\" ></th> \n",
       "        <th class=\"col_heading level0 col0\" >Mean Absolute Error</th> \n",
       "        <th class=\"col_heading level0 col1\" >Root Mean Squared Error</th> \n",
       "        <th class=\"col_heading level0 col2\" >Adjusted R-Squared</th> \n",
       "    </tr></thead> \n",
       "<tbody>    <tr> \n",
       "        <th id=\"T_79961530_8b8d_11e9_8775_00215cdcfe0flevel0_row0\" class=\"row_heading level0 row0\" >OLS</th> \n",
       "        <td id=\"T_79961530_8b8d_11e9_8775_00215cdcfe0frow0_col0\" class=\"data row0 col0\" >16.7573</td> \n",
       "        <td id=\"T_79961530_8b8d_11e9_8775_00215cdcfe0frow0_col1\" class=\"data row0 col1\" >34.1523</td> \n",
       "        <td id=\"T_79961530_8b8d_11e9_8775_00215cdcfe0frow0_col2\" class=\"data row0 col2\" >0.8654</td> \n",
       "    </tr>    <tr> \n",
       "        <th id=\"T_79961530_8b8d_11e9_8775_00215cdcfe0flevel0_row1\" class=\"row_heading level0 row1\" >Restricted OLS</th> \n",
       "        <td id=\"T_79961530_8b8d_11e9_8775_00215cdcfe0frow1_col0\" class=\"data row1 col0\" >17.4726</td> \n",
       "        <td id=\"T_79961530_8b8d_11e9_8775_00215cdcfe0frow1_col1\" class=\"data row1 col1\" >35.1374</td> \n",
       "        <td id=\"T_79961530_8b8d_11e9_8775_00215cdcfe0frow1_col2\" class=\"data row1 col2\" >0.8575</td> \n",
       "    </tr>    <tr> \n",
       "        <th id=\"T_79961530_8b8d_11e9_8775_00215cdcfe0flevel0_row2\" class=\"row_heading level0 row2\" >Elastic Net</th> \n",
       "        <td id=\"T_79961530_8b8d_11e9_8775_00215cdcfe0frow2_col0\" class=\"data row2 col0\" >16.7468</td> \n",
       "        <td id=\"T_79961530_8b8d_11e9_8775_00215cdcfe0frow2_col1\" class=\"data row2 col1\" >34.1633</td> \n",
       "        <td id=\"T_79961530_8b8d_11e9_8775_00215cdcfe0frow2_col2\" class=\"data row2 col2\" >0.8653</td> \n",
       "    </tr>    <tr> \n",
       "        <th id=\"T_79961530_8b8d_11e9_8775_00215cdcfe0flevel0_row3\" class=\"row_heading level0 row3\" >Neural Network</th> \n",
       "        <td id=\"T_79961530_8b8d_11e9_8775_00215cdcfe0frow3_col0\" class=\"data row3 col0\" >6.5116</td> \n",
       "        <td id=\"T_79961530_8b8d_11e9_8775_00215cdcfe0frow3_col1\" class=\"data row3 col1\" >11.6989</td> \n",
       "        <td id=\"T_79961530_8b8d_11e9_8775_00215cdcfe0frow3_col2\" class=\"data row3 col2\" >0.9842</td> \n",
       "    </tr></tbody> \n",
       "</table> "
      ],
      "text/plain": [
       "<pandas.io.formats.style.Styler at 0x18985498f28>"
      ]
     },
     "execution_count": 228,
     "metadata": {},
     "output_type": "execute_result"
    }
   ],
   "source": [
    "pred_list = [linear_pred, stepwise_pred, elastic_pred, neural_pred]\n",
    "\n",
    "stat_list = []\n",
    "\n",
    "for pred in pred_list:\n",
    "    mae = float(format(metrics.mean_absolute_error(Y_test, pred), '.4f'))\n",
    "    rmse = float(format(np.sqrt(metrics.mean_squared_error(Y_test, pred)), '.4f'))\n",
    "    adjr2 = float(format(adj_r2(r2_score(Y_test, pred), X_train.shape[0], X_train.shape[1]), '.4f'))\n",
    "    stat_list.append([mae,rmse,adjr2])\n",
    "    \n",
    "stat_df = pd.DataFrame(stat_list)\n",
    "stat_df.rename(columns={0 : \"Mean Absolute Error\", 1 : \"Root Mean Squared Error\", 2 : \"Adjusted R-Squared\"}, \n",
    "                 index={ 0 : \"OLS\", 1 : \"Restricted OLS\" , 2 : \"Elastic Net\" , 3 : \"Neural Network\" }, \n",
    "                 inplace=True)\n",
    "\n",
    "stat_df.style.apply(lambda x: ['font-weight: bold' if x.name == \"Neural Network\" else '' for i in x], axis=1)"
   ]
  },
  {
   "cell_type": "markdown",
   "metadata": {},
   "source": [
    "We can clearly see that prediction errors and overall accuracy of the model (Adjusted R-Squared) are far superior for the Neural Network model. It was expectable, as they are the most sophisticated of the methods used above."
   ]
  },
  {
   "cell_type": "markdown",
   "metadata": {},
   "source": [
    "# <center>5. Conclusion</center>"
   ]
  },
  {
   "cell_type": "markdown",
   "metadata": {},
   "source": [
    "In the analysis conducted above we compared 4 methods (3 actually, one with just changed features) to see which one will work the best in predicting continous variable. \n",
    "\n",
    "Obviously, first choice was Linear Regression, which proved to be second most accurate, even beating Elastic Net. However we suspect that on larger dataset its' performance would fall significantly.\n",
    "\n",
    "Linear Regression with restricted features, to our surprise, gave worst results. More thorough analysis of stepwise selection function and/or dataset would maybe improve the result but for now its' performance is not satisfying.\n",
    "\n",
    "Elastic Net, our third approach, gave lower MAE than OLS but it performed worse considering RMSE and Adjusted R-Squared. One of the reasons may be that Elastic Net, because it is designed to penalize high variance and therefore overfitting, estimates too general model, which in our case gives worse predictive values than OLS. Just as we suspect Linear Regression to fall with larger datasets, we would think that Elastic Net might retain similar predictive ability.\n",
    "\n",
    "Last method we used was Neural Network - it showed outstanding predictions with over 2x lower MAE and Adjusted R-Squared of almost 1.0 proving that it is a superior regression tool. Only one thing remain - interpretability of coefficients. In Neural Network there are none, therefore it is very hard to draw conclusions. In furhter analysis we could run random forest on predicted (by Neural Network) values and try to find what variables are the most impactful and in what way, but this is in no way as accurate as OLS interpretation. \n",
    "\n",
    "And our hope is that we proved to some point why no regression method is perfect."
   ]
  }
 ],
 "metadata": {
  "kernelspec": {
   "display_name": "Python 3",
   "language": "python",
   "name": "python3"
  },
  "language_info": {
   "codemirror_mode": {
    "name": "ipython",
    "version": 3
   },
   "file_extension": ".py",
   "mimetype": "text/x-python",
   "name": "python",
   "nbconvert_exporter": "python",
   "pygments_lexer": "ipython3",
   "version": "3.7.2"
  }
 },
 "nbformat": 4,
 "nbformat_minor": 2
}
