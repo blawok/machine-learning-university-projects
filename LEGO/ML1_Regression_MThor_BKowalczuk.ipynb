{
 "cells": [
  {
   "cell_type": "markdown",
   "metadata": {},
   "source": [
    "### Firstly, we import all the necessary packages"
   ]
  },
  {
   "cell_type": "code",
   "execution_count": 1,
   "metadata": {},
   "outputs": [
    {
     "name": "stderr",
     "output_type": "stream",
     "text": [
      "Using TensorFlow backend.\n"
     ]
    }
   ],
   "source": [
    "import pandas as pd\n",
    "import numpy as np\n",
    "import statsmodels.api as sm\n",
    "import matplotlib.pyplot as plt\n",
    "\n",
    "import sklearn\n",
    "from sklearn import metrics\n",
    "from sklearn.model_selection import train_test_split\n",
    "from sklearn.model_selection import GridSearchCV\n",
    "from sklearn.linear_model import Lasso\n",
    "from sklearn.linear_model import ElasticNet\n",
    "from sklearn.linear_model import LinearRegression\n",
    "\n",
    "import keras\n",
    "from keras import optimizers\n",
    "from keras import regularizers\n",
    "from keras.callbacks import ModelCheckpoint\n",
    "from keras.models import Sequential\n",
    "from keras.layers import Dense, Activation, Flatten, Dropout\n",
    "from keras.optimizers import SGD\n",
    "from keras.constraints import maxnorm\n",
    "from keras.models import load_model\n",
    "from keras.wrappers.scikit_learn import KerasRegressor\n",
    "\n"
   ]
  },
  {
   "cell_type": "markdown",
   "metadata": {},
   "source": [
    "### Loading the dataset"
   ]
  },
  {
   "cell_type": "code",
   "execution_count": 103,
   "metadata": {},
   "outputs": [],
   "source": [
    "df = pd.read_csv('lego_Sets.csv')"
   ]
  },
  {
   "cell_type": "markdown",
   "metadata": {},
   "source": [
    "### Removing variables that would give no predictive power (information variables such as ID's or descriptions)"
   ]
  },
  {
   "cell_type": "code",
   "execution_count": 104,
   "metadata": {},
   "outputs": [],
   "source": [
    "df = df.drop(['prod_desc', \n",
    "              'prod_id', \n",
    "              'prod_long_desc', \n",
    "              'set_name'],\n",
    "             axis=1)"
   ]
  },
  {
   "cell_type": "markdown",
   "metadata": {},
   "source": [
    "### Next, we are checking for missing values within the dataset"
   ]
  },
  {
   "cell_type": "code",
   "execution_count": 109,
   "metadata": {
    "scrolled": true
   },
   "outputs": [
    {
     "data": {
      "text/html": [
       "<div>\n",
       "<style scoped>\n",
       "    .dataframe tbody tr th:only-of-type {\n",
       "        vertical-align: middle;\n",
       "    }\n",
       "\n",
       "    .dataframe tbody tr th {\n",
       "        vertical-align: top;\n",
       "    }\n",
       "\n",
       "    .dataframe thead th {\n",
       "        text-align: right;\n",
       "    }\n",
       "</style>\n",
       "<table border=\"1\" class=\"dataframe\">\n",
       "  <thead>\n",
       "    <tr style=\"text-align: right;\">\n",
       "      <th></th>\n",
       "      <th>Number of occurencies</th>\n",
       "      <th>Percentage</th>\n",
       "    </tr>\n",
       "  </thead>\n",
       "  <tbody>\n",
       "    <tr>\n",
       "      <th>num_reviews</th>\n",
       "      <td>1620</td>\n",
       "      <td>13.212625</td>\n",
       "    </tr>\n",
       "    <tr>\n",
       "      <th>play_star_rating</th>\n",
       "      <td>1620</td>\n",
       "      <td>13.212625</td>\n",
       "    </tr>\n",
       "    <tr>\n",
       "      <th>review_difficulty</th>\n",
       "      <td>2055</td>\n",
       "      <td>16.760460</td>\n",
       "    </tr>\n",
       "    <tr>\n",
       "      <th>star_rating</th>\n",
       "      <td>1620</td>\n",
       "      <td>13.212625</td>\n",
       "    </tr>\n",
       "    <tr>\n",
       "      <th>theme_name</th>\n",
       "      <td>3</td>\n",
       "      <td>0.024468</td>\n",
       "    </tr>\n",
       "    <tr>\n",
       "      <th>val_star_rating</th>\n",
       "      <td>1620</td>\n",
       "      <td>13.212625</td>\n",
       "    </tr>\n",
       "    <tr>\n",
       "      <th>star/play</th>\n",
       "      <td>1775</td>\n",
       "      <td>14.476796</td>\n",
       "    </tr>\n",
       "    <tr>\n",
       "      <th>star/val</th>\n",
       "      <td>1795</td>\n",
       "      <td>14.639915</td>\n",
       "    </tr>\n",
       "  </tbody>\n",
       "</table>\n",
       "</div>"
      ],
      "text/plain": [
       "                   Number of occurencies  Percentage\n",
       "num_reviews                         1620   13.212625\n",
       "play_star_rating                    1620   13.212625\n",
       "review_difficulty                   2055   16.760460\n",
       "star_rating                         1620   13.212625\n",
       "theme_name                             3    0.024468\n",
       "val_star_rating                     1620   13.212625\n",
       "star/play                           1775   14.476796\n",
       "star/val                            1795   14.639915"
      ]
     },
     "execution_count": 109,
     "metadata": {},
     "output_type": "execute_result"
    }
   ],
   "source": [
    "missing_data = pd.DataFrame({'Number of occurencies': df.isna().sum(),\n",
    "                             'Percentage': 100*df.isna().sum()/len(df)\n",
    "                            })\n",
    "missing_data[missing_data['Number of occurencies'] > 0]"
   ]
  },
  {
   "cell_type": "markdown",
   "metadata": {},
   "source": [
    "Since the missings in review difficulty can be easily imputed with "
   ]
  },
  {
   "cell_type": "code",
   "execution_count": null,
   "metadata": {},
   "outputs": [],
   "source": [
    "df.loc[df['review_difficulty'].isnull(), \"review_diff_unkown\"] = 1"
   ]
  },
  {
   "cell_type": "code",
   "execution_count": 106,
   "metadata": {},
   "outputs": [],
   "source": [
    "df['star/play'] = df['star_rating']/df['play_star_rating']\n",
    "df['star/val'] = df['star_rating']/df['val_star_rating']"
   ]
  },
  {
   "cell_type": "code",
   "execution_count": 107,
   "metadata": {},
   "outputs": [],
   "source": [
    "star_p_mean = df['star/play'].mean()\n",
    "star_v_mean = df['star/val'].mean()"
   ]
  },
  {
   "cell_type": "code",
   "execution_count": 108,
   "metadata": {},
   "outputs": [],
   "source": [
    "df.loc[(df['play_star_rating'].isnull()) & (df['star_rating'].notna()), \"play_star_rating\"] = df[\"star_rating\"]*star_p_mean\n",
    "df.loc[(df['val_star_rating'].isnull()) & (df['star_rating'].notna()), \"val_star_rating\"] = df[\"star_rating\"]*star_v_mean"
   ]
  },
  {
   "cell_type": "code",
   "execution_count": 99,
   "metadata": {},
   "outputs": [
    {
     "data": {
      "text/plain": [
       "Int64Index([   22,    32,    48,    69,    84,    92,    94,   108,   153,\n",
       "              162,\n",
       "            ...\n",
       "            12080, 12082, 12096, 12106, 12108, 12111, 12113, 12136, 12137,\n",
       "            12196],\n",
       "           dtype='int64', length=1795)"
      ]
     },
     "execution_count": 99,
     "metadata": {},
     "output_type": "execute_result"
    }
   ],
   "source": [
    "df.loc[df.isnull().sum(1)>=3].index"
   ]
  },
  {
   "cell_type": "markdown",
   "metadata": {},
   "source": [
    "### Checking for categorical variables - whether we can use one hot encoding or will it produce too many new columns"
   ]
  },
  {
   "cell_type": "code",
   "execution_count": 42,
   "metadata": {},
   "outputs": [],
   "source": [
    "cat_vars = []\n",
    "cont_vars = []\n",
    "for variable in df.columns:\n",
    "    if df[variable].dtype==object:\n",
    "        cat_vars.append(variable)\n",
    "    else:\n",
    "        cont_vars.append(variable)"
   ]
  },
  {
   "cell_type": "code",
   "execution_count": 43,
   "metadata": {
    "scrolled": true
   },
   "outputs": [
    {
     "name": "stdout",
     "output_type": "stream",
     "text": [
      "{'ages': 31, 'review_difficulty': 6, 'theme_name': 41, 'country': 21}\n"
     ]
    }
   ],
   "source": [
    "num_of_cats = {}\n",
    "\n",
    "for category in cat_cols:\n",
    "    num_of_cats[category] = len(list(df[category].unique()))\n",
    "    \n",
    "print(num_of_cats)"
   ]
  },
  {
   "cell_type": "code",
   "execution_count": 52,
   "metadata": {},
   "outputs": [
    {
     "name": "stdout",
     "output_type": "stream",
     "text": [
      "ages \n",
      " {'6-12': 1476, '7-14': 1421, '8-14': 1180, '4-7': 957, '5-12': 911, '10+': 870, '2-5': 840, '7-12': 723, '9-14': 624, '16+': 420, '8-12': 350, '4-99': 311, '12+': 298, '6-14': 233, '8+': 226, '1½-3': 213, '14+': 212, '10-21': 184, '10-16': 148, '6+': 148, '1½-5': 113, '9-16': 92, '5+': 71, '11-16': 66, '9-12': 46, '12-16': 42, '9+': 21, '4+': 21, '5-8': 21, '10-14': 21, '7+': 2} \n",
      "\n",
      "review_difficulty \n",
      " {'Easy': 4236, 'Average': 3765, 'Very Easy': 1139, 'Challenging': 1058, 'Very Challenging': 8} \n",
      "\n",
      "theme_name \n",
      " {'Star Wars™': 1377, 'DUPLO®': 1166, 'City': 1092, 'Juniors': 978, 'THE LEGO® NINJAGO® MOVIE™': 796, 'BrickHeadz': 765, 'Friends': 606, 'THE LEGO® BATMAN MOVIE': 533, 'Technic': 505, 'Marvel Super Heroes': 414, 'Creator 3-in-1': 403, 'Classic': 332, 'Creator Expert': 317, 'Minecraft™': 303, 'Disney™': 285, 'DIMENSIONS™': 280, 'MINDSTORMS®': 272, 'NINJAGO®': 263, 'Speed Champions': 254, 'Architecture': 210, 'NEXO KNIGHTS™': 197, 'Elves': 195, 'DC Comics™ Super Heroes': 148, 'Ideas': 128, 'SERIOUS PLAY®': 84, 'Minifigures': 70, 'DC Super Hero Girls': 32, 'Ghostbusters™': 23, 'Jurassic Park Velociraptor Chase': 21, 'Pteranodon Chase': 21, 'Carnotaurus Gyrosphere Escape': 21, 'T. rex Transport': 21, 'Dilophosaurus Outpost Attack': 21, 'Indoraptor Rampage at Lockwood Estate': 21, 'Power Functions': 21, 'Stygimoloch Breakout': 21, \"Blue's Helicopter Pursuit\": 21, 'BOOST': 19, 'LEGO® Creator 3-in-1': 16, 'Angry Birds™': 6} \n",
      "\n",
      "country \n",
      " {'US': 817, 'CA': 815, 'NL': 576, 'GB': 576, 'DN': 575, 'AT': 575, 'AU': 570, 'IE': 569, 'CH': 568, 'FR': 568, 'BE': 566, 'NZ': 565, 'IT': 550, 'CZ': 549, 'ES': 549, 'DE': 549, 'LU': 549, 'FI': 549, 'NO': 549, 'PT': 547, 'PL': 530} \n",
      "\n"
     ]
    }
   ],
   "source": [
    "for var in cat_vars:\n",
    "    print(var, \n",
    "          \"\\n\", \n",
    "          dict(df[var].value_counts()), \n",
    "          \"\\n\")\n"
   ]
  },
  {
   "cell_type": "markdown",
   "metadata": {},
   "source": [
    "### Creating correlation matrix - maybe we can omit some columns to get rid off NA's"
   ]
  },
  {
   "cell_type": "code",
   "execution_count": 110,
   "metadata": {
    "scrolled": true
   },
   "outputs": [
    {
     "data": {
      "text/html": [
       "<style  type=\"text/css\" >\n",
       "    #T_51505146_8ae1_11e9_8c9e_00215cdcfe0frow0_col0 {\n",
       "            background-color:  #b40426;\n",
       "        }    #T_51505146_8ae1_11e9_8c9e_00215cdcfe0frow0_col1 {\n",
       "            background-color:  #ebd3c6;\n",
       "        }    #T_51505146_8ae1_11e9_8c9e_00215cdcfe0frow0_col2 {\n",
       "            background-color:  #b3cdfb;\n",
       "        }    #T_51505146_8ae1_11e9_8c9e_00215cdcfe0frow0_col3 {\n",
       "            background-color:  #4a63d3;\n",
       "        }    #T_51505146_8ae1_11e9_8c9e_00215cdcfe0frow0_col4 {\n",
       "            background-color:  #bed2f6;\n",
       "        }    #T_51505146_8ae1_11e9_8c9e_00215cdcfe0frow0_col5 {\n",
       "            background-color:  #bcd2f7;\n",
       "        }    #T_51505146_8ae1_11e9_8c9e_00215cdcfe0frow0_col6 {\n",
       "            background-color:  #b3cdfb;\n",
       "        }    #T_51505146_8ae1_11e9_8c9e_00215cdcfe0frow1_col0 {\n",
       "            background-color:  #ecd3c5;\n",
       "        }    #T_51505146_8ae1_11e9_8c9e_00215cdcfe0frow1_col1 {\n",
       "            background-color:  #b40426;\n",
       "        }    #T_51505146_8ae1_11e9_8c9e_00215cdcfe0frow1_col2 {\n",
       "            background-color:  #c0d4f5;\n",
       "        }    #T_51505146_8ae1_11e9_8c9e_00215cdcfe0frow1_col3 {\n",
       "            background-color:  #5e7de7;\n",
       "        }    #T_51505146_8ae1_11e9_8c9e_00215cdcfe0frow1_col4 {\n",
       "            background-color:  #c7d7f0;\n",
       "        }    #T_51505146_8ae1_11e9_8c9e_00215cdcfe0frow1_col5 {\n",
       "            background-color:  #bbd1f8;\n",
       "        }    #T_51505146_8ae1_11e9_8c9e_00215cdcfe0frow1_col6 {\n",
       "            background-color:  #b5cdfa;\n",
       "        }    #T_51505146_8ae1_11e9_8c9e_00215cdcfe0frow2_col0 {\n",
       "            background-color:  #3b4cc0;\n",
       "        }    #T_51505146_8ae1_11e9_8c9e_00215cdcfe0frow2_col1 {\n",
       "            background-color:  #4961d2;\n",
       "        }    #T_51505146_8ae1_11e9_8c9e_00215cdcfe0frow2_col2 {\n",
       "            background-color:  #b40426;\n",
       "        }    #T_51505146_8ae1_11e9_8c9e_00215cdcfe0frow2_col3 {\n",
       "            background-color:  #f5c2aa;\n",
       "        }    #T_51505146_8ae1_11e9_8c9e_00215cdcfe0frow2_col4 {\n",
       "            background-color:  #f7af91;\n",
       "        }    #T_51505146_8ae1_11e9_8c9e_00215cdcfe0frow2_col5 {\n",
       "            background-color:  #3b4cc0;\n",
       "        }    #T_51505146_8ae1_11e9_8c9e_00215cdcfe0frow2_col6 {\n",
       "            background-color:  #b1cbfc;\n",
       "        }    #T_51505146_8ae1_11e9_8c9e_00215cdcfe0frow3_col0 {\n",
       "            background-color:  #4961d2;\n",
       "        }    #T_51505146_8ae1_11e9_8c9e_00215cdcfe0frow3_col1 {\n",
       "            background-color:  #5a78e4;\n",
       "        }    #T_51505146_8ae1_11e9_8c9e_00215cdcfe0frow3_col2 {\n",
       "            background-color:  #f39475;\n",
       "        }    #T_51505146_8ae1_11e9_8c9e_00215cdcfe0frow3_col3 {\n",
       "            background-color:  #b40426;\n",
       "        }    #T_51505146_8ae1_11e9_8c9e_00215cdcfe0frow3_col4 {\n",
       "            background-color:  #e7745b;\n",
       "        }    #T_51505146_8ae1_11e9_8c9e_00215cdcfe0frow3_col5 {\n",
       "            background-color:  #c9d7f0;\n",
       "        }    #T_51505146_8ae1_11e9_8c9e_00215cdcfe0frow3_col6 {\n",
       "            background-color:  #b1cbfc;\n",
       "        }    #T_51505146_8ae1_11e9_8c9e_00215cdcfe0frow4_col0 {\n",
       "            background-color:  #4b64d5;\n",
       "        }    #T_51505146_8ae1_11e9_8c9e_00215cdcfe0frow4_col1 {\n",
       "            background-color:  #5875e1;\n",
       "        }    #T_51505146_8ae1_11e9_8c9e_00215cdcfe0frow4_col2 {\n",
       "            background-color:  #f7af91;\n",
       "        }    #T_51505146_8ae1_11e9_8c9e_00215cdcfe0frow4_col3 {\n",
       "            background-color:  #f59c7d;\n",
       "        }    #T_51505146_8ae1_11e9_8c9e_00215cdcfe0frow4_col4 {\n",
       "            background-color:  #b40426;\n",
       "        }    #T_51505146_8ae1_11e9_8c9e_00215cdcfe0frow4_col5 {\n",
       "            background-color:  #bad0f8;\n",
       "        }    #T_51505146_8ae1_11e9_8c9e_00215cdcfe0frow4_col6 {\n",
       "            background-color:  #3b4cc0;\n",
       "        }    #T_51505146_8ae1_11e9_8c9e_00215cdcfe0frow5_col0 {\n",
       "            background-color:  #455cce;\n",
       "        }    #T_51505146_8ae1_11e9_8c9e_00215cdcfe0frow5_col1 {\n",
       "            background-color:  #4257c9;\n",
       "        }    #T_51505146_8ae1_11e9_8c9e_00215cdcfe0frow5_col2 {\n",
       "            background-color:  #3b4cc0;\n",
       "        }    #T_51505146_8ae1_11e9_8c9e_00215cdcfe0frow5_col3 {\n",
       "            background-color:  #5a78e4;\n",
       "        }    #T_51505146_8ae1_11e9_8c9e_00215cdcfe0frow5_col4 {\n",
       "            background-color:  #b7cff9;\n",
       "        }    #T_51505146_8ae1_11e9_8c9e_00215cdcfe0frow5_col5 {\n",
       "            background-color:  #b40426;\n",
       "        }    #T_51505146_8ae1_11e9_8c9e_00215cdcfe0frow5_col6 {\n",
       "            background-color:  #c5d6f2;\n",
       "        }    #T_51505146_8ae1_11e9_8c9e_00215cdcfe0frow6_col0 {\n",
       "            background-color:  #3c4ec2;\n",
       "        }    #T_51505146_8ae1_11e9_8c9e_00215cdcfe0frow6_col1 {\n",
       "            background-color:  #3b4cc0;\n",
       "        }    #T_51505146_8ae1_11e9_8c9e_00215cdcfe0frow6_col2 {\n",
       "            background-color:  #b2ccfb;\n",
       "        }    #T_51505146_8ae1_11e9_8c9e_00215cdcfe0frow6_col3 {\n",
       "            background-color:  #3b4cc0;\n",
       "        }    #T_51505146_8ae1_11e9_8c9e_00215cdcfe0frow6_col4 {\n",
       "            background-color:  #3b4cc0;\n",
       "        }    #T_51505146_8ae1_11e9_8c9e_00215cdcfe0frow6_col5 {\n",
       "            background-color:  #c6d6f1;\n",
       "        }    #T_51505146_8ae1_11e9_8c9e_00215cdcfe0frow6_col6 {\n",
       "            background-color:  #b40426;\n",
       "        }</style>  \n",
       "<table id=\"T_51505146_8ae1_11e9_8c9e_00215cdcfe0f\" > \n",
       "<thead>    <tr> \n",
       "        <th class=\"blank level0\" ></th> \n",
       "        <th class=\"col_heading level0 col0\" >num_reviews</th> \n",
       "        <th class=\"col_heading level0 col1\" >piece_count</th> \n",
       "        <th class=\"col_heading level0 col2\" >play_star_rating</th> \n",
       "        <th class=\"col_heading level0 col3\" >star_rating</th> \n",
       "        <th class=\"col_heading level0 col4\" >val_star_rating</th> \n",
       "        <th class=\"col_heading level0 col5\" >star/play</th> \n",
       "        <th class=\"col_heading level0 col6\" >star/val</th> \n",
       "    </tr></thead> \n",
       "<tbody>    <tr> \n",
       "        <th id=\"T_51505146_8ae1_11e9_8c9e_00215cdcfe0flevel0_row0\" class=\"row_heading level0 row0\" >num_reviews</th> \n",
       "        <td id=\"T_51505146_8ae1_11e9_8c9e_00215cdcfe0frow0_col0\" class=\"data row0 col0\" >1</td> \n",
       "        <td id=\"T_51505146_8ae1_11e9_8c9e_00215cdcfe0frow0_col1\" class=\"data row0 col1\" >0.546618</td> \n",
       "        <td id=\"T_51505146_8ae1_11e9_8c9e_00215cdcfe0frow0_col2\" class=\"data row0 col2\" >-0.0451025</td> \n",
       "        <td id=\"T_51505146_8ae1_11e9_8c9e_00215cdcfe0frow0_col3\" class=\"data row0 col3\" >0.00711082</td> \n",
       "        <td id=\"T_51505146_8ae1_11e9_8c9e_00215cdcfe0frow0_col4\" class=\"data row0 col4\" >0.0148903</td> \n",
       "        <td id=\"T_51505146_8ae1_11e9_8c9e_00215cdcfe0frow0_col5\" class=\"data row0 col5\" >-0.00467004</td> \n",
       "        <td id=\"T_51505146_8ae1_11e9_8c9e_00215cdcfe0frow0_col6\" class=\"data row0 col6\" >-0.039724</td> \n",
       "    </tr>    <tr> \n",
       "        <th id=\"T_51505146_8ae1_11e9_8c9e_00215cdcfe0flevel0_row1\" class=\"row_heading level0 row1\" >piece_count</th> \n",
       "        <td id=\"T_51505146_8ae1_11e9_8c9e_00215cdcfe0frow1_col0\" class=\"data row1 col0\" >0.546618</td> \n",
       "        <td id=\"T_51505146_8ae1_11e9_8c9e_00215cdcfe0frow1_col1\" class=\"data row1 col1\" >1</td> \n",
       "        <td id=\"T_51505146_8ae1_11e9_8c9e_00215cdcfe0frow1_col2\" class=\"data row1 col2\" >0.014792</td> \n",
       "        <td id=\"T_51505146_8ae1_11e9_8c9e_00215cdcfe0frow1_col3\" class=\"data row1 col3\" >0.0739027</td> \n",
       "        <td id=\"T_51505146_8ae1_11e9_8c9e_00215cdcfe0frow1_col4\" class=\"data row1 col4\" >0.0636993</td> \n",
       "        <td id=\"T_51505146_8ae1_11e9_8c9e_00215cdcfe0frow1_col5\" class=\"data row1 col5\" >-0.00773725</td> \n",
       "        <td id=\"T_51505146_8ae1_11e9_8c9e_00215cdcfe0frow1_col6\" class=\"data row1 col6\" >-0.0342985</td> \n",
       "    </tr>    <tr> \n",
       "        <th id=\"T_51505146_8ae1_11e9_8c9e_00215cdcfe0flevel0_row2\" class=\"row_heading level0 row2\" >play_star_rating</th> \n",
       "        <td id=\"T_51505146_8ae1_11e9_8c9e_00215cdcfe0frow2_col0\" class=\"data row2 col0\" >-0.0451025</td> \n",
       "        <td id=\"T_51505146_8ae1_11e9_8c9e_00215cdcfe0frow2_col1\" class=\"data row2 col1\" >0.014792</td> \n",
       "        <td id=\"T_51505146_8ae1_11e9_8c9e_00215cdcfe0frow2_col2\" class=\"data row2 col2\" >1</td> \n",
       "        <td id=\"T_51505146_8ae1_11e9_8c9e_00215cdcfe0frow2_col3\" class=\"data row2 col3\" >0.613616</td> \n",
       "        <td id=\"T_51505146_8ae1_11e9_8c9e_00215cdcfe0frow2_col4\" class=\"data row2 col4\" >0.499188</td> \n",
       "        <td id=\"T_51505146_8ae1_11e9_8c9e_00215cdcfe0frow2_col5\" class=\"data row2 col5\" >-0.639263</td> \n",
       "        <td id=\"T_51505146_8ae1_11e9_8c9e_00215cdcfe0frow2_col6\" class=\"data row2 col6\" >-0.0508187</td> \n",
       "    </tr>    <tr> \n",
       "        <th id=\"T_51505146_8ae1_11e9_8c9e_00215cdcfe0flevel0_row3\" class=\"row_heading level0 row3\" >star_rating</th> \n",
       "        <td id=\"T_51505146_8ae1_11e9_8c9e_00215cdcfe0frow3_col0\" class=\"data row3 col0\" >0.00711082</td> \n",
       "        <td id=\"T_51505146_8ae1_11e9_8c9e_00215cdcfe0frow3_col1\" class=\"data row3 col1\" >0.0739027</td> \n",
       "        <td id=\"T_51505146_8ae1_11e9_8c9e_00215cdcfe0frow3_col2\" class=\"data row3 col2\" >0.613616</td> \n",
       "        <td id=\"T_51505146_8ae1_11e9_8c9e_00215cdcfe0frow3_col3\" class=\"data row3 col3\" >1</td> \n",
       "        <td id=\"T_51505146_8ae1_11e9_8c9e_00215cdcfe0frow3_col4\" class=\"data row3 col4\" >0.729778</td> \n",
       "        <td id=\"T_51505146_8ae1_11e9_8c9e_00215cdcfe0frow3_col5\" class=\"data row3 col5\" >0.060486</td> \n",
       "        <td id=\"T_51505146_8ae1_11e9_8c9e_00215cdcfe0frow3_col6\" class=\"data row3 col6\" >-0.0487282</td> \n",
       "    </tr>    <tr> \n",
       "        <th id=\"T_51505146_8ae1_11e9_8c9e_00215cdcfe0flevel0_row4\" class=\"row_heading level0 row4\" >val_star_rating</th> \n",
       "        <td id=\"T_51505146_8ae1_11e9_8c9e_00215cdcfe0frow4_col0\" class=\"data row4 col0\" >0.0148903</td> \n",
       "        <td id=\"T_51505146_8ae1_11e9_8c9e_00215cdcfe0frow4_col1\" class=\"data row4 col1\" >0.0636993</td> \n",
       "        <td id=\"T_51505146_8ae1_11e9_8c9e_00215cdcfe0frow4_col2\" class=\"data row4 col2\" >0.499188</td> \n",
       "        <td id=\"T_51505146_8ae1_11e9_8c9e_00215cdcfe0frow4_col3\" class=\"data row4 col3\" >0.729778</td> \n",
       "        <td id=\"T_51505146_8ae1_11e9_8c9e_00215cdcfe0frow4_col4\" class=\"data row4 col4\" >1</td> \n",
       "        <td id=\"T_51505146_8ae1_11e9_8c9e_00215cdcfe0frow4_col5\" class=\"data row4 col5\" >-0.0177912</td> \n",
       "        <td id=\"T_51505146_8ae1_11e9_8c9e_00215cdcfe0frow4_col6\" class=\"data row4 col6\" >-0.624812</td> \n",
       "    </tr>    <tr> \n",
       "        <th id=\"T_51505146_8ae1_11e9_8c9e_00215cdcfe0flevel0_row5\" class=\"row_heading level0 row5\" >star/play</th> \n",
       "        <td id=\"T_51505146_8ae1_11e9_8c9e_00215cdcfe0frow5_col0\" class=\"data row5 col0\" >-0.00467004</td> \n",
       "        <td id=\"T_51505146_8ae1_11e9_8c9e_00215cdcfe0frow5_col1\" class=\"data row5 col1\" >-0.00773725</td> \n",
       "        <td id=\"T_51505146_8ae1_11e9_8c9e_00215cdcfe0frow5_col2\" class=\"data row5 col2\" >-0.639263</td> \n",
       "        <td id=\"T_51505146_8ae1_11e9_8c9e_00215cdcfe0frow5_col3\" class=\"data row5 col3\" >0.060486</td> \n",
       "        <td id=\"T_51505146_8ae1_11e9_8c9e_00215cdcfe0frow5_col4\" class=\"data row5 col4\" >-0.0177912</td> \n",
       "        <td id=\"T_51505146_8ae1_11e9_8c9e_00215cdcfe0frow5_col5\" class=\"data row5 col5\" >1</td> \n",
       "        <td id=\"T_51505146_8ae1_11e9_8c9e_00215cdcfe0frow5_col6\" class=\"data row5 col6\" >0.0516611</td> \n",
       "    </tr>    <tr> \n",
       "        <th id=\"T_51505146_8ae1_11e9_8c9e_00215cdcfe0flevel0_row6\" class=\"row_heading level0 row6\" >star/val</th> \n",
       "        <td id=\"T_51505146_8ae1_11e9_8c9e_00215cdcfe0frow6_col0\" class=\"data row6 col0\" >-0.039724</td> \n",
       "        <td id=\"T_51505146_8ae1_11e9_8c9e_00215cdcfe0frow6_col1\" class=\"data row6 col1\" >-0.0342985</td> \n",
       "        <td id=\"T_51505146_8ae1_11e9_8c9e_00215cdcfe0frow6_col2\" class=\"data row6 col2\" >-0.0508187</td> \n",
       "        <td id=\"T_51505146_8ae1_11e9_8c9e_00215cdcfe0frow6_col3\" class=\"data row6 col3\" >-0.0487282</td> \n",
       "        <td id=\"T_51505146_8ae1_11e9_8c9e_00215cdcfe0frow6_col4\" class=\"data row6 col4\" >-0.624812</td> \n",
       "        <td id=\"T_51505146_8ae1_11e9_8c9e_00215cdcfe0frow6_col5\" class=\"data row6 col5\" >0.0516611</td> \n",
       "        <td id=\"T_51505146_8ae1_11e9_8c9e_00215cdcfe0frow6_col6\" class=\"data row6 col6\" >1</td> \n",
       "    </tr></tbody> \n",
       "</table> "
      ],
      "text/plain": [
       "<pandas.io.formats.style.Styler at 0x15309a94c18>"
      ]
     },
     "execution_count": 110,
     "metadata": {},
     "output_type": "execute_result"
    }
   ],
   "source": [
    "corr = df.drop(['list_price'], axis=1).corr()\n",
    "corr.style.background_gradient(cmap='coolwarm')"
   ]
  },
  {
   "cell_type": "code",
   "execution_count": null,
   "metadata": {},
   "outputs": [],
   "source": [
    "df.list_price = df.list_price.astype(float)\n",
    "df['review_difficulty'] = df['review_difficulty'].astype(\"category\")\n",
    "df['review_difficulty'] = df['review_difficulty'].cat.reorder_categories(['Very Easy',\n",
    "                                                               'Easy',\n",
    "                                                               'Average',\n",
    "                                                               'Challenging',\n",
    "                                                               'Very Challenging'],\n",
    "                                                                        ordered = True)\n",
    "df['review_difficulty'] = df['review_difficulty'].cat.codes\n",
    "df.theme_name = df.theme_name.astype(\"category\")\n",
    "df.ages = df.ages.astype(\"category\")\n"
   ]
  },
  {
   "cell_type": "code",
   "execution_count": null,
   "metadata": {},
   "outputs": [],
   "source": [
    "df1 = df.copy()\n",
    "df1 = df1.drop(['prod_desc', \n",
    "                'prod_id', \n",
    "                'prod_long_desc', \n",
    "                'set_name',\n",
    "                'theme_name',\n",
    "                'country'], \n",
    "                 axis=1)\n",
    "\n",
    "print(df1.shape)\n",
    "# df2 = df1.copy().dropna()\n",
    "df2 = pd.get_dummies(df1).dropna()\n",
    "print(df2.shape)"
   ]
  },
  {
   "cell_type": "code",
   "execution_count": null,
   "metadata": {},
   "outputs": [],
   "source": [
    "X, Y = df2.drop(['list_price'], axis=1), df2['list_price']\n",
    "\n",
    "X_train, X_test, Y_train, Y_test = train_test_split(\n",
    "                                                    X, \n",
    "                                                    Y, \n",
    "                                                    test_size=0.3, \n",
    "                                                    random_state=361)"
   ]
  }
 ],
 "metadata": {
  "kernelspec": {
   "display_name": "Python 3",
   "language": "python",
   "name": "python3"
  },
  "language_info": {
   "codemirror_mode": {
    "name": "ipython",
    "version": 3
   },
   "file_extension": ".py",
   "mimetype": "text/x-python",
   "name": "python",
   "nbconvert_exporter": "python",
   "pygments_lexer": "ipython3",
   "version": "3.7.2"
  }
 },
 "nbformat": 4,
 "nbformat_minor": 2
}
